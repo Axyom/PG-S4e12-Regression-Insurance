{
 "cells": [
  {
   "cell_type": "code",
   "execution_count": 1,
   "id": "615cf318",
   "metadata": {
    "_cell_guid": "b1076dfc-b9ad-4769-8c92-a6c4dae69d19",
    "_uuid": "8f2839f25d086af736a60e9eeb907d3b93b6e0e5",
    "execution": {
     "iopub.execute_input": "2024-12-09T13:12:34.047888Z",
     "iopub.status.busy": "2024-12-09T13:12:34.047597Z",
     "iopub.status.idle": "2024-12-09T13:12:34.716436Z",
     "shell.execute_reply": "2024-12-09T13:12:34.715768Z"
    },
    "papermill": {
     "duration": 0.676501,
     "end_time": "2024-12-09T13:12:34.718408",
     "exception": false,
     "start_time": "2024-12-09T13:12:34.041907",
     "status": "completed"
    },
    "tags": []
   },
   "outputs": [],
   "source": [
    "import numpy as np\n",
    "import os\n",
    "import pandas as pd\n",
    "import sys"
   ]
  },
  {
   "cell_type": "markdown",
   "id": "f1522c74",
   "metadata": {
    "papermill": {
     "duration": 0.004851,
     "end_time": "2024-12-09T13:12:34.727632",
     "exception": false,
     "start_time": "2024-12-09T13:12:34.722781",
     "status": "completed"
    },
    "tags": []
   },
   "source": [
    "# Config"
   ]
  },
  {
   "cell_type": "code",
   "execution_count": 2,
   "id": "25bf2667",
   "metadata": {
    "execution": {
     "iopub.execute_input": "2024-12-09T13:12:34.736529Z",
     "iopub.status.busy": "2024-12-09T13:12:34.736123Z",
     "iopub.status.idle": "2024-12-09T13:12:34.740000Z",
     "shell.execute_reply": "2024-12-09T13:12:34.739354Z"
    },
    "papermill": {
     "duration": 0.01006,
     "end_time": "2024-12-09T13:12:34.741432",
     "exception": false,
     "start_time": "2024-12-09T13:12:34.731372",
     "status": "completed"
    },
    "tags": []
   },
   "outputs": [],
   "source": [
    "HYPER_OPT = True \n",
    "HYPER_OPT_TIME = 8*60*60\n",
    "USE_ORIGINAL_DATA = False \n",
    "SUBMIT_TO_KAGGLE = False\n",
    "COMPUTE_NONLOG = False\n",
    "USE_NONLOG = False"
   ]
  },
  {
   "cell_type": "code",
   "execution_count": 3,
   "id": "636ad8af",
   "metadata": {},
   "outputs": [],
   "source": [
    "# Define the base directory (where the notebook is running)\n",
    "base_dir = os.path.abspath(os.path.join(os.getcwd(), \"..\", \"..\"))\n",
    "data_dir = os.path.join(base_dir, \"data\")\n",
    "model_dir = os.path.join(base_dir, \"models\")\n",
    "notebooks_dir = os.path.join(base_dir, \"notebooks\")\n",
    "sys.path.append(base_dir)"
   ]
  },
  {
   "cell_type": "markdown",
   "id": "7d1038ad",
   "metadata": {
    "papermill": {
     "duration": 0.0037,
     "end_time": "2024-12-09T13:12:34.787072",
     "exception": false,
     "start_time": "2024-12-09T13:12:34.783372",
     "status": "completed"
    },
    "tags": []
   },
   "source": [
    "# Data Extraction"
   ]
  },
  {
   "cell_type": "code",
   "execution_count": 4,
   "id": "0d745aba",
   "metadata": {},
   "outputs": [],
   "source": [
    "from axyom_utilities.data_extraction import extract_data\n",
    "from axyom_utilities.training import train_model_cv\n",
    "from axyom_utilities.preprocessing import * \n",
    "from toolz import pipe\n",
    "import joblib\n",
    "\n",
    "# oof_log = pd.read_csv(os.path.join(notebooks_dir, \"Catboost_nonlog\\\\oof_preds_log.csv\"))\n",
    "# oof_nonlog = pd.read_csv(os.path.join(notebooks_dir, \"Catboost_nonlog\\\\oof_preds_nonlog.csv\"))\n",
    "\n",
    "# test_log = pd.read_csv(os.path.join(notebooks_dir, \"Catboost_nonlog\\\\test_preds_log.csv\"))\n",
    "# test_nonlog = pd.read_csv(os.path.join(notebooks_dir, \"Catboost_nonlog\\\\test_preds_nonlog.csv\"))\n",
    "\n",
    "# X_train[\"oof_nonlog\"] = oof_nonlog + np.random.normal(0, 0.01, oof_log.shape) # noise\n",
    "# X_test[\"oof_nonlog\"] = test_nonlog + np.random.normal(0, 0.01, oof_log.shape)\n",
    "\n",
    "# X_test[\"oof_log\"] = test_log\n",
    "# X_train[\"oof_log\"] = oof_log"
   ]
  },
  {
   "cell_type": "code",
   "execution_count": 5,
   "id": "ccf639fb",
   "metadata": {},
   "outputs": [],
   "source": [
    "X_train, y_train, X_test, X_orig, y_orig = extract_data(data_dir, USE_ORIGINAL_DATA, log_transform=True)\n",
    "y_train_nonlog = np.expm1(y_train)\n",
    "\n",
    "if USE_NONLOG:\n",
    "    if COMPUTE_NONLOG:\n",
    "        nonlog_oof_preds, nonlog_test_preds = get_oof(X_train, y_train_nonlog, X_test)\n",
    "    else:\n",
    "        nonlog_oof_preds, nonlog_test_preds = joblib.load('nonlog_feature/cat_non_loged.pkl')\n",
    "    \n",
    "    X_train[\"nonlog\"] = nonlog_oof_preds\n",
    "    X_test[\"nonlog\"] = nonlog_test_preds"
   ]
  },
  {
   "cell_type": "markdown",
   "id": "300f27ae",
   "metadata": {
    "papermill": {
     "duration": 0.003676,
     "end_time": "2024-12-09T13:12:43.939293",
     "exception": false,
     "start_time": "2024-12-09T13:12:43.935617",
     "status": "completed"
    },
    "tags": []
   },
   "source": [
    "# Data Cleaning"
   ]
  },
  {
   "cell_type": "code",
   "execution_count": 6,
   "id": "9d42d2df",
   "metadata": {
    "execution": {
     "iopub.execute_input": "2024-12-09T13:12:43.995169Z",
     "iopub.status.busy": "2024-12-09T13:12:43.994928Z",
     "iopub.status.idle": "2024-12-09T13:12:50.925060Z",
     "shell.execute_reply": "2024-12-09T13:12:50.924366Z"
    },
    "papermill": {
     "duration": 6.936729,
     "end_time": "2024-12-09T13:12:50.926967",
     "exception": false,
     "start_time": "2024-12-09T13:12:43.990238",
     "status": "completed"
    },
    "tags": []
   },
   "outputs": [
    {
     "data": {
      "text/plain": [
       "(          Age  Gender Annual Income Marital Status  Number of Dependents  \\\n",
       " id                                                                         \n",
       " 0        19.0  Female       10049.0        Married                   1.0   \n",
       " 1        39.0  Female       31678.0       Divorced                   3.0   \n",
       " 2        23.0    Male       25602.0       Divorced                   3.0   \n",
       " 3        21.0    Male      141855.0        Married                   2.0   \n",
       " 4        21.0    Male       39651.0         Single                   1.0   \n",
       " ...       ...     ...           ...            ...                   ...   \n",
       " 1199995  36.0  Female       27316.0        Married                   0.0   \n",
       " 1199996  54.0    Male       35786.0       Divorced                   NaN   \n",
       " 1199997  19.0    Male       51884.0       Divorced                   0.0   \n",
       " 1199998  55.0    Male          None         Single                   1.0   \n",
       " 1199999  21.0  Female          None       Divorced                   0.0   \n",
       " \n",
       "         Education Level     Occupation Health Score  Location    Policy Type  \\\n",
       " id                                                                             \n",
       " 0            Bachelor's  Self-Employed    22.598761     Urban        Premium   \n",
       " 1              Master's        Unknown    15.569731     Rural  Comprehensive   \n",
       " 2           High School  Self-Employed    47.177549  Suburban        Premium   \n",
       " 3            Bachelor's        Unknown    10.938144     Rural          Basic   \n",
       " 4            Bachelor's  Self-Employed    20.376094     Rural        Premium   \n",
       " ...                 ...            ...          ...       ...            ...   \n",
       " 1199995        Master's     Unemployed    13.772907     Urban        Premium   \n",
       " 1199996        Master's  Self-Employed    11.483482     Rural  Comprehensive   \n",
       " 1199997        Master's        Unknown    14.724469  Suburban          Basic   \n",
       " 1199998             PhD        Unknown    18.547381  Suburban        Premium   \n",
       " 1199999             PhD        Unknown    10.125323     Rural        Premium   \n",
       " \n",
       "          ... Occupation_freq  Health Score_freq Location_freq  \\\n",
       " id       ...                                                    \n",
       " 0        ...        470636.0               16.0      663201.0   \n",
       " 1        ...        597200.0               10.0      668067.0   \n",
       " 2        ...        470636.0                1.0      668732.0   \n",
       " 3        ...        597200.0               82.0      668067.0   \n",
       " 4        ...        470636.0                6.0      668067.0   \n",
       " ...      ...             ...                ...           ...   \n",
       " 1199995  ...        460840.0                9.0      663201.0   \n",
       " 1199996  ...        470636.0                1.0      668067.0   \n",
       " 1199997  ...        597200.0               11.0      668732.0   \n",
       " 1199998  ...        597200.0               79.0      668732.0   \n",
       " 1199999  ...        597200.0               13.0      668067.0   \n",
       " \n",
       "          Policy Type_freq Previous Claims_freq Credit Score_freq  \\\n",
       " id                                                                 \n",
       " 0                669475.0             279761.0            3195.0   \n",
       " 1                665822.0             501692.0            5394.0   \n",
       " 2                669475.0             501692.0          229333.0   \n",
       " 3                664703.0             501692.0            1650.0   \n",
       " 4                669475.0             508239.0            3585.0   \n",
       " ...                   ...                  ...               ...   \n",
       " 1199995          669475.0             606831.0            3195.0   \n",
       " 1199996          665822.0             606831.0            2498.0   \n",
       " 1199997          664703.0             508239.0          229333.0   \n",
       " 1199998          669475.0             501692.0            2692.0   \n",
       " 1199999          669475.0             508239.0            2346.0   \n",
       " \n",
       "         Customer Feedback_freq Smoking Status_freq  Exercise Frequency_freq  \\\n",
       " id                                                                            \n",
       " 0                     625952.0            996268.0                 510693.0   \n",
       " 1                     629122.0           1003732.0                 498230.0   \n",
       " 2                     614826.0           1003732.0                 510693.0   \n",
       " 3                     625952.0           1003732.0                 491143.0   \n",
       " 4                     625952.0           1003732.0                 510693.0   \n",
       " ...                        ...                 ...                      ...   \n",
       " 1199995               625952.0            996268.0                 491143.0   \n",
       " 1199996               625952.0            996268.0                 510693.0   \n",
       " 1199997               614826.0            996268.0                 498230.0   \n",
       " 1199998               625952.0            996268.0                 491143.0   \n",
       " 1199999               614826.0           1003732.0                 498230.0   \n",
       " \n",
       "          Property Type_freq  \n",
       " id                           \n",
       " 0                  667500.0  \n",
       " 1                  667500.0  \n",
       " 2                  667500.0  \n",
       " 3                  666022.0  \n",
       " 4                  667500.0  \n",
       " ...                     ...  \n",
       " 1199995            666022.0  \n",
       " 1199996            666022.0  \n",
       " 1199997            666478.0  \n",
       " 1199998            666022.0  \n",
       " 1199999            667500.0  \n",
       " \n",
       " [1200000 rows x 49 columns],\n",
       "           Age  Gender Annual Income Marital Status  Number of Dependents  \\\n",
       " id                                                                         \n",
       " 1200000  28.0  Female        2310.0        Unknown                   4.0   \n",
       " 1200001  31.0  Female      126031.0        Married                   2.0   \n",
       " 1200002  47.0  Female       17092.0       Divorced                   0.0   \n",
       " 1200003  28.0  Female       30424.0       Divorced                   3.0   \n",
       " 1200004  24.0    Male       10863.0       Divorced                   2.0   \n",
       " ...       ...     ...           ...            ...                   ...   \n",
       " 1999995  50.0  Female       38782.0        Married                   1.0   \n",
       " 1999996   NaN  Female       73462.0         Single                   0.0   \n",
       " 1999997  26.0  Female       35178.0         Single                   0.0   \n",
       " 1999998  34.0  Female       45661.0         Single                   3.0   \n",
       " 1999999  25.0    Male       24843.0       Divorced                   3.0   \n",
       " \n",
       "         Education Level     Occupation Health Score  Location    Policy Type  \\\n",
       " id                                                                             \n",
       " 1200000      Bachelor's  Self-Employed     7.657981     Rural          Basic   \n",
       " 1200001        Master's  Self-Employed    13.381379  Suburban        Premium   \n",
       " 1200002             PhD     Unemployed    24.354527     Urban  Comprehensive   \n",
       " 1200003             PhD  Self-Employed     5.136225  Suburban  Comprehensive   \n",
       " 1200004     High School     Unemployed    11.844155  Suburban        Premium   \n",
       " ...                 ...            ...          ...       ...            ...   \n",
       " 1999995      Bachelor's        Unknown    14.498639     Rural        Premium   \n",
       " 1999996        Master's        Unknown     8.145748     Rural          Basic   \n",
       " 1999997        Master's       Employed     6.636583     Urban  Comprehensive   \n",
       " 1999998        Master's        Unknown    15.937248     Urban        Premium   \n",
       " 1999999     High School        Unknown    24.893939  Suburban  Comprehensive   \n",
       " \n",
       "          ... Occupation_freq  Health Score_freq Location_freq  \\\n",
       " id       ...                                                    \n",
       " 1200000  ...        470636.0                1.0      668067.0   \n",
       " 1200001  ...        470636.0                1.0      668732.0   \n",
       " 1200002  ...        460840.0                1.0      663201.0   \n",
       " 1200003  ...        470636.0                1.0      668732.0   \n",
       " 1200004  ...        460840.0               51.0      668732.0   \n",
       " ...      ...             ...                ...           ...   \n",
       " 1999995  ...        597200.0                1.0      668067.0   \n",
       " 1999996  ...        597200.0                1.0      668067.0   \n",
       " 1999997  ...        471324.0                1.0      663201.0   \n",
       " 1999998  ...        597200.0                1.0      663201.0   \n",
       " 1999999  ...        597200.0                6.0      668732.0   \n",
       " \n",
       "          Policy Type_freq Previous Claims_freq Credit Score_freq  \\\n",
       " id                                                                 \n",
       " 1200000          664703.0             606831.0          229333.0   \n",
       " 1200001          669475.0             606831.0            3195.0   \n",
       " 1200002          665822.0             606831.0            3288.0   \n",
       " 1200003          665822.0             501692.0            1379.0   \n",
       " 1200004          669475.0             606831.0            2423.0   \n",
       " ...                   ...                  ...               ...   \n",
       " 1999995          669475.0             606831.0            2217.0   \n",
       " 1999996          664703.0             279761.0          229333.0   \n",
       " 1999997          665822.0             606831.0          229333.0   \n",
       " 1999998          669475.0             279761.0            4833.0   \n",
       " 1999999          665822.0             606831.0          229333.0   \n",
       " \n",
       "         Customer Feedback_freq Smoking Status_freq  Exercise Frequency_freq  \\\n",
       " id                                                                            \n",
       " 1200000               625952.0           1003732.0                 510693.0   \n",
       " 1200001               614826.0           1003732.0                 499934.0   \n",
       " 1200002               629122.0           1003732.0                 498230.0   \n",
       " 1200003               625952.0           1003732.0                 491143.0   \n",
       " 1200004               629122.0            996268.0                 510693.0   \n",
       " ...                        ...                 ...                      ...   \n",
       " 1999995               629122.0           1003732.0                 491143.0   \n",
       " 1999996               614826.0            996268.0                 491143.0   \n",
       " 1999997               625952.0            996268.0                 498230.0   \n",
       " 1999998               629122.0            996268.0                 510693.0   \n",
       " 1999999               614826.0            996268.0                 499934.0   \n",
       " \n",
       "          Property Type_freq  \n",
       " id                           \n",
       " 1200000            667500.0  \n",
       " 1200001            666022.0  \n",
       " 1200002            666478.0  \n",
       " 1200003            667500.0  \n",
       " 1200004            667500.0  \n",
       " ...                     ...  \n",
       " 1999995            666478.0  \n",
       " 1999996            666022.0  \n",
       " 1999997            666022.0  \n",
       " 1999998            666478.0  \n",
       " 1999999            667500.0  \n",
       " \n",
       " [800000 rows x 49 columns])"
      ]
     },
     "execution_count": 6,
     "metadata": {},
     "output_type": "execute_result"
    }
   ],
   "source": [
    "from axyom_utilities.preprocessing import freq_encode, preprocess_dates, clean_categorical, frequency_encode\n",
    "from toolz import pipe\n",
    "\n",
    "def feature_engineering(df):\n",
    "    \n",
    "    # df = freq_encode(df)\n",
    "    \n",
    "    df['MissingHealth'] = df['Health Score'].isna().astype(int)\n",
    "    df['Claims v Duration'] = (df['Previous Claims'] / df['Insurance Duration']).replace([np.inf, -np.inf], np.nan)\n",
    "    df['Health vs Claims'] = (df['Health Score'] / df['Previous Claims']).replace([np.inf, -np.inf], np.nan)\n",
    "    \n",
    "    def duplicate_int(col, df):\n",
    "        df[col + ' Integer'] = df[col].apply(lambda x: int(x) if pd.notna(x) else x)\n",
    "        df[col] = df[col].fillna('None').astype('category')\n",
    "        \n",
    "        return df\n",
    "    \n",
    "    df = duplicate_int('Health Score', df)\n",
    "    df = duplicate_int('Credit Score', df)\n",
    "    df = duplicate_int('Previous Claims', df)\n",
    "    df = duplicate_int('Annual Income', df)\n",
    "    \n",
    "    df['MissingValuesCount'] = df.isna().sum(axis=1)\n",
    "    \n",
    "    # df = freq_encode(df, 'Customer Feedback')\n",
    "    # df = freq_encode(df, 'Marital Status')\n",
    "    \n",
    "    return df\n",
    "\n",
    "preprocessor = lambda df: pipe(df,\\\n",
    "    preprocess_dates,\n",
    "    clean_categorical,\n",
    "    feature_engineering,  \n",
    ")\n",
    "\n",
    "X_train = preprocessor(X_train)\n",
    "X_test = preprocessor(X_test)\n",
    "if USE_ORIGINAL_DATA:\n",
    "    X_orig = preprocessor(X_orig)\n",
    "    \n",
    "frequency_encode(X_train, X_test, drop_org=False) # data leaking but acceptable in this context\n"
   ]
  },
  {
   "cell_type": "markdown",
   "id": "2bfe1a39",
   "metadata": {
    "papermill": {
     "duration": 0.003711,
     "end_time": "2024-12-09T13:12:52.399442",
     "exception": false,
     "start_time": "2024-12-09T13:12:52.395731",
     "status": "completed"
    },
    "tags": []
   },
   "source": [
    "# HyperOpt"
   ]
  },
  {
   "cell_type": "code",
   "execution_count": 12,
   "id": "89b22751",
   "metadata": {},
   "outputs": [
    {
     "name": "stdout",
     "output_type": "stream",
     "text": [
      "Age                        False\n",
      "Number of Dependents       False\n",
      "Vehicle Age                False\n",
      "Insurance Duration         False\n",
      "Month                      False\n",
      "Day                        False\n",
      "Week                       False\n",
      "Weekday                    False\n",
      "DaySin                     False\n",
      "DayCos                     False\n",
      "WeekdaySin                 False\n",
      "WeekdayCos                 False\n",
      "DaysSinceStart             False\n",
      "MissingHealth              False\n",
      "Claims v Duration          False\n",
      "Health vs Claims           False\n",
      "Health Score Integer       False\n",
      "Credit Score Integer       False\n",
      "Previous Claims Integer    False\n",
      "Annual Income Integer       True\n",
      "MissingValuesCount         False\n",
      "Gender_freq                 True\n",
      "Annual Income_freq         False\n",
      "Marital Status_freq         True\n",
      "Education Level_freq        True\n",
      "Occupation_freq             True\n",
      "Health Score_freq           True\n",
      "Location_freq               True\n",
      "Policy Type_freq            True\n",
      "Previous Claims_freq        True\n",
      "Credit Score_freq           True\n",
      "Customer Feedback_freq      True\n",
      "Smoking Status_freq         True\n",
      "Exercise Frequency_freq     True\n",
      "Property Type_freq          True\n",
      "dtype: boolean\n"
     ]
    }
   ],
   "source": [
    "large_values = X_train.select_dtypes(include=[\"number\"]).max() > 1e5\n",
    "print(large_values)"
   ]
  },
  {
   "cell_type": "code",
   "execution_count": 13,
   "id": "953dcc76",
   "metadata": {},
   "outputs": [
    {
     "name": "stdout",
     "output_type": "stream",
     "text": [
      "Columns with inf or -inf values: Index([], dtype='object')\n",
      "Columns with NaN values: Index(['Age', 'Number of Dependents', 'Vehicle Age', 'Insurance Duration',\n",
      "       'Claims v Duration', 'Health vs Claims', 'Health Score Integer',\n",
      "       'Credit Score Integer', 'Previous Claims Integer',\n",
      "       'Annual Income Integer'],\n",
      "      dtype='object')\n"
     ]
    }
   ],
   "source": [
    "# Find columns with inf or -inf values\n",
    "inf_columns = X_train.columns[X_train.isin([np.inf, -np.inf]).any()]\n",
    "print(\"Columns with inf or -inf values:\", inf_columns)\n",
    "\n",
    "# Find columns with NaN values\n",
    "nan_columns = X_train.columns[X_train.isna().any()]\n",
    "print(\"Columns with NaN values:\", nan_columns)\n"
   ]
  },
  {
   "cell_type": "code",
   "execution_count": 14,
   "id": "3a251a32",
   "metadata": {},
   "outputs": [
    {
     "name": "stderr",
     "output_type": "stream",
     "text": [
      "[I 2024-12-22 02:46:22,793] Using an existing study with name 'xgboost' instead of creating a new one.\n"
     ]
    },
    {
     "name": "stdout",
     "output_type": "stream",
     "text": [
      "Training fold 1...\n",
      "Fold 1 RMSE: 1.0473\n",
      "Training fold 2...\n",
      "Fold 2 RMSE: 1.0476\n",
      "Training fold 3...\n",
      "Fold 3 RMSE: 1.0456\n",
      "Training fold 4...\n",
      "Fold 4 RMSE: 1.0479\n",
      "Training fold 5...\n"
     ]
    },
    {
     "name": "stderr",
     "output_type": "stream",
     "text": [
      "[I 2024-12-22 03:12:45,893] Trial 3 finished with value: 1.0471181537825136 and parameters: {'learning_rate': 0.05433350003437882, 'max_depth': 14, 'min_child_weight': 1.509804001525835, 'subsample': 0.8367148343488449, 'colsample_bytree': 0.9708747744678036, 'gamma': 0.06351598517383816, 'lambda': 0.04511809923805299, 'alpha': 0.0015676574662308934}. Best is trial 3 with value: 1.0471181537825136.\n"
     ]
    },
    {
     "name": "stdout",
     "output_type": "stream",
     "text": [
      "Fold 5 RMSE: 1.0471\n",
      "Mean CV RMSE: 1.0471 ± 0.0008\n",
      "Training fold 1...\n"
     ]
    },
    {
     "name": "stderr",
     "output_type": "stream",
     "text": [
      "[W 2024-12-22 04:52:41,137] Trial 4 failed with parameters: {'learning_rate': 0.001768215377734423, 'max_depth': 12, 'min_child_weight': 0.008728853020978604, 'subsample': 0.8464925012884582, 'colsample_bytree': 0.5157352018243503, 'gamma': 3.5042237608299063, 'lambda': 0.014890607747597583, 'alpha': 1.2529040614881077} because of the following error: XGBoostError('bad allocation').\n",
      "Traceback (most recent call last):\n",
      "  File \"c:\\Users\\Axyom\\anaconda3\\envs\\kaggle_env\\lib\\site-packages\\optuna\\study\\_optimize.py\", line 197, in _run_trial\n",
      "    value_or_values = func(trial)\n",
      "  File \"c:\\Users\\Axyom\\Kaggle\\PG S4e12 - Regression Insurance\\axyom_utilities\\hyperparameter_tuning.py\", line 27, in <lambda>\n",
      "    objective = lambda trial: self.generic_objective(trial, model_generator)\n",
      "  File \"c:\\Users\\Axyom\\Kaggle\\PG S4e12 - Regression Insurance\\axyom_utilities\\hyperparameter_tuning.py\", line 42, in generic_objective\n",
      "    results = train_model_cv(\n",
      "  File \"c:\\Users\\Axyom\\Kaggle\\PG S4e12 - Regression Insurance\\axyom_utilities\\training.py\", line 34, in train_model_cv\n",
      "    model.fit(\n",
      "  File \"c:\\Users\\Axyom\\Kaggle\\PG S4e12 - Regression Insurance\\axyom_utilities\\wrappers.py\", line 41, in fit\n",
      "    self.xgb_model_.fit(\n",
      "  File \"c:\\Users\\Axyom\\anaconda3\\envs\\kaggle_env\\lib\\site-packages\\xgboost\\core.py\", line 726, in inner_f\n",
      "    return func(**kwargs)\n",
      "  File \"c:\\Users\\Axyom\\anaconda3\\envs\\kaggle_env\\lib\\site-packages\\xgboost\\sklearn.py\", line 1108, in fit\n",
      "    self._Booster = train(\n",
      "  File \"c:\\Users\\Axyom\\anaconda3\\envs\\kaggle_env\\lib\\site-packages\\xgboost\\core.py\", line 726, in inner_f\n",
      "    return func(**kwargs)\n",
      "  File \"c:\\Users\\Axyom\\anaconda3\\envs\\kaggle_env\\lib\\site-packages\\xgboost\\training.py\", line 192, in train\n",
      "    return bst.copy()\n",
      "  File \"c:\\Users\\Axyom\\anaconda3\\envs\\kaggle_env\\lib\\site-packages\\xgboost\\core.py\", line 1931, in copy\n",
      "    return copy.copy(self)\n",
      "  File \"c:\\Users\\Axyom\\anaconda3\\envs\\kaggle_env\\lib\\copy.py\", line 84, in copy\n",
      "    return copier(x)\n",
      "  File \"c:\\Users\\Axyom\\anaconda3\\envs\\kaggle_env\\lib\\site-packages\\xgboost\\core.py\", line 1917, in __copy__\n",
      "    return self.__deepcopy__(None)\n",
      "  File \"c:\\Users\\Axyom\\anaconda3\\envs\\kaggle_env\\lib\\site-packages\\xgboost\\core.py\", line 1921, in __deepcopy__\n",
      "    return Booster(model_file=self)\n",
      "  File \"c:\\Users\\Axyom\\anaconda3\\envs\\kaggle_env\\lib\\site-packages\\xgboost\\core.py\", line 1716, in __init__\n",
      "    state = model_file.__getstate__()\n",
      "  File \"c:\\Users\\Axyom\\anaconda3\\envs\\kaggle_env\\lib\\site-packages\\xgboost\\core.py\", line 1807, in __getstate__\n",
      "    _check_call(\n",
      "  File \"c:\\Users\\Axyom\\anaconda3\\envs\\kaggle_env\\lib\\site-packages\\xgboost\\core.py\", line 284, in _check_call\n",
      "    raise XGBoostError(py_str(_LIB.XGBGetLastError()))\n",
      "xgboost.core.XGBoostError: bad allocation\n",
      "[W 2024-12-22 04:52:41,427] Trial 4 failed with value None.\n"
     ]
    },
    {
     "ename": "XGBoostError",
     "evalue": "bad allocation",
     "output_type": "error",
     "traceback": [
      "\u001b[1;31m---------------------------------------------------------------------------\u001b[0m",
      "\u001b[1;31mXGBoostError\u001b[0m                              Traceback (most recent call last)",
      "Cell \u001b[1;32mIn[14], line 5\u001b[0m\n\u001b[0;32m      3\u001b[0m \u001b[38;5;28;01mif\u001b[39;00m HYPER_OPT:\n\u001b[0;32m      4\u001b[0m     tuner \u001b[38;5;241m=\u001b[39m XGBoostTuner(X_train, y_train, HYPER_OPT_TIME)\n\u001b[1;32m----> 5\u001b[0m     best_params \u001b[38;5;241m=\u001b[39m \u001b[43mtuner\u001b[49m\u001b[38;5;241;43m.\u001b[39;49m\u001b[43mtune\u001b[49m\u001b[43m(\u001b[49m\u001b[43m)\u001b[49m\n\u001b[0;32m      6\u001b[0m     tuner\u001b[38;5;241m.\u001b[39mplot()\n\u001b[0;32m      7\u001b[0m \u001b[38;5;28;01melse\u001b[39;00m:\n",
      "File \u001b[1;32mc:\\Users\\Axyom\\Kaggle\\PG S4e12 - Regression Insurance\\axyom_utilities\\hyperparameter_tuning.py:168\u001b[0m, in \u001b[0;36mXGBoostTuner.tune\u001b[1;34m(self)\u001b[0m\n\u001b[0;32m    167\u001b[0m \u001b[38;5;28;01mdef\u001b[39;00m \u001b[38;5;21mtune\u001b[39m(\u001b[38;5;28mself\u001b[39m):\n\u001b[1;32m--> 168\u001b[0m     \u001b[38;5;28;01mreturn\u001b[39;00m \u001b[38;5;28;43msuper\u001b[39;49m\u001b[43m(\u001b[49m\u001b[43m)\u001b[49m\u001b[38;5;241;43m.\u001b[39;49m\u001b[43mtune\u001b[49m\u001b[43m(\u001b[49m\u001b[43mXGBRegressorWrapper\u001b[49m\u001b[43m,\u001b[49m\u001b[43m \u001b[49m\u001b[38;5;124;43m\"\u001b[39;49m\u001b[38;5;124;43mxgb_best_params.json\u001b[39;49m\u001b[38;5;124;43m\"\u001b[39;49m\u001b[43m)\u001b[49m\n",
      "File \u001b[1;32mc:\\Users\\Axyom\\Kaggle\\PG S4e12 - Regression Insurance\\axyom_utilities\\hyperparameter_tuning.py:28\u001b[0m, in \u001b[0;36mModelTuner.tune\u001b[1;34m(self, model_generator, params_file)\u001b[0m\n\u001b[0;32m     26\u001b[0m \u001b[38;5;28;01mdef\u001b[39;00m \u001b[38;5;21mtune\u001b[39m(\u001b[38;5;28mself\u001b[39m, model_generator, params_file):\n\u001b[0;32m     27\u001b[0m     objective \u001b[38;5;241m=\u001b[39m \u001b[38;5;28;01mlambda\u001b[39;00m trial: \u001b[38;5;28mself\u001b[39m\u001b[38;5;241m.\u001b[39mgeneric_objective(trial, model_generator)\n\u001b[1;32m---> 28\u001b[0m     best_trial \u001b[38;5;241m=\u001b[39m \u001b[38;5;28;43mself\u001b[39;49m\u001b[38;5;241;43m.\u001b[39;49m\u001b[43moptuna_tuning\u001b[49m\u001b[43m(\u001b[49m\u001b[43mobjective\u001b[49m\u001b[43m)\u001b[49m\n\u001b[0;32m     30\u001b[0m     best_params \u001b[38;5;241m=\u001b[39m {\u001b[38;5;241m*\u001b[39m\u001b[38;5;241m*\u001b[39m\u001b[38;5;28mself\u001b[39m\u001b[38;5;241m.\u001b[39mfixed_params, \u001b[38;5;241m*\u001b[39m\u001b[38;5;241m*\u001b[39mbest_trial\u001b[38;5;241m.\u001b[39mparams}\n\u001b[0;32m     31\u001b[0m     best_params[\u001b[38;5;28mself\u001b[39m\u001b[38;5;241m.\u001b[39mbest_iteration_name] \u001b[38;5;241m=\u001b[39m best_trial\u001b[38;5;241m.\u001b[39muser_attrs\u001b[38;5;241m.\u001b[39mget(\u001b[38;5;124m\"\u001b[39m\u001b[38;5;124mbest_iteration\u001b[39m\u001b[38;5;124m\"\u001b[39m, \u001b[38;5;28;01mNone\u001b[39;00m)\n",
      "File \u001b[1;32mc:\\Users\\Axyom\\Kaggle\\PG S4e12 - Regression Insurance\\axyom_utilities\\hyperparameter_tuning.py:77\u001b[0m, in \u001b[0;36mModelTuner.optuna_tuning\u001b[1;34m(self, objective)\u001b[0m\n\u001b[0;32m     68\u001b[0m \u001b[38;5;28;01mdef\u001b[39;00m \u001b[38;5;21moptuna_tuning\u001b[39m(\u001b[38;5;28mself\u001b[39m, objective):\n\u001b[0;32m     69\u001b[0m     \u001b[38;5;28mself\u001b[39m\u001b[38;5;241m.\u001b[39mstudy \u001b[38;5;241m=\u001b[39m optuna\u001b[38;5;241m.\u001b[39mcreate_study(\n\u001b[0;32m     70\u001b[0m         direction\u001b[38;5;241m=\u001b[39m\u001b[38;5;124m\"\u001b[39m\u001b[38;5;124mminimize\u001b[39m\u001b[38;5;124m\"\u001b[39m, \n\u001b[0;32m     71\u001b[0m         study_name\u001b[38;5;241m=\u001b[39m\u001b[38;5;28mself\u001b[39m\u001b[38;5;241m.\u001b[39mstudy_name, \n\u001b[1;32m   (...)\u001b[0m\n\u001b[0;32m     75\u001b[0m         pruner\u001b[38;5;241m=\u001b[39mMedianPruner(n_startup_trials\u001b[38;5;241m=\u001b[39m\u001b[38;5;241m10\u001b[39m, n_warmup_steps\u001b[38;5;241m=\u001b[39m\u001b[38;5;241m0\u001b[39m)\n\u001b[0;32m     76\u001b[0m     )\n\u001b[1;32m---> 77\u001b[0m     \u001b[38;5;28;43mself\u001b[39;49m\u001b[38;5;241;43m.\u001b[39;49m\u001b[43mstudy\u001b[49m\u001b[38;5;241;43m.\u001b[39;49m\u001b[43moptimize\u001b[49m\u001b[43m(\u001b[49m\u001b[43mobjective\u001b[49m\u001b[43m,\u001b[49m\u001b[43m \u001b[49m\u001b[43mn_trials\u001b[49m\u001b[38;5;241;43m=\u001b[39;49m\u001b[38;5;241;43m10000\u001b[39;49m\u001b[43m,\u001b[49m\u001b[43m \u001b[49m\u001b[43mtimeout\u001b[49m\u001b[38;5;241;43m=\u001b[39;49m\u001b[38;5;28;43mself\u001b[39;49m\u001b[38;5;241;43m.\u001b[39;49m\u001b[43mmax_time\u001b[49m\u001b[43m)\u001b[49m\n\u001b[0;32m     79\u001b[0m     \u001b[38;5;28mprint\u001b[39m(\u001b[38;5;124m\"\u001b[39m\u001b[38;5;124mBest Trial: \u001b[39m\u001b[38;5;124m\"\u001b[39m, \u001b[38;5;28mself\u001b[39m\u001b[38;5;241m.\u001b[39mstudy\u001b[38;5;241m.\u001b[39mbest_trial\u001b[38;5;241m.\u001b[39mparams)\n\u001b[0;32m     80\u001b[0m     \u001b[38;5;28mprint\u001b[39m(\u001b[38;5;124m\"\u001b[39m\u001b[38;5;124mBest Score: \u001b[39m\u001b[38;5;124m\"\u001b[39m, \u001b[38;5;28mself\u001b[39m\u001b[38;5;241m.\u001b[39mstudy\u001b[38;5;241m.\u001b[39mbest_value)\n",
      "File \u001b[1;32mc:\\Users\\Axyom\\anaconda3\\envs\\kaggle_env\\lib\\site-packages\\optuna\\study\\study.py:475\u001b[0m, in \u001b[0;36mStudy.optimize\u001b[1;34m(self, func, n_trials, timeout, n_jobs, catch, callbacks, gc_after_trial, show_progress_bar)\u001b[0m\n\u001b[0;32m    373\u001b[0m \u001b[38;5;28;01mdef\u001b[39;00m \u001b[38;5;21moptimize\u001b[39m(\n\u001b[0;32m    374\u001b[0m     \u001b[38;5;28mself\u001b[39m,\n\u001b[0;32m    375\u001b[0m     func: ObjectiveFuncType,\n\u001b[1;32m   (...)\u001b[0m\n\u001b[0;32m    382\u001b[0m     show_progress_bar: \u001b[38;5;28mbool\u001b[39m \u001b[38;5;241m=\u001b[39m \u001b[38;5;28;01mFalse\u001b[39;00m,\n\u001b[0;32m    383\u001b[0m ) \u001b[38;5;241m-\u001b[39m\u001b[38;5;241m>\u001b[39m \u001b[38;5;28;01mNone\u001b[39;00m:\n\u001b[0;32m    384\u001b[0m \u001b[38;5;250m    \u001b[39m\u001b[38;5;124;03m\"\"\"Optimize an objective function.\u001b[39;00m\n\u001b[0;32m    385\u001b[0m \n\u001b[0;32m    386\u001b[0m \u001b[38;5;124;03m    Optimization is done by choosing a suitable set of hyperparameter values from a given\u001b[39;00m\n\u001b[1;32m   (...)\u001b[0m\n\u001b[0;32m    473\u001b[0m \u001b[38;5;124;03m            If nested invocation of this method occurs.\u001b[39;00m\n\u001b[0;32m    474\u001b[0m \u001b[38;5;124;03m    \"\"\"\u001b[39;00m\n\u001b[1;32m--> 475\u001b[0m     \u001b[43m_optimize\u001b[49m\u001b[43m(\u001b[49m\n\u001b[0;32m    476\u001b[0m \u001b[43m        \u001b[49m\u001b[43mstudy\u001b[49m\u001b[38;5;241;43m=\u001b[39;49m\u001b[38;5;28;43mself\u001b[39;49m\u001b[43m,\u001b[49m\n\u001b[0;32m    477\u001b[0m \u001b[43m        \u001b[49m\u001b[43mfunc\u001b[49m\u001b[38;5;241;43m=\u001b[39;49m\u001b[43mfunc\u001b[49m\u001b[43m,\u001b[49m\n\u001b[0;32m    478\u001b[0m \u001b[43m        \u001b[49m\u001b[43mn_trials\u001b[49m\u001b[38;5;241;43m=\u001b[39;49m\u001b[43mn_trials\u001b[49m\u001b[43m,\u001b[49m\n\u001b[0;32m    479\u001b[0m \u001b[43m        \u001b[49m\u001b[43mtimeout\u001b[49m\u001b[38;5;241;43m=\u001b[39;49m\u001b[43mtimeout\u001b[49m\u001b[43m,\u001b[49m\n\u001b[0;32m    480\u001b[0m \u001b[43m        \u001b[49m\u001b[43mn_jobs\u001b[49m\u001b[38;5;241;43m=\u001b[39;49m\u001b[43mn_jobs\u001b[49m\u001b[43m,\u001b[49m\n\u001b[0;32m    481\u001b[0m \u001b[43m        \u001b[49m\u001b[43mcatch\u001b[49m\u001b[38;5;241;43m=\u001b[39;49m\u001b[38;5;28;43mtuple\u001b[39;49m\u001b[43m(\u001b[49m\u001b[43mcatch\u001b[49m\u001b[43m)\u001b[49m\u001b[43m \u001b[49m\u001b[38;5;28;43;01mif\u001b[39;49;00m\u001b[43m \u001b[49m\u001b[38;5;28;43misinstance\u001b[39;49m\u001b[43m(\u001b[49m\u001b[43mcatch\u001b[49m\u001b[43m,\u001b[49m\u001b[43m \u001b[49m\u001b[43mIterable\u001b[49m\u001b[43m)\u001b[49m\u001b[43m \u001b[49m\u001b[38;5;28;43;01melse\u001b[39;49;00m\u001b[43m \u001b[49m\u001b[43m(\u001b[49m\u001b[43mcatch\u001b[49m\u001b[43m,\u001b[49m\u001b[43m)\u001b[49m\u001b[43m,\u001b[49m\n\u001b[0;32m    482\u001b[0m \u001b[43m        \u001b[49m\u001b[43mcallbacks\u001b[49m\u001b[38;5;241;43m=\u001b[39;49m\u001b[43mcallbacks\u001b[49m\u001b[43m,\u001b[49m\n\u001b[0;32m    483\u001b[0m \u001b[43m        \u001b[49m\u001b[43mgc_after_trial\u001b[49m\u001b[38;5;241;43m=\u001b[39;49m\u001b[43mgc_after_trial\u001b[49m\u001b[43m,\u001b[49m\n\u001b[0;32m    484\u001b[0m \u001b[43m        \u001b[49m\u001b[43mshow_progress_bar\u001b[49m\u001b[38;5;241;43m=\u001b[39;49m\u001b[43mshow_progress_bar\u001b[49m\u001b[43m,\u001b[49m\n\u001b[0;32m    485\u001b[0m \u001b[43m    \u001b[49m\u001b[43m)\u001b[49m\n",
      "File \u001b[1;32mc:\\Users\\Axyom\\anaconda3\\envs\\kaggle_env\\lib\\site-packages\\optuna\\study\\_optimize.py:63\u001b[0m, in \u001b[0;36m_optimize\u001b[1;34m(study, func, n_trials, timeout, n_jobs, catch, callbacks, gc_after_trial, show_progress_bar)\u001b[0m\n\u001b[0;32m     61\u001b[0m \u001b[38;5;28;01mtry\u001b[39;00m:\n\u001b[0;32m     62\u001b[0m     \u001b[38;5;28;01mif\u001b[39;00m n_jobs \u001b[38;5;241m==\u001b[39m \u001b[38;5;241m1\u001b[39m:\n\u001b[1;32m---> 63\u001b[0m         \u001b[43m_optimize_sequential\u001b[49m\u001b[43m(\u001b[49m\n\u001b[0;32m     64\u001b[0m \u001b[43m            \u001b[49m\u001b[43mstudy\u001b[49m\u001b[43m,\u001b[49m\n\u001b[0;32m     65\u001b[0m \u001b[43m            \u001b[49m\u001b[43mfunc\u001b[49m\u001b[43m,\u001b[49m\n\u001b[0;32m     66\u001b[0m \u001b[43m            \u001b[49m\u001b[43mn_trials\u001b[49m\u001b[43m,\u001b[49m\n\u001b[0;32m     67\u001b[0m \u001b[43m            \u001b[49m\u001b[43mtimeout\u001b[49m\u001b[43m,\u001b[49m\n\u001b[0;32m     68\u001b[0m \u001b[43m            \u001b[49m\u001b[43mcatch\u001b[49m\u001b[43m,\u001b[49m\n\u001b[0;32m     69\u001b[0m \u001b[43m            \u001b[49m\u001b[43mcallbacks\u001b[49m\u001b[43m,\u001b[49m\n\u001b[0;32m     70\u001b[0m \u001b[43m            \u001b[49m\u001b[43mgc_after_trial\u001b[49m\u001b[43m,\u001b[49m\n\u001b[0;32m     71\u001b[0m \u001b[43m            \u001b[49m\u001b[43mreseed_sampler_rng\u001b[49m\u001b[38;5;241;43m=\u001b[39;49m\u001b[38;5;28;43;01mFalse\u001b[39;49;00m\u001b[43m,\u001b[49m\n\u001b[0;32m     72\u001b[0m \u001b[43m            \u001b[49m\u001b[43mtime_start\u001b[49m\u001b[38;5;241;43m=\u001b[39;49m\u001b[38;5;28;43;01mNone\u001b[39;49;00m\u001b[43m,\u001b[49m\n\u001b[0;32m     73\u001b[0m \u001b[43m            \u001b[49m\u001b[43mprogress_bar\u001b[49m\u001b[38;5;241;43m=\u001b[39;49m\u001b[43mprogress_bar\u001b[49m\u001b[43m,\u001b[49m\n\u001b[0;32m     74\u001b[0m \u001b[43m        \u001b[49m\u001b[43m)\u001b[49m\n\u001b[0;32m     75\u001b[0m     \u001b[38;5;28;01melse\u001b[39;00m:\n\u001b[0;32m     76\u001b[0m         \u001b[38;5;28;01mif\u001b[39;00m n_jobs \u001b[38;5;241m==\u001b[39m \u001b[38;5;241m-\u001b[39m\u001b[38;5;241m1\u001b[39m:\n",
      "File \u001b[1;32mc:\\Users\\Axyom\\anaconda3\\envs\\kaggle_env\\lib\\site-packages\\optuna\\study\\_optimize.py:160\u001b[0m, in \u001b[0;36m_optimize_sequential\u001b[1;34m(study, func, n_trials, timeout, catch, callbacks, gc_after_trial, reseed_sampler_rng, time_start, progress_bar)\u001b[0m\n\u001b[0;32m    157\u001b[0m         \u001b[38;5;28;01mbreak\u001b[39;00m\n\u001b[0;32m    159\u001b[0m \u001b[38;5;28;01mtry\u001b[39;00m:\n\u001b[1;32m--> 160\u001b[0m     frozen_trial \u001b[38;5;241m=\u001b[39m \u001b[43m_run_trial\u001b[49m\u001b[43m(\u001b[49m\u001b[43mstudy\u001b[49m\u001b[43m,\u001b[49m\u001b[43m \u001b[49m\u001b[43mfunc\u001b[49m\u001b[43m,\u001b[49m\u001b[43m \u001b[49m\u001b[43mcatch\u001b[49m\u001b[43m)\u001b[49m\n\u001b[0;32m    161\u001b[0m \u001b[38;5;28;01mfinally\u001b[39;00m:\n\u001b[0;32m    162\u001b[0m     \u001b[38;5;66;03m# The following line mitigates memory problems that can be occurred in some\u001b[39;00m\n\u001b[0;32m    163\u001b[0m     \u001b[38;5;66;03m# environments (e.g., services that use computing containers such as GitHub Actions).\u001b[39;00m\n\u001b[0;32m    164\u001b[0m     \u001b[38;5;66;03m# Please refer to the following PR for further details:\u001b[39;00m\n\u001b[0;32m    165\u001b[0m     \u001b[38;5;66;03m# https://github.com/optuna/optuna/pull/325.\u001b[39;00m\n\u001b[0;32m    166\u001b[0m     \u001b[38;5;28;01mif\u001b[39;00m gc_after_trial:\n",
      "File \u001b[1;32mc:\\Users\\Axyom\\anaconda3\\envs\\kaggle_env\\lib\\site-packages\\optuna\\study\\_optimize.py:248\u001b[0m, in \u001b[0;36m_run_trial\u001b[1;34m(study, func, catch)\u001b[0m\n\u001b[0;32m    241\u001b[0m         \u001b[38;5;28;01massert\u001b[39;00m \u001b[38;5;28;01mFalse\u001b[39;00m, \u001b[38;5;124m\"\u001b[39m\u001b[38;5;124mShould not reach.\u001b[39m\u001b[38;5;124m\"\u001b[39m\n\u001b[0;32m    243\u001b[0m \u001b[38;5;28;01mif\u001b[39;00m (\n\u001b[0;32m    244\u001b[0m     frozen_trial\u001b[38;5;241m.\u001b[39mstate \u001b[38;5;241m==\u001b[39m TrialState\u001b[38;5;241m.\u001b[39mFAIL\n\u001b[0;32m    245\u001b[0m     \u001b[38;5;129;01mand\u001b[39;00m func_err \u001b[38;5;129;01mis\u001b[39;00m \u001b[38;5;129;01mnot\u001b[39;00m \u001b[38;5;28;01mNone\u001b[39;00m\n\u001b[0;32m    246\u001b[0m     \u001b[38;5;129;01mand\u001b[39;00m \u001b[38;5;129;01mnot\u001b[39;00m \u001b[38;5;28misinstance\u001b[39m(func_err, catch)\n\u001b[0;32m    247\u001b[0m ):\n\u001b[1;32m--> 248\u001b[0m     \u001b[38;5;28;01mraise\u001b[39;00m func_err\n\u001b[0;32m    249\u001b[0m \u001b[38;5;28;01mreturn\u001b[39;00m frozen_trial\n",
      "File \u001b[1;32mc:\\Users\\Axyom\\anaconda3\\envs\\kaggle_env\\lib\\site-packages\\optuna\\study\\_optimize.py:197\u001b[0m, in \u001b[0;36m_run_trial\u001b[1;34m(study, func, catch)\u001b[0m\n\u001b[0;32m    195\u001b[0m \u001b[38;5;28;01mwith\u001b[39;00m get_heartbeat_thread(trial\u001b[38;5;241m.\u001b[39m_trial_id, study\u001b[38;5;241m.\u001b[39m_storage):\n\u001b[0;32m    196\u001b[0m     \u001b[38;5;28;01mtry\u001b[39;00m:\n\u001b[1;32m--> 197\u001b[0m         value_or_values \u001b[38;5;241m=\u001b[39m \u001b[43mfunc\u001b[49m\u001b[43m(\u001b[49m\u001b[43mtrial\u001b[49m\u001b[43m)\u001b[49m\n\u001b[0;32m    198\u001b[0m     \u001b[38;5;28;01mexcept\u001b[39;00m exceptions\u001b[38;5;241m.\u001b[39mTrialPruned \u001b[38;5;28;01mas\u001b[39;00m e:\n\u001b[0;32m    199\u001b[0m         \u001b[38;5;66;03m# TODO(mamu): Handle multi-objective cases.\u001b[39;00m\n\u001b[0;32m    200\u001b[0m         state \u001b[38;5;241m=\u001b[39m TrialState\u001b[38;5;241m.\u001b[39mPRUNED\n",
      "File \u001b[1;32mc:\\Users\\Axyom\\Kaggle\\PG S4e12 - Regression Insurance\\axyom_utilities\\hyperparameter_tuning.py:27\u001b[0m, in \u001b[0;36mModelTuner.tune.<locals>.<lambda>\u001b[1;34m(trial)\u001b[0m\n\u001b[0;32m     26\u001b[0m \u001b[38;5;28;01mdef\u001b[39;00m \u001b[38;5;21mtune\u001b[39m(\u001b[38;5;28mself\u001b[39m, model_generator, params_file):\n\u001b[1;32m---> 27\u001b[0m     objective \u001b[38;5;241m=\u001b[39m \u001b[38;5;28;01mlambda\u001b[39;00m trial: \u001b[38;5;28;43mself\u001b[39;49m\u001b[38;5;241;43m.\u001b[39;49m\u001b[43mgeneric_objective\u001b[49m\u001b[43m(\u001b[49m\u001b[43mtrial\u001b[49m\u001b[43m,\u001b[49m\u001b[43m \u001b[49m\u001b[43mmodel_generator\u001b[49m\u001b[43m)\u001b[49m\n\u001b[0;32m     28\u001b[0m     best_trial \u001b[38;5;241m=\u001b[39m \u001b[38;5;28mself\u001b[39m\u001b[38;5;241m.\u001b[39moptuna_tuning(objective)\n\u001b[0;32m     30\u001b[0m     best_params \u001b[38;5;241m=\u001b[39m {\u001b[38;5;241m*\u001b[39m\u001b[38;5;241m*\u001b[39m\u001b[38;5;28mself\u001b[39m\u001b[38;5;241m.\u001b[39mfixed_params, \u001b[38;5;241m*\u001b[39m\u001b[38;5;241m*\u001b[39mbest_trial\u001b[38;5;241m.\u001b[39mparams}\n",
      "File \u001b[1;32mc:\\Users\\Axyom\\Kaggle\\PG S4e12 - Regression Insurance\\axyom_utilities\\hyperparameter_tuning.py:42\u001b[0m, in \u001b[0;36mModelTuner.generic_objective\u001b[1;34m(self, trial, model_generator)\u001b[0m\n\u001b[0;32m     39\u001b[0m params \u001b[38;5;241m=\u001b[39m {\u001b[38;5;241m*\u001b[39m\u001b[38;5;241m*\u001b[39m\u001b[38;5;28mself\u001b[39m\u001b[38;5;241m.\u001b[39mfixed_params, \u001b[38;5;241m*\u001b[39m\u001b[38;5;241m*\u001b[39m\u001b[38;5;28mself\u001b[39m\u001b[38;5;241m.\u001b[39mvarying_params(trial)}\n\u001b[0;32m     40\u001b[0m model \u001b[38;5;241m=\u001b[39m model_generator(\u001b[38;5;241m*\u001b[39m\u001b[38;5;241m*\u001b[39mparams)\n\u001b[1;32m---> 42\u001b[0m results \u001b[38;5;241m=\u001b[39m \u001b[43mtrain_model_cv\u001b[49m\u001b[43m(\u001b[49m\n\u001b[0;32m     43\u001b[0m \u001b[43m    \u001b[49m\u001b[43mmodel\u001b[49m\u001b[43m,\u001b[49m\u001b[43m \u001b[49m\n\u001b[0;32m     44\u001b[0m \u001b[43m    \u001b[49m\u001b[38;5;28;43mself\u001b[39;49m\u001b[38;5;241;43m.\u001b[39;49m\u001b[43mX_train\u001b[49m\u001b[43m,\u001b[49m\u001b[43m \u001b[49m\n\u001b[0;32m     45\u001b[0m \u001b[43m    \u001b[49m\u001b[38;5;28;43mself\u001b[39;49m\u001b[38;5;241;43m.\u001b[39;49m\u001b[43my_train\u001b[49m\u001b[43m,\u001b[49m\u001b[43m \u001b[49m\n\u001b[0;32m     46\u001b[0m \u001b[43m    \u001b[49m\u001b[43mcv_splits\u001b[49m\u001b[38;5;241;43m=\u001b[39;49m\u001b[38;5;241;43m5\u001b[39;49m\u001b[43m,\u001b[49m\u001b[43m \u001b[49m\n\u001b[0;32m     47\u001b[0m \u001b[43m    \u001b[49m\u001b[43mearly_stopping_rounds\u001b[49m\u001b[38;5;241;43m=\u001b[39;49m\u001b[38;5;241;43m100\u001b[39;49m\u001b[43m,\u001b[49m\n\u001b[0;32m     48\u001b[0m \u001b[43m    \u001b[49m\u001b[43mtrial\u001b[49m\u001b[38;5;241;43m=\u001b[39;49m\u001b[43mtrial\u001b[49m\n\u001b[0;32m     49\u001b[0m \u001b[43m\u001b[49m\u001b[43m)\u001b[49m\n\u001b[0;32m     51\u001b[0m score \u001b[38;5;241m=\u001b[39m results[\u001b[38;5;124m'\u001b[39m\u001b[38;5;124mcv_scores\u001b[39m\u001b[38;5;124m'\u001b[39m]\u001b[38;5;241m.\u001b[39mmean()\n\u001b[0;32m     52\u001b[0m trial\u001b[38;5;241m.\u001b[39mset_user_attr(\u001b[38;5;124m\"\u001b[39m\u001b[38;5;124mbest_iteration\u001b[39m\u001b[38;5;124m\"\u001b[39m, results[\u001b[38;5;124m'\u001b[39m\u001b[38;5;124mbest_iteration\u001b[39m\u001b[38;5;124m'\u001b[39m])\n",
      "File \u001b[1;32mc:\\Users\\Axyom\\Kaggle\\PG S4e12 - Regression Insurance\\axyom_utilities\\training.py:34\u001b[0m, in \u001b[0;36mtrain_model_cv\u001b[1;34m(model, X_train, y_train, X_test, X_orig, y_orig, cv_splits, early_stopping_rounds, trial)\u001b[0m\n\u001b[0;32m     32\u001b[0m \u001b[38;5;66;03m# Fit the model on training data\u001b[39;00m\n\u001b[0;32m     33\u001b[0m \u001b[38;5;28;01mif\u001b[39;00m early_stopping_rounds:\n\u001b[1;32m---> 34\u001b[0m     \u001b[43mmodel\u001b[49m\u001b[38;5;241;43m.\u001b[39;49m\u001b[43mfit\u001b[49m\u001b[43m(\u001b[49m\n\u001b[0;32m     35\u001b[0m \u001b[43m        \u001b[49m\u001b[43mX_train_fold\u001b[49m\u001b[43m,\u001b[49m\u001b[43m \u001b[49m\u001b[43my_train_fold\u001b[49m\u001b[43m,\u001b[49m\u001b[43m \u001b[49m\n\u001b[0;32m     36\u001b[0m \u001b[43m        \u001b[49m\u001b[43meval_set\u001b[49m\u001b[38;5;241;43m=\u001b[39;49m\u001b[43m(\u001b[49m\u001b[43mX_val_fold\u001b[49m\u001b[43m,\u001b[49m\u001b[43m \u001b[49m\u001b[43my_val_fold\u001b[49m\u001b[43m)\u001b[49m\u001b[43m,\u001b[49m\n\u001b[0;32m     37\u001b[0m \u001b[43m        \u001b[49m\u001b[43mearly_stopping_rounds\u001b[49m\u001b[38;5;241;43m=\u001b[39;49m\u001b[43mearly_stopping_rounds\u001b[49m\u001b[43m,\u001b[49m\n\u001b[0;32m     38\u001b[0m \u001b[43m        \u001b[49m\u001b[43mverbose\u001b[49m\u001b[38;5;241;43m=\u001b[39;49m\u001b[38;5;28;43;01mFalse\u001b[39;49;00m\n\u001b[0;32m     39\u001b[0m \u001b[43m    \u001b[49m\u001b[43m)\u001b[49m\n\u001b[0;32m     40\u001b[0m     best_iterations[fold]\u001b[38;5;241m=\u001b[39mmodel\u001b[38;5;241m.\u001b[39mget_best_iteration()\n\u001b[0;32m     41\u001b[0m \u001b[38;5;28;01melse\u001b[39;00m:\n",
      "File \u001b[1;32mc:\\Users\\Axyom\\Kaggle\\PG S4e12 - Regression Insurance\\axyom_utilities\\wrappers.py:41\u001b[0m, in \u001b[0;36mXGBRegressorWrapper.fit\u001b[1;34m(self, X, y, eval_set, early_stopping_rounds, verbose)\u001b[0m\n\u001b[0;32m     33\u001b[0m \u001b[38;5;28mself\u001b[39m\u001b[38;5;241m.\u001b[39mxgb_model_ \u001b[38;5;241m=\u001b[39m XGBRegressor(\u001b[38;5;241m*\u001b[39m\u001b[38;5;241m*\u001b[39m\u001b[38;5;28mself\u001b[39m\u001b[38;5;241m.\u001b[39mparams)\n\u001b[0;32m     35\u001b[0m \u001b[38;5;66;03m# callbacks = []\u001b[39;00m\n\u001b[0;32m     36\u001b[0m \u001b[38;5;66;03m# if early_stopping_rounds and eval_set:\u001b[39;00m\n\u001b[0;32m     37\u001b[0m \u001b[38;5;66;03m#     callbacks.append(EarlyStopping(rounds=early_stopping_rounds, save_best=True, maximize=False, metric_name=\"rmse\"))\u001b[39;00m\n\u001b[0;32m     38\u001b[0m \n\u001b[0;32m     39\u001b[0m \n\u001b[0;32m     40\u001b[0m \u001b[38;5;66;03m# Train the model with early stopping if validation set is provided\u001b[39;00m\n\u001b[1;32m---> 41\u001b[0m \u001b[38;5;28;43mself\u001b[39;49m\u001b[38;5;241;43m.\u001b[39;49m\u001b[43mxgb_model_\u001b[49m\u001b[38;5;241;43m.\u001b[39;49m\u001b[43mfit\u001b[49m\u001b[43m(\u001b[49m\n\u001b[0;32m     42\u001b[0m \u001b[43m    \u001b[49m\u001b[43mX\u001b[49m\u001b[43m,\u001b[49m\n\u001b[0;32m     43\u001b[0m \u001b[43m    \u001b[49m\u001b[43my\u001b[49m\u001b[43m,\u001b[49m\n\u001b[0;32m     44\u001b[0m \u001b[43m    \u001b[49m\u001b[43meval_set\u001b[49m\u001b[38;5;241;43m=\u001b[39;49m\u001b[43m[\u001b[49m\u001b[43meval_set\u001b[49m\u001b[43m]\u001b[49m\u001b[43m,\u001b[49m\n\u001b[0;32m     45\u001b[0m \u001b[43m    \u001b[49m\u001b[38;5;66;43;03m#early_stopping_rounds=early_stopping_rounds,\u001b[39;49;00m\n\u001b[0;32m     46\u001b[0m \u001b[43m    \u001b[49m\u001b[38;5;66;43;03m#callbacks=callbacks,\u001b[39;49;00m\n\u001b[0;32m     47\u001b[0m \u001b[43m    \u001b[49m\u001b[43mverbose\u001b[49m\u001b[38;5;241;43m=\u001b[39;49m\u001b[43mverbose\u001b[49m\n\u001b[0;32m     48\u001b[0m \u001b[43m\u001b[49m\u001b[43m)\u001b[49m\n\u001b[0;32m     50\u001b[0m \u001b[38;5;28;01mreturn\u001b[39;00m \u001b[38;5;28mself\u001b[39m\n",
      "File \u001b[1;32mc:\\Users\\Axyom\\anaconda3\\envs\\kaggle_env\\lib\\site-packages\\xgboost\\core.py:726\u001b[0m, in \u001b[0;36mrequire_keyword_args.<locals>.throw_if.<locals>.inner_f\u001b[1;34m(*args, **kwargs)\u001b[0m\n\u001b[0;32m    724\u001b[0m \u001b[38;5;28;01mfor\u001b[39;00m k, arg \u001b[38;5;129;01min\u001b[39;00m \u001b[38;5;28mzip\u001b[39m(sig\u001b[38;5;241m.\u001b[39mparameters, args):\n\u001b[0;32m    725\u001b[0m     kwargs[k] \u001b[38;5;241m=\u001b[39m arg\n\u001b[1;32m--> 726\u001b[0m \u001b[38;5;28;01mreturn\u001b[39;00m func(\u001b[38;5;241m*\u001b[39m\u001b[38;5;241m*\u001b[39mkwargs)\n",
      "File \u001b[1;32mc:\\Users\\Axyom\\anaconda3\\envs\\kaggle_env\\lib\\site-packages\\xgboost\\sklearn.py:1108\u001b[0m, in \u001b[0;36mXGBModel.fit\u001b[1;34m(self, X, y, sample_weight, base_margin, eval_set, verbose, xgb_model, sample_weight_eval_set, base_margin_eval_set, feature_weights)\u001b[0m\n\u001b[0;32m   1105\u001b[0m     obj \u001b[38;5;241m=\u001b[39m \u001b[38;5;28;01mNone\u001b[39;00m\n\u001b[0;32m   1107\u001b[0m model, metric, params \u001b[38;5;241m=\u001b[39m \u001b[38;5;28mself\u001b[39m\u001b[38;5;241m.\u001b[39m_configure_fit(xgb_model, params)\n\u001b[1;32m-> 1108\u001b[0m \u001b[38;5;28mself\u001b[39m\u001b[38;5;241m.\u001b[39m_Booster \u001b[38;5;241m=\u001b[39m \u001b[43mtrain\u001b[49m\u001b[43m(\u001b[49m\n\u001b[0;32m   1109\u001b[0m \u001b[43m    \u001b[49m\u001b[43mparams\u001b[49m\u001b[43m,\u001b[49m\n\u001b[0;32m   1110\u001b[0m \u001b[43m    \u001b[49m\u001b[43mtrain_dmatrix\u001b[49m\u001b[43m,\u001b[49m\n\u001b[0;32m   1111\u001b[0m \u001b[43m    \u001b[49m\u001b[38;5;28;43mself\u001b[39;49m\u001b[38;5;241;43m.\u001b[39;49m\u001b[43mget_num_boosting_rounds\u001b[49m\u001b[43m(\u001b[49m\u001b[43m)\u001b[49m\u001b[43m,\u001b[49m\n\u001b[0;32m   1112\u001b[0m \u001b[43m    \u001b[49m\u001b[43mevals\u001b[49m\u001b[38;5;241;43m=\u001b[39;49m\u001b[43mevals\u001b[49m\u001b[43m,\u001b[49m\n\u001b[0;32m   1113\u001b[0m \u001b[43m    \u001b[49m\u001b[43mearly_stopping_rounds\u001b[49m\u001b[38;5;241;43m=\u001b[39;49m\u001b[38;5;28;43mself\u001b[39;49m\u001b[38;5;241;43m.\u001b[39;49m\u001b[43mearly_stopping_rounds\u001b[49m\u001b[43m,\u001b[49m\n\u001b[0;32m   1114\u001b[0m \u001b[43m    \u001b[49m\u001b[43mevals_result\u001b[49m\u001b[38;5;241;43m=\u001b[39;49m\u001b[43mevals_result\u001b[49m\u001b[43m,\u001b[49m\n\u001b[0;32m   1115\u001b[0m \u001b[43m    \u001b[49m\u001b[43mobj\u001b[49m\u001b[38;5;241;43m=\u001b[39;49m\u001b[43mobj\u001b[49m\u001b[43m,\u001b[49m\n\u001b[0;32m   1116\u001b[0m \u001b[43m    \u001b[49m\u001b[43mcustom_metric\u001b[49m\u001b[38;5;241;43m=\u001b[39;49m\u001b[43mmetric\u001b[49m\u001b[43m,\u001b[49m\n\u001b[0;32m   1117\u001b[0m \u001b[43m    \u001b[49m\u001b[43mverbose_eval\u001b[49m\u001b[38;5;241;43m=\u001b[39;49m\u001b[43mverbose\u001b[49m\u001b[43m,\u001b[49m\n\u001b[0;32m   1118\u001b[0m \u001b[43m    \u001b[49m\u001b[43mxgb_model\u001b[49m\u001b[38;5;241;43m=\u001b[39;49m\u001b[43mmodel\u001b[49m\u001b[43m,\u001b[49m\n\u001b[0;32m   1119\u001b[0m \u001b[43m    \u001b[49m\u001b[43mcallbacks\u001b[49m\u001b[38;5;241;43m=\u001b[39;49m\u001b[38;5;28;43mself\u001b[39;49m\u001b[38;5;241;43m.\u001b[39;49m\u001b[43mcallbacks\u001b[49m\u001b[43m,\u001b[49m\n\u001b[0;32m   1120\u001b[0m \u001b[43m\u001b[49m\u001b[43m)\u001b[49m\n\u001b[0;32m   1122\u001b[0m \u001b[38;5;28mself\u001b[39m\u001b[38;5;241m.\u001b[39m_set_evaluation_result(evals_result)\n\u001b[0;32m   1123\u001b[0m \u001b[38;5;28;01mreturn\u001b[39;00m \u001b[38;5;28mself\u001b[39m\n",
      "File \u001b[1;32mc:\\Users\\Axyom\\anaconda3\\envs\\kaggle_env\\lib\\site-packages\\xgboost\\core.py:726\u001b[0m, in \u001b[0;36mrequire_keyword_args.<locals>.throw_if.<locals>.inner_f\u001b[1;34m(*args, **kwargs)\u001b[0m\n\u001b[0;32m    724\u001b[0m \u001b[38;5;28;01mfor\u001b[39;00m k, arg \u001b[38;5;129;01min\u001b[39;00m \u001b[38;5;28mzip\u001b[39m(sig\u001b[38;5;241m.\u001b[39mparameters, args):\n\u001b[0;32m    725\u001b[0m     kwargs[k] \u001b[38;5;241m=\u001b[39m arg\n\u001b[1;32m--> 726\u001b[0m \u001b[38;5;28;01mreturn\u001b[39;00m func(\u001b[38;5;241m*\u001b[39m\u001b[38;5;241m*\u001b[39mkwargs)\n",
      "File \u001b[1;32mc:\\Users\\Axyom\\anaconda3\\envs\\kaggle_env\\lib\\site-packages\\xgboost\\training.py:192\u001b[0m, in \u001b[0;36mtrain\u001b[1;34m(params, dtrain, num_boost_round, evals, obj, feval, maximize, early_stopping_rounds, evals_result, verbose_eval, xgb_model, callbacks, custom_metric)\u001b[0m\n\u001b[0;32m    188\u001b[0m     evals_result\u001b[38;5;241m.\u001b[39mupdate(cb_container\u001b[38;5;241m.\u001b[39mhistory)\n\u001b[0;32m    190\u001b[0m \u001b[38;5;66;03m# Copy to serialise and unserialise booster to reset state and free\u001b[39;00m\n\u001b[0;32m    191\u001b[0m \u001b[38;5;66;03m# training memory\u001b[39;00m\n\u001b[1;32m--> 192\u001b[0m \u001b[38;5;28;01mreturn\u001b[39;00m \u001b[43mbst\u001b[49m\u001b[38;5;241;43m.\u001b[39;49m\u001b[43mcopy\u001b[49m\u001b[43m(\u001b[49m\u001b[43m)\u001b[49m\n",
      "File \u001b[1;32mc:\\Users\\Axyom\\anaconda3\\envs\\kaggle_env\\lib\\site-packages\\xgboost\\core.py:1931\u001b[0m, in \u001b[0;36mBooster.copy\u001b[1;34m(self)\u001b[0m\n\u001b[0;32m   1923\u001b[0m \u001b[38;5;28;01mdef\u001b[39;00m \u001b[38;5;21mcopy\u001b[39m(\u001b[38;5;28mself\u001b[39m) \u001b[38;5;241m-\u001b[39m\u001b[38;5;241m>\u001b[39m \u001b[38;5;124m\"\u001b[39m\u001b[38;5;124mBooster\u001b[39m\u001b[38;5;124m\"\u001b[39m:\n\u001b[0;32m   1924\u001b[0m \u001b[38;5;250m    \u001b[39m\u001b[38;5;124;03m\"\"\"Copy the booster object.\u001b[39;00m\n\u001b[0;32m   1925\u001b[0m \n\u001b[0;32m   1926\u001b[0m \u001b[38;5;124;03m    Returns\u001b[39;00m\n\u001b[1;32m   (...)\u001b[0m\n\u001b[0;32m   1929\u001b[0m \u001b[38;5;124;03m        A copied booster model\u001b[39;00m\n\u001b[0;32m   1930\u001b[0m \u001b[38;5;124;03m    \"\"\"\u001b[39;00m\n\u001b[1;32m-> 1931\u001b[0m     \u001b[38;5;28;01mreturn\u001b[39;00m \u001b[43mcopy\u001b[49m\u001b[38;5;241;43m.\u001b[39;49m\u001b[43mcopy\u001b[49m\u001b[43m(\u001b[49m\u001b[38;5;28;43mself\u001b[39;49m\u001b[43m)\u001b[49m\n",
      "File \u001b[1;32mc:\\Users\\Axyom\\anaconda3\\envs\\kaggle_env\\lib\\copy.py:84\u001b[0m, in \u001b[0;36mcopy\u001b[1;34m(x)\u001b[0m\n\u001b[0;32m     82\u001b[0m copier \u001b[38;5;241m=\u001b[39m \u001b[38;5;28mgetattr\u001b[39m(\u001b[38;5;28mcls\u001b[39m, \u001b[38;5;124m\"\u001b[39m\u001b[38;5;124m__copy__\u001b[39m\u001b[38;5;124m\"\u001b[39m, \u001b[38;5;28;01mNone\u001b[39;00m)\n\u001b[0;32m     83\u001b[0m \u001b[38;5;28;01mif\u001b[39;00m copier \u001b[38;5;129;01mis\u001b[39;00m \u001b[38;5;129;01mnot\u001b[39;00m \u001b[38;5;28;01mNone\u001b[39;00m:\n\u001b[1;32m---> 84\u001b[0m     \u001b[38;5;28;01mreturn\u001b[39;00m \u001b[43mcopier\u001b[49m\u001b[43m(\u001b[49m\u001b[43mx\u001b[49m\u001b[43m)\u001b[49m\n\u001b[0;32m     86\u001b[0m reductor \u001b[38;5;241m=\u001b[39m dispatch_table\u001b[38;5;241m.\u001b[39mget(\u001b[38;5;28mcls\u001b[39m)\n\u001b[0;32m     87\u001b[0m \u001b[38;5;28;01mif\u001b[39;00m reductor \u001b[38;5;129;01mis\u001b[39;00m \u001b[38;5;129;01mnot\u001b[39;00m \u001b[38;5;28;01mNone\u001b[39;00m:\n",
      "File \u001b[1;32mc:\\Users\\Axyom\\anaconda3\\envs\\kaggle_env\\lib\\site-packages\\xgboost\\core.py:1917\u001b[0m, in \u001b[0;36mBooster.__copy__\u001b[1;34m(self)\u001b[0m\n\u001b[0;32m   1916\u001b[0m \u001b[38;5;28;01mdef\u001b[39;00m \u001b[38;5;21m__copy__\u001b[39m(\u001b[38;5;28mself\u001b[39m) \u001b[38;5;241m-\u001b[39m\u001b[38;5;241m>\u001b[39m \u001b[38;5;124m\"\u001b[39m\u001b[38;5;124mBooster\u001b[39m\u001b[38;5;124m\"\u001b[39m:\n\u001b[1;32m-> 1917\u001b[0m     \u001b[38;5;28;01mreturn\u001b[39;00m \u001b[38;5;28;43mself\u001b[39;49m\u001b[38;5;241;43m.\u001b[39;49m\u001b[43m__deepcopy__\u001b[49m\u001b[43m(\u001b[49m\u001b[38;5;28;43;01mNone\u001b[39;49;00m\u001b[43m)\u001b[49m\n",
      "File \u001b[1;32mc:\\Users\\Axyom\\anaconda3\\envs\\kaggle_env\\lib\\site-packages\\xgboost\\core.py:1921\u001b[0m, in \u001b[0;36mBooster.__deepcopy__\u001b[1;34m(self, _)\u001b[0m\n\u001b[0;32m   1919\u001b[0m \u001b[38;5;28;01mdef\u001b[39;00m \u001b[38;5;21m__deepcopy__\u001b[39m(\u001b[38;5;28mself\u001b[39m, _: Any) \u001b[38;5;241m-\u001b[39m\u001b[38;5;241m>\u001b[39m \u001b[38;5;124m\"\u001b[39m\u001b[38;5;124mBooster\u001b[39m\u001b[38;5;124m\"\u001b[39m:\n\u001b[0;32m   1920\u001b[0m \u001b[38;5;250m    \u001b[39m\u001b[38;5;124;03m\"\"\"Return a copy of booster.\"\"\"\u001b[39;00m\n\u001b[1;32m-> 1921\u001b[0m     \u001b[38;5;28;01mreturn\u001b[39;00m \u001b[43mBooster\u001b[49m\u001b[43m(\u001b[49m\u001b[43mmodel_file\u001b[49m\u001b[38;5;241;43m=\u001b[39;49m\u001b[38;5;28;43mself\u001b[39;49m\u001b[43m)\u001b[49m\n",
      "File \u001b[1;32mc:\\Users\\Axyom\\anaconda3\\envs\\kaggle_env\\lib\\site-packages\\xgboost\\core.py:1716\u001b[0m, in \u001b[0;36mBooster.__init__\u001b[1;34m(self, params, cache, model_file)\u001b[0m\n\u001b[0;32m   1713\u001b[0m \u001b[38;5;28;01massert\u001b[39;00m \u001b[38;5;28mself\u001b[39m\u001b[38;5;241m.\u001b[39mhandle \u001b[38;5;129;01mis\u001b[39;00m \u001b[38;5;129;01mnot\u001b[39;00m \u001b[38;5;28;01mNone\u001b[39;00m\n\u001b[0;32m   1714\u001b[0m \u001b[38;5;66;03m# We use the pickle interface for getting memory snapshot from\u001b[39;00m\n\u001b[0;32m   1715\u001b[0m \u001b[38;5;66;03m# another model, and load the snapshot with this booster.\u001b[39;00m\n\u001b[1;32m-> 1716\u001b[0m state \u001b[38;5;241m=\u001b[39m \u001b[43mmodel_file\u001b[49m\u001b[38;5;241;43m.\u001b[39;49m\u001b[43m__getstate__\u001b[49m\u001b[43m(\u001b[49m\u001b[43m)\u001b[49m\n\u001b[0;32m   1717\u001b[0m handle \u001b[38;5;241m=\u001b[39m state[\u001b[38;5;124m\"\u001b[39m\u001b[38;5;124mhandle\u001b[39m\u001b[38;5;124m\"\u001b[39m]\n\u001b[0;32m   1718\u001b[0m \u001b[38;5;28;01mdel\u001b[39;00m state[\u001b[38;5;124m\"\u001b[39m\u001b[38;5;124mhandle\u001b[39m\u001b[38;5;124m\"\u001b[39m]\n",
      "File \u001b[1;32mc:\\Users\\Axyom\\anaconda3\\envs\\kaggle_env\\lib\\site-packages\\xgboost\\core.py:1807\u001b[0m, in \u001b[0;36mBooster.__getstate__\u001b[1;34m(self)\u001b[0m\n\u001b[0;32m   1805\u001b[0m length \u001b[38;5;241m=\u001b[39m c_bst_ulong()\n\u001b[0;32m   1806\u001b[0m cptr \u001b[38;5;241m=\u001b[39m ctypes\u001b[38;5;241m.\u001b[39mPOINTER(ctypes\u001b[38;5;241m.\u001b[39mc_char)()\n\u001b[1;32m-> 1807\u001b[0m \u001b[43m_check_call\u001b[49m\u001b[43m(\u001b[49m\n\u001b[0;32m   1808\u001b[0m \u001b[43m    \u001b[49m\u001b[43m_LIB\u001b[49m\u001b[38;5;241;43m.\u001b[39;49m\u001b[43mXGBoosterSerializeToBuffer\u001b[49m\u001b[43m(\u001b[49m\n\u001b[0;32m   1809\u001b[0m \u001b[43m        \u001b[49m\u001b[38;5;28;43mself\u001b[39;49m\u001b[38;5;241;43m.\u001b[39;49m\u001b[43mhandle\u001b[49m\u001b[43m,\u001b[49m\u001b[43m \u001b[49m\u001b[43mctypes\u001b[49m\u001b[38;5;241;43m.\u001b[39;49m\u001b[43mbyref\u001b[49m\u001b[43m(\u001b[49m\u001b[43mlength\u001b[49m\u001b[43m)\u001b[49m\u001b[43m,\u001b[49m\u001b[43m \u001b[49m\u001b[43mctypes\u001b[49m\u001b[38;5;241;43m.\u001b[39;49m\u001b[43mbyref\u001b[49m\u001b[43m(\u001b[49m\u001b[43mcptr\u001b[49m\u001b[43m)\u001b[49m\n\u001b[0;32m   1810\u001b[0m \u001b[43m    \u001b[49m\u001b[43m)\u001b[49m\n\u001b[0;32m   1811\u001b[0m \u001b[43m\u001b[49m\u001b[43m)\u001b[49m\n\u001b[0;32m   1812\u001b[0m buf \u001b[38;5;241m=\u001b[39m ctypes2buffer(cptr, length\u001b[38;5;241m.\u001b[39mvalue)\n\u001b[0;32m   1813\u001b[0m this[\u001b[38;5;124m\"\u001b[39m\u001b[38;5;124mhandle\u001b[39m\u001b[38;5;124m\"\u001b[39m] \u001b[38;5;241m=\u001b[39m buf\n",
      "File \u001b[1;32mc:\\Users\\Axyom\\anaconda3\\envs\\kaggle_env\\lib\\site-packages\\xgboost\\core.py:284\u001b[0m, in \u001b[0;36m_check_call\u001b[1;34m(ret)\u001b[0m\n\u001b[0;32m    273\u001b[0m \u001b[38;5;250m\u001b[39m\u001b[38;5;124;03m\"\"\"Check the return value of C API call\u001b[39;00m\n\u001b[0;32m    274\u001b[0m \n\u001b[0;32m    275\u001b[0m \u001b[38;5;124;03mThis function will raise exception when error occurs.\u001b[39;00m\n\u001b[1;32m   (...)\u001b[0m\n\u001b[0;32m    281\u001b[0m \u001b[38;5;124;03m    return value from API calls\u001b[39;00m\n\u001b[0;32m    282\u001b[0m \u001b[38;5;124;03m\"\"\"\u001b[39;00m\n\u001b[0;32m    283\u001b[0m \u001b[38;5;28;01mif\u001b[39;00m ret \u001b[38;5;241m!=\u001b[39m \u001b[38;5;241m0\u001b[39m:\n\u001b[1;32m--> 284\u001b[0m     \u001b[38;5;28;01mraise\u001b[39;00m XGBoostError(py_str(_LIB\u001b[38;5;241m.\u001b[39mXGBGetLastError()))\n",
      "\u001b[1;31mXGBoostError\u001b[0m: bad allocation"
     ]
    }
   ],
   "source": [
    "from axyom_utilities.hyperparameter_tuning import XGBoostTuner\n",
    "\n",
    "if HYPER_OPT:\n",
    "    tuner = XGBoostTuner(X_train, y_train, HYPER_OPT_TIME)\n",
    "    best_params = tuner.tune()\n",
    "    tuner.plot()\n",
    "else:\n",
    "    best_params = {\n",
    "        \"iterations\":3000,\n",
    "        \"learning_rate\":0.05,\n",
    "        \"depth\":6,\n",
    "        \"eval_metric\":\"RMSE\",\n",
    "        \"random_seed\":42,\n",
    "        \"verbose\":200,\n",
    "        \"task_type\":'GPU',\n",
    "        \"l2_leaf_reg\" :0.7,\n",
    "    }"
   ]
  },
  {
   "cell_type": "code",
   "execution_count": null,
   "id": "743d5c4c",
   "metadata": {
    "execution": {
     "iopub.execute_input": "2024-12-09T18:16:55.241304Z",
     "iopub.status.busy": "2024-12-09T18:16:55.240196Z",
     "iopub.status.idle": "2024-12-09T18:16:55.246167Z",
     "shell.execute_reply": "2024-12-09T18:16:55.245357Z"
    },
    "papermill": {
     "duration": 0.035916,
     "end_time": "2024-12-09T18:16:55.247704",
     "exception": false,
     "start_time": "2024-12-09T18:16:55.211788",
     "status": "completed"
    },
    "tags": []
   },
   "outputs": [],
   "source": [
    "best_params"
   ]
  },
  {
   "cell_type": "code",
   "execution_count": 10,
   "id": "b1e870ef",
   "metadata": {
    "execution": {
     "iopub.execute_input": "2024-12-09T18:16:55.304289Z",
     "iopub.status.busy": "2024-12-09T18:16:55.303586Z",
     "iopub.status.idle": "2024-12-09T18:16:55.307059Z",
     "shell.execute_reply": "2024-12-09T18:16:55.306445Z"
    },
    "papermill": {
     "duration": 0.033579,
     "end_time": "2024-12-09T18:16:55.308644",
     "exception": false,
     "start_time": "2024-12-09T18:16:55.275065",
     "status": "completed"
    },
    "tags": []
   },
   "outputs": [],
   "source": [
    "best_params[\"n_iterators\"] = 10000"
   ]
  },
  {
   "cell_type": "markdown",
   "id": "912bf058",
   "metadata": {
    "papermill": {
     "duration": 0.032715,
     "end_time": "2024-12-09T18:16:55.371337",
     "exception": false,
     "start_time": "2024-12-09T18:16:55.338622",
     "status": "completed"
    },
    "tags": []
   },
   "source": [
    "# Model Training"
   ]
  },
  {
   "cell_type": "code",
   "execution_count": null,
   "id": "d9ed4579",
   "metadata": {
    "execution": {
     "iopub.execute_input": "2024-12-09T18:16:55.437662Z",
     "iopub.status.busy": "2024-12-09T18:16:55.437325Z",
     "iopub.status.idle": "2024-12-09T18:27:05.981939Z",
     "shell.execute_reply": "2024-12-09T18:27:05.980966Z"
    },
    "papermill": {
     "duration": 610.608804,
     "end_time": "2024-12-09T18:27:06.012560",
     "exception": false,
     "start_time": "2024-12-09T18:16:55.403756",
     "status": "completed"
    },
    "tags": []
   },
   "outputs": [],
   "source": [
    "import json\n",
    "from axyom_utilities.wrappers import XGBRegressorWrapper\n",
    "\n",
    "model = XGBRegressorWrapper(**best_params)\n",
    "\n",
    "# Use the train_model function to train and evaluate the model\n",
    "results = train_model_cv(\n",
    "    model=model,\n",
    "    X_train=X_train,\n",
    "    y_train=y_train,\n",
    "    X_test=X_test,\n",
    "    X_orig=X_orig,\n",
    "    early_stopping_rounds=100,\n",
    "    cv_splits=5\n",
    ")"
   ]
  },
  {
   "cell_type": "code",
   "execution_count": null,
   "id": "40b2d112",
   "metadata": {},
   "outputs": [],
   "source": [
    "# models = results['models']\n",
    "\n",
    "# # Get feature importance\n",
    "# feature_importances = models[3].catboost_model_.get_feature_importance(type='PredictionValuesChange')\n",
    "\n",
    "# # Map to feature names\n",
    "# feature_importance_df = pd.DataFrame({\n",
    "#     'Feature': X_train.columns,\n",
    "#     'Importance': feature_importances\n",
    "# }).sort_values(by='Importance', ascending=False)\n",
    "\n",
    "# print(feature_importance_df)"
   ]
  },
  {
   "cell_type": "code",
   "execution_count": 14,
   "id": "76c5d6d4",
   "metadata": {
    "execution": {
     "iopub.execute_input": "2024-12-09T18:27:06.069815Z",
     "iopub.status.busy": "2024-12-09T18:27:06.069512Z",
     "iopub.status.idle": "2024-12-09T18:27:06.074853Z",
     "shell.execute_reply": "2024-12-09T18:27:06.074183Z"
    },
    "papermill": {
     "duration": 0.035663,
     "end_time": "2024-12-09T18:27:06.076253",
     "exception": false,
     "start_time": "2024-12-09T18:27:06.040590",
     "status": "completed"
    },
    "tags": []
   },
   "outputs": [],
   "source": [
    "mean_score = np.mean(results[\"cv_scores\"])\n",
    "std_score = np.std(results[\"cv_scores\"])"
   ]
  },
  {
   "cell_type": "markdown",
   "id": "2d6f1ec1",
   "metadata": {},
   "source": [
    "# Saving"
   ]
  },
  {
   "cell_type": "code",
   "execution_count": 15,
   "id": "bba76357",
   "metadata": {
    "execution": {
     "iopub.execute_input": "2024-12-09T18:27:06.134109Z",
     "iopub.status.busy": "2024-12-09T18:27:06.133614Z",
     "iopub.status.idle": "2024-12-09T18:27:09.560189Z",
     "shell.execute_reply": "2024-12-09T18:27:09.559255Z"
    },
    "papermill": {
     "duration": 3.457335,
     "end_time": "2024-12-09T18:27:09.561802",
     "exception": false,
     "start_time": "2024-12-09T18:27:06.104467",
     "status": "completed"
    },
    "tags": []
   },
   "outputs": [],
   "source": [
    "import joblib\n",
    "\n",
    "results_dir = f\"{mean_score:.4f}+-{std_score:.4f}\"\n",
    "os.makedirs(results_dir, exist_ok=True)\n",
    "\n",
    "# Save OOF predictions as a CSV file\n",
    "oof_preds_df = pd.DataFrame({\"oof_preds\": results[\"oof_preds\"]})\n",
    "oof_preds_df.to_csv(os.path.join(results_dir, \"oof_preds.csv\"), index=False)\n",
    "\n",
    "test_preds_df = pd.DataFrame({\"test_preds\": results[\"test_preds\"]})\n",
    "test_preds_df.to_csv(os.path.join(results_dir, \"test_preds.csv\"), index=False)\n",
    "\n",
    "#joblib.dump(results[\"models\"], \"models.pkl\")"
   ]
  },
  {
   "cell_type": "markdown",
   "id": "607e1999",
   "metadata": {
    "papermill": {
     "duration": 0.030518,
     "end_time": "2024-12-09T18:27:09.621403",
     "exception": false,
     "start_time": "2024-12-09T18:27:09.590885",
     "status": "completed"
    },
    "tags": []
   },
   "source": [
    "# Submission"
   ]
  },
  {
   "cell_type": "code",
   "execution_count": 16,
   "id": "221fab64",
   "metadata": {
    "execution": {
     "iopub.execute_input": "2024-12-09T18:27:09.684611Z",
     "iopub.status.busy": "2024-12-09T18:27:09.683845Z",
     "iopub.status.idle": "2024-12-09T18:27:11.039199Z",
     "shell.execute_reply": "2024-12-09T18:27:11.038523Z"
    },
    "papermill": {
     "duration": 1.388863,
     "end_time": "2024-12-09T18:27:11.041168",
     "exception": false,
     "start_time": "2024-12-09T18:27:09.652305",
     "status": "completed"
    },
    "tags": []
   },
   "outputs": [],
   "source": [
    "y_pred = np.expm1(results['test_preds'])\n",
    "\n",
    "submission = pd.DataFrame({\n",
    "    'id': X_test.index,  \n",
    "    'Premium Amount': y_pred\n",
    "})\n",
    "\n",
    "FILE_PATH = os.path.join(results_dir, f\"XGBoost_v2_{mean_score:.4f}+-{std_score:.4f}.csv\")\n",
    "\n",
    "submission.to_csv(FILE_PATH, index=False)"
   ]
  },
  {
   "cell_type": "code",
   "execution_count": 17,
   "id": "1dacbf49",
   "metadata": {},
   "outputs": [],
   "source": [
    "if True: \n",
    "    # Define your message and file paths\n",
    "    COMP_NAME = \"playground-series-s4e12\"\n",
    "\n",
    "    SUBMIT_MESSAGE = \"{mean_score:.4f}+-{std_score:.4f}\"\n",
    "\n",
    "    # Submit to Kaggle\n",
    "    os.system(f'kaggle competitions submit -c {COMP_NAME} -f {FILE_PATH} -m \"{SUBMIT_MESSAGE}\"')"
   ]
  },
  {
   "cell_type": "code",
   "execution_count": null,
   "id": "8e1e0fc5",
   "metadata": {},
   "outputs": [],
   "source": []
  }
 ],
 "metadata": {
  "kaggle": {
   "accelerator": "gpu",
   "dataSources": [
    {
     "databundleVersionId": 10305135,
     "sourceId": 84896,
     "sourceType": "competition"
    },
    {
     "datasetId": 5547076,
     "sourceId": 9178166,
     "sourceType": "datasetVersion"
    },
    {
     "sourceId": 211948002,
     "sourceType": "kernelVersion"
    }
   ],
   "dockerImageVersionId": 30805,
   "isGpuEnabled": true,
   "isInternetEnabled": true,
   "language": "python",
   "sourceType": "notebook"
  },
  "kernelspec": {
   "display_name": "kaggle_env",
   "language": "python",
   "name": "python3"
  },
  "language_info": {
   "codemirror_mode": {
    "name": "ipython",
    "version": 3
   },
   "file_extension": ".py",
   "mimetype": "text/x-python",
   "name": "python",
   "nbconvert_exporter": "python",
   "pygments_lexer": "ipython3",
   "version": "3.10.16"
  },
  "papermill": {
   "default_parameters": {},
   "duration": 18880.993655,
   "end_time": "2024-12-09T18:27:12.649632",
   "environment_variables": {},
   "exception": null,
   "input_path": "__notebook__.ipynb",
   "output_path": "__notebook__.ipynb",
   "parameters": {},
   "start_time": "2024-12-09T13:12:31.655977",
   "version": "2.6.0"
  }
 },
 "nbformat": 4,
 "nbformat_minor": 5
}
