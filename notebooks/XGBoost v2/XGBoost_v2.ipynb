{
 "cells": [
  {
   "cell_type": "code",
   "execution_count": 1,
   "id": "615cf318",
   "metadata": {
    "_cell_guid": "b1076dfc-b9ad-4769-8c92-a6c4dae69d19",
    "_uuid": "8f2839f25d086af736a60e9eeb907d3b93b6e0e5",
    "execution": {
     "iopub.execute_input": "2024-12-09T13:12:34.047888Z",
     "iopub.status.busy": "2024-12-09T13:12:34.047597Z",
     "iopub.status.idle": "2024-12-09T13:12:34.716436Z",
     "shell.execute_reply": "2024-12-09T13:12:34.715768Z"
    },
    "papermill": {
     "duration": 0.676501,
     "end_time": "2024-12-09T13:12:34.718408",
     "exception": false,
     "start_time": "2024-12-09T13:12:34.041907",
     "status": "completed"
    },
    "tags": []
   },
   "outputs": [],
   "source": [
    "import numpy as np\n",
    "import os\n",
    "import pandas as pd\n",
    "import sys"
   ]
  },
  {
   "cell_type": "markdown",
   "id": "f1522c74",
   "metadata": {
    "papermill": {
     "duration": 0.004851,
     "end_time": "2024-12-09T13:12:34.727632",
     "exception": false,
     "start_time": "2024-12-09T13:12:34.722781",
     "status": "completed"
    },
    "tags": []
   },
   "source": [
    "# Config"
   ]
  },
  {
   "cell_type": "code",
   "execution_count": 2,
   "id": "25bf2667",
   "metadata": {
    "execution": {
     "iopub.execute_input": "2024-12-09T13:12:34.736529Z",
     "iopub.status.busy": "2024-12-09T13:12:34.736123Z",
     "iopub.status.idle": "2024-12-09T13:12:34.740000Z",
     "shell.execute_reply": "2024-12-09T13:12:34.739354Z"
    },
    "papermill": {
     "duration": 0.01006,
     "end_time": "2024-12-09T13:12:34.741432",
     "exception": false,
     "start_time": "2024-12-09T13:12:34.731372",
     "status": "completed"
    },
    "tags": []
   },
   "outputs": [],
   "source": [
    "HYPER_OPT = True \n",
    "HYPER_OPT_TIME = 1*60*60\n",
    "USE_ORIGINAL_DATA = False \n",
    "SUBMIT_TO_KAGGLE = False\n",
    "COMPUTE_NONLOG = False\n",
    "USE_NONLOG = True"
   ]
  },
  {
   "cell_type": "code",
   "execution_count": 3,
   "id": "636ad8af",
   "metadata": {},
   "outputs": [],
   "source": [
    "# Define the base directory (where the notebook is running)\n",
    "base_dir = os.path.abspath(os.path.join(os.getcwd(), \"..\", \"..\"))\n",
    "data_dir = os.path.join(base_dir, \"data\")\n",
    "model_dir = os.path.join(base_dir, \"models\")\n",
    "notebooks_dir = os.path.join(base_dir, \"notebooks\")\n",
    "sys.path.append(base_dir)"
   ]
  },
  {
   "cell_type": "markdown",
   "id": "7d1038ad",
   "metadata": {
    "papermill": {
     "duration": 0.0037,
     "end_time": "2024-12-09T13:12:34.787072",
     "exception": false,
     "start_time": "2024-12-09T13:12:34.783372",
     "status": "completed"
    },
    "tags": []
   },
   "source": [
    "# Data Extraction"
   ]
  },
  {
   "cell_type": "code",
   "execution_count": 4,
   "id": "0d745aba",
   "metadata": {},
   "outputs": [],
   "source": [
    "from axyom_utilities.data_extraction import extract_data\n",
    "from axyom_utilities.training import train_model_cv\n",
    "from axyom_utilities.preprocessing import * \n",
    "from toolz import pipe\n",
    "import joblib\n",
    "\n",
    "# oof_log = pd.read_csv(os.path.join(notebooks_dir, \"Catboost_nonlog\\\\oof_preds_log.csv\"))\n",
    "# oof_nonlog = pd.read_csv(os.path.join(notebooks_dir, \"Catboost_nonlog\\\\oof_preds_nonlog.csv\"))\n",
    "\n",
    "# test_log = pd.read_csv(os.path.join(notebooks_dir, \"Catboost_nonlog\\\\test_preds_log.csv\"))\n",
    "# test_nonlog = pd.read_csv(os.path.join(notebooks_dir, \"Catboost_nonlog\\\\test_preds_nonlog.csv\"))\n",
    "\n",
    "# X_train[\"oof_nonlog\"] = oof_nonlog + np.random.normal(0, 0.01, oof_log.shape) # noise\n",
    "# X_test[\"oof_nonlog\"] = test_nonlog + np.random.normal(0, 0.01, oof_log.shape)\n",
    "\n",
    "# X_test[\"oof_log\"] = test_log\n",
    "# X_train[\"oof_log\"] = oof_log"
   ]
  },
  {
   "cell_type": "code",
   "execution_count": 5,
   "id": "ccf639fb",
   "metadata": {},
   "outputs": [],
   "source": [
    "X_train, y_train, X_test, X_orig, y_orig = extract_data(data_dir, USE_ORIGINAL_DATA, log_transform=True)\n",
    "y_train_nonlog = np.expm1(y_train)\n",
    "\n",
    "if USE_NONLOG:\n",
    "    if COMPUTE_NONLOG:\n",
    "        nonlog_oof_preds, nonlog_test_preds = get_oof(X_train, y_train_nonlog, X_test)\n",
    "    else:\n",
    "        nonlog_oof_preds, nonlog_test_preds = joblib.load('nonlog_feature/cat_non_loged.pkl')\n",
    "    \n",
    "    X_train[\"nonlog\"] = nonlog_oof_preds\n",
    "    X_test[\"nonlog\"] = nonlog_test_preds"
   ]
  },
  {
   "cell_type": "markdown",
   "id": "300f27ae",
   "metadata": {
    "papermill": {
     "duration": 0.003676,
     "end_time": "2024-12-09T13:12:43.939293",
     "exception": false,
     "start_time": "2024-12-09T13:12:43.935617",
     "status": "completed"
    },
    "tags": []
   },
   "source": [
    "# Data Cleaning"
   ]
  },
  {
   "cell_type": "code",
   "execution_count": 6,
   "id": "9d42d2df",
   "metadata": {
    "execution": {
     "iopub.execute_input": "2024-12-09T13:12:43.995169Z",
     "iopub.status.busy": "2024-12-09T13:12:43.994928Z",
     "iopub.status.idle": "2024-12-09T13:12:50.925060Z",
     "shell.execute_reply": "2024-12-09T13:12:50.924366Z"
    },
    "papermill": {
     "duration": 6.936729,
     "end_time": "2024-12-09T13:12:50.926967",
     "exception": false,
     "start_time": "2024-12-09T13:12:43.990238",
     "status": "completed"
    },
    "tags": []
   },
   "outputs": [
    {
     "data": {
      "text/plain": [
       "(          Age  Gender  Annual Income Marital Status  Number of Dependents  \\\n",
       " id                                                                          \n",
       " 0        19.0  Female        10049.0        Married                   1.0   \n",
       " 1        39.0  Female        31678.0       Divorced                   3.0   \n",
       " 2        23.0    Male        25602.0       Divorced                   3.0   \n",
       " 3        21.0    Male       141855.0        Married                   2.0   \n",
       " 4        21.0    Male        39651.0         Single                   1.0   \n",
       " ...       ...     ...            ...            ...                   ...   \n",
       " 1199995  36.0  Female        27316.0        Married                   0.0   \n",
       " 1199996  54.0    Male        35786.0       Divorced                   NaN   \n",
       " 1199997  19.0    Male        51884.0       Divorced                   0.0   \n",
       " 1199998  55.0    Male            NaN         Single                   1.0   \n",
       " 1199999  21.0  Female            NaN       Divorced                   0.0   \n",
       " \n",
       "         Education Level     Occupation  Health Score  Location    Policy Type  \\\n",
       " id                                                                              \n",
       " 0            Bachelor's  Self-Employed     22.598761     Urban        Premium   \n",
       " 1              Master's        Unknown     15.569731     Rural  Comprehensive   \n",
       " 2           High School  Self-Employed     47.177547  Suburban        Premium   \n",
       " 3            Bachelor's        Unknown     10.938144     Rural          Basic   \n",
       " 4            Bachelor's  Self-Employed     20.376093     Rural        Premium   \n",
       " ...                 ...            ...           ...       ...            ...   \n",
       " 1199995        Master's     Unemployed     13.772907     Urban        Premium   \n",
       " 1199996        Master's  Self-Employed     11.483482     Rural  Comprehensive   \n",
       " 1199997        Master's        Unknown     14.724468  Suburban          Basic   \n",
       " 1199998             PhD        Unknown     18.547380  Suburban        Premium   \n",
       " 1199999             PhD        Unknown     10.125323     Rural        Premium   \n",
       " \n",
       "          ...  Gender_freq  Marital Status_freq  Education Level_freq  \\\n",
       " id       ...                                                           \n",
       " 0        ...     996340.0             656488.0              505457.0   \n",
       " 1        ...     996340.0             653551.0              506370.0   \n",
       " 2        ...    1003660.0             653551.0              482198.0   \n",
       " 3        ...    1003660.0             656488.0              505457.0   \n",
       " 4        ...    1003660.0             659096.0              505457.0   \n",
       " ...      ...          ...                  ...                   ...   \n",
       " 1199995  ...     996340.0             656488.0              506370.0   \n",
       " 1199996  ...    1003660.0             653551.0              506370.0   \n",
       " 1199997  ...    1003660.0             653551.0              506370.0   \n",
       " 1199998  ...    1003660.0             659096.0              505975.0   \n",
       " 1199999  ...     996340.0             653551.0              505975.0   \n",
       " \n",
       "          Occupation_freq Location_freq Policy Type_freq  \\\n",
       " id                                                        \n",
       " 0               470636.0      663201.0         669475.0   \n",
       " 1               597200.0      668067.0         665822.0   \n",
       " 2               470636.0      668732.0         669475.0   \n",
       " 3               597200.0      668067.0         664703.0   \n",
       " 4               470636.0      668067.0         669475.0   \n",
       " ...                  ...           ...              ...   \n",
       " 1199995         460840.0      663201.0         669475.0   \n",
       " 1199996         470636.0      668067.0         665822.0   \n",
       " 1199997         597200.0      668732.0         664703.0   \n",
       " 1199998         597200.0      668732.0         669475.0   \n",
       " 1199999         597200.0      668067.0         669475.0   \n",
       " \n",
       "         Customer Feedback_freq Smoking Status_freq  Exercise Frequency_freq  \\\n",
       " id                                                                            \n",
       " 0                     625952.0            996268.0                 510693.0   \n",
       " 1                     629122.0           1003732.0                 498230.0   \n",
       " 2                     614826.0           1003732.0                 510693.0   \n",
       " 3                     625952.0           1003732.0                 491143.0   \n",
       " 4                     625952.0           1003732.0                 510693.0   \n",
       " ...                        ...                 ...                      ...   \n",
       " 1199995               625952.0            996268.0                 491143.0   \n",
       " 1199996               625952.0            996268.0                 510693.0   \n",
       " 1199997               614826.0            996268.0                 498230.0   \n",
       " 1199998               625952.0            996268.0                 491143.0   \n",
       " 1199999               614826.0           1003732.0                 498230.0   \n",
       " \n",
       "          Property Type_freq  \n",
       " id                           \n",
       " 0                  667500.0  \n",
       " 1                  667500.0  \n",
       " 2                  667500.0  \n",
       " 3                  666022.0  \n",
       " 4                  667500.0  \n",
       " ...                     ...  \n",
       " 1199995            666022.0  \n",
       " 1199996            666022.0  \n",
       " 1199997            666478.0  \n",
       " 1199998            666022.0  \n",
       " 1199999            667500.0  \n",
       " \n",
       " [1200000 rows x 44 columns],\n",
       "           Age  Gender  Annual Income Marital Status  Number of Dependents  \\\n",
       " id                                                                          \n",
       " 1200000  28.0  Female         2310.0        Unknown                   4.0   \n",
       " 1200001  31.0  Female       126031.0        Married                   2.0   \n",
       " 1200002  47.0  Female        17092.0       Divorced                   0.0   \n",
       " 1200003  28.0  Female        30424.0       Divorced                   3.0   \n",
       " 1200004  24.0    Male        10863.0       Divorced                   2.0   \n",
       " ...       ...     ...            ...            ...                   ...   \n",
       " 1999995  50.0  Female        38782.0        Married                   1.0   \n",
       " 1999996   NaN  Female        73462.0         Single                   0.0   \n",
       " 1999997  26.0  Female        35178.0         Single                   0.0   \n",
       " 1999998  34.0  Female        45661.0         Single                   3.0   \n",
       " 1999999  25.0    Male        24843.0       Divorced                   3.0   \n",
       " \n",
       "         Education Level     Occupation  Health Score  Location    Policy Type  \\\n",
       " id                                                                              \n",
       " 1200000      Bachelor's  Self-Employed      7.657981     Rural          Basic   \n",
       " 1200001        Master's  Self-Employed     13.381379  Suburban        Premium   \n",
       " 1200002             PhD     Unemployed     24.354527     Urban  Comprehensive   \n",
       " 1200003             PhD  Self-Employed      5.136225  Suburban  Comprehensive   \n",
       " 1200004     High School     Unemployed     11.844155  Suburban        Premium   \n",
       " ...                 ...            ...           ...       ...            ...   \n",
       " 1999995      Bachelor's        Unknown     14.498639     Rural        Premium   \n",
       " 1999996        Master's        Unknown      8.145748     Rural          Basic   \n",
       " 1999997        Master's       Employed      6.636583     Urban  Comprehensive   \n",
       " 1999998        Master's        Unknown     15.937248     Urban        Premium   \n",
       " 1999999     High School        Unknown     24.893940  Suburban  Comprehensive   \n",
       " \n",
       "          ...  Gender_freq  Marital Status_freq  Education Level_freq  \\\n",
       " id       ...                                                           \n",
       " 1200000  ...     996340.0              30865.0              505457.0   \n",
       " 1200001  ...     996340.0             656488.0              506370.0   \n",
       " 1200002  ...     996340.0             653551.0              505975.0   \n",
       " 1200003  ...     996340.0             653551.0              505975.0   \n",
       " 1200004  ...    1003660.0             653551.0              482198.0   \n",
       " ...      ...          ...                  ...                   ...   \n",
       " 1999995  ...     996340.0             656488.0              505457.0   \n",
       " 1999996  ...     996340.0             659096.0              506370.0   \n",
       " 1999997  ...     996340.0             659096.0              506370.0   \n",
       " 1999998  ...     996340.0             659096.0              506370.0   \n",
       " 1999999  ...    1003660.0             653551.0              482198.0   \n",
       " \n",
       "          Occupation_freq Location_freq Policy Type_freq  \\\n",
       " id                                                        \n",
       " 1200000         470636.0      668067.0         664703.0   \n",
       " 1200001         470636.0      668732.0         669475.0   \n",
       " 1200002         460840.0      663201.0         665822.0   \n",
       " 1200003         470636.0      668732.0         665822.0   \n",
       " 1200004         460840.0      668732.0         669475.0   \n",
       " ...                  ...           ...              ...   \n",
       " 1999995         597200.0      668067.0         669475.0   \n",
       " 1999996         597200.0      668067.0         664703.0   \n",
       " 1999997         471324.0      663201.0         665822.0   \n",
       " 1999998         597200.0      663201.0         669475.0   \n",
       " 1999999         597200.0      668732.0         665822.0   \n",
       " \n",
       "         Customer Feedback_freq Smoking Status_freq  Exercise Frequency_freq  \\\n",
       " id                                                                            \n",
       " 1200000               625952.0           1003732.0                 510693.0   \n",
       " 1200001               614826.0           1003732.0                 499934.0   \n",
       " 1200002               629122.0           1003732.0                 498230.0   \n",
       " 1200003               625952.0           1003732.0                 491143.0   \n",
       " 1200004               629122.0            996268.0                 510693.0   \n",
       " ...                        ...                 ...                      ...   \n",
       " 1999995               629122.0           1003732.0                 491143.0   \n",
       " 1999996               614826.0            996268.0                 491143.0   \n",
       " 1999997               625952.0            996268.0                 498230.0   \n",
       " 1999998               629122.0            996268.0                 510693.0   \n",
       " 1999999               614826.0            996268.0                 499934.0   \n",
       " \n",
       "          Property Type_freq  \n",
       " id                           \n",
       " 1200000            667500.0  \n",
       " 1200001            666022.0  \n",
       " 1200002            666478.0  \n",
       " 1200003            667500.0  \n",
       " 1200004            667500.0  \n",
       " ...                     ...  \n",
       " 1999995            666478.0  \n",
       " 1999996            666022.0  \n",
       " 1999997            666022.0  \n",
       " 1999998            666478.0  \n",
       " 1999999            667500.0  \n",
       " \n",
       " [800000 rows x 44 columns])"
      ]
     },
     "execution_count": 6,
     "metadata": {},
     "output_type": "execute_result"
    }
   ],
   "source": [
    "\n",
    "from axyom_utilities.preprocessing import freq_encode, preprocess_dates, clean_categorical, frequency_encode, reduce_memory_usage\n",
    "from toolz import pipe\n",
    "\n",
    "def feature_engineering(df):\n",
    "    \n",
    "    # df = freq_encode(df)\n",
    "    \n",
    "    df['MissingHealth'] = df['Health Score'].isna().astype(int)\n",
    "    df['Claims v Duration'] = (df['Previous Claims'] / df['Insurance Duration']).replace([np.inf, -np.inf], np.nan)\n",
    "    df['Health vs Claims'] = (df['Health Score'] / df['Previous Claims']).replace([np.inf, -np.inf], np.nan)\n",
    "    \n",
    "    def duplicate_int(col, df):\n",
    "        df[col + ' Integer'] = df[col].apply(lambda x: int(x) if pd.notna(x) else x)\n",
    "        #df[col] = df[col].fillna('None').astype('category')\n",
    "        \n",
    "        return df\n",
    "    \n",
    "    df = duplicate_int('Health Score', df)\n",
    "    # df = duplicate_int('Credit Score', df)\n",
    "    # df = duplicate_int('Previous Claims', df)\n",
    "    # df = duplicate_int('Annual Income', df)\n",
    "    \n",
    "    df['contract length'] = pd.cut(\n",
    "        df[\"Insurance Duration\"].fillna(99),  \n",
    "        bins=[-float('inf'), 1, 3, float('inf')],  \n",
    "        labels=[0, 1, 2]\n",
    "    ).astype(int)\n",
    "    \n",
    "    df['MissingValuesCount'] = df.isna().sum(axis=1)\n",
    "    \n",
    "    # df = freq_encode(df, 'Customer Feedback')\n",
    "    # df = freq_encode(df, 'Marital Status')\n",
    "    \n",
    "    return df\n",
    "\n",
    "#X_train = reduce_memory_usage(X_train)\n",
    "\n",
    "\n",
    "preprocessor = lambda df: pipe(df,\\\n",
    "    preprocess_dates,\n",
    "    clean_categorical,\n",
    "    feature_engineering,  \n",
    "    reduce_memory_usage\n",
    ")\n",
    "\n",
    "X_train = preprocessor(X_train)\n",
    "X_test = preprocessor(X_test)\n",
    "if USE_ORIGINAL_DATA:\n",
    "    X_orig = preprocessor(X_orig)\n",
    "    \n",
    "frequency_encode(X_train, X_test, drop_org=False) # data leaking but acceptable in this context\n"
   ]
  },
  {
   "cell_type": "markdown",
   "id": "2bfe1a39",
   "metadata": {
    "papermill": {
     "duration": 0.003711,
     "end_time": "2024-12-09T13:12:52.399442",
     "exception": false,
     "start_time": "2024-12-09T13:12:52.395731",
     "status": "completed"
    },
    "tags": []
   },
   "source": [
    "# HyperOpt"
   ]
  },
  {
   "cell_type": "code",
   "execution_count": 7,
   "id": "5014b9b8",
   "metadata": {},
   "outputs": [
    {
     "data": {
      "text/plain": [
       "(1200000, 44)"
      ]
     },
     "execution_count": 7,
     "metadata": {},
     "output_type": "execute_result"
    }
   ],
   "source": [
    "X_train.shape"
   ]
  },
  {
   "cell_type": "code",
   "execution_count": 8,
   "id": "3a251a32",
   "metadata": {},
   "outputs": [
    {
     "name": "stderr",
     "output_type": "stream",
     "text": [
      "[I 2024-12-27 11:16:46,623] Using an existing study with name 'XGBOOST_v2' instead of creating a new one.\n"
     ]
    },
    {
     "name": "stdout",
     "output_type": "stream",
     "text": [
      "Training fold 1...\n",
      "Fold 1 RMSE: 1.0325\n",
      "Training fold 2...\n",
      "Fold 2 RMSE: 1.0315\n",
      "Training fold 3...\n",
      "Fold 3 RMSE: 1.0309\n",
      "Training fold 4...\n",
      "Fold 4 RMSE: 1.0329\n",
      "Training fold 5...\n"
     ]
    },
    {
     "name": "stderr",
     "output_type": "stream",
     "text": [
      "[I 2024-12-27 11:17:31,322] Trial 13 finished with value: 1.0319132344868938 and parameters: {'learning_rate': 0.027419180587908182, 'max_depth': 7, 'min_child_weight': 0.7731066398121926, 'subsample': 0.7020543458800385, 'colsample_bytree': 0.8247840482630118, 'gamma': 2.879789937206117, 'lambda': 8.692509389521172, 'alpha': 0.00124083513847564}. Best is trial 9 with value: 1.031174180038696.\n"
     ]
    },
    {
     "name": "stdout",
     "output_type": "stream",
     "text": [
      "Fold 5 RMSE: 1.0318\n",
      "Mean CV RMSE: 1.0319 ± 0.0007\n",
      "Training fold 1...\n",
      "Fold 1 RMSE: 1.0322\n",
      "Training fold 2...\n",
      "Fold 2 RMSE: 1.0315\n",
      "Training fold 3...\n",
      "Fold 3 RMSE: 1.0306\n",
      "Training fold 4...\n",
      "Fold 4 RMSE: 1.0326\n",
      "Training fold 5...\n"
     ]
    },
    {
     "name": "stderr",
     "output_type": "stream",
     "text": [
      "[I 2024-12-27 11:26:29,928] Trial 14 finished with value: 1.0317198416701028 and parameters: {'learning_rate': 0.003327469086720437, 'max_depth': 12, 'min_child_weight': 0.018801001031756307, 'subsample': 0.7626718703385482, 'colsample_bytree': 0.9961832759562471, 'gamma': 3.8238796333932177, 'lambda': 0.0019565733215838256, 'alpha': 0.05993344620970629}. Best is trial 9 with value: 1.031174180038696.\n"
     ]
    },
    {
     "name": "stdout",
     "output_type": "stream",
     "text": [
      "Fold 5 RMSE: 1.0317\n",
      "Mean CV RMSE: 1.0317 ± 0.0007\n",
      "Training fold 1...\n",
      "Fold 1 RMSE: 1.0321\n",
      "Training fold 2...\n",
      "Fold 2 RMSE: 1.0312\n",
      "Training fold 3...\n",
      "Fold 3 RMSE: 1.0304\n",
      "Training fold 4...\n",
      "Fold 4 RMSE: 1.0326\n",
      "Training fold 5...\n"
     ]
    },
    {
     "name": "stderr",
     "output_type": "stream",
     "text": [
      "[I 2024-12-27 11:27:43,502] Trial 15 finished with value: 1.0315463065214434 and parameters: {'learning_rate': 0.012996346568521144, 'max_depth': 8, 'min_child_weight': 7.104456257359448, 'subsample': 0.6231553992772758, 'colsample_bytree': 0.7840323997977896, 'gamma': 4.974574933858394, 'lambda': 0.47077301241934366, 'alpha': 0.0052666072876910745}. Best is trial 9 with value: 1.031174180038696.\n"
     ]
    },
    {
     "name": "stdout",
     "output_type": "stream",
     "text": [
      "Fold 5 RMSE: 1.0314\n",
      "Mean CV RMSE: 1.0315 ± 0.0008\n",
      "Training fold 1...\n"
     ]
    },
    {
     "name": "stderr",
     "output_type": "stream",
     "text": [
      "[I 2024-12-27 11:28:05,719] Trial 16 pruned. \n"
     ]
    },
    {
     "name": "stdout",
     "output_type": "stream",
     "text": [
      "Training fold 1...\n",
      "Fold 1 RMSE: 1.0319\n",
      "Training fold 2...\n",
      "Fold 2 RMSE: 1.0312\n",
      "Training fold 3...\n",
      "Fold 3 RMSE: 1.0303\n",
      "Training fold 4...\n",
      "Fold 4 RMSE: 1.0324\n",
      "Training fold 5...\n"
     ]
    },
    {
     "name": "stderr",
     "output_type": "stream",
     "text": [
      "[I 2024-12-27 11:30:02,739] Trial 17 finished with value: 1.0314057049735486 and parameters: {'learning_rate': 0.008280381209067418, 'max_depth': 8, 'min_child_weight': 0.2807478374978463, 'subsample': 0.7802652358724385, 'colsample_bytree': 0.66994345592663, 'gamma': 4.089036259481665, 'lambda': 0.003660767638266061, 'alpha': 0.14492636212600937}. Best is trial 9 with value: 1.031174180038696.\n"
     ]
    },
    {
     "name": "stdout",
     "output_type": "stream",
     "text": [
      "Fold 5 RMSE: 1.0312\n",
      "Mean CV RMSE: 1.0314 ± 0.0007\n",
      "Training fold 1...\n",
      "Fold 1 RMSE: 1.0318\n",
      "Training fold 2...\n",
      "Fold 2 RMSE: 1.0312\n",
      "Training fold 3...\n",
      "Fold 3 RMSE: 1.0301\n",
      "Training fold 4...\n",
      "Fold 4 RMSE: 1.0322\n",
      "Training fold 5...\n",
      "Fold 5 RMSE: 1.0312\n",
      "Mean CV RMSE: 1.0313 ± 0.0007\n"
     ]
    },
    {
     "name": "stderr",
     "output_type": "stream",
     "text": [
      "[I 2024-12-27 11:42:45,552] Trial 18 finished with value: 1.0313240971140067 and parameters: {'learning_rate': 0.002087653379756953, 'max_depth': 11, 'min_child_weight': 2.4145724733674285, 'subsample': 0.803966431494185, 'colsample_bytree': 0.6609238919011824, 'gamma': 4.36347044648731, 'lambda': 0.19097927304242837, 'alpha': 0.22190050431878136}. Best is trial 9 with value: 1.031174180038696.\n"
     ]
    },
    {
     "name": "stdout",
     "output_type": "stream",
     "text": [
      "Training fold 1...\n",
      "Fold 1 RMSE: 1.0317\n",
      "Training fold 2...\n",
      "Fold 2 RMSE: 1.0311\n",
      "Training fold 3...\n",
      "Fold 3 RMSE: 1.0301\n",
      "Training fold 4...\n",
      "Fold 4 RMSE: 1.0322\n",
      "Training fold 5...\n",
      "Fold 5 RMSE: 1.0312\n",
      "Mean CV RMSE: 1.0313 ± 0.0007\n"
     ]
    },
    {
     "name": "stderr",
     "output_type": "stream",
     "text": [
      "[I 2024-12-27 11:55:01,281] Trial 19 finished with value: 1.0312886477500205 and parameters: {'learning_rate': 0.0019780433057020185, 'max_depth': 11, 'min_child_weight': 3.625350802585087, 'subsample': 0.9103094273212441, 'colsample_bytree': 0.6857537037260059, 'gamma': 4.546123897149356, 'lambda': 0.27125925467121725, 'alpha': 0.24380473037011463}. Best is trial 9 with value: 1.031174180038696.\n"
     ]
    },
    {
     "name": "stdout",
     "output_type": "stream",
     "text": [
      "Training fold 1...\n",
      "Fold 1 RMSE: 1.0317\n",
      "Training fold 2...\n",
      "Fold 2 RMSE: 1.0311\n",
      "Training fold 3...\n",
      "Fold 3 RMSE: 1.0301\n",
      "Training fold 4...\n",
      "Fold 4 RMSE: 1.0322\n",
      "Training fold 5...\n"
     ]
    },
    {
     "name": "stderr",
     "output_type": "stream",
     "text": [
      "[I 2024-12-27 12:03:06,940] Trial 20 finished with value: 1.0312506316518164 and parameters: {'learning_rate': 0.002670769300447097, 'max_depth': 11, 'min_child_weight': 46.45847909754045, 'subsample': 0.910175791269019, 'colsample_bytree': 0.9127249864153708, 'gamma': 3.303846259322972, 'lambda': 2.221272671818476, 'alpha': 9.147058505972058}. Best is trial 9 with value: 1.031174180038696.\n"
     ]
    },
    {
     "name": "stdout",
     "output_type": "stream",
     "text": [
      "Fold 5 RMSE: 1.0312\n",
      "Mean CV RMSE: 1.0313 ± 0.0007\n",
      "Training fold 1...\n",
      "Fold 1 RMSE: 1.0317\n",
      "Training fold 2...\n",
      "Fold 2 RMSE: 1.0311\n",
      "Training fold 3...\n",
      "Fold 3 RMSE: 1.0301\n",
      "Training fold 4...\n",
      "Fold 4 RMSE: 1.0322\n",
      "Training fold 5...\n"
     ]
    },
    {
     "name": "stderr",
     "output_type": "stream",
     "text": [
      "[I 2024-12-27 12:10:29,432] Trial 21 finished with value: 1.0312305584174442 and parameters: {'learning_rate': 0.0029267643614721626, 'max_depth': 11, 'min_child_weight': 36.013366085510334, 'subsample': 0.9184999749772507, 'colsample_bytree': 0.8941099338904073, 'gamma': 3.4003256760629403, 'lambda': 2.209507396301271, 'alpha': 8.997863596875836}. Best is trial 9 with value: 1.031174180038696.\n"
     ]
    },
    {
     "name": "stdout",
     "output_type": "stream",
     "text": [
      "Fold 5 RMSE: 1.0311\n",
      "Mean CV RMSE: 1.0312 ± 0.0007\n",
      "Training fold 1...\n",
      "Fold 1 RMSE: 1.0319\n",
      "Training fold 2...\n",
      "Fold 2 RMSE: 1.0312\n",
      "Training fold 3...\n",
      "Fold 3 RMSE: 1.0303\n",
      "Training fold 4...\n",
      "Fold 4 RMSE: 1.0323\n",
      "Training fold 5...\n",
      "Fold 5 RMSE: 1.0314\n",
      "Mean CV RMSE: 1.0314 ± 0.0007\n"
     ]
    },
    {
     "name": "stderr",
     "output_type": "stream",
     "text": [
      "[I 2024-12-27 12:26:51,806] Trial 22 finished with value: 1.0314261713607822 and parameters: {'learning_rate': 0.0010543751253327877, 'max_depth': 11, 'min_child_weight': 43.76400880146101, 'subsample': 0.9956203110289197, 'colsample_bytree': 0.9010412063438531, 'gamma': 3.115872538410822, 'lambda': 2.0922154352918643, 'alpha': 8.806986030205021}. Best is trial 9 with value: 1.031174180038696.\n"
     ]
    },
    {
     "name": "stdout",
     "output_type": "stream",
     "text": [
      "Best Trial:  {'learning_rate': 0.0018074015405110902, 'max_depth': 10, 'min_child_weight': 35.82538209022429, 'subsample': 0.8430826729425029, 'colsample_bytree': 0.8317303646698226, 'gamma': 4.465216932504686, 'lambda': 7.090856965711639, 'alpha': 0.00614046006689163}\n",
      "Best Score:  1.031174180038696\n"
     ]
    },
    {
     "name": "stderr",
     "output_type": "stream",
     "text": [
      "c:\\Users\\Axyom\\Kaggle\\PG S4e12 - Regression Insurance\\axyom_utilities\\hyperparameter_tuning.py:59: ExperimentalWarning: plot_optimization_history is experimental (supported from v2.2.0). The interface can change in the future.\n",
      "  plot_optimization_history(self.study)\n"
     ]
    },
    {
     "data": {
      "image/png": "[encoded data removed]",
      "text/plain": [
       "<Figure size 640x480 with 1 Axes>"
      ]
     },
     "metadata": {},
     "output_type": "display_data"
    },
    {
     "name": "stderr",
     "output_type": "stream",
     "text": [
      "c:\\Users\\Axyom\\Kaggle\\PG S4e12 - Regression Insurance\\axyom_utilities\\hyperparameter_tuning.py:62: ExperimentalWarning: plot_param_importances is experimental (supported from v2.2.0). The interface can change in the future.\n",
      "  plot_param_importances(self.study)\n"
     ]
    },
    {
     "data": {
      "image/png": "[encoded data removed]",
      "text/plain": [
       "<Figure size 640x480 with 1 Axes>"
      ]
     },
     "metadata": {},
     "output_type": "display_data"
    },
    {
     "name": "stderr",
     "output_type": "stream",
     "text": [
      "c:\\Users\\Axyom\\Kaggle\\PG S4e12 - Regression Insurance\\axyom_utilities\\hyperparameter_tuning.py:65: ExperimentalWarning: plot_slice is experimental (supported from v2.2.0). The interface can change in the future.\n",
      "  plot_slice(self.study)\n"
     ]
    },
    {
     "data": {
      "image/png": "[encoded data removed]",
      "text/plain": [
       "<Figure size 2560x480 with 9 Axes>"
      ]
     },
     "metadata": {},
     "output_type": "display_data"
    }
   ],
   "source": [
    "from axyom_utilities.hyperparameter_tuning import XGBoostTuner\n",
    "\n",
    "if HYPER_OPT:\n",
    "    tuner = XGBoostTuner(X_train, y_train, HYPER_OPT_TIME, study_name=\"XGBOOST_v2\")\n",
    "    best_params = tuner.tune()\n",
    "    tuner.plot()\n",
    "else:\n",
    "    best_params = {\n",
    "        \"iterations\":3000,\n",
    "        \"learning_rate\":0.05,\n",
    "        \"depth\":6,\n",
    "        \"eval_metric\":\"RMSE\",\n",
    "        \"random_seed\":42,\n",
    "        \"verbose\":200,\n",
    "        \"task_type\":'GPU',\n",
    "        \"l2_leaf_reg\" :0.7,\n",
    "    }"
   ]
  },
  {
   "cell_type": "code",
   "execution_count": 9,
   "id": "743d5c4c",
   "metadata": {
    "execution": {
     "iopub.execute_input": "2024-12-09T18:16:55.241304Z",
     "iopub.status.busy": "2024-12-09T18:16:55.240196Z",
     "iopub.status.idle": "2024-12-09T18:16:55.246167Z",
     "shell.execute_reply": "2024-12-09T18:16:55.245357Z"
    },
    "papermill": {
     "duration": 0.035916,
     "end_time": "2024-12-09T18:16:55.247704",
     "exception": false,
     "start_time": "2024-12-09T18:16:55.211788",
     "status": "completed"
    },
    "tags": []
   },
   "outputs": [
    {
     "data": {
      "text/plain": [
       "{'n_estimators': 4000,\n",
       " 'objective': 'reg:squarederror',\n",
       " 'tree_method': 'gpu_hist',\n",
       " 'verbosity': 0,\n",
       " 'enable_categorical': True,\n",
       " 'learning_rate': 0.0018074015405110902,\n",
       " 'max_depth': 10,\n",
       " 'min_child_weight': 35.82538209022429,\n",
       " 'subsample': 0.8430826729425029,\n",
       " 'colsample_bytree': 0.8317303646698226,\n",
       " 'gamma': 4.465216932504686,\n",
       " 'lambda': 7.090856965711639,\n",
       " 'alpha': 0.00614046006689163,\n",
       " 'n_iterators': 3393}"
      ]
     },
     "execution_count": 9,
     "metadata": {},
     "output_type": "execute_result"
    }
   ],
   "source": [
    "best_params"
   ]
  },
  {
   "cell_type": "code",
   "execution_count": 10,
   "id": "b1e870ef",
   "metadata": {
    "execution": {
     "iopub.execute_input": "2024-12-09T18:16:55.304289Z",
     "iopub.status.busy": "2024-12-09T18:16:55.303586Z",
     "iopub.status.idle": "2024-12-09T18:16:55.307059Z",
     "shell.execute_reply": "2024-12-09T18:16:55.306445Z"
    },
    "papermill": {
     "duration": 0.033579,
     "end_time": "2024-12-09T18:16:55.308644",
     "exception": false,
     "start_time": "2024-12-09T18:16:55.275065",
     "status": "completed"
    },
    "tags": []
   },
   "outputs": [],
   "source": [
    "best_params[\"n_iterators\"] = 10000"
   ]
  },
  {
   "cell_type": "markdown",
   "id": "912bf058",
   "metadata": {
    "papermill": {
     "duration": 0.032715,
     "end_time": "2024-12-09T18:16:55.371337",
     "exception": false,
     "start_time": "2024-12-09T18:16:55.338622",
     "status": "completed"
    },
    "tags": []
   },
   "source": [
    "# Model Training"
   ]
  },
  {
   "cell_type": "code",
   "execution_count": 11,
   "id": "d9ed4579",
   "metadata": {
    "execution": {
     "iopub.execute_input": "2024-12-09T18:16:55.437662Z",
     "iopub.status.busy": "2024-12-09T18:16:55.437325Z",
     "iopub.status.idle": "2024-12-09T18:27:05.981939Z",
     "shell.execute_reply": "2024-12-09T18:27:05.980966Z"
    },
    "papermill": {
     "duration": 610.608804,
     "end_time": "2024-12-09T18:27:06.012560",
     "exception": false,
     "start_time": "2024-12-09T18:16:55.403756",
     "status": "completed"
    },
    "tags": []
   },
   "outputs": [
    {
     "name": "stdout",
     "output_type": "stream",
     "text": [
      "Training fold 1...\n",
      "Fold 1 RMSE: 1.0316\n",
      "Training fold 2...\n",
      "Fold 2 RMSE: 1.0310\n",
      "Training fold 3...\n",
      "Fold 3 RMSE: 1.0300\n",
      "Training fold 4...\n",
      "Fold 4 RMSE: 1.0322\n",
      "Training fold 5...\n",
      "Fold 5 RMSE: 1.0311\n",
      "Mean CV RMSE: 1.0312 ± 0.0007\n"
     ]
    }
   ],
   "source": [
    "import json\n",
    "from axyom_utilities.wrappers import XGBRegressorWrapper\n",
    "\n",
    "model = XGBRegressorWrapper(**best_params)\n",
    "\n",
    "# Use the train_model function to train and evaluate the model\n",
    "results = train_model_cv(\n",
    "    model=model,\n",
    "    X_train=X_train,\n",
    "    y_train=y_train,\n",
    "    X_test=X_test,\n",
    "    X_orig=X_orig,\n",
    "    early_stopping_rounds=100,\n",
    "    cv_splits=5\n",
    ")"
   ]
  },
  {
   "cell_type": "code",
   "execution_count": 12,
   "id": "40b2d112",
   "metadata": {},
   "outputs": [],
   "source": [
    "# models = results['models']\n",
    "\n",
    "# # Get feature importance\n",
    "# feature_importances = models[3].catboost_model_.get_feature_importance(type='PredictionValuesChange')\n",
    "\n",
    "# # Map to feature names\n",
    "# feature_importance_df = pd.DataFrame({\n",
    "#     'Feature': X_train.columns,\n",
    "#     'Importance': feature_importances\n",
    "# }).sort_values(by='Importance', ascending=False)\n",
    "\n",
    "# print(feature_importance_df)"
   ]
  },
  {
   "cell_type": "code",
   "execution_count": 13,
   "id": "76c5d6d4",
   "metadata": {
    "execution": {
     "iopub.execute_input": "2024-12-09T18:27:06.069815Z",
     "iopub.status.busy": "2024-12-09T18:27:06.069512Z",
     "iopub.status.idle": "2024-12-09T18:27:06.074853Z",
     "shell.execute_reply": "2024-12-09T18:27:06.074183Z"
    },
    "papermill": {
     "duration": 0.035663,
     "end_time": "2024-12-09T18:27:06.076253",
     "exception": false,
     "start_time": "2024-12-09T18:27:06.040590",
     "status": "completed"
    },
    "tags": []
   },
   "outputs": [],
   "source": [
    "mean_score = np.mean(results[\"cv_scores\"])\n",
    "std_score = np.std(results[\"cv_scores\"])"
   ]
  },
  {
   "cell_type": "markdown",
   "id": "2d6f1ec1",
   "metadata": {},
   "source": [
    "# Saving"
   ]
  },
  {
   "cell_type": "code",
   "execution_count": 14,
   "id": "bba76357",
   "metadata": {
    "execution": {
     "iopub.execute_input": "2024-12-09T18:27:06.134109Z",
     "iopub.status.busy": "2024-12-09T18:27:06.133614Z",
     "iopub.status.idle": "2024-12-09T18:27:09.560189Z",
     "shell.execute_reply": "2024-12-09T18:27:09.559255Z"
    },
    "papermill": {
     "duration": 3.457335,
     "end_time": "2024-12-09T18:27:09.561802",
     "exception": false,
     "start_time": "2024-12-09T18:27:06.104467",
     "status": "completed"
    },
    "tags": []
   },
   "outputs": [],
   "source": [
    "import json\n",
    "from pathlib import Path\n",
    "\n",
    "results_dir = Path(f\"{mean_score:.4f}+-{std_score:.4f}\")\n",
    "os.makedirs(results_dir, exist_ok=True)\n",
    "\n",
    "# Save OOF predictions as a CSV file\n",
    "oof_preds_df = pd.DataFrame({\"oof_preds\": results[\"oof_preds\"]})\n",
    "oof_preds_df.to_csv(results_dir/\"oof_preds.csv\", index=False)\n",
    "\n",
    "test_preds_df = pd.DataFrame({\"test_preds\": results[\"test_preds\"]})\n",
    "test_preds_df.to_csv(results_dir/\"test_preds.csv\", index=False)\n",
    "\n",
    "with open(results_dir/\"best_params\", \"w\") as f:\n",
    "    json.dump(best_params, f, indent=4)\n",
    "\n",
    "#joblib.dump(results[\"models\"], \"models.pkl\")"
   ]
  },
  {
   "cell_type": "markdown",
   "id": "607e1999",
   "metadata": {
    "papermill": {
     "duration": 0.030518,
     "end_time": "2024-12-09T18:27:09.621403",
     "exception": false,
     "start_time": "2024-12-09T18:27:09.590885",
     "status": "completed"
    },
    "tags": []
   },
   "source": [
    "# Submission"
   ]
  },
  {
   "cell_type": "code",
   "execution_count": 15,
   "id": "221fab64",
   "metadata": {
    "execution": {
     "iopub.execute_input": "2024-12-09T18:27:09.684611Z",
     "iopub.status.busy": "2024-12-09T18:27:09.683845Z",
     "iopub.status.idle": "2024-12-09T18:27:11.039199Z",
     "shell.execute_reply": "2024-12-09T18:27:11.038523Z"
    },
    "papermill": {
     "duration": 1.388863,
     "end_time": "2024-12-09T18:27:11.041168",
     "exception": false,
     "start_time": "2024-12-09T18:27:09.652305",
     "status": "completed"
    },
    "tags": []
   },
   "outputs": [],
   "source": [
    "y_pred = np.expm1(results['test_preds'])\n",
    "\n",
    "submission = pd.DataFrame({\n",
    "    'id': X_test.index,  \n",
    "    'Premium Amount': y_pred\n",
    "})\n",
    "\n",
    "FILE_PATH = os.path.join(results_dir, f\"XGBoost_v2_{mean_score:.4f}+-{std_score:.4f}.csv\")\n",
    "\n",
    "submission.to_csv(FILE_PATH, index=False)"
   ]
  },
  {
   "cell_type": "code",
   "execution_count": 16,
   "id": "1dacbf49",
   "metadata": {},
   "outputs": [],
   "source": [
    "if False: \n",
    "    # Define your message and file paths\n",
    "    COMP_NAME = \"playground-series-s4e12\"\n",
    "\n",
    "    SUBMIT_MESSAGE = \"{mean_score:.4f}+-{std_score:.4f}\"\n",
    "\n",
    "    # Submit to Kaggle\n",
    "    os.system(f'kaggle competitions submit -c {COMP_NAME} -f {FILE_PATH} -m \"{SUBMIT_MESSAGE}\"')"
   ]
  },
  {
   "cell_type": "code",
   "execution_count": null,
   "id": "8e1e0fc5",
   "metadata": {},
   "outputs": [],
   "source": []
  }
 ],
 "metadata": {
  "kaggle": {
   "accelerator": "gpu",
   "dataSources": [
    {
     "databundleVersionId": 10305135,
     "sourceId": 84896,
     "sourceType": "competition"
    },
    {
     "datasetId": 5547076,
     "sourceId": 9178166,
     "sourceType": "datasetVersion"
    },
    {
     "sourceId": 211948002,
     "sourceType": "kernelVersion"
    }
   ],
   "dockerImageVersionId": 30805,
   "isGpuEnabled": true,
   "isInternetEnabled": true,
   "language": "python",
   "sourceType": "notebook"
  },
  "kernelspec": {
   "display_name": "kaggle_env",
   "language": "python",
   "name": "python3"
  },
  "language_info": {
   "codemirror_mode": {
    "name": "ipython",
    "version": 3
   },
   "file_extension": ".py",
   "mimetype": "text/x-python",
   "name": "python",
   "nbconvert_exporter": "python",
   "pygments_lexer": "ipython3",
   "version": "3.10.16"
  },
  "papermill": {
   "default_parameters": {},
   "duration": 18880.993655,
   "end_time": "2024-12-09T18:27:12.649632",
   "environment_variables": {},
   "exception": null,
   "input_path": "__notebook__.ipynb",
   "output_path": "__notebook__.ipynb",
   "parameters": {},
   "start_time": "2024-12-09T13:12:31.655977",
   "version": "2.6.0"
  }
 },
 "nbformat": 4,
 "nbformat_minor": 5
}
