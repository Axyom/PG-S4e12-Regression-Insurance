{
 "cells": [
  {
   "cell_type": "code",
   "execution_count": 8,
   "metadata": {},
   "outputs": [
    {
     "name": "stdout",
     "output_type": "stream",
     "text": [
      "0          6.881234\n",
      "1          6.594889\n",
      "2          6.704542\n",
      "3          6.844987\n",
      "4          6.810781\n",
      "             ...   \n",
      "1199995    6.910383\n",
      "1199996    6.776988\n",
      "1199997    5.224594\n",
      "1199998    6.828211\n",
      "1199999    5.695017\n",
      "Name: preds, Length: 1200000, dtype: float64\n"
     ]
    }
   ],
   "source": [
    "import pandas as pd\n",
    "\n",
    "# Load the CSV file without headers\n",
    "df = pd.read_csv(\"catboost_oof_preds.csv\")\n",
    "\n",
    "# Extract the second column (index 1) and rename it\n",
    "df = df[\"preds\"]\n",
    "\n",
    "df.to_csv('test.csv', index=False)\n",
    "\n",
    "# Save the transformed DataFrame to a new CSV file without the index\n",
    "#df.to_csv(\"path_to_final_csv.csv\", index=False)\n",
    "\n",
    "# Print the result for verification\n",
    "print(df)\n"
   ]
  },
  {
   "cell_type": "code",
   "execution_count": 10,
   "metadata": {},
   "outputs": [
    {
     "data": {
      "text/plain": [
       "['catboost_oof_preds.csv',\n",
       " 'catboost_test_preds.csv',\n",
       " 'lgbm_oof_preds.csv',\n",
       " 'lgbm_test_preds.csv',\n",
       " 'xgb_oof_preds.csv',\n",
       " 'xgb_test_preds.csv']"
      ]
     },
     "execution_count": 10,
     "metadata": {},
     "output_type": "execute_result"
    }
   ],
   "source": [
    "import glob\n",
    "\n",
    "csv_files = glob.glob(\"*.csv\")\n",
    "\n",
    "csv_files"
   ]
  },
  {
   "cell_type": "code",
   "execution_count": 12,
   "metadata": {},
   "outputs": [],
   "source": [
    "for f in csv_files:\n",
    "    df = pd.read_csv(f)\n",
    "    df = df[\"preds\"]\n",
    "    df.to_csv(\"cleaned_\" + f, index=False)"
   ]
  },
  {
   "cell_type": "code",
   "execution_count": null,
   "metadata": {},
   "outputs": [],
   "source": []
  }
 ],
 "metadata": {
  "kernelspec": {
   "display_name": "kaggle_env",
   "language": "python",
   "name": "python3"
  },
  "language_info": {
   "codemirror_mode": {
    "name": "ipython",
    "version": 3
   },
   "file_extension": ".py",
   "mimetype": "text/x-python",
   "name": "python",
   "nbconvert_exporter": "python",
   "pygments_lexer": "ipython3",
   "version": "3.10.13"
  }
 },
 "nbformat": 4,
 "nbformat_minor": 2
}
