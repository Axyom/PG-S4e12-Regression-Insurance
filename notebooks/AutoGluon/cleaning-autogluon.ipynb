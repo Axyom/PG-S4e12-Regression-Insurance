{
 "cells": [
  {
   "cell_type": "code",
   "execution_count": 35,
   "id": "615cf318",
   "metadata": {
    "_cell_guid": "b1076dfc-b9ad-4769-8c92-a6c4dae69d19",
    "_uuid": "8f2839f25d086af736a60e9eeb907d3b93b6e0e5",
    "execution": {
     "iopub.execute_input": "2024-12-09T13:12:34.047888Z",
     "iopub.status.busy": "2024-12-09T13:12:34.047597Z",
     "iopub.status.idle": "2024-12-09T13:12:34.716436Z",
     "shell.execute_reply": "2024-12-09T13:12:34.715768Z"
    },
    "papermill": {
     "duration": 0.676501,
     "end_time": "2024-12-09T13:12:34.718408",
     "exception": false,
     "start_time": "2024-12-09T13:12:34.041907",
     "status": "completed"
    },
    "tags": []
   },
   "outputs": [],
   "source": [
    "import numpy as np\n",
    "import pandas as pd\n",
    "import os\n",
    "import pandas as pd\n",
    "import sys"
   ]
  },
  {
   "cell_type": "markdown",
   "id": "f1522c74",
   "metadata": {
    "papermill": {
     "duration": 0.004851,
     "end_time": "2024-12-09T13:12:34.727632",
     "exception": false,
     "start_time": "2024-12-09T13:12:34.722781",
     "status": "completed"
    },
    "tags": []
   },
   "source": [
    "# Config"
   ]
  },
  {
   "cell_type": "code",
   "execution_count": 43,
   "id": "25bf2667",
   "metadata": {
    "execution": {
     "iopub.execute_input": "2024-12-09T13:12:34.736529Z",
     "iopub.status.busy": "2024-12-09T13:12:34.736123Z",
     "iopub.status.idle": "2024-12-09T13:12:34.740000Z",
     "shell.execute_reply": "2024-12-09T13:12:34.739354Z"
    },
    "papermill": {
     "duration": 0.01006,
     "end_time": "2024-12-09T13:12:34.741432",
     "exception": false,
     "start_time": "2024-12-09T13:12:34.731372",
     "status": "completed"
    },
    "tags": []
   },
   "outputs": [],
   "source": [
    "HYPER_OPT = False \n",
    "HYPER_OPT_TIME = 3600*5\n",
    "USE_ORIGINAL_DATA = False \n",
    "SUBMIT_TO_KAGGLE = False\n",
    "AUTOGLUON_TIME = 3600*11\n",
    "RETRAIN = False\n",
    "STACK_LEVELS = 2"
   ]
  },
  {
   "cell_type": "code",
   "execution_count": 37,
   "id": "636ad8af",
   "metadata": {},
   "outputs": [],
   "source": [
    "# Define the base directory (where the notebook is running)\n",
    "base_dir = os.path.abspath(os.path.join(os.getcwd(), \"..\", \"..\"))\n",
    "\n",
    "# Define the data directory\n",
    "data_dir = os.path.join(base_dir, \"data\")\n",
    "\n",
    "model_dir = os.path.join(base_dir, \"models\")\n",
    "\n",
    "sys.path.append(base_dir)"
   ]
  },
  {
   "cell_type": "markdown",
   "id": "7d1038ad",
   "metadata": {
    "papermill": {
     "duration": 0.0037,
     "end_time": "2024-12-09T13:12:34.787072",
     "exception": false,
     "start_time": "2024-12-09T13:12:34.783372",
     "status": "completed"
    },
    "tags": []
   },
   "source": [
    "# Data Extraction"
   ]
  },
  {
   "cell_type": "code",
   "execution_count": 38,
   "id": "0d745aba",
   "metadata": {},
   "outputs": [],
   "source": [
    "from axyom_utilities.data_extraction import extract_data\n",
    "\n",
    "X_train, y_train, X_test, X_orig, y_orig = extract_data(data_dir, USE_ORIGINAL_DATA)"
   ]
  },
  {
   "cell_type": "code",
   "execution_count": 39,
   "id": "0e894b28",
   "metadata": {},
   "outputs": [],
   "source": [
    "X_train[\"Premium Amount\"] = y_train # for autogluon"
   ]
  },
  {
   "cell_type": "markdown",
   "id": "300f27ae",
   "metadata": {
    "papermill": {
     "duration": 0.003676,
     "end_time": "2024-12-09T13:12:43.939293",
     "exception": false,
     "start_time": "2024-12-09T13:12:43.935617",
     "status": "completed"
    },
    "tags": []
   },
   "source": [
    "# Data Cleaning"
   ]
  },
  {
   "cell_type": "code",
   "execution_count": 40,
   "id": "9d42d2df",
   "metadata": {
    "execution": {
     "iopub.execute_input": "2024-12-09T13:12:43.995169Z",
     "iopub.status.busy": "2024-12-09T13:12:43.994928Z",
     "iopub.status.idle": "2024-12-09T13:12:50.925060Z",
     "shell.execute_reply": "2024-12-09T13:12:50.924366Z"
    },
    "papermill": {
     "duration": 6.936729,
     "end_time": "2024-12-09T13:12:50.926967",
     "exception": false,
     "start_time": "2024-12-09T13:12:43.990238",
     "status": "completed"
    },
    "tags": []
   },
   "outputs": [],
   "source": [
    "from axyom_utilities.preprocessing import preprocess \n",
    "\n",
    "X_train = preprocess(X_train)\n",
    "X_test = preprocess(X_test)\n",
    "if USE_ORIGINAL_DATA:\n",
    "    X_orig = preprocess(X_orig)"
   ]
  },
  {
   "cell_type": "markdown",
   "id": "912bf058",
   "metadata": {
    "papermill": {
     "duration": 0.032715,
     "end_time": "2024-12-09T18:16:55.371337",
     "exception": false,
     "start_time": "2024-12-09T18:16:55.338622",
     "status": "completed"
    },
    "tags": []
   },
   "source": [
    "# Model Training"
   ]
  },
  {
   "cell_type": "code",
   "execution_count": 10,
   "id": "d9ed4579",
   "metadata": {
    "execution": {
     "iopub.execute_input": "2024-12-09T18:16:55.437662Z",
     "iopub.status.busy": "2024-12-09T18:16:55.437325Z",
     "iopub.status.idle": "2024-12-09T18:27:05.981939Z",
     "shell.execute_reply": "2024-12-09T18:27:05.980966Z"
    },
    "papermill": {
     "duration": 610.608804,
     "end_time": "2024-12-09T18:27:06.012560",
     "exception": false,
     "start_time": "2024-12-09T18:16:55.403756",
     "status": "completed"
    },
    "tags": []
   },
   "outputs": [
    {
     "name": "stderr",
     "output_type": "stream",
     "text": [
      "No path specified. Models will be saved in: \"AutogluonModels\\ag-20241212_033419\"\n"
     ]
    }
   ],
   "source": [
    "from autogluon.tabular import TabularDataset, TabularPredictor\n",
    "from datetime import datetime\n",
    "\n",
    "\n",
    "# Initialize a CatBoost Regressor\n",
    "if RETRAIN:\n",
    "    predictor = TabularPredictor(\n",
    "        problem_type='regression',\n",
    "        eval_metric='rmse',\n",
    "        label=\"Premium Amount\",\n",
    "        #groups='fold',\n",
    "        verbosity=2\n",
    "    )\n",
    "else:\n",
    "    # Load the existing predictor\n",
    "    predictor = TabularPredictor.load(\"AutogluonModels/ag-20241212_033419\")\n",
    "\n",
    "    # Generate the unique directory name in the desired format: ag-YYYYMMDD_HHMMSS\n",
    "    current_time = datetime.now().strftime(\"%Y%m%d_%H%M%S\")  # Format: YYYYMMDD_HHMMSS\n",
    "    new_directory = f\"AutogluonModels/ag-{current_time}\"\n",
    "\n",
    "    # Save the predictor to the new directory\n",
    "    predictor.save(new_directory)\n",
    "\n",
    "    # Verify the new save path\n",
    "    print(f\"Predictor saved to: {new_directory}\")\n",
    "\n",
    "    "
   ]
  },
  {
   "cell_type": "code",
   "execution_count": null,
   "id": "32f1d75b",
   "metadata": {},
   "outputs": [
    {
     "name": "stderr",
     "output_type": "stream",
     "text": [
      "Verbosity: 2 (Standard Logging)\n",
      "=================== System Info ===================\n",
      "AutoGluon Version:  1.2\n",
      "Python Version:     3.10.16\n",
      "Operating System:   Windows\n",
      "Platform Machine:   AMD64\n",
      "Platform Version:   10.0.22631\n",
      "CPU Count:          12\n",
      "Memory Avail:       4.52 GB / 15.82 GB (28.6%)\n",
      "Disk Space Avail:   223.20 GB / 930.65 GB (24.0%)\n",
      "===================================================\n",
      "Presets specified: ['best_quality']\n",
      "Setting dynamic_stacking from 'auto' to True. Reason: Enable dynamic_stacking when use_bag_holdout is disabled. (use_bag_holdout=False)\n",
      "Stack configuration (auto_stack=True): num_stack_levels=1, num_bag_folds=8, num_bag_sets=1\n",
      "DyStack is enabled (dynamic_stacking=True). AutoGluon will try to determine whether the input data is affected by stacked overfitting and enable or disable stacking as a consequence.\n",
      "\tThis is used to identify the optimal `num_stack_levels` value. Copies of AutoGluon will be fit on subsets of the data. Then holdout validation data is used to detect stacked overfitting.\n",
      "\tRunning DyStack for up to 9900s of the 39600s of remaining time (25%).\n",
      "\t\tContext path: \"c:\\Users\\Axyom\\Kaggle\\PG S4e12 - Regression Insurance\\notebooks\\AutoGluon\\AutogluonModels\\ag-20241212_033419\\ds_sub_fit\\sub_fit_ho\"\n",
      "Warning: Exception encountered during DyStack sub-fit:\n",
      "\tNo models were trained successfully during fit(). Inspect the log output or increase verbosity to determine why no models were fit. Alternatively, set `raise_on_no_models_fitted` to False during the fit call.\n",
      "\t1\t = Optimal   num_stack_levels (Stacked Overfitting Occurred: False)\n",
      "\t21s\t = DyStack   runtime |\t39579s\t = Remaining runtime\n",
      "Starting main fit with num_stack_levels=1.\n",
      "\tFor future fit calls on this dataset, you can skip DyStack to save time: `predictor.fit(..., dynamic_stacking=False, num_stack_levels=1)`\n",
      "Beginning AutoGluon training ... Time limit = 39579s\n",
      "AutoGluon will save models to \"c:\\Users\\Axyom\\Kaggle\\PG S4e12 - Regression Insurance\\notebooks\\AutoGluon\\AutogluonModels\\ag-20241212_033419\"\n",
      "Train Data Rows:    1200000\n",
      "Train Data Columns: 27\n",
      "Label Column:       Premium Amount\n",
      "Problem Type:       regression\n",
      "Preprocessing data ...\n",
      "Using Feature Generators to preprocess the data ...\n",
      "Fitting AutoMLPipelineFeatureGenerator...\n",
      "Warning: dtype UInt32 is not recognized as a valid dtype by numpy! AutoGluon may incorrectly handle this feature...\n",
      "Cannot interpret 'UInt32Dtype()' as a data type\n",
      "\tAvailable Memory:                    4596.42 MB\n",
      "\tTrain Data (Original)  Memory Usage: 149.92 MB (3.3% of available memory)\n",
      "\tInferring data type of each feature based on column values. Set feature_metadata_in to manually specify special dtypes of the features.\n",
      "Warning: dtype UInt32 is not recognized as a valid dtype by numpy! AutoGluon may incorrectly handle this feature...\n",
      "Cannot interpret 'UInt32Dtype()' as a data type\n",
      "Warning: dtype UInt32 is not recognized as a valid dtype by numpy! AutoGluon may incorrectly handle this feature...\n",
      "Cannot interpret 'UInt32Dtype()' as a data type\n",
      "Warning: dtype UInt32 is not recognized as a valid dtype by numpy! AutoGluon may incorrectly handle this feature...\n",
      "Cannot interpret 'UInt32Dtype()' as a data type\n",
      "\tStage 1 Generators:\n",
      "\t\tFitting AsTypeFeatureGenerator...\n",
      "Warning: dtype UInt32 is not recognized as a valid dtype by numpy! AutoGluon may incorrectly handle this feature...\n",
      "Cannot interpret 'UInt32Dtype()' as a data type\n",
      "\t\t\tNote: Converting 2 features to boolean dtype as they only contain 2 unique values.\n",
      "Warning: dtype UInt32 is not recognized as a valid dtype by numpy! AutoGluon may incorrectly handle this feature...\n",
      "Cannot interpret 'UInt32Dtype()' as a data type\n",
      "\tStage 2 Generators:\n",
      "\t\tFitting FillNaFeatureGenerator...\n",
      "Warning: dtype UInt32 is not recognized as a valid dtype by numpy! AutoGluon may incorrectly handle this feature...\n",
      "Cannot interpret 'UInt32Dtype()' as a data type\n",
      "\tStage 3 Generators:\n",
      "\t\tFitting IdentityFeatureGenerator...\n",
      "\t\tFitting CategoryFeatureGenerator...\n",
      "\t\t\tFitting CategoryMemoryMinimizeFeatureGenerator...\n",
      "\tStage 4 Generators:\n",
      "\t\tFitting DropUniqueFeatureGenerator...\n",
      "\tStage 5 Generators:\n",
      "\t\tFitting DropDuplicatesFeatureGenerator...\n",
      "\tUnused Original Features (Count: 1): ['Week']\n",
      "\t\tThese features were not used to generate any of the output features. Add a feature generator compatible with these features to utilize them.\n",
      "\t\tFeatures can also be unused if they carry very little information, such as being categorical but having almost entirely unique values or being duplicates of other features.\n",
      "\t\tThese features do not need to be present at inference time.\n",
      "\t\t('UInt32', []) : 1 | ['Week']\n",
      "\tTypes of features in original data (raw dtype, special dtypes):\n",
      "\t\t('category', []) : 10 | ['Gender', 'Marital Status', 'Education Level', 'Occupation', 'Location', ...]\n",
      "\t\t('float', [])    : 13 | ['Age', 'Annual Income', 'Number of Dependents', 'Health Score', 'Previous Claims', ...]\n",
      "\t\t('int', [])      :  3 | ['Month', 'Day', 'Weekday']\n",
      "\tTypes of features in processed data (raw dtype, special dtypes):\n",
      "\t\t('category', [])  :  8 | ['Marital Status', 'Education Level', 'Occupation', 'Location', 'Policy Type', ...]\n",
      "\t\t('float', [])     : 13 | ['Age', 'Annual Income', 'Number of Dependents', 'Health Score', 'Previous Claims', ...]\n",
      "\t\t('int', [])       :  3 | ['Month', 'Day', 'Weekday']\n",
      "\t\t('int', ['bool']) :  2 | ['Gender', 'Smoking Status']\n",
      "\t2.4s = Fit runtime\n",
      "\t26 features in original data used to generate 26 features in processed data.\n",
      "\tTrain Data (Processed) Memory Usage: 144.20 MB (4.3% of available memory)\n",
      "Data preprocessing and feature engineering runtime = 2.64s ...\n",
      "AutoGluon will gauge predictive performance using evaluation metric: 'root_mean_squared_error'\n",
      "\tThis metric's sign has been flipped to adhere to being higher_is_better. The metric score can be multiplied by -1 to get the metric value.\n",
      "\tTo change this, specify the eval_metric parameter of Predictor()\n",
      "Large model count detected (112 configs) ... Only displaying the first 3 models of each family. To see all, set `verbosity=3`.\n",
      "User-specified model hyperparameters to be fit:\n",
      "{\n",
      "\t'NN_TORCH': [{}, {'activation': 'elu', 'dropout_prob': 0.10077639529843717, 'hidden_size': 108, 'learning_rate': 0.002735937344002146, 'num_layers': 4, 'use_batchnorm': True, 'weight_decay': 1.356433327634438e-12, 'ag_args': {'name_suffix': '_r79', 'priority': -2}}, {'activation': 'elu', 'dropout_prob': 0.11897478034205347, 'hidden_size': 213, 'learning_rate': 0.0010474382260641949, 'num_layers': 4, 'use_batchnorm': False, 'weight_decay': 5.594471067786272e-10, 'ag_args': {'name_suffix': '_r22', 'priority': -7}}],\n",
      "\t'GBM': [{'extra_trees': True, 'ag_args': {'name_suffix': 'XT'}}, {}, {'learning_rate': 0.03, 'num_leaves': 128, 'feature_fraction': 0.9, 'min_data_in_leaf': 3, 'ag_args': {'name_suffix': 'Large', 'priority': 0, 'hyperparameter_tune_kwargs': None}}],\n",
      "\t'CAT': [{}, {'depth': 6, 'grow_policy': 'SymmetricTree', 'l2_leaf_reg': 2.1542798306067823, 'learning_rate': 0.06864209415792857, 'max_ctr_complexity': 4, 'one_hot_max_size': 10, 'ag_args': {'name_suffix': '_r177', 'priority': -1}}, {'depth': 8, 'grow_policy': 'Depthwise', 'l2_leaf_reg': 2.7997999596449104, 'learning_rate': 0.031375015734637225, 'max_ctr_complexity': 2, 'one_hot_max_size': 3, 'ag_args': {'name_suffix': '_r9', 'priority': -5}}],\n",
      "\t'XGB': [{}, {'colsample_bytree': 0.6917311125174739, 'enable_categorical': False, 'learning_rate': 0.018063876087523967, 'max_depth': 10, 'min_child_weight': 0.6028633586934382, 'ag_args': {'name_suffix': '_r33', 'priority': -8}}, {'colsample_bytree': 0.6628423832084077, 'enable_categorical': False, 'learning_rate': 0.08775715546881824, 'max_depth': 5, 'min_child_weight': 0.6294123374222513, 'ag_args': {'name_suffix': '_r89', 'priority': -16}}],\n",
      "\t'FASTAI': [{}, {'bs': 256, 'emb_drop': 0.5411770367537934, 'epochs': 43, 'layers': [800, 400], 'lr': 0.01519848858318159, 'ps': 0.23782946566604385, 'ag_args': {'name_suffix': '_r191', 'priority': -4}}, {'bs': 2048, 'emb_drop': 0.05070411322605811, 'epochs': 29, 'layers': [200, 100], 'lr': 0.08974235041576624, 'ps': 0.10393466140748028, 'ag_args': {'name_suffix': '_r102', 'priority': -11}}],\n",
      "\t'RF': [{'criterion': 'gini', 'ag_args': {'name_suffix': 'Gini', 'problem_types': ['binary', 'multiclass']}}, {'criterion': 'entropy', 'ag_args': {'name_suffix': 'Entr', 'problem_types': ['binary', 'multiclass']}}, {'criterion': 'squared_error', 'ag_args': {'name_suffix': 'MSE', 'problem_types': ['regression', 'quantile']}}],\n",
      "\t'XT': [{'criterion': 'gini', 'ag_args': {'name_suffix': 'Gini', 'problem_types': ['binary', 'multiclass']}}, {'criterion': 'entropy', 'ag_args': {'name_suffix': 'Entr', 'problem_types': ['binary', 'multiclass']}}, {'criterion': 'squared_error', 'ag_args': {'name_suffix': 'MSE', 'problem_types': ['regression', 'quantile']}}],\n",
      "\t'KNN': [{'weights': 'uniform', 'ag_args': {'name_suffix': 'Unif'}}, {'weights': 'distance', 'ag_args': {'name_suffix': 'Dist'}}],\n",
      "}\n",
      "AutoGluon will fit 2 stack levels (L1 to L2) ...\n",
      "Excluded models: ['KNN', 'NN_TORCH', 'RF', 'FASTAI'] (Specified by `excluded_model_types`)\n",
      "Fitting 54 L1 models, fit_strategy=\"sequential\" ...\n",
      "Fitting model: LightGBMXT_BAG_L1 ... Training model for up to 26377.43s of the 39576.03s of remaining time.\n",
      "\tMemory not enough to fit 8 folds in parallel. Will train 2 folds in parallel instead (Estimated 33.84% memory usage per fold, 67.68%/80.00% total).\n",
      "\tFitting 8 child models (S1F1 - S1F8) | Fitting with ParallelLocalFoldFittingStrategy (1.0 workers, per: cpus=1, gpus=1, memory=33.84%)\n",
      "\t-1.0489\t = Validation score   (-root_mean_squared_error)\n",
      "\t6074.62s\t = Training   runtime\n",
      "\t154.8s\t = Validation runtime\n",
      "Fitting model: LightGBM_BAG_L1 ... Training model for up to 20261.41s of the 33460.01s of remaining time.\n",
      "\tMemory not enough to fit 8 folds in parallel. Will train 2 folds in parallel instead (Estimated 28.09% memory usage per fold, 56.19%/80.00% total).\n",
      "\tFitting 8 child models (S1F1 - S1F8) | Fitting with ParallelLocalFoldFittingStrategy (1.0 workers, per: cpus=1, gpus=1, memory=28.09%)\n",
      "\t-1.0455\t = Validation score   (-root_mean_squared_error)\n",
      "\t315.8s\t = Training   runtime\n",
      "\t15.48s\t = Validation runtime\n",
      "Fitting model: CatBoost_BAG_L1 ... Training model for up to 19825.71s of the 33024.32s of remaining time.\n",
      "\tMemory not enough to fit 8 folds in parallel. Will train 2 folds in parallel instead (Estimated 25.61% memory usage per fold, 51.22%/80.00% total).\n",
      "\tFitting 8 child models (S1F1 - S1F8) | Fitting with ParallelLocalFoldFittingStrategy (1.0 workers, per: cpus=1, gpus=1, memory=25.61%)\n",
      "\t-1.0478\t = Validation score   (-root_mean_squared_error)\n",
      "\t1713.37s\t = Training   runtime\n",
      "\t0.41s\t = Validation runtime\n",
      "Fitting model: ExtraTreesMSE_BAG_L1 ... Training model for up to 17986.72s of the 31185.32s of remaining time.\n",
      "\t-1.0476\t = Validation score   (-root_mean_squared_error)\n",
      "\t273.01s\t = Training   runtime\n",
      "\t41.22s\t = Validation runtime\n",
      "Fitting model: XGBoost_BAG_L1 ... Training model for up to 17671.15s of the 30869.75s of remaining time.\n",
      "\tMemory not enough to fit 8 folds in parallel. Will train 2 folds in parallel instead (Estimated 30.92% memory usage per fold, 61.83%/80.00% total).\n",
      "\tFitting 8 child models (S1F1 - S1F8) | Fitting with ParallelLocalFoldFittingStrategy (1.0 workers, per: cpus=1, gpus=1, memory=30.92%)\n",
      "\t-1.046\t = Validation score   (-root_mean_squared_error)\n",
      "\t122.64s\t = Training   runtime\n",
      "\t4.17s\t = Validation runtime\n",
      "Fitting model: LightGBMLarge_BAG_L1 ... Training model for up to 17537.77s of the 30736.37s of remaining time.\n",
      "\tMemory not enough to fit 8 folds in parallel. Will train 2 folds in parallel instead (Estimated 21.90% memory usage per fold, 43.81%/80.00% total).\n",
      "\tFitting 8 child models (S1F1 - S1F8) | Fitting with ParallelLocalFoldFittingStrategy (1.0 workers, per: cpus=1, gpus=1, memory=21.90%)\n",
      "\t-1.0457\t = Validation score   (-root_mean_squared_error)\n",
      "\t364.59s\t = Training   runtime\n",
      "\t16.28s\t = Validation runtime\n",
      "Fitting model: CatBoost_r177_BAG_L1 ... Training model for up to 17156.59s of the 30355.19s of remaining time.\n",
      "\tMemory not enough to fit 8 folds in parallel. Will train 2 folds in parallel instead (Estimated 21.80% memory usage per fold, 43.59%/80.00% total).\n",
      "\tFitting 8 child models (S1F1 - S1F8) | Fitting with ParallelLocalFoldFittingStrategy (1.0 workers, per: cpus=1, gpus=1, memory=21.80%)\n",
      "\t-1.0477\t = Validation score   (-root_mean_squared_error)\n",
      "\t177.12s\t = Training   runtime\n",
      "\t0.44s\t = Validation runtime\n",
      "Fitting model: LightGBM_r131_BAG_L1 ... Training model for up to 16933.79s of the 30132.39s of remaining time.\n",
      "\tMemory not enough to fit 8 folds in parallel. Will train 4 folds in parallel instead (Estimated 18.01% memory usage per fold, 72.03%/80.00% total).\n",
      "\tFitting 8 child models (S1F1 - S1F8) | Fitting with ParallelLocalFoldFittingStrategy (1.0 workers, per: cpus=1, gpus=1, memory=18.01%)\n",
      "\t-1.0458\t = Validation score   (-root_mean_squared_error)\n",
      "\t1158.29s\t = Training   runtime\n",
      "\t151.67s\t = Validation runtime\n",
      "Fitting model: CatBoost_r9_BAG_L1 ... Training model for up to 15758.12s of the 28956.72s of remaining time.\n",
      "\tMemory not enough to fit 8 folds in parallel. Will train 4 folds in parallel instead (Estimated 16.07% memory usage per fold, 64.26%/80.00% total).\n",
      "\tFitting 8 child models (S1F1 - S1F8) | Fitting with ParallelLocalFoldFittingStrategy (1.0 workers, per: cpus=1, gpus=1, memory=16.07%)\n",
      "\t-1.0467\t = Validation score   (-root_mean_squared_error)\n",
      "\t135.25s\t = Training   runtime\n",
      "\t1.06s\t = Validation runtime\n",
      "Fitting model: LightGBM_r96_BAG_L1 ... Training model for up to 15620.10s of the 28818.70s of remaining time.\n",
      "\tMemory not enough to fit 8 folds in parallel. Will train 4 folds in parallel instead (Estimated 15.56% memory usage per fold, 62.23%/80.00% total).\n",
      "\tFitting 8 child models (S1F1 - S1F8) | Fitting with ParallelLocalFoldFittingStrategy (1.0 workers, per: cpus=1, gpus=1, memory=15.56%)\n",
      "\t-1.0503\t = Validation score   (-root_mean_squared_error)\n",
      "\t2768.46s\t = Training   runtime\n",
      "\t566.59s\t = Validation runtime\n",
      "Fitting model: XGBoost_r33_BAG_L1 ... Training model for up to 12776.47s of the 25975.08s of remaining time.\n",
      "\tMemory not enough to fit 8 folds in parallel. Will train 2 folds in parallel instead (Estimated 20.65% memory usage per fold, 41.29%/80.00% total).\n",
      "\tFitting 8 child models (S1F1 - S1F8) | Fitting with ParallelLocalFoldFittingStrategy (1.0 workers, per: cpus=1, gpus=1, memory=20.65%)\n",
      "\t-1.0464\t = Validation score   (-root_mean_squared_error)\n",
      "\t202.25s\t = Training   runtime\n",
      "\t3.32s\t = Validation runtime\n",
      "Fitting model: ExtraTrees_r42_BAG_L1 ... Training model for up to 12570.99s of the 25769.59s of remaining time.\n",
      "\t-1.0488\t = Validation score   (-root_mean_squared_error)\n",
      "\t212.78s\t = Training   runtime\n",
      "\t28.12s\t = Validation runtime\n",
      "Fitting model: CatBoost_r137_BAG_L1 ... Training model for up to 12329.22s of the 25527.82s of remaining time.\n",
      "\tMemory not enough to fit 8 folds in parallel. Will train 4 folds in parallel instead (Estimated 15.65% memory usage per fold, 62.60%/80.00% total).\n",
      "\tFitting 8 child models (S1F1 - S1F8) | Fitting with ParallelLocalFoldFittingStrategy (1.0 workers, per: cpus=1, gpus=1, memory=15.65%)\n",
      "\t-1.0507\t = Validation score   (-root_mean_squared_error)\n",
      "\t275.56s\t = Training   runtime\n",
      "\t0.29s\t = Validation runtime\n",
      "Fitting model: CatBoost_r13_BAG_L1 ... Training model for up to 12051.00s of the 25249.60s of remaining time.\n",
      "\tMemory not enough to fit 8 folds in parallel. Will train 4 folds in parallel instead (Estimated 15.11% memory usage per fold, 60.45%/80.00% total).\n",
      "\tFitting 8 child models (S1F1 - S1F8) | Fitting with ParallelLocalFoldFittingStrategy (1.0 workers, per: cpus=1, gpus=1, memory=15.11%)\n",
      "\t-1.0472\t = Validation score   (-root_mean_squared_error)\n",
      "\t173.48s\t = Training   runtime\n",
      "\t0.47s\t = Validation runtime\n",
      "Fitting model: LightGBM_r188_BAG_L1 ... Training model for up to 11874.78s of the 25073.38s of remaining time.\n",
      "\tMemory not enough to fit 8 folds in parallel. Will train 4 folds in parallel instead (Estimated 14.88% memory usage per fold, 59.51%/80.00% total).\n",
      "\tFitting 8 child models (S1F1 - S1F8) | Fitting with ParallelLocalFoldFittingStrategy (1.0 workers, per: cpus=1, gpus=1, memory=14.88%)\n",
      "\t-1.05\t = Validation score   (-root_mean_squared_error)\n",
      "\t1198.72s\t = Training   runtime\n",
      "\t138.41s\t = Validation runtime\n",
      "Fitting model: XGBoost_r89_BAG_L1 ... Training model for up to 10656.32s of the 23854.92s of remaining time.\n",
      "\tMemory not enough to fit 8 folds in parallel. Will train 4 folds in parallel instead (Estimated 19.57% memory usage per fold, 78.30%/80.00% total).\n",
      "\tFitting 8 child models (S1F1 - S1F8) | Fitting with ParallelLocalFoldFittingStrategy (1.0 workers, per: cpus=1, gpus=1, memory=19.57%)\n",
      "\t-1.0469\t = Validation score   (-root_mean_squared_error)\n",
      "\t96.61s\t = Training   runtime\n",
      "\t3.08s\t = Validation runtime\n",
      "Fitting model: LightGBM_r130_BAG_L1 ... Training model for up to 10556.62s of the 23755.22s of remaining time.\n",
      "\tMemory not enough to fit 8 folds in parallel. Will train 4 folds in parallel instead (Estimated 14.94% memory usage per fold, 59.78%/80.00% total).\n",
      "\tFitting 8 child models (S1F1 - S1F8) | Fitting with ParallelLocalFoldFittingStrategy (1.0 workers, per: cpus=1, gpus=1, memory=14.94%)\n",
      "\t-1.0461\t = Validation score   (-root_mean_squared_error)\n",
      "\t223.9s\t = Training   runtime\n",
      "\t19.37s\t = Validation runtime\n",
      "Fitting model: CatBoost_r50_BAG_L1 ... Training model for up to 10327.77s of the 23526.38s of remaining time.\n",
      "\tMemory not enough to fit 8 folds in parallel. Will train 4 folds in parallel instead (Estimated 14.69% memory usage per fold, 58.77%/80.00% total).\n",
      "\tFitting 8 child models (S1F1 - S1F8) | Fitting with ParallelLocalFoldFittingStrategy (1.0 workers, per: cpus=1, gpus=1, memory=14.69%)\n",
      "\t-1.0496\t = Validation score   (-root_mean_squared_error)\n",
      "\t124.31s\t = Training   runtime\n",
      "\t1.0s\t = Validation runtime\n",
      "Fitting model: XGBoost_r194_BAG_L1 ... Training model for up to 10200.65s of the 23399.25s of remaining time.\n",
      "\tMemory not enough to fit 8 folds in parallel. Will train 4 folds in parallel instead (Estimated 19.40% memory usage per fold, 77.59%/80.00% total).\n",
      "\tFitting 8 child models (S1F1 - S1F8) | Fitting with ParallelLocalFoldFittingStrategy (1.0 workers, per: cpus=1, gpus=1, memory=19.40%)\n",
      "\t-1.0457\t = Validation score   (-root_mean_squared_error)\n",
      "\t46.43s\t = Training   runtime\n",
      "\t0.66s\t = Validation runtime\n",
      "Fitting model: ExtraTrees_r172_BAG_L1 ... Training model for up to 10151.40s of the 23350.01s of remaining time.\n",
      "\t-1.0475\t = Validation score   (-root_mean_squared_error)\n",
      "\t277.17s\t = Training   runtime\n",
      "\t27.99s\t = Validation runtime\n",
      "Fitting model: CatBoost_r69_BAG_L1 ... Training model for up to 9845.55s of the 23044.15s of remaining time.\n",
      "\tMemory not enough to fit 8 folds in parallel. Will train 4 folds in parallel instead (Estimated 15.93% memory usage per fold, 63.73%/80.00% total).\n",
      "\tFitting 8 child models (S1F1 - S1F8) | Fitting with ParallelLocalFoldFittingStrategy (1.0 workers, per: cpus=1, gpus=1, memory=15.93%)\n",
      "\t-1.0493\t = Validation score   (-root_mean_squared_error)\n",
      "\t321.7s\t = Training   runtime\n",
      "\t0.26s\t = Validation runtime\n",
      "Fitting model: LightGBM_r161_BAG_L1 ... Training model for up to 9521.14s of the 22719.74s of remaining time.\n",
      "\tMemory not enough to fit 8 folds in parallel. Will train 4 folds in parallel instead (Estimated 15.19% memory usage per fold, 60.76%/80.00% total).\n",
      "\tFitting 8 child models (S1F1 - S1F8) | Fitting with ParallelLocalFoldFittingStrategy (1.0 workers, per: cpus=1, gpus=1, memory=15.19%)\n",
      "\t-1.0464\t = Validation score   (-root_mean_squared_error)\n",
      "\t7860.22s\t = Training   runtime\n",
      "\t160.74s\t = Validation runtime\n",
      "Fitting model: CatBoost_r70_BAG_L1 ... Training model for up to 1631.11s of the 14829.71s of remaining time.\n",
      "\tMemory not enough to fit 8 folds in parallel. Will train 4 folds in parallel instead (Estimated 16.62% memory usage per fold, 66.50%/80.00% total).\n",
      "\tFitting 8 child models (S1F1 - S1F8) | Fitting with ParallelLocalFoldFittingStrategy (1.0 workers, per: cpus=1, gpus=1, memory=16.62%)\n",
      "\t-1.0493\t = Validation score   (-root_mean_squared_error)\n",
      "\t91.63s\t = Training   runtime\n",
      "\t0.38s\t = Validation runtime\n",
      "Fitting model: LightGBM_r196_BAG_L1 ... Training model for up to 1536.87s of the 14735.47s of remaining time.\n",
      "\tMemory not enough to fit 8 folds in parallel. Will train 4 folds in parallel instead (Estimated 16.59% memory usage per fold, 66.37%/80.00% total).\n",
      "\tFitting 8 child models (S1F1 - S1F8) | Fitting with ParallelLocalFoldFittingStrategy (1.0 workers, per: cpus=1, gpus=1, memory=16.59%)\n",
      "\t-1.0605\t = Validation score   (-root_mean_squared_error)\n",
      "\t1439.46s\t = Training   runtime\n",
      "\t210.09s\t = Validation runtime\n",
      "Fitting model: CatBoost_r167_BAG_L1 ... Training model for up to 67.54s of the 13266.14s of remaining time.\n",
      "\tMemory not enough to fit 8 folds in parallel. Will train 4 folds in parallel instead (Estimated 16.50% memory usage per fold, 65.99%/80.00% total).\n",
      "\tFitting 8 child models (S1F1 - S1F8) | Fitting with ParallelLocalFoldFittingStrategy (1.0 workers, per: cpus=1, gpus=1, memory=16.50%)\n",
      "\t-1.0902\t = Validation score   (-root_mean_squared_error)\n",
      "\t80.64s\t = Training   runtime\n",
      "\t0.13s\t = Validation runtime\n",
      "Fitting model: WeightedEnsemble_L2 ... Training model for up to 2637.74s of the 13182.34s of remaining time.\n",
      "\tEnsemble Weights: {'LightGBM_BAG_L1': 0.391, 'XGBoost_r33_BAG_L1': 0.217, 'XGBoost_r194_BAG_L1': 0.174, 'LightGBMLarge_BAG_L1': 0.13, 'ExtraTreesMSE_BAG_L1': 0.043, 'XGBoost_BAG_L1': 0.043}\n",
      "\t-1.0452\t = Validation score   (-root_mean_squared_error)\n",
      "\t5.12s\t = Training   runtime\n",
      "\t0.02s\t = Validation runtime\n",
      "Excluded models: ['KNN', 'NN_TORCH', 'RF', 'FASTAI'] (Specified by `excluded_model_types`)\n",
      "Fitting 54 L2 models, fit_strategy=\"sequential\" ...\n",
      "Fitting model: LightGBMXT_BAG_L2 ... Training model for up to 13177.09s of the 13176.75s of remaining time.\n",
      "\tMemory not enough to fit 8 folds in parallel. Will train 2 folds in parallel instead (Estimated 29.60% memory usage per fold, 59.21%/80.00% total).\n",
      "\tFitting 8 child models (S1F1 - S1F8) | Fitting with ParallelLocalFoldFittingStrategy (1.0 workers, per: cpus=1, gpus=1, memory=29.60%)\n",
      "\t-1.0448\t = Validation score   (-root_mean_squared_error)\n",
      "\t94.75s\t = Training   runtime\n",
      "\t6.28s\t = Validation runtime\n",
      "Fitting model: LightGBM_BAG_L2 ... Training model for up to 13077.69s of the 13077.35s of remaining time.\n",
      "\tMemory not enough to fit 8 folds in parallel. Will train 2 folds in parallel instead (Estimated 29.70% memory usage per fold, 59.39%/80.00% total).\n",
      "\tFitting 8 child models (S1F1 - S1F8) | Fitting with ParallelLocalFoldFittingStrategy (1.0 workers, per: cpus=1, gpus=1, memory=29.70%)\n",
      "\t-1.0447\t = Validation score   (-root_mean_squared_error)\n",
      "\t81.38s\t = Training   runtime\n",
      "\t4.23s\t = Validation runtime\n",
      "Fitting model: CatBoost_BAG_L2 ... Training model for up to 12991.70s of the 12991.36s of remaining time.\n",
      "\tMemory not enough to fit 8 folds in parallel. Will train 2 folds in parallel instead (Estimated 29.48% memory usage per fold, 58.96%/80.00% total).\n",
      "\tFitting 8 child models (S1F1 - S1F8) | Fitting with ParallelLocalFoldFittingStrategy (1.0 workers, per: cpus=1, gpus=1, memory=29.48%)\n",
      "\t-1.0448\t = Validation score   (-root_mean_squared_error)\n",
      "\t340.52s\t = Training   runtime\n",
      "\t0.32s\t = Validation runtime\n",
      "Fitting model: ExtraTreesMSE_BAG_L2 ... Training model for up to 12647.23s of the 12646.89s of remaining time.\n",
      "\t-1.046\t = Validation score   (-root_mean_squared_error)\n",
      "\t537.87s\t = Training   runtime\n",
      "\t31.58s\t = Validation runtime\n",
      "Fitting model: XGBoost_BAG_L2 ... Training model for up to 12076.24s of the 12075.89s of remaining time.\n",
      "\tMemory not enough to fit 8 folds in parallel. Will train 2 folds in parallel instead (Estimated 38.29% memory usage per fold, 76.58%/80.00% total).\n",
      "\tFitting 8 child models (S1F1 - S1F8) | Fitting with ParallelLocalFoldFittingStrategy (1.0 workers, per: cpus=1, gpus=1, memory=38.29%)\n",
      "\t-1.0448\t = Validation score   (-root_mean_squared_error)\n",
      "\t124.22s\t = Training   runtime\n",
      "\t4.37s\t = Validation runtime\n",
      "Fitting model: LightGBMLarge_BAG_L2 ... Training model for up to 11947.56s of the 11947.21s of remaining time.\n",
      "\tMemory not enough to fit 8 folds in parallel. Will train 2 folds in parallel instead (Estimated 25.86% memory usage per fold, 51.72%/80.00% total).\n",
      "\tFitting 8 child models (S1F1 - S1F8) | Fitting with ParallelLocalFoldFittingStrategy (1.0 workers, per: cpus=1, gpus=1, memory=25.86%)\n",
      "\t-1.0448\t = Validation score   (-root_mean_squared_error)\n",
      "\t133.19s\t = Training   runtime\n",
      "\t6.42s\t = Validation runtime\n",
      "Fitting model: CatBoost_r177_BAG_L2 ... Training model for up to 11809.73s of the 11809.39s of remaining time.\n",
      "\tMemory not enough to fit 8 folds in parallel. Will train 2 folds in parallel instead (Estimated 23.33% memory usage per fold, 46.67%/80.00% total).\n",
      "\tFitting 8 child models (S1F1 - S1F8) | Fitting with ParallelLocalFoldFittingStrategy (1.0 workers, per: cpus=1, gpus=1, memory=23.33%)\n",
      "\t-1.0448\t = Validation score   (-root_mean_squared_error)\n",
      "\t94.09s\t = Training   runtime\n",
      "\t0.29s\t = Validation runtime\n",
      "Fitting model: LightGBM_r131_BAG_L2 ... Training model for up to 11711.62s of the 11711.28s of remaining time.\n",
      "\tMemory not enough to fit 8 folds in parallel. Will train 2 folds in parallel instead (Estimated 23.40% memory usage per fold, 46.81%/80.00% total).\n",
      "\tFitting 8 child models (S1F1 - S1F8) | Fitting with ParallelLocalFoldFittingStrategy (1.0 workers, per: cpus=1, gpus=1, memory=23.40%)\n",
      "\t-1.0446\t = Validation score   (-root_mean_squared_error)\n",
      "\t339.81s\t = Training   runtime\n",
      "\t32.62s\t = Validation runtime\n",
      "Fitting model: CatBoost_r9_BAG_L2 ... Training model for up to 11364.58s of the 11364.23s of remaining time.\n",
      "\tMemory not enough to fit 8 folds in parallel. Will train 2 folds in parallel instead (Estimated 23.75% memory usage per fold, 47.49%/80.00% total).\n",
      "\tFitting 8 child models (S1F1 - S1F8) | Fitting with ParallelLocalFoldFittingStrategy (1.0 workers, per: cpus=1, gpus=1, memory=23.75%)\n",
      "\t-1.0448\t = Validation score   (-root_mean_squared_error)\n",
      "\t140.03s\t = Training   runtime\n",
      "\t0.72s\t = Validation runtime\n",
      "Fitting model: LightGBM_r96_BAG_L2 ... Training model for up to 11220.45s of the 11220.11s of remaining time.\n",
      "\tMemory not enough to fit 8 folds in parallel. Will train 2 folds in parallel instead (Estimated 22.63% memory usage per fold, 45.25%/80.00% total).\n",
      "\tFitting 8 child models (S1F1 - S1F8) | Fitting with ParallelLocalFoldFittingStrategy (1.0 workers, per: cpus=1, gpus=1, memory=22.63%)\n",
      "\t-1.0448\t = Validation score   (-root_mean_squared_error)\n",
      "\t578.83s\t = Training   runtime\n",
      "\t80.24s\t = Validation runtime\n",
      "Fitting model: XGBoost_r33_BAG_L2 ... Training model for up to 10630.43s of the 10630.09s of remaining time.\n",
      "\tMemory not enough to fit 8 folds in parallel. Will train 2 folds in parallel instead (Estimated 31.78% memory usage per fold, 63.57%/80.00% total).\n",
      "\tFitting 8 child models (S1F1 - S1F8) | Fitting with ParallelLocalFoldFittingStrategy (1.0 workers, per: cpus=1, gpus=1, memory=31.78%)\n",
      "\t-1.0448\t = Validation score   (-root_mean_squared_error)\n",
      "\t212.81s\t = Training   runtime\n",
      "\t4.51s\t = Validation runtime\n",
      "Fitting model: ExtraTrees_r42_BAG_L2 ... Training model for up to 10413.08s of the 10412.74s of remaining time.\n"
     ]
    }
   ],
   "source": [
    "predictor.fit(\n",
    "    train_data=X_train,\n",
    "    time_limit=AUTOGLUON_TIME,\n",
    "    presets='best_quality',\n",
    "    excluded_model_types=['KNN', 'NN_TORCH', 'FASTAI', 'RF'],\n",
    "    ag_args_fit={'num_gpus': 1},\n",
    "    num_stack_levels=STACK_LEVELS\n",
    ")"
   ]
  },
  {
   "cell_type": "code",
   "execution_count": null,
   "id": "fa30dee3",
   "metadata": {},
   "outputs": [],
   "source": [
    "predictor.leaderboard(silent=True).style.background_gradient(subset=['score_val'], cmap='RdYlGn')"
   ]
  },
  {
   "cell_type": "code",
   "execution_count": 27,
   "id": "3aacc509",
   "metadata": {},
   "outputs": [],
   "source": [
    "leaderboard = predictor.leaderboard(silent=True)"
   ]
  },
  {
   "cell_type": "code",
   "execution_count": 28,
   "id": "fa864930",
   "metadata": {},
   "outputs": [
    {
     "data": {
      "text/plain": [
       "'c:\\\\Users\\\\Axyom\\\\Kaggle\\\\PG S4e12 - Regression Insurance\\\\notebooks\\\\AutoGluon\\\\AutogluonModels\\\\ag-20241212_033419\\\\ensemble_model.png'"
      ]
     },
     "execution_count": 28,
     "metadata": {},
     "output_type": "execute_result"
    }
   ],
   "source": [
    "predictor.plot_ensemble_model()"
   ]
  },
  {
   "cell_type": "code",
   "execution_count": 29,
   "id": "71ec99e7",
   "metadata": {},
   "outputs": [],
   "source": [
    "best_model_name = predictor.model_best"
   ]
  },
  {
   "cell_type": "code",
   "execution_count": 10,
   "id": "2dd818af",
   "metadata": {},
   "outputs": [],
   "source": [
    "def get_ensemble_weights(predictor):\n",
    "    info = predictor.info()\n",
    "    ensemble_weights = {}\n",
    "    for model_name, values in info[\"model_info\"].items():\n",
    "        if \"Ensemble\" in model_name:\n",
    "            children_info = values[\"children_info\"]\n",
    "            ensemble_weights[model_name] = values[\"children_info\"][list(children_info.keys())[0]][\"model_weights\"]\n",
    "    return ensemble_weights"
   ]
  },
  {
   "cell_type": "code",
   "execution_count": 12,
   "id": "abe73367",
   "metadata": {},
   "outputs": [
    {
     "data": {
      "image/png": "[encoded data removed]",
      "text/plain": [
       "<Figure size 600x600 with 1 Axes>"
      ]
     },
     "metadata": {},
     "output_type": "display_data"
    }
   ],
   "source": [
    "import matplotlib.pyplot as plt\n",
    "import seaborn as sns\n",
    "\n",
    "ensemble_weights = get_ensemble_weights(predictor)\n",
    "\n",
    "for key, value in ensemble_weights.items():\n",
    "    plt.figure(figsize=(6, 6))\n",
    "    plt.pie(value.values(), labels=value.keys(), autopct='%1.1f%%', colors=sns.color_palette('Set2', len(value)))\n",
    "    plt.title(key)\n",
    "    plt.tight_layout()\n",
    "    plt.show()"
   ]
  },
  {
   "cell_type": "code",
   "execution_count": null,
   "id": "884a366b",
   "metadata": {},
   "outputs": [],
   "source": [
    "best_model_score = -leaderboard[leaderboard['model'] == best_model_name]['score_val'].values[0]\n",
    "print(f\"Best Model: {best_model_name}\")\n",
    "print(f\"Validation Score: {best_model_score}\")"
   ]
  },
  {
   "cell_type": "code",
   "execution_count": 41,
   "id": "cfc3ae58",
   "metadata": {},
   "outputs": [],
   "source": [
    "test_preds = predictor.predict(X_test)"
   ]
  },
  {
   "cell_type": "code",
   "execution_count": null,
   "id": "bba76357",
   "metadata": {
    "execution": {
     "iopub.execute_input": "2024-12-09T18:27:06.134109Z",
     "iopub.status.busy": "2024-12-09T18:27:06.133614Z",
     "iopub.status.idle": "2024-12-09T18:27:09.560189Z",
     "shell.execute_reply": "2024-12-09T18:27:09.559255Z"
    },
    "papermill": {
     "duration": 3.457335,
     "end_time": "2024-12-09T18:27:09.561802",
     "exception": false,
     "start_time": "2024-12-09T18:27:06.104467",
     "status": "completed"
    },
    "tags": []
   },
   "outputs": [],
   "source": [
    "# import joblib\n",
    "\n",
    "# # Save OOF predictions as a CSV file\n",
    "# oof_preds_df = pd.DataFrame({\"oof_preds\": results[\"oof_preds\"]})\n",
    "# oof_preds_df.to_csv(\"oof_preds\", index=False)\n",
    "# print(\"OOF predictions saved to oof_preds.csv.\")\n",
    "\n",
    "# test_preds_df = pd.DataFrame({\"test_preds\": results[\"test_preds\"]})\n",
    "# test_preds_df.to_csv(\"test_preds\", index=False)\n",
    "# print(\"Test predictions saved to test_preds.csv.\")\n",
    "\n",
    "# joblib.dump(results[\"models\"], \"xgboost_models.pkl\")"
   ]
  },
  {
   "cell_type": "markdown",
   "id": "607e1999",
   "metadata": {
    "papermill": {
     "duration": 0.030518,
     "end_time": "2024-12-09T18:27:09.621403",
     "exception": false,
     "start_time": "2024-12-09T18:27:09.590885",
     "status": "completed"
    },
    "tags": []
   },
   "source": [
    "# Submission"
   ]
  },
  {
   "cell_type": "code",
   "execution_count": 42,
   "id": "221fab64",
   "metadata": {
    "execution": {
     "iopub.execute_input": "2024-12-09T18:27:09.684611Z",
     "iopub.status.busy": "2024-12-09T18:27:09.683845Z",
     "iopub.status.idle": "2024-12-09T18:27:11.039199Z",
     "shell.execute_reply": "2024-12-09T18:27:11.038523Z"
    },
    "papermill": {
     "duration": 1.388863,
     "end_time": "2024-12-09T18:27:11.041168",
     "exception": false,
     "start_time": "2024-12-09T18:27:09.652305",
     "status": "completed"
    },
    "tags": []
   },
   "outputs": [],
   "source": [
    "y_pred = np.expm1(test_preds)\n",
    "\n",
    "submission = pd.DataFrame({\n",
    "    'id': X_test.index,  \n",
    "    'Premium Amount': y_pred\n",
    "})\n",
    "\n",
    "FILE_PATH = f\"cleaning_autogluon_submission_{best_model_score:.4f}.csv\"\n",
    "\n",
    "submission.to_csv(FILE_PATH, index=False)"
   ]
  },
  {
   "cell_type": "code",
   "execution_count": 44,
   "id": "1dacbf49",
   "metadata": {},
   "outputs": [],
   "source": [
    "import os\n",
    "\n",
    "# Define your message and file paths\n",
    "COMP_NAME = \"playground-series-s4e12\"\n",
    "\n",
    "SUBMIT_MESSAGE = f\"Clean XGB: Mean score: {best_model_score:.4f}\"\n",
    "\n",
    "# Submit to Kaggle\n",
    "\n",
    "if SUBMIT_TO_KAGGLE: \n",
    "    os.system(f'kaggle competitions submit -c {COMP_NAME} -f {FILE_PATH} -m \"{SUBMIT_MESSAGE}\"')"
   ]
  },
  {
   "cell_type": "code",
   "execution_count": null,
   "id": "9fdb004a",
   "metadata": {
    "papermill": {
     "duration": 0.028392,
     "end_time": "2024-12-09T18:27:11.099295",
     "exception": false,
     "start_time": "2024-12-09T18:27:11.070903",
     "status": "completed"
    },
    "tags": []
   },
   "outputs": [],
   "source": [
    "# import os\n",
    "# from IPython.display import display, Javascript\n",
    "\n",
    "# # Define your message and file paths\n",
    "# COMP_NAME = \"playground-series-s4e12\"\n",
    "# FILE_PATH = \"submission.csv\"\n",
    "\n",
    "# SUBMIT_MESSAGE = f\"Clean XGB: Mean score: {mean_score:.4f} +/- {std_score:.4f}\"\n",
    "\n",
    "# # Submit to Kaggle\n",
    "# if SUBMIT_TO_KAGGLE: \n",
    "#     os.system(f'kaggle competitions submit -c {COMP_NAME} -f {FILE_PATH} -m \"{SUBMIT_MESSAGE}\"')\n",
    "\n",
    "# # Git commit and push\n",
    "# GIT_COMMIT_MESSAGE = f\"Submission: {SUBMIT_MESSAGE}\"\n",
    "\n",
    "# # save notebook\n",
    "# # display(Javascript('IPython.notebook.save_checkpoint()'))\n",
    "\n",
    "# # Commands for Git\n",
    "# os.system(\"git add .\")  # Stage all changes (adjust if you only want specific files)\n",
    "# os.system(f'git commit -m \"{GIT_COMMIT_MESSAGE}\"')  # Commit changes with a message\n",
    "# os.system(\"git push origin main\")  # Push to the main branch (change branch if needed)"
   ]
  },
  {
   "cell_type": "code",
   "execution_count": null,
   "id": "a2683386",
   "metadata": {},
   "outputs": [],
   "source": []
  }
 ],
 "metadata": {
  "kaggle": {
   "accelerator": "gpu",
   "dataSources": [
    {
     "databundleVersionId": 10305135,
     "sourceId": 84896,
     "sourceType": "competition"
    },
    {
     "datasetId": 5547076,
     "sourceId": 9178166,
     "sourceType": "datasetVersion"
    },
    {
     "sourceId": 211948002,
     "sourceType": "kernelVersion"
    }
   ],
   "dockerImageVersionId": 30805,
   "isGpuEnabled": true,
   "isInternetEnabled": true,
   "language": "python",
   "sourceType": "notebook"
  },
  "kernelspec": {
   "display_name": "kaggle_env",
   "language": "python",
   "name": "python3"
  },
  "language_info": {
   "codemirror_mode": {
    "name": "ipython",
    "version": 3
   },
   "file_extension": ".py",
   "mimetype": "text/x-python",
   "name": "python",
   "nbconvert_exporter": "python",
   "pygments_lexer": "ipython3",
   "version": "3.10.16"
  },
  "papermill": {
   "default_parameters": {},
   "duration": 18880.993655,
   "end_time": "2024-12-09T18:27:12.649632",
   "environment_variables": {},
   "exception": null,
   "input_path": "__notebook__.ipynb",
   "output_path": "__notebook__.ipynb",
   "parameters": {},
   "start_time": "2024-12-09T13:12:31.655977",
   "version": "2.6.0"
  }
 },
 "nbformat": 4,
 "nbformat_minor": 5
}
