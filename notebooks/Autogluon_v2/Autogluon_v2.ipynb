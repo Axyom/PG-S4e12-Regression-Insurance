{
 "cells": [
  {
   "cell_type": "code",
   "execution_count": 2,
   "id": "615cf318",
   "metadata": {
    "_cell_guid": "b1076dfc-b9ad-4769-8c92-a6c4dae69d19",
    "_uuid": "8f2839f25d086af736a60e9eeb907d3b93b6e0e5",
    "execution": {
     "iopub.execute_input": "2024-12-09T13:12:34.047888Z",
     "iopub.status.busy": "2024-12-09T13:12:34.047597Z",
     "iopub.status.idle": "2024-12-09T13:12:34.716436Z",
     "shell.execute_reply": "2024-12-09T13:12:34.715768Z"
    },
    "papermill": {
     "duration": 0.676501,
     "end_time": "2024-12-09T13:12:34.718408",
     "exception": false,
     "start_time": "2024-12-09T13:12:34.041907",
     "status": "completed"
    },
    "tags": []
   },
   "outputs": [],
   "source": [
    "import numpy as np\n",
    "import pandas as pd\n",
    "import os\n",
    "import pandas as pd\n",
    "import sys"
   ]
  },
  {
   "cell_type": "markdown",
   "id": "f1522c74",
   "metadata": {
    "papermill": {
     "duration": 0.004851,
     "end_time": "2024-12-09T13:12:34.727632",
     "exception": false,
     "start_time": "2024-12-09T13:12:34.722781",
     "status": "completed"
    },
    "tags": []
   },
   "source": [
    "# Config"
   ]
  },
  {
   "cell_type": "code",
   "execution_count": 3,
   "id": "25bf2667",
   "metadata": {
    "execution": {
     "iopub.execute_input": "2024-12-09T13:12:34.736529Z",
     "iopub.status.busy": "2024-12-09T13:12:34.736123Z",
     "iopub.status.idle": "2024-12-09T13:12:34.740000Z",
     "shell.execute_reply": "2024-12-09T13:12:34.739354Z"
    },
    "papermill": {
     "duration": 0.01006,
     "end_time": "2024-12-09T13:12:34.741432",
     "exception": false,
     "start_time": "2024-12-09T13:12:34.731372",
     "status": "completed"
    },
    "tags": []
   },
   "outputs": [],
   "source": [
    "HYPER_OPT = False \n",
    "HYPER_OPT_TIME = 3600*5\n",
    "USE_ORIGINAL_DATA = False \n",
    "SUBMIT_TO_KAGGLE = False\n",
    "AUTOGLUON_TIME = 3600*5\n",
    "RETRAIN = True\n",
    "USE_NONLOG = True\n",
    "STACK_LEVELS = 1"
   ]
  },
  {
   "cell_type": "code",
   "execution_count": 4,
   "id": "636ad8af",
   "metadata": {},
   "outputs": [],
   "source": [
    "from pathlib import Path\n",
    "from datetime import datetime\n",
    "import sys\n",
    "\n",
    "# Define the base directory\n",
    "base_dir = Path.cwd().resolve().parents[1]\n",
    "\n",
    "# Define subdirectories\n",
    "data_dir = base_dir / \"data\"\n",
    "model_dir = base_dir / \"models\"\n",
    "notebooks_dir = base_dir / \"notebooks\"\n",
    "\n",
    "# Create a timestamped directory for AutoGluon\n",
    "autogluon_folder = base_dir / \"AutogluonModels\" / f\"ag-{datetime.now():%Y%m%d_%H%M%S}\"\n",
    "\n",
    "# Append base_dir to sys.path\n",
    "sys.path.append(str(base_dir))"
   ]
  },
  {
   "cell_type": "markdown",
   "id": "7d1038ad",
   "metadata": {
    "papermill": {
     "duration": 0.0037,
     "end_time": "2024-12-09T13:12:34.787072",
     "exception": false,
     "start_time": "2024-12-09T13:12:34.783372",
     "status": "completed"
    },
    "tags": []
   },
   "source": [
    "# Data Extraction"
   ]
  },
  {
   "cell_type": "code",
   "execution_count": 5,
   "id": "0d745aba",
   "metadata": {},
   "outputs": [],
   "source": [
    "from axyom_utilities.data_extraction import extract_data\n",
    "from axyom_utilities.training import train_model_cv\n",
    "from axyom_utilities.preprocessing import * \n",
    "from toolz import pipe\n",
    "import joblib"
   ]
  },
  {
   "cell_type": "code",
   "execution_count": null,
   "id": "1c1e387b",
   "metadata": {},
   "outputs": [],
   "source": [
    "X_train, y_train, X_test, X_orig, y_orig = extract_data(data_dir, USE_ORIGINAL_DATA, log_transform=True)\n",
    "y_train_nonlog = np.expm1(y_train)\n",
    "\n",
    "if USE_NONLOG:\n",
    "    nonlog_oof_preds, nonlog_test_preds = joblib.load('nonlog_feature/cat_non_loged.pkl')\n",
    "    \n",
    "    X_train[\"nonlog\"] = nonlog_oof_preds\n",
    "    X_test[\"nonlog\"] = nonlog_test_preds"
   ]
  },
  {
   "cell_type": "markdown",
   "id": "77e255e3",
   "metadata": {},
   "source": [
    "# Data Cleaning"
   ]
  },
  {
   "cell_type": "code",
   "execution_count": null,
   "id": "a6d4ab78",
   "metadata": {},
   "outputs": [],
   "source": [
    "from axyom_utilities.preprocessing import freq_encode, preprocess_dates, clean_categorical, frequency_encode\n",
    "from toolz import pipe\n",
    "\n",
    "def feature_engineering(df):\n",
    "    \n",
    "    # df = freq_encode(df)\n",
    "    \n",
    "    df['MissingHealth'] = df['Health Score'].isna().astype(int)\n",
    "    df['Claims v Duration'] = (df['Previous Claims'] / df['Insurance Duration']).replace([np.inf, -np.inf], np.nan)\n",
    "    df['Health vs Claims'] = (df['Health Score'] / df['Previous Claims']).replace([np.inf, -np.inf], np.nan)\n",
    "    \n",
    "    def duplicate_int(col, df):\n",
    "        df[col + ' Integer'] = df[col].apply(lambda x: int(x) if pd.notna(x) else x)\n",
    "        #df[col] = df[col].fillna('None').astype('category')\n",
    "        \n",
    "        return df\n",
    "    \n",
    "    df = duplicate_int('Health Score', df)\n",
    "    df = duplicate_int('Credit Score', df)\n",
    "    df = duplicate_int('Previous Claims', df)\n",
    "    df = duplicate_int('Annual Income', df)\n",
    "    \n",
    "    df['MissingValuesCount'] = df.isna().sum(axis=1)\n",
    "    \n",
    "    # df = freq_encode(df, 'Customer Feedback')\n",
    "    # df = freq_encode(df, 'Marital Status')\n",
    "    \n",
    "    return df\n",
    "\n",
    "preprocessor = lambda df: pipe(df,\\\n",
    "    preprocess_dates,\n",
    "    clean_categorical,\n",
    "    feature_engineering,  \n",
    ")\n",
    "\n",
    "X_train = preprocessor(X_train)\n",
    "X_test = preprocessor(X_test)\n",
    "if USE_ORIGINAL_DATA:\n",
    "    X_orig = preprocessor(X_orig)\n",
    "    \n",
    "frequency_encode(X_train, X_test, drop_org=False) # data leaking but acceptable in this context\n"
   ]
  },
  {
   "cell_type": "code",
   "execution_count": 6,
   "id": "0e894b28",
   "metadata": {},
   "outputs": [],
   "source": [
    "X_train[\"Premium Amount\"] = y_train # for autogluon"
   ]
  },
  {
   "cell_type": "markdown",
   "id": "912bf058",
   "metadata": {
    "papermill": {
     "duration": 0.032715,
     "end_time": "2024-12-09T18:16:55.371337",
     "exception": false,
     "start_time": "2024-12-09T18:16:55.338622",
     "status": "completed"
    },
    "tags": []
   },
   "source": [
    "# Model Training"
   ]
  },
  {
   "cell_type": "code",
   "execution_count": null,
   "id": "d9ed4579",
   "metadata": {
    "execution": {
     "iopub.execute_input": "2024-12-09T18:16:55.437662Z",
     "iopub.status.busy": "2024-12-09T18:16:55.437325Z",
     "iopub.status.idle": "2024-12-09T18:27:05.981939Z",
     "shell.execute_reply": "2024-12-09T18:27:05.980966Z"
    },
    "papermill": {
     "duration": 610.608804,
     "end_time": "2024-12-09T18:27:06.012560",
     "exception": false,
     "start_time": "2024-12-09T18:16:55.403756",
     "status": "completed"
    },
    "tags": []
   },
   "outputs": [],
   "source": [
    "from autogluon.tabular import TabularDataset, TabularPredictor\n",
    "from datetime import datetime\n",
    "\n",
    "\n",
    "predictor = TabularPredictor(\n",
    "    problem_type='regression',\n",
    "    eval_metric='rmse',\n",
    "    label=\"Premium Amount\",\n",
    "    #groups='fold',\n",
    "    verbosity=2\n",
    ")\n",
    "\n",
    "predictor.fit(\n",
    "    train_data=X_train,\n",
    "    time_limit=AUTOGLUON_TIME,\n",
    "    presets='best_quality',\n",
    "    excluded_model_types=['KNN', 'NN_TORCH', 'FASTAI', 'RF'],\n",
    "    ag_args_fit={'num_gpus': 1},\n",
    "    num_stack_levels=STACK_LEVELS,\n",
    "    path=autogluon_folder\n",
    ")\n",
    " \n",
    "    \n",
    "    \n",
    "\n",
    "    "
   ]
  },
  {
   "cell_type": "code",
   "execution_count": null,
   "id": "fa30dee3",
   "metadata": {},
   "outputs": [],
   "source": [
    "predictor.leaderboard(silent=True).style.background_gradient(subset=['score_val'], cmap='RdYlGn')"
   ]
  },
  {
   "cell_type": "code",
   "execution_count": 51,
   "id": "3aacc509",
   "metadata": {},
   "outputs": [],
   "source": [
    "leaderboard = predictor.leaderboard(silent=True)"
   ]
  },
  {
   "cell_type": "code",
   "execution_count": null,
   "id": "fa864930",
   "metadata": {},
   "outputs": [],
   "source": [
    "predictor.plot_ensemble_model()"
   ]
  },
  {
   "cell_type": "code",
   "execution_count": 53,
   "id": "71ec99e7",
   "metadata": {},
   "outputs": [],
   "source": [
    "best_model_name = predictor.model_best"
   ]
  },
  {
   "cell_type": "code",
   "execution_count": 54,
   "id": "2dd818af",
   "metadata": {},
   "outputs": [],
   "source": [
    "def get_ensemble_weights(predictor):\n",
    "    info = predictor.info()\n",
    "    ensemble_weights = {}\n",
    "    for model_name, values in info[\"model_info\"].items():\n",
    "        if \"Ensemble\" in model_name:\n",
    "            children_info = values[\"children_info\"]\n",
    "            ensemble_weights[model_name] = values[\"children_info\"][list(children_info.keys())[0]][\"model_weights\"]\n",
    "    return ensemble_weights"
   ]
  },
  {
   "cell_type": "code",
   "execution_count": null,
   "id": "abe73367",
   "metadata": {},
   "outputs": [],
   "source": [
    "import matplotlib.pyplot as plt\n",
    "import seaborn as sns\n",
    "\n",
    "ensemble_weights = get_ensemble_weights(predictor)\n",
    "\n",
    "for key, value in ensemble_weights.items():\n",
    "    plt.figure(figsize=(6, 6))\n",
    "    plt.pie(value.values(), labels=value.keys(), autopct='%1.1f%%', colors=sns.color_palette('Set2', len(value)))\n",
    "    plt.title(key)\n",
    "    plt.tight_layout()\n",
    "    plt.show()"
   ]
  },
  {
   "cell_type": "code",
   "execution_count": null,
   "id": "884a366b",
   "metadata": {},
   "outputs": [],
   "source": [
    "best_model_score = -leaderboard[leaderboard['model'] == best_model_name]['score_val'].values[0]\n",
    "print(f\"Best Model: {best_model_name}\")\n",
    "print(f\"Validation Score: {best_model_score}\")"
   ]
  },
  {
   "cell_type": "code",
   "execution_count": 57,
   "id": "cfc3ae58",
   "metadata": {},
   "outputs": [],
   "source": [
    "test_preds = predictor.predict(X_test)\n",
    "oof_preds = predictor.predict_oof()"
   ]
  },
  {
   "cell_type": "code",
   "execution_count": null,
   "id": "8748cfc3",
   "metadata": {},
   "outputs": [],
   "source": [
    "import json\n",
    "from pathlib import Path\n",
    "\n",
    "# Save OOF predictions as a CSV file\n",
    "oof_preds_df = pd.DataFrame({\"oof_preds\": oof_preds})\n",
    "oof_preds_df.to_csv(autogluon_folder/\"oof_preds.csv\", index=False)\n",
    "\n",
    "test_preds_df = pd.DataFrame({\"test_preds\": test_preds})\n",
    "test_preds_df.to_csv(autogluon_folder/\"test_preds.csv\", index=False)\n",
    "\n",
    "# with open(autogluon_folder/\"best_params\", \"w\") as f:\n",
    "#     json.dump(best_params, f, indent=4)\n",
    "\n",
    "#joblib.dump(results[\"models\"], \"models.pkl\")"
   ]
  },
  {
   "cell_type": "code",
   "execution_count": null,
   "id": "c658c6af",
   "metadata": {},
   "outputs": [],
   "source": [
    "# # Save OOF predictions as a CSV file\n",
    "# oof_preds_df = pd.DataFrame({\"oof_preds\": oof_preds})\n",
    "# oof_preds_df.to_csv(\"oof_preds\", index=False)\n",
    "# print(\"OOF predictions saved to oof_preds.csv.\")\n",
    "\n",
    "# test_preds_df = pd.DataFrame({\"test_preds\": test_preds})\n",
    "# test_preds_df.to_csv(\"test_preds\", index=False)\n",
    "# print(\"Test predictions saved to test_preds.csv.\")"
   ]
  },
  {
   "cell_type": "markdown",
   "id": "607e1999",
   "metadata": {
    "papermill": {
     "duration": 0.030518,
     "end_time": "2024-12-09T18:27:09.621403",
     "exception": false,
     "start_time": "2024-12-09T18:27:09.590885",
     "status": "completed"
    },
    "tags": []
   },
   "source": [
    "# Submission"
   ]
  },
  {
   "cell_type": "code",
   "execution_count": null,
   "id": "14ee097c",
   "metadata": {},
   "outputs": [],
   "source": [
    "y_pred = np.max(0, np.expm1(test_preds))\n",
    "\n",
    "submission = pd.DataFrame({\n",
    "    'id': X_test.index,  \n",
    "    'Premium Amount': y_pred\n",
    "})\n",
    "\n",
    "FILE_PATH = autogluon_folder/f\"Autogluon_v2_{best_model_score:.4f}.csv\"\n",
    "\n",
    "submission.to_csv(FILE_PATH, index=False)"
   ]
  },
  {
   "cell_type": "code",
   "execution_count": 62,
   "id": "1dacbf49",
   "metadata": {},
   "outputs": [],
   "source": [
    "import os\n",
    "\n",
    "if False: \n",
    "\n",
    "    # Define your message and file paths\n",
    "    COMP_NAME = \"playground-series-s4e12\"\n",
    "\n",
    "    SUBMIT_MESSAGE = f\"Clean AutoGluon: Mean score: {best_model_score:.4f}\"\n",
    "\n",
    "    # Submit to Kaggle\n",
    "    os.system(f'kaggle competitions submit -c {COMP_NAME} -f {FILE_PATH} -m \"{SUBMIT_MESSAGE}\"')"
   ]
  },
  {
   "cell_type": "code",
   "execution_count": null,
   "id": "a2683386",
   "metadata": {},
   "outputs": [],
   "source": []
  }
 ],
 "metadata": {
  "kaggle": {
   "accelerator": "gpu",
   "dataSources": [
    {
     "databundleVersionId": 10305135,
     "sourceId": 84896,
     "sourceType": "competition"
    },
    {
     "datasetId": 5547076,
     "sourceId": 9178166,
     "sourceType": "datasetVersion"
    },
    {
     "sourceId": 211948002,
     "sourceType": "kernelVersion"
    }
   ],
   "dockerImageVersionId": 30805,
   "isGpuEnabled": true,
   "isInternetEnabled": true,
   "language": "python",
   "sourceType": "notebook"
  },
  "kernelspec": {
   "display_name": "kaggle_env",
   "language": "python",
   "name": "python3"
  },
  "language_info": {
   "codemirror_mode": {
    "name": "ipython",
    "version": 3
   },
   "file_extension": ".py",
   "mimetype": "text/x-python",
   "name": "python",
   "nbconvert_exporter": "python",
   "pygments_lexer": "ipython3",
   "version": "3.10.16"
  },
  "papermill": {
   "default_parameters": {},
   "duration": 18880.993655,
   "end_time": "2024-12-09T18:27:12.649632",
   "environment_variables": {},
   "exception": null,
   "input_path": "__notebook__.ipynb",
   "output_path": "__notebook__.ipynb",
   "parameters": {},
   "start_time": "2024-12-09T13:12:31.655977",
   "version": "2.6.0"
  }
 },
 "nbformat": 4,
 "nbformat_minor": 5
}
