{
 "cells": [
  {
   "cell_type": "code",
   "execution_count": 1,
   "id": "615cf318",
   "metadata": {
    "_cell_guid": "b1076dfc-b9ad-4769-8c92-a6c4dae69d19",
    "_uuid": "8f2839f25d086af736a60e9eeb907d3b93b6e0e5",
    "execution": {
     "iopub.execute_input": "2024-12-09T13:12:34.047888Z",
     "iopub.status.busy": "2024-12-09T13:12:34.047597Z",
     "iopub.status.idle": "2024-12-09T13:12:34.716436Z",
     "shell.execute_reply": "2024-12-09T13:12:34.715768Z"
    },
    "papermill": {
     "duration": 0.676501,
     "end_time": "2024-12-09T13:12:34.718408",
     "exception": false,
     "start_time": "2024-12-09T13:12:34.041907",
     "status": "completed"
    },
    "tags": []
   },
   "outputs": [],
   "source": [
    "import numpy as np\n",
    "import os\n",
    "import pandas as pd\n",
    "import sys"
   ]
  },
  {
   "cell_type": "markdown",
   "id": "f1522c74",
   "metadata": {
    "papermill": {
     "duration": 0.004851,
     "end_time": "2024-12-09T13:12:34.727632",
     "exception": false,
     "start_time": "2024-12-09T13:12:34.722781",
     "status": "completed"
    },
    "tags": []
   },
   "source": [
    "# Config"
   ]
  },
  {
   "cell_type": "code",
   "execution_count": 2,
   "id": "25bf2667",
   "metadata": {
    "execution": {
     "iopub.execute_input": "2024-12-09T13:12:34.736529Z",
     "iopub.status.busy": "2024-12-09T13:12:34.736123Z",
     "iopub.status.idle": "2024-12-09T13:12:34.740000Z",
     "shell.execute_reply": "2024-12-09T13:12:34.739354Z"
    },
    "papermill": {
     "duration": 0.01006,
     "end_time": "2024-12-09T13:12:34.741432",
     "exception": false,
     "start_time": "2024-12-09T13:12:34.731372",
     "status": "completed"
    },
    "tags": []
   },
   "outputs": [],
   "source": [
    "HYPER_OPT = True \n",
    "HYPER_OPT_TIME = 8*60*60\n",
    "USE_ORIGINAL_DATA = False \n",
    "SUBMIT_TO_KAGGLE = False\n",
    "COMPUTE_NONLOG = False\n",
    "USE_NONLOG = False"
   ]
  },
  {
   "cell_type": "code",
   "execution_count": 3,
   "id": "636ad8af",
   "metadata": {},
   "outputs": [],
   "source": [
    "# Define the base directory (where the notebook is running)\n",
    "base_dir = os.path.abspath(os.path.join(os.getcwd(), \"..\", \"..\"))\n",
    "\n",
    "# Define the data directory\n",
    "data_dir = os.path.join(base_dir, \"data\")\n",
    "\n",
    "model_dir = os.path.join(base_dir, \"models\")\n",
    "\n",
    "notebooks_dir = os.path.join(base_dir, \"notebooks\")\n",
    "\n",
    "sys.path.append(base_dir)"
   ]
  },
  {
   "cell_type": "markdown",
   "id": "7d1038ad",
   "metadata": {
    "papermill": {
     "duration": 0.0037,
     "end_time": "2024-12-09T13:12:34.787072",
     "exception": false,
     "start_time": "2024-12-09T13:12:34.783372",
     "status": "completed"
    },
    "tags": []
   },
   "source": [
    "# Data Extraction"
   ]
  },
  {
   "cell_type": "code",
   "execution_count": 4,
   "id": "0d745aba",
   "metadata": {},
   "outputs": [],
   "source": [
    "from axyom_utilities.data_extraction import extract_data\n",
    "from axyom_utilities.training import train_model_cv\n",
    "from axyom_utilities.wrappers import CatBoostRegressorWrapper\n",
    "from axyom_utilities.preprocessing import * \n",
    "from toolz import pipe\n",
    "import joblib\n",
    "\n",
    "def get_oof(X_train, y_train, X_test):\n",
    "    \n",
    "    #X_train, y_train, X_test, X_orig, y_orig = extract_data(data_dir, USE_ORIGINAL_DATA, log_transform=False) # IMPORTANT: no log transform\n",
    "\n",
    "    preprocessor = lambda df: pipe(df,\\\n",
    "        preprocess_dates,\n",
    "        all_to_string    \n",
    "    )\n",
    "\n",
    "    X_train = preprocessor(X_train)\n",
    "    X_test = preprocessor(X_test)\n",
    "    \n",
    "    params = {\n",
    "        \"iterations\":500,\n",
    "        \"learning_rate\":0.1,\n",
    "        \"depth\":6,\n",
    "        \"eval_metric\":\"RMSE\",\n",
    "        \"random_seed\":42,\n",
    "        \"verbose\":200,\n",
    "        \"task_type\":'GPU',\n",
    "        \"l2_leaf_reg\" :0.7,\n",
    "    }\n",
    "    \n",
    "    results = train_model_cv(\n",
    "        model=CatBoostRegressorWrapper(**params),\n",
    "        X_train=X_train,\n",
    "        y_train=y_train,\n",
    "        X_test=X_test,\n",
    "        early_stopping_rounds=100,\n",
    "        cv_splits=5\n",
    "    )\n",
    "    \n",
    "    oof, test = results[\"oof_preds\"], results['test_preds']\n",
    "    \n",
    "    joblib.dump((oof, test), \"nonlog_feature/nonlog.pkl\")\n",
    "    \n",
    "    return oof, test\n",
    "\n",
    "\n",
    "\n",
    "# oof_log = pd.read_csv(os.path.join(notebooks_dir, \"Catboost_nonlog\\\\oof_preds_log.csv\"))\n",
    "# oof_nonlog = pd.read_csv(os.path.join(notebooks_dir, \"Catboost_nonlog\\\\oof_preds_nonlog.csv\"))\n",
    "\n",
    "# test_log = pd.read_csv(os.path.join(notebooks_dir, \"Catboost_nonlog\\\\test_preds_log.csv\"))\n",
    "# test_nonlog = pd.read_csv(os.path.join(notebooks_dir, \"Catboost_nonlog\\\\test_preds_nonlog.csv\"))\n",
    "\n",
    "# X_train[\"oof_nonlog\"] = oof_nonlog + np.random.normal(0, 0.01, oof_log.shape) # noise\n",
    "# X_test[\"oof_nonlog\"] = test_nonlog + np.random.normal(0, 0.01, oof_log.shape)\n",
    "\n",
    "# X_test[\"oof_log\"] = test_log\n",
    "# X_train[\"oof_log\"] = oof_log"
   ]
  },
  {
   "cell_type": "code",
   "execution_count": 5,
   "id": "ccf639fb",
   "metadata": {},
   "outputs": [],
   "source": [
    "X_train, y_train, X_test, X_orig, y_orig = extract_data(data_dir, USE_ORIGINAL_DATA, log_transform=True)\n",
    "y_train_nonlog = np.expm1(y_train)\n",
    "\n",
    "if USE_NONLOG:\n",
    "    if COMPUTE_NONLOG:\n",
    "        nonlog_oof_preds, nonlog_test_preds = get_oof(X_train, y_train_nonlog, X_test)\n",
    "    else:\n",
    "        nonlog_oof_preds, nonlog_test_preds = joblib.load('nonlog_feature/cat_non_loged.pkl')\n",
    "    \n",
    "    X_train[\"nonlog\"] = nonlog_oof_preds\n",
    "    X_test[\"nonlog\"] = nonlog_test_preds"
   ]
  },
  {
   "cell_type": "markdown",
   "id": "300f27ae",
   "metadata": {
    "papermill": {
     "duration": 0.003676,
     "end_time": "2024-12-09T13:12:43.939293",
     "exception": false,
     "start_time": "2024-12-09T13:12:43.935617",
     "status": "completed"
    },
    "tags": []
   },
   "source": [
    "# Data Cleaning"
   ]
  },
  {
   "cell_type": "code",
   "execution_count": null,
   "id": "9d42d2df",
   "metadata": {
    "execution": {
     "iopub.execute_input": "2024-12-09T13:12:43.995169Z",
     "iopub.status.busy": "2024-12-09T13:12:43.994928Z",
     "iopub.status.idle": "2024-12-09T13:12:50.925060Z",
     "shell.execute_reply": "2024-12-09T13:12:50.924366Z"
    },
    "papermill": {
     "duration": 6.936729,
     "end_time": "2024-12-09T13:12:50.926967",
     "exception": false,
     "start_time": "2024-12-09T13:12:43.990238",
     "status": "completed"
    },
    "tags": []
   },
   "outputs": [],
   "source": [
    "from axyom_utilities.preprocessing import freq_encode, preprocess_dates, clean_categorical, frequency_encode\n",
    "from toolz import pipe\n",
    "\n",
    "def feature_engineering(df):\n",
    "    \n",
    "    # df = freq_encode(df)\n",
    "    \n",
    "    df['MissingHealth'] = df['Health Score'].isna().astype(int)\n",
    "    df['Claims v Duration'] = df['Previous Claims'] / df['Insurance Duration']\n",
    "    df['Health vs Claims'] = df['Health Score'] / df['Previous Claims']\n",
    "    \n",
    "    def duplicate_int(col, df):\n",
    "        df[col + ' Integer'] = df[col].apply(lambda x: int(x) if pd.notna(x) else x)\n",
    "        df[col] = df[col].fillna('None').astype('string')\n",
    "        \n",
    "        return df\n",
    "    \n",
    "    df = duplicate_int('Health Score', df)\n",
    "    df = duplicate_int('Credit Score', df)\n",
    "    df = duplicate_int('Previous Claims', df)\n",
    "    df = duplicate_int('Annual Income', df)\n",
    "    \n",
    "    df['MissingValuesCount'] = df.isna().sum(axis=1)\n",
    "    \n",
    "    # df = freq_encode(df, 'Customer Feedback')\n",
    "    # df = freq_encode(df, 'Marital Status')\n",
    "    \n",
    "    return df\n",
    "\n",
    "preprocessor = lambda df: pipe(df,\\\n",
    "    preprocess_dates,\n",
    "    clean_categorical,\n",
    "    feature_engineering,  \n",
    ")\n",
    "\n",
    "X_train = preprocessor(X_train)\n",
    "X_test = preprocessor(X_test)\n",
    "if USE_ORIGINAL_DATA:\n",
    "    X_orig = preprocessor(X_orig)\n",
    "    \n",
    "frequency_encode(X_train, X_test, drop_org=False) # data leaking but acceptable in this context\n"
   ]
  },
  {
   "cell_type": "code",
   "execution_count": 7,
   "id": "2f7c627e",
   "metadata": {},
   "outputs": [],
   "source": [
    "# features_ranked = [\n",
    "#     \"Annual Income Integer\",\n",
    "#     \"Credit Score Integer\",\n",
    "#     \"Health Score\",\n",
    "#     \"Credit Score\",\n",
    "#     \"Health Score Integer\",\n",
    "#     \"Health Score_freq\",\n",
    "#     \"Annual Income_freq\",\n",
    "#     \"Annual Income\",\n",
    "#     \"DaysSinceStart\",\n",
    "#     \"Previous Claims\",\n",
    "#     \"Customer Feedback\",\n",
    "#     \"Credit Score_freq\",\n",
    "#     \"Age\",\n",
    "#     \"Vehicle Age\",\n",
    "#     \"Marital Status\",\n",
    "#     \"Week\",\n",
    "#     \"Number of Dependents\",\n",
    "#     \"Insurance Duration\",\n",
    "#     \"Exercise Frequency\",\n",
    "#     \"Day\",\n",
    "#     \"Occupation\",\n",
    "#     \"Property Type\",\n",
    "#     \"Health vs Claims\",\n",
    "#     \"Education Level\",\n",
    "#     \"DayCos\",\n",
    "#     \"Location\",\n",
    "#     \"MissingHealth\",\n",
    "#     \"Claims v Duration\",\n",
    "#     \"Previous Claims_freq\",\n",
    "#     \"Policy Type\",\n",
    "#     \"DaySin\",\n",
    "#     \"Customer Feedback_freq\",\n",
    "#     \"WeekdaySin\",\n",
    "#     \"Previous Claims Integer\",\n",
    "#     \"Occupation_freq\",\n",
    "#     \"Weekday\",\n",
    "#     \"Month\",\n",
    "#     \"WeekdayCos\",\n",
    "#     \"Exercise Frequency_freq\",\n",
    "#     \"Education Level_freq\",\n",
    "#     \"Marital Status_freq\",\n",
    "#     \"Policy Type_freq\",\n",
    "#     \"Location_freq\",\n",
    "#     \"MissingValuesCount\",\n",
    "#     \"Property Type_freq\",\n",
    "#     \"Gender\",\n",
    "#     \"Smoking Status_freq\",\n",
    "#     \"Smoking Status\",\n",
    "#     \"Gender_freq\"\n",
    "# ]\n",
    "\n",
    "# N = len(features_ranked) - 20\n",
    "\n",
    "# columns = features_ranked[:N]\n",
    "\n",
    "# X_train = X_train[columns]\n",
    "\n",
    "# X_test = X_test[columns]"
   ]
  },
  {
   "cell_type": "markdown",
   "id": "2bfe1a39",
   "metadata": {
    "papermill": {
     "duration": 0.003711,
     "end_time": "2024-12-09T13:12:52.399442",
     "exception": false,
     "start_time": "2024-12-09T13:12:52.395731",
     "status": "completed"
    },
    "tags": []
   },
   "source": [
    "# HyperOpt"
   ]
  },
  {
   "cell_type": "code",
   "execution_count": null,
   "id": "3a251a32",
   "metadata": {},
   "outputs": [],
   "source": [
    "from axyom_utilities.hyperparameter_tuning import CatBoostTuner\n",
    "\n",
    "if HYPER_OPT:\n",
    "    catboost_tuner = CatBoostTuner(X_train, y_train, HYPER_OPT_TIME, study_name=None)\n",
    "    best_params = catboost_tuner.tune()\n",
    "    catboost_tuner.plot()\n",
    "else:\n",
    "    best_params = {\n",
    "        'iterations': 7248,\n",
    "        'task_type': 'GPU',\n",
    "        'verbose': False,\n",
    "        'learning_rate': 0.0024025303850357584,\n",
    "        'depth': 14,\n",
    "        'l2_leaf_reg': 0.009054048982222585,\n",
    "        'bagging_temperature': 1.0816358150014032,\n",
    "        'border_count': 157,\n",
    "        'random_strength': 4.069317345142579,\n",
    "        'min_data_in_leaf': 86\n",
    "    }"
   ]
  },
  {
   "cell_type": "code",
   "execution_count": null,
   "id": "743d5c4c",
   "metadata": {
    "execution": {
     "iopub.execute_input": "2024-12-09T18:16:55.241304Z",
     "iopub.status.busy": "2024-12-09T18:16:55.240196Z",
     "iopub.status.idle": "2024-12-09T18:16:55.246167Z",
     "shell.execute_reply": "2024-12-09T18:16:55.245357Z"
    },
    "papermill": {
     "duration": 0.035916,
     "end_time": "2024-12-09T18:16:55.247704",
     "exception": false,
     "start_time": "2024-12-09T18:16:55.211788",
     "status": "completed"
    },
    "tags": []
   },
   "outputs": [],
   "source": [
    "best_params"
   ]
  },
  {
   "cell_type": "code",
   "execution_count": 10,
   "id": "b1e870ef",
   "metadata": {
    "execution": {
     "iopub.execute_input": "2024-12-09T18:16:55.304289Z",
     "iopub.status.busy": "2024-12-09T18:16:55.303586Z",
     "iopub.status.idle": "2024-12-09T18:16:55.307059Z",
     "shell.execute_reply": "2024-12-09T18:16:55.306445Z"
    },
    "papermill": {
     "duration": 0.033579,
     "end_time": "2024-12-09T18:16:55.308644",
     "exception": false,
     "start_time": "2024-12-09T18:16:55.275065",
     "status": "completed"
    },
    "tags": []
   },
   "outputs": [],
   "source": [
    "best_params[\"iterations\"] = 10000"
   ]
  },
  {
   "cell_type": "markdown",
   "id": "912bf058",
   "metadata": {
    "papermill": {
     "duration": 0.032715,
     "end_time": "2024-12-09T18:16:55.371337",
     "exception": false,
     "start_time": "2024-12-09T18:16:55.338622",
     "status": "completed"
    },
    "tags": []
   },
   "source": [
    "# Model Training"
   ]
  },
  {
   "cell_type": "code",
   "execution_count": null,
   "id": "d9ed4579",
   "metadata": {
    "execution": {
     "iopub.execute_input": "2024-12-09T18:16:55.437662Z",
     "iopub.status.busy": "2024-12-09T18:16:55.437325Z",
     "iopub.status.idle": "2024-12-09T18:27:05.981939Z",
     "shell.execute_reply": "2024-12-09T18:27:05.980966Z"
    },
    "papermill": {
     "duration": 610.608804,
     "end_time": "2024-12-09T18:27:06.012560",
     "exception": false,
     "start_time": "2024-12-09T18:16:55.403756",
     "status": "completed"
    },
    "tags": []
   },
   "outputs": [],
   "source": [
    "import json\n",
    "\n",
    "model = CatBoostRegressorWrapper(**best_params)\n",
    "\n",
    "# Use the train_model function to train and evaluate the model\n",
    "results = train_model_cv(\n",
    "    model=model,\n",
    "    X_train=X_train,\n",
    "    y_train=y_train,\n",
    "    X_test=X_test,\n",
    "    X_orig=X_orig,\n",
    "    early_stopping_rounds=100,\n",
    "    cv_splits=5\n",
    ")"
   ]
  },
  {
   "cell_type": "code",
   "execution_count": 12,
   "id": "5803178b",
   "metadata": {},
   "outputs": [],
   "source": [
    "# from sklearn import mean_squared_log_error\n",
    "\n",
    "# def rmsle(y_true, y_pred):\n",
    "#     return np.sqrt(mean_squared_log_error(y_true, y_pred))\n",
    "\n",
    "# rmsle_score = rmsle(y_train, results[\"oof_preds\"])\n",
    "\n",
    "# print(f\"RMSLE score = {rmsle_score}\")"
   ]
  },
  {
   "cell_type": "code",
   "execution_count": null,
   "id": "40b2d112",
   "metadata": {},
   "outputs": [],
   "source": [
    "models = results['models']\n",
    "\n",
    "# Get feature importance\n",
    "feature_importances = models[3].catboost_model_.get_feature_importance(type='PredictionValuesChange')\n",
    "\n",
    "# Map to feature names\n",
    "feature_importance_df = pd.DataFrame({\n",
    "    'Feature': X_train.columns,\n",
    "    'Importance': feature_importances\n",
    "}).sort_values(by='Importance', ascending=False)\n",
    "\n",
    "print(feature_importance_df)"
   ]
  },
  {
   "cell_type": "code",
   "execution_count": 14,
   "id": "76c5d6d4",
   "metadata": {
    "execution": {
     "iopub.execute_input": "2024-12-09T18:27:06.069815Z",
     "iopub.status.busy": "2024-12-09T18:27:06.069512Z",
     "iopub.status.idle": "2024-12-09T18:27:06.074853Z",
     "shell.execute_reply": "2024-12-09T18:27:06.074183Z"
    },
    "papermill": {
     "duration": 0.035663,
     "end_time": "2024-12-09T18:27:06.076253",
     "exception": false,
     "start_time": "2024-12-09T18:27:06.040590",
     "status": "completed"
    },
    "tags": []
   },
   "outputs": [],
   "source": [
    "mean_score = np.mean(results[\"cv_scores\"])\n",
    "std_score = np.std(results[\"cv_scores\"])"
   ]
  },
  {
   "cell_type": "markdown",
   "id": "2d6f1ec1",
   "metadata": {},
   "source": [
    "# Saving"
   ]
  },
  {
   "cell_type": "code",
   "execution_count": 15,
   "id": "bba76357",
   "metadata": {
    "execution": {
     "iopub.execute_input": "2024-12-09T18:27:06.134109Z",
     "iopub.status.busy": "2024-12-09T18:27:06.133614Z",
     "iopub.status.idle": "2024-12-09T18:27:09.560189Z",
     "shell.execute_reply": "2024-12-09T18:27:09.559255Z"
    },
    "papermill": {
     "duration": 3.457335,
     "end_time": "2024-12-09T18:27:09.561802",
     "exception": false,
     "start_time": "2024-12-09T18:27:06.104467",
     "status": "completed"
    },
    "tags": []
   },
   "outputs": [],
   "source": [
    "import joblib\n",
    "import json\n",
    "from pathlib import Path\n",
    "\n",
    "results_dir = Path(f\"{mean_score:.4f}+-{std_score:.4f}\")\n",
    "os.makedirs(results_dir, exist_ok=True)\n",
    "\n",
    "# Save OOF predictions as a CSV file\n",
    "oof_preds_df = pd.DataFrame({\"oof_preds\": results[\"oof_preds\"]})\n",
    "oof_preds_df.to_csv(results_dir/\"oof_preds.csv\", index=False)\n",
    "\n",
    "test_preds_df = pd.DataFrame({\"test_preds\": results[\"test_preds\"]})\n",
    "test_preds_df.to_csv(results_dir/\"test_preds.csv\", index=False)\n",
    "\n",
    "with open(results_dir/\"best_params\", \"w\") as f:\n",
    "    json.dump(best_params, f, indent=4)\n",
    "\n",
    "#joblib.dump(results[\"models\"], \"models.pkl\")"
   ]
  },
  {
   "cell_type": "markdown",
   "id": "607e1999",
   "metadata": {
    "papermill": {
     "duration": 0.030518,
     "end_time": "2024-12-09T18:27:09.621403",
     "exception": false,
     "start_time": "2024-12-09T18:27:09.590885",
     "status": "completed"
    },
    "tags": []
   },
   "source": [
    "# Submission"
   ]
  },
  {
   "cell_type": "code",
   "execution_count": 16,
   "id": "221fab64",
   "metadata": {
    "execution": {
     "iopub.execute_input": "2024-12-09T18:27:09.684611Z",
     "iopub.status.busy": "2024-12-09T18:27:09.683845Z",
     "iopub.status.idle": "2024-12-09T18:27:11.039199Z",
     "shell.execute_reply": "2024-12-09T18:27:11.038523Z"
    },
    "papermill": {
     "duration": 1.388863,
     "end_time": "2024-12-09T18:27:11.041168",
     "exception": false,
     "start_time": "2024-12-09T18:27:09.652305",
     "status": "completed"
    },
    "tags": []
   },
   "outputs": [],
   "source": [
    "y_pred = np.expm1(results['test_preds'])\n",
    "\n",
    "submission = pd.DataFrame({\n",
    "    'id': X_test.index,  \n",
    "    'Premium Amount': y_pred\n",
    "})\n",
    "\n",
    "FILE_PATH = os.path.join(results_dir, f\"Catboost_{mean_score:.4f}+-{std_score:.4f}.csv\")\n",
    "\n",
    "submission.to_csv(FILE_PATH, index=False)"
   ]
  },
  {
   "cell_type": "code",
   "execution_count": 17,
   "id": "1dacbf49",
   "metadata": {},
   "outputs": [],
   "source": [
    "if False: \n",
    "    # Define your message and file paths\n",
    "    COMP_NAME = \"playground-series-s4e12\"\n",
    "\n",
    "    SUBMIT_MESSAGE = \"Catboost_{mean_score:.4f}+-{std_score:.4f}\"\n",
    "\n",
    "    # Submit to Kaggle\n",
    "    os.system(f'kaggle competitions submit -c {COMP_NAME} -f {FILE_PATH} -m \"{SUBMIT_MESSAGE}\"')"
   ]
  },
  {
   "cell_type": "code",
   "execution_count": null,
   "id": "8e1e0fc5",
   "metadata": {},
   "outputs": [],
   "source": []
  }
 ],
 "metadata": {
  "kaggle": {
   "accelerator": "gpu",
   "dataSources": [
    {
     "databundleVersionId": 10305135,
     "sourceId": 84896,
     "sourceType": "competition"
    },
    {
     "datasetId": 5547076,
     "sourceId": 9178166,
     "sourceType": "datasetVersion"
    },
    {
     "sourceId": 211948002,
     "sourceType": "kernelVersion"
    }
   ],
   "dockerImageVersionId": 30805,
   "isGpuEnabled": true,
   "isInternetEnabled": true,
   "language": "python",
   "sourceType": "notebook"
  },
  "kernelspec": {
   "display_name": "kaggle_env",
   "language": "python",
   "name": "python3"
  },
  "language_info": {
   "codemirror_mode": {
    "name": "ipython",
    "version": 3
   },
   "file_extension": ".py",
   "mimetype": "text/x-python",
   "name": "python",
   "nbconvert_exporter": "python",
   "pygments_lexer": "ipython3",
   "version": "3.10.16"
  },
  "papermill": {
   "default_parameters": {},
   "duration": 18880.993655,
   "end_time": "2024-12-09T18:27:12.649632",
   "environment_variables": {},
   "exception": null,
   "input_path": "__notebook__.ipynb",
   "output_path": "__notebook__.ipynb",
   "parameters": {},
   "start_time": "2024-12-09T13:12:31.655977",
   "version": "2.6.0"
  }
 },
 "nbformat": 4,
 "nbformat_minor": 5
}
