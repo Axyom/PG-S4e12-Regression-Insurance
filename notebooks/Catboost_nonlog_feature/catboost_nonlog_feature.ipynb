{
 "cells": [
  {
   "cell_type": "code",
   "execution_count": 1,
   "id": "615cf318",
   "metadata": {
    "_cell_guid": "b1076dfc-b9ad-4769-8c92-a6c4dae69d19",
    "_uuid": "8f2839f25d086af736a60e9eeb907d3b93b6e0e5",
    "execution": {
     "iopub.execute_input": "2024-12-09T13:12:34.047888Z",
     "iopub.status.busy": "2024-12-09T13:12:34.047597Z",
     "iopub.status.idle": "2024-12-09T13:12:34.716436Z",
     "shell.execute_reply": "2024-12-09T13:12:34.715768Z"
    },
    "papermill": {
     "duration": 0.676501,
     "end_time": "2024-12-09T13:12:34.718408",
     "exception": false,
     "start_time": "2024-12-09T13:12:34.041907",
     "status": "completed"
    },
    "tags": []
   },
   "outputs": [],
   "source": [
    "import numpy as np\n",
    "import os\n",
    "import pandas as pd\n",
    "import sys"
   ]
  },
  {
   "cell_type": "markdown",
   "id": "f1522c74",
   "metadata": {
    "papermill": {
     "duration": 0.004851,
     "end_time": "2024-12-09T13:12:34.727632",
     "exception": false,
     "start_time": "2024-12-09T13:12:34.722781",
     "status": "completed"
    },
    "tags": []
   },
   "source": [
    "# Config"
   ]
  },
  {
   "cell_type": "code",
   "execution_count": 2,
   "id": "25bf2667",
   "metadata": {
    "execution": {
     "iopub.execute_input": "2024-12-09T13:12:34.736529Z",
     "iopub.status.busy": "2024-12-09T13:12:34.736123Z",
     "iopub.status.idle": "2024-12-09T13:12:34.740000Z",
     "shell.execute_reply": "2024-12-09T13:12:34.739354Z"
    },
    "papermill": {
     "duration": 0.01006,
     "end_time": "2024-12-09T13:12:34.741432",
     "exception": false,
     "start_time": "2024-12-09T13:12:34.731372",
     "status": "completed"
    },
    "tags": []
   },
   "outputs": [],
   "source": [
    "HYPER_OPT = False \n",
    "HYPER_OPT_TIME = 3*60*60\n",
    "USE_ORIGINAL_DATA = False \n",
    "SUBMIT_TO_KAGGLE = False"
   ]
  },
  {
   "cell_type": "code",
   "execution_count": 3,
   "id": "636ad8af",
   "metadata": {},
   "outputs": [],
   "source": [
    "# Define the base directory (where the notebook is running)\n",
    "base_dir = os.path.abspath(os.path.join(os.getcwd(), \"..\", \"..\"))\n",
    "\n",
    "# Define the data directory\n",
    "data_dir = os.path.join(base_dir, \"data\")\n",
    "\n",
    "model_dir = os.path.join(base_dir, \"models\")\n",
    "\n",
    "notebooks_dir = os.path.join(base_dir, \"notebooks\")\n",
    "\n",
    "sys.path.append(base_dir)"
   ]
  },
  {
   "cell_type": "markdown",
   "id": "7d1038ad",
   "metadata": {
    "papermill": {
     "duration": 0.0037,
     "end_time": "2024-12-09T13:12:34.787072",
     "exception": false,
     "start_time": "2024-12-09T13:12:34.783372",
     "status": "completed"
    },
    "tags": []
   },
   "source": [
    "# Data Extraction"
   ]
  },
  {
   "cell_type": "code",
   "execution_count": 4,
   "id": "0d745aba",
   "metadata": {},
   "outputs": [],
   "source": [
    "from axyom_utilities.data_extraction import extract_data\n",
    "\n",
    "X_train, y_train, X_test, X_orig, y_orig = extract_data(data_dir, USE_ORIGINAL_DATA, log_transform=True)\n",
    "\n",
    "oof_log = pd.read_csv(os.path.join(notebooks_dir, \"Catboost_nonlog\\\\oof_preds_log.csv\"))\n",
    "oof_nonlog = pd.read_csv(os.path.join(notebooks_dir, \"Catboost_nonlog\\\\oof_preds_nonlog.csv\"))\n",
    "\n",
    "test_log = pd.read_csv(os.path.join(notebooks_dir, \"Catboost_nonlog\\\\test_preds_log.csv\"))\n",
    "test_nonlog = pd.read_csv(os.path.join(notebooks_dir, \"Catboost_nonlog\\\\test_preds_nonlog.csv\"))\n",
    "\n",
    "# X_train[\"oof_nonlog\"] = oof_nonlog\n",
    "# X_test[\"oof_nonlog\"] = test_nonlog\n",
    "\n",
    "# X_test[\"oof_log\"] = test_log\n",
    "# X_train[\"oof_log\"] = oof_log"
   ]
  },
  {
   "cell_type": "markdown",
   "id": "300f27ae",
   "metadata": {
    "papermill": {
     "duration": 0.003676,
     "end_time": "2024-12-09T13:12:43.939293",
     "exception": false,
     "start_time": "2024-12-09T13:12:43.935617",
     "status": "completed"
    },
    "tags": []
   },
   "source": [
    "# Data Cleaning"
   ]
  },
  {
   "cell_type": "code",
   "execution_count": 5,
   "id": "9d42d2df",
   "metadata": {
    "execution": {
     "iopub.execute_input": "2024-12-09T13:12:43.995169Z",
     "iopub.status.busy": "2024-12-09T13:12:43.994928Z",
     "iopub.status.idle": "2024-12-09T13:12:50.925060Z",
     "shell.execute_reply": "2024-12-09T13:12:50.924366Z"
    },
    "papermill": {
     "duration": 6.936729,
     "end_time": "2024-12-09T13:12:50.926967",
     "exception": false,
     "start_time": "2024-12-09T13:12:43.990238",
     "status": "completed"
    },
    "tags": []
   },
   "outputs": [],
   "source": [
    "from axyom_utilities.preprocessing import * \n",
    "from toolz import pipe\n",
    "\n",
    "preprocessor = lambda df: pipe(df,\\\n",
    "    preprocess_dates,\n",
    "    health_score_eng,\n",
    "    clean_categorical   \n",
    ")\n",
    "\n",
    "X_train = preprocessor(X_train)\n",
    "X_test = preprocessor(X_test)\n",
    "if USE_ORIGINAL_DATA:\n",
    "    X_orig = preprocessor(X_orig)\n",
    "    \n"
   ]
  },
  {
   "cell_type": "code",
   "execution_count": null,
   "id": "79d99bc3",
   "metadata": {},
   "outputs": [],
   "source": []
  },
  {
   "cell_type": "code",
   "execution_count": 6,
   "id": "8ad0547b",
   "metadata": {},
   "outputs": [
    {
     "name": "stdout",
     "output_type": "stream",
     "text": [
      "<class 'pandas.core.frame.DataFrame'>\n",
      "Index: 1200000 entries, 0 to 1199999\n",
      "Data columns (total 28 columns):\n",
      " #   Column                Non-Null Count    Dtype   \n",
      "---  ------                --------------    -----   \n",
      " 0   Age                   1181295 non-null  float64 \n",
      " 1   Gender                1200000 non-null  category\n",
      " 2   Annual Income         1155051 non-null  float64 \n",
      " 3   Marital Status        1200000 non-null  category\n",
      " 4   Number of Dependents  1090328 non-null  float64 \n",
      " 5   Education Level       1200000 non-null  category\n",
      " 6   Occupation            1200000 non-null  category\n",
      " 7   Health Score          1200000 non-null  string  \n",
      " 8   Location              1200000 non-null  category\n",
      " 9   Policy Type           1200000 non-null  category\n",
      " 10  Previous Claims       835971 non-null   float64 \n",
      " 11  Vehicle Age           1199994 non-null  float64 \n",
      " 12  Credit Score          1062118 non-null  float64 \n",
      " 13  Insurance Duration    1199999 non-null  float64 \n",
      " 14  Customer Feedback     1200000 non-null  category\n",
      " 15  Smoking Status        1200000 non-null  category\n",
      " 16  Exercise Frequency    1200000 non-null  category\n",
      " 17  Property Type         1200000 non-null  category\n",
      " 18  Month                 1200000 non-null  int32   \n",
      " 19  Day                   1200000 non-null  int32   \n",
      " 20  Week                  1200000 non-null  UInt32  \n",
      " 21  Weekday               1200000 non-null  int32   \n",
      " 22  DaySin                1200000 non-null  float64 \n",
      " 23  DayCos                1200000 non-null  float64 \n",
      " 24  WeekdaySin            1200000 non-null  float64 \n",
      " 25  WeekdayCos            1200000 non-null  float64 \n",
      " 26  DaysSinceStart        1200000 non-null  float64 \n",
      " 27  HealthScore           1125924 non-null  float64 \n",
      "dtypes: UInt32(1), category(10), float64(13), int32(3), string(1)\n",
      "memory usage: 168.2 MB\n"
     ]
    }
   ],
   "source": [
    "X_train.info()"
   ]
  },
  {
   "cell_type": "markdown",
   "id": "2bfe1a39",
   "metadata": {
    "papermill": {
     "duration": 0.003711,
     "end_time": "2024-12-09T13:12:52.399442",
     "exception": false,
     "start_time": "2024-12-09T13:12:52.395731",
     "status": "completed"
    },
    "tags": []
   },
   "source": [
    "# HyperOpt"
   ]
  },
  {
   "cell_type": "code",
   "execution_count": 7,
   "id": "3a251a32",
   "metadata": {},
   "outputs": [],
   "source": [
    "from axyom_utilities.hyperparameter_tuning import CatBoostTuner\n",
    "\n",
    "if HYPER_OPT:\n",
    "    #tune_lgbm(X_train, y_train, HYPER_OPT_TIME)\n",
    "    catboost_tuner = CatBoostTuner(X_train, y_train, HYPER_OPT_TIME)\n",
    "    best_params = catboost_tuner.tune()\n",
    "else:\n",
    "    best_params = {\n",
    "        \"iterations\":3000,\n",
    "        \"learning_rate\":0.05,\n",
    "        \"depth\":6,\n",
    "        \"eval_metric\":\"RMSE\",\n",
    "        \"random_seed\":42,\n",
    "        \"verbose\":200,\n",
    "        \"task_type\":'GPU',\n",
    "        \"l2_leaf_reg\" :0.7,\n",
    "    }"
   ]
  },
  {
   "cell_type": "code",
   "execution_count": 8,
   "id": "743d5c4c",
   "metadata": {
    "execution": {
     "iopub.execute_input": "2024-12-09T18:16:55.241304Z",
     "iopub.status.busy": "2024-12-09T18:16:55.240196Z",
     "iopub.status.idle": "2024-12-09T18:16:55.246167Z",
     "shell.execute_reply": "2024-12-09T18:16:55.245357Z"
    },
    "papermill": {
     "duration": 0.035916,
     "end_time": "2024-12-09T18:16:55.247704",
     "exception": false,
     "start_time": "2024-12-09T18:16:55.211788",
     "status": "completed"
    },
    "tags": []
   },
   "outputs": [
    {
     "data": {
      "text/plain": [
       "{'iterations': 3000,\n",
       " 'learning_rate': 0.05,\n",
       " 'depth': 6,\n",
       " 'eval_metric': 'RMSE',\n",
       " 'random_seed': 42,\n",
       " 'verbose': 200,\n",
       " 'task_type': 'GPU',\n",
       " 'l2_leaf_reg': 0.7}"
      ]
     },
     "execution_count": 8,
     "metadata": {},
     "output_type": "execute_result"
    }
   ],
   "source": [
    "best_params"
   ]
  },
  {
   "cell_type": "code",
   "execution_count": 9,
   "id": "b1e870ef",
   "metadata": {
    "execution": {
     "iopub.execute_input": "2024-12-09T18:16:55.304289Z",
     "iopub.status.busy": "2024-12-09T18:16:55.303586Z",
     "iopub.status.idle": "2024-12-09T18:16:55.307059Z",
     "shell.execute_reply": "2024-12-09T18:16:55.306445Z"
    },
    "papermill": {
     "duration": 0.033579,
     "end_time": "2024-12-09T18:16:55.308644",
     "exception": false,
     "start_time": "2024-12-09T18:16:55.275065",
     "status": "completed"
    },
    "tags": []
   },
   "outputs": [],
   "source": [
    "best_params[\"iterations\"] = 10000"
   ]
  },
  {
   "cell_type": "markdown",
   "id": "912bf058",
   "metadata": {
    "papermill": {
     "duration": 0.032715,
     "end_time": "2024-12-09T18:16:55.371337",
     "exception": false,
     "start_time": "2024-12-09T18:16:55.338622",
     "status": "completed"
    },
    "tags": []
   },
   "source": [
    "# Model Training"
   ]
  },
  {
   "cell_type": "code",
   "execution_count": 10,
   "id": "d9ed4579",
   "metadata": {
    "execution": {
     "iopub.execute_input": "2024-12-09T18:16:55.437662Z",
     "iopub.status.busy": "2024-12-09T18:16:55.437325Z",
     "iopub.status.idle": "2024-12-09T18:27:05.981939Z",
     "shell.execute_reply": "2024-12-09T18:27:05.980966Z"
    },
    "papermill": {
     "duration": 610.608804,
     "end_time": "2024-12-09T18:27:06.012560",
     "exception": false,
     "start_time": "2024-12-09T18:16:55.403756",
     "status": "completed"
    },
    "tags": []
   },
   "outputs": [
    {
     "name": "stdout",
     "output_type": "stream",
     "text": [
      "Training fold 1...\n",
      "0:\tlearn: 1.0925977\ttest: 1.0939887\tbest: 1.0939887 (0)\ttotal: 120ms\tremaining: 19m 57s\n",
      "200:\tlearn: 1.0414795\ttest: 1.0394267\tbest: 1.0394267 (200)\ttotal: 15s\tremaining: 12m 12s\n",
      "400:\tlearn: 1.0390510\ttest: 1.0375115\tbest: 1.0375115 (400)\ttotal: 30.7s\tremaining: 12m 13s\n",
      "600:\tlearn: 1.0376895\ttest: 1.0368053\tbest: 1.0368053 (600)\ttotal: 46.6s\tremaining: 12m 8s\n",
      "800:\tlearn: 1.0366531\ttest: 1.0363968\tbest: 1.0363968 (800)\ttotal: 1m 2s\tremaining: 11m 58s\n",
      "1000:\tlearn: 1.0356444\ttest: 1.0360839\tbest: 1.0360837 (999)\ttotal: 1m 18s\tremaining: 11m 45s\n",
      "1200:\tlearn: 1.0347522\ttest: 1.0358386\tbest: 1.0358383 (1198)\ttotal: 1m 34s\tremaining: 11m 33s\n",
      "1400:\tlearn: 1.0339338\ttest: 1.0356986\tbest: 1.0356945 (1384)\ttotal: 1m 50s\tremaining: 11m 19s\n",
      "1600:\tlearn: 1.0331089\ttest: 1.0355555\tbest: 1.0355502 (1557)\ttotal: 2m 6s\tremaining: 11m 5s\n",
      "1800:\tlearn: 1.0323866\ttest: 1.0354303\tbest: 1.0354303 (1800)\ttotal: 2m 23s\tremaining: 10m 52s\n",
      "2000:\tlearn: 1.0316067\ttest: 1.0353132\tbest: 1.0353098 (1996)\ttotal: 2m 39s\tremaining: 10m 36s\n",
      "2200:\tlearn: 1.0308442\ttest: 1.0352376\tbest: 1.0352371 (2194)\ttotal: 2m 55s\tremaining: 10m 22s\n",
      "2400:\tlearn: 1.0301534\ttest: 1.0351785\tbest: 1.0351777 (2394)\ttotal: 3m 12s\tremaining: 10m 8s\n",
      "2600:\tlearn: 1.0294637\ttest: 1.0351448\tbest: 1.0351437 (2594)\ttotal: 3m 28s\tremaining: 9m 53s\n",
      "2800:\tlearn: 1.0287777\ttest: 1.0351176\tbest: 1.0351176 (2799)\ttotal: 3m 45s\tremaining: 9m 38s\n",
      "3000:\tlearn: 1.0281163\ttest: 1.0350897\tbest: 1.0350854 (2996)\ttotal: 4m 1s\tremaining: 9m 23s\n",
      "3200:\tlearn: 1.0274288\ttest: 1.0350518\tbest: 1.0350511 (3196)\ttotal: 4m 17s\tremaining: 9m 7s\n",
      "bestTest = 1.035028243\n",
      "bestIteration = 3286\n",
      "Shrink model to first 3287 iterations.\n",
      "Fold 1 RMSE: 1.0350\n",
      "Training fold 2...\n",
      "0:\tlearn: 1.0930972\ttest: 1.0920166\tbest: 1.0920166 (0)\ttotal: 354ms\tremaining: 58m 54s\n",
      "200:\tlearn: 1.0413203\ttest: 1.0382621\tbest: 1.0382621 (200)\ttotal: 15.2s\tremaining: 12m 18s\n",
      "400:\tlearn: 1.0389563\ttest: 1.0364043\tbest: 1.0364043 (400)\ttotal: 30.7s\tremaining: 12m 14s\n",
      "600:\tlearn: 1.0376454\ttest: 1.0357442\tbest: 1.0357442 (600)\ttotal: 46.6s\tremaining: 12m 8s\n",
      "800:\tlearn: 1.0365264\ttest: 1.0352637\tbest: 1.0352593 (795)\ttotal: 1m 2s\tremaining: 11m 59s\n",
      "1000:\tlearn: 1.0355556\ttest: 1.0350633\tbest: 1.0350615 (997)\ttotal: 1m 18s\tremaining: 11m 47s\n",
      "1200:\tlearn: 1.0346751\ttest: 1.0348824\tbest: 1.0348824 (1200)\ttotal: 1m 34s\tremaining: 11m 35s\n",
      "1400:\tlearn: 1.0338710\ttest: 1.0347635\tbest: 1.0347601 (1392)\ttotal: 1m 51s\tremaining: 11m 22s\n",
      "1600:\tlearn: 1.0330544\ttest: 1.0346158\tbest: 1.0346133 (1585)\ttotal: 2m 7s\tremaining: 11m 8s\n",
      "1800:\tlearn: 1.0322790\ttest: 1.0345361\tbest: 1.0345337 (1796)\ttotal: 2m 23s\tremaining: 10m 54s\n",
      "2000:\tlearn: 1.0315295\ttest: 1.0344993\tbest: 1.0344989 (1979)\ttotal: 2m 39s\tremaining: 10m 39s\n",
      "2200:\tlearn: 1.0308283\ttest: 1.0344361\tbest: 1.0344352 (2154)\ttotal: 2m 56s\tremaining: 10m 24s\n",
      "2400:\tlearn: 1.0301256\ttest: 1.0344045\tbest: 1.0343898 (2305)\ttotal: 3m 12s\tremaining: 10m 10s\n",
      "bestTest = 1.034389759\n",
      "bestIteration = 2305\n",
      "Shrink model to first 2306 iterations.\n",
      "Fold 2 RMSE: 1.0344\n",
      "Training fold 3...\n",
      "0:\tlearn: 1.0932594\ttest: 1.0911581\tbest: 1.0911581 (0)\ttotal: 138ms\tremaining: 22m 55s\n",
      "200:\tlearn: 1.0415656\ttest: 1.0375769\tbest: 1.0375769 (200)\ttotal: 15.1s\tremaining: 12m 17s\n",
      "400:\tlearn: 1.0392140\ttest: 1.0356459\tbest: 1.0356459 (400)\ttotal: 30.7s\tremaining: 12m 15s\n",
      "600:\tlearn: 1.0377307\ttest: 1.0347911\tbest: 1.0347911 (600)\ttotal: 46.7s\tremaining: 12m 10s\n",
      "800:\tlearn: 1.0367165\ttest: 1.0344402\tbest: 1.0344402 (800)\ttotal: 1m 2s\tremaining: 11m 59s\n",
      "1000:\tlearn: 1.0357713\ttest: 1.0341485\tbest: 1.0341461 (994)\ttotal: 1m 18s\tremaining: 11m 47s\n",
      "1200:\tlearn: 1.0349084\ttest: 1.0339474\tbest: 1.0339474 (1200)\ttotal: 1m 35s\tremaining: 11m 36s\n",
      "1400:\tlearn: 1.0340764\ttest: 1.0337780\tbest: 1.0337780 (1400)\ttotal: 1m 51s\tremaining: 11m 24s\n",
      "1600:\tlearn: 1.0332855\ttest: 1.0336650\tbest: 1.0336645 (1598)\ttotal: 2m 8s\tremaining: 11m 11s\n",
      "1800:\tlearn: 1.0325109\ttest: 1.0335666\tbest: 1.0335666 (1800)\ttotal: 2m 24s\tremaining: 10m 57s\n",
      "2000:\tlearn: 1.0317844\ttest: 1.0335142\tbest: 1.0335131 (1995)\ttotal: 2m 40s\tremaining: 10m 42s\n",
      "2200:\tlearn: 1.0311243\ttest: 1.0334681\tbest: 1.0334681 (2200)\ttotal: 2m 57s\tremaining: 10m 28s\n",
      "2400:\tlearn: 1.0304361\ttest: 1.0334003\tbest: 1.0333989 (2397)\ttotal: 3m 13s\tremaining: 10m 13s\n",
      "2600:\tlearn: 1.0297452\ttest: 1.0333475\tbest: 1.0333425 (2528)\ttotal: 3m 30s\tremaining: 9m 58s\n",
      "2800:\tlearn: 1.0290595\ttest: 1.0332980\tbest: 1.0332884 (2754)\ttotal: 3m 46s\tremaining: 9m 42s\n",
      "bestTest = 1.033288389\n",
      "bestIteration = 2754\n",
      "Shrink model to first 2755 iterations.\n",
      "Fold 3 RMSE: 1.0333\n",
      "Training fold 4...\n",
      "0:\tlearn: 1.0925117\ttest: 1.0942407\tbest: 1.0942407 (0)\ttotal: 142ms\tremaining: 23m 35s\n",
      "200:\tlearn: 1.0410956\ttest: 1.0396086\tbest: 1.0396086 (200)\ttotal: 15s\tremaining: 12m 9s\n",
      "400:\tlearn: 1.0387392\ttest: 1.0377505\tbest: 1.0377487 (398)\ttotal: 30.4s\tremaining: 12m 8s\n",
      "600:\tlearn: 1.0373294\ttest: 1.0370018\tbest: 1.0370018 (600)\ttotal: 46.3s\tremaining: 12m 3s\n",
      "800:\tlearn: 1.0362468\ttest: 1.0365612\tbest: 1.0365612 (800)\ttotal: 1m 2s\tremaining: 11m 52s\n",
      "1000:\tlearn: 1.0353123\ttest: 1.0362977\tbest: 1.0362967 (998)\ttotal: 1m 18s\tremaining: 11m 42s\n",
      "1200:\tlearn: 1.0344333\ttest: 1.0360539\tbest: 1.0360539 (1200)\ttotal: 1m 34s\tremaining: 11m 31s\n",
      "1400:\tlearn: 1.0336278\ttest: 1.0359219\tbest: 1.0359219 (1400)\ttotal: 1m 50s\tremaining: 11m 18s\n",
      "1600:\tlearn: 1.0328265\ttest: 1.0357803\tbest: 1.0357803 (1600)\ttotal: 2m 6s\tremaining: 11m 5s\n",
      "1800:\tlearn: 1.0320095\ttest: 1.0356574\tbest: 1.0356520 (1785)\ttotal: 2m 23s\tremaining: 10m 52s\n",
      "2000:\tlearn: 1.0312724\ttest: 1.0355656\tbest: 1.0355630 (1982)\ttotal: 2m 39s\tremaining: 10m 38s\n",
      "2200:\tlearn: 1.0305505\ttest: 1.0354923\tbest: 1.0354918 (2187)\ttotal: 2m 56s\tremaining: 10m 24s\n",
      "2400:\tlearn: 1.0298436\ttest: 1.0354257\tbest: 1.0354217 (2396)\ttotal: 3m 12s\tremaining: 10m 10s\n",
      "2600:\tlearn: 1.0291296\ttest: 1.0353620\tbest: 1.0353620 (2600)\ttotal: 3m 29s\tremaining: 9m 55s\n",
      "2800:\tlearn: 1.0284389\ttest: 1.0353095\tbest: 1.0353058 (2773)\ttotal: 3m 45s\tremaining: 9m 40s\n",
      "3000:\tlearn: 1.0277764\ttest: 1.0352893\tbest: 1.0352893 (3000)\ttotal: 4m 2s\tremaining: 9m 25s\n",
      "bestTest = 1.035266264\n",
      "bestIteration = 3043\n",
      "Shrink model to first 3044 iterations.\n",
      "Fold 4 RMSE: 1.0353\n",
      "Training fold 5...\n",
      "0:\tlearn: 1.0928640\ttest: 1.0929292\tbest: 1.0929292 (0)\ttotal: 77.8ms\tremaining: 12m 58s\n",
      "200:\tlearn: 1.0414837\ttest: 1.0387283\tbest: 1.0387283 (200)\ttotal: 15s\tremaining: 12m 9s\n",
      "400:\tlearn: 1.0390188\ttest: 1.0368315\tbest: 1.0368315 (400)\ttotal: 30.7s\tremaining: 12m 15s\n",
      "600:\tlearn: 1.0375947\ttest: 1.0361037\tbest: 1.0361023 (598)\ttotal: 46.6s\tremaining: 12m 9s\n",
      "800:\tlearn: 1.0365134\ttest: 1.0357189\tbest: 1.0357189 (800)\ttotal: 1m 2s\tremaining: 12m 2s\n",
      "1000:\tlearn: 1.0355878\ttest: 1.0355012\tbest: 1.0355000 (989)\ttotal: 1m 19s\tremaining: 11m 52s\n",
      "1200:\tlearn: 1.0347054\ttest: 1.0353280\tbest: 1.0353275 (1199)\ttotal: 1m 35s\tremaining: 11m 38s\n",
      "1400:\tlearn: 1.0338622\ttest: 1.0351477\tbest: 1.0351471 (1393)\ttotal: 1m 51s\tremaining: 11m 24s\n",
      "1600:\tlearn: 1.0331021\ttest: 1.0350407\tbest: 1.0350383 (1592)\ttotal: 2m 7s\tremaining: 11m 10s\n",
      "1800:\tlearn: 1.0323315\ttest: 1.0349258\tbest: 1.0349256 (1798)\ttotal: 2m 24s\tremaining: 10m 57s\n",
      "2000:\tlearn: 1.0315791\ttest: 1.0348602\tbest: 1.0348584 (1991)\ttotal: 2m 40s\tremaining: 10m 42s\n",
      "2200:\tlearn: 1.0308462\ttest: 1.0348132\tbest: 1.0348131 (2186)\ttotal: 2m 57s\tremaining: 10m 27s\n",
      "2400:\tlearn: 1.0301479\ttest: 1.0347792\tbest: 1.0347786 (2397)\ttotal: 3m 13s\tremaining: 10m 13s\n",
      "2600:\tlearn: 1.0294887\ttest: 1.0347434\tbest: 1.0347416 (2588)\ttotal: 3m 30s\tremaining: 9m 58s\n",
      "bestTest = 1.034724073\n",
      "bestIteration = 2638\n",
      "Shrink model to first 2639 iterations.\n",
      "Fold 5 RMSE: 1.0347\n",
      "Mean CV RMSE: 1.0345 ± 0.0007\n"
     ]
    }
   ],
   "source": [
    "from axyom_utilities.training import train_model_cv\n",
    "from axyom_utilities.wrappers import CatBoostRegressorWrapper\n",
    "import json\n",
    "\n",
    "model = CatBoostRegressorWrapper(**best_params)\n",
    "\n",
    "# Use the train_model function to train and evaluate the model\n",
    "results = train_model_cv(\n",
    "    model=model,\n",
    "    X_train=X_train,\n",
    "    y_train=y_train,\n",
    "    X_test=X_test,\n",
    "    X_orig=X_orig,\n",
    "    early_stopping_rounds=100,\n",
    "    cv_splits=5\n",
    ")"
   ]
  },
  {
   "cell_type": "code",
   "execution_count": null,
   "id": "5803178b",
   "metadata": {},
   "outputs": [],
   "source": [
    "# from sklearn import mean_squared_log_error\n",
    "\n",
    "# def rmsle(y_true, y_pred):\n",
    "#     return np.sqrt(mean_squared_log_error(y_true, y_pred))\n",
    "\n",
    "# rmsle_score = rmsle(y_train, results[\"oof_preds\"])\n",
    "\n",
    "# print(f\"RMSLE score = {rmsle_score}\")"
   ]
  },
  {
   "cell_type": "code",
   "execution_count": 12,
   "id": "76c5d6d4",
   "metadata": {
    "execution": {
     "iopub.execute_input": "2024-12-09T18:27:06.069815Z",
     "iopub.status.busy": "2024-12-09T18:27:06.069512Z",
     "iopub.status.idle": "2024-12-09T18:27:06.074853Z",
     "shell.execute_reply": "2024-12-09T18:27:06.074183Z"
    },
    "papermill": {
     "duration": 0.035663,
     "end_time": "2024-12-09T18:27:06.076253",
     "exception": false,
     "start_time": "2024-12-09T18:27:06.040590",
     "status": "completed"
    },
    "tags": []
   },
   "outputs": [],
   "source": [
    "mean_score = np.mean(results[\"cv_scores\"])\n",
    "std_score = np.std(results[\"cv_scores\"])\n",
    "\n",
    "# Prepare the data\n",
    "data = {\n",
    "    \"mean_score\": mean_score,\n",
    "    \"std_score\": std_score\n",
    "}\n",
    "\n",
    "# Save to a JSON file\n",
    "with open(\"score.json\", \"w\") as json_file:\n",
    "    json.dump(data, json_file, indent=4)  # Use `indent` for readability"
   ]
  },
  {
   "cell_type": "code",
   "execution_count": 13,
   "id": "bba76357",
   "metadata": {
    "execution": {
     "iopub.execute_input": "2024-12-09T18:27:06.134109Z",
     "iopub.status.busy": "2024-12-09T18:27:06.133614Z",
     "iopub.status.idle": "2024-12-09T18:27:09.560189Z",
     "shell.execute_reply": "2024-12-09T18:27:09.559255Z"
    },
    "papermill": {
     "duration": 3.457335,
     "end_time": "2024-12-09T18:27:09.561802",
     "exception": false,
     "start_time": "2024-12-09T18:27:06.104467",
     "status": "completed"
    },
    "tags": []
   },
   "outputs": [],
   "source": [
    "import joblib\n",
    "\n",
    "name = f\"catboost_nonlog_feature_rmsle_{mean_score}\"\n",
    "\n",
    "# Save OOF predictions as a CSV file\n",
    "oof_preds_df = pd.DataFrame({f\"preds_{name}\": results[\"oof_preds\"]})\n",
    "oof_preds_df.to_csv(f\"oof_preds_{name}.csv\", index=False)\n",
    "\n",
    "test_preds_df = pd.DataFrame({f\"preds_{name}\": results[\"test_preds\"]})\n",
    "test_preds_df.to_csv(f\"test_preds_{name}.csv\", index=False)\n",
    "\n",
    "#joblib.dump(results[\"models\"], \"models.pkl\")"
   ]
  },
  {
   "cell_type": "markdown",
   "id": "607e1999",
   "metadata": {
    "papermill": {
     "duration": 0.030518,
     "end_time": "2024-12-09T18:27:09.621403",
     "exception": false,
     "start_time": "2024-12-09T18:27:09.590885",
     "status": "completed"
    },
    "tags": []
   },
   "source": [
    "# Submission"
   ]
  },
  {
   "cell_type": "code",
   "execution_count": 14,
   "id": "221fab64",
   "metadata": {
    "execution": {
     "iopub.execute_input": "2024-12-09T18:27:09.684611Z",
     "iopub.status.busy": "2024-12-09T18:27:09.683845Z",
     "iopub.status.idle": "2024-12-09T18:27:11.039199Z",
     "shell.execute_reply": "2024-12-09T18:27:11.038523Z"
    },
    "papermill": {
     "duration": 1.388863,
     "end_time": "2024-12-09T18:27:11.041168",
     "exception": false,
     "start_time": "2024-12-09T18:27:09.652305",
     "status": "completed"
    },
    "tags": []
   },
   "outputs": [],
   "source": [
    "y_pred = np.expm1(results['test_preds'])\n",
    "\n",
    "submission = pd.DataFrame({\n",
    "    'id': X_test.index,  \n",
    "    'Premium Amount': y_pred\n",
    "})\n",
    "\n",
    "FILE_PATH = f\"{name}.csv\"\n",
    "\n",
    "submission.to_csv(FILE_PATH, index=False)"
   ]
  },
  {
   "cell_type": "code",
   "execution_count": 15,
   "id": "1dacbf49",
   "metadata": {},
   "outputs": [],
   "source": [
    "if True: \n",
    "    # Define your message and file paths\n",
    "    COMP_NAME = \"playground-series-s4e12\"\n",
    "\n",
    "    SUBMIT_MESSAGE = name\n",
    "\n",
    "    # Submit to Kaggle\n",
    "    os.system(f'kaggle competitions submit -c {COMP_NAME} -f {FILE_PATH} -m \"{SUBMIT_MESSAGE}\"')"
   ]
  },
  {
   "cell_type": "code",
   "execution_count": null,
   "id": "8e1e0fc5",
   "metadata": {},
   "outputs": [],
   "source": []
  }
 ],
 "metadata": {
  "kaggle": {
   "accelerator": "gpu",
   "dataSources": [
    {
     "databundleVersionId": 10305135,
     "sourceId": 84896,
     "sourceType": "competition"
    },
    {
     "datasetId": 5547076,
     "sourceId": 9178166,
     "sourceType": "datasetVersion"
    },
    {
     "sourceId": 211948002,
     "sourceType": "kernelVersion"
    }
   ],
   "dockerImageVersionId": 30805,
   "isGpuEnabled": true,
   "isInternetEnabled": true,
   "language": "python",
   "sourceType": "notebook"
  },
  "kernelspec": {
   "display_name": "kaggle_env",
   "language": "python",
   "name": "python3"
  },
  "language_info": {
   "codemirror_mode": {
    "name": "ipython",
    "version": 3
   },
   "file_extension": ".py",
   "mimetype": "text/x-python",
   "name": "python",
   "nbconvert_exporter": "python",
   "pygments_lexer": "ipython3",
   "version": "3.10.16"
  },
  "papermill": {
   "default_parameters": {},
   "duration": 18880.993655,
   "end_time": "2024-12-09T18:27:12.649632",
   "environment_variables": {},
   "exception": null,
   "input_path": "__notebook__.ipynb",
   "output_path": "__notebook__.ipynb",
   "parameters": {},
   "start_time": "2024-12-09T13:12:31.655977",
   "version": "2.6.0"
  }
 },
 "nbformat": 4,
 "nbformat_minor": 5
}
