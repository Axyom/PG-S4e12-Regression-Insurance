{
 "cells": [
  {
   "cell_type": "code",
   "execution_count": 1,
   "id": "615cf318",
   "metadata": {
    "_cell_guid": "b1076dfc-b9ad-4769-8c92-a6c4dae69d19",
    "_uuid": "8f2839f25d086af736a60e9eeb907d3b93b6e0e5",
    "execution": {
     "iopub.execute_input": "2024-12-09T13:12:34.047888Z",
     "iopub.status.busy": "2024-12-09T13:12:34.047597Z",
     "iopub.status.idle": "2024-12-09T13:12:34.716436Z",
     "shell.execute_reply": "2024-12-09T13:12:34.715768Z"
    },
    "papermill": {
     "duration": 0.676501,
     "end_time": "2024-12-09T13:12:34.718408",
     "exception": false,
     "start_time": "2024-12-09T13:12:34.041907",
     "status": "completed"
    },
    "tags": []
   },
   "outputs": [],
   "source": [
    "import numpy as np\n",
    "import os\n",
    "import pandas as pd\n",
    "import sys"
   ]
  },
  {
   "cell_type": "markdown",
   "id": "f1522c74",
   "metadata": {
    "papermill": {
     "duration": 0.004851,
     "end_time": "2024-12-09T13:12:34.727632",
     "exception": false,
     "start_time": "2024-12-09T13:12:34.722781",
     "status": "completed"
    },
    "tags": []
   },
   "source": [
    "# Config"
   ]
  },
  {
   "cell_type": "code",
   "execution_count": 2,
   "id": "25bf2667",
   "metadata": {
    "execution": {
     "iopub.execute_input": "2024-12-09T13:12:34.736529Z",
     "iopub.status.busy": "2024-12-09T13:12:34.736123Z",
     "iopub.status.idle": "2024-12-09T13:12:34.740000Z",
     "shell.execute_reply": "2024-12-09T13:12:34.739354Z"
    },
    "papermill": {
     "duration": 0.01006,
     "end_time": "2024-12-09T13:12:34.741432",
     "exception": false,
     "start_time": "2024-12-09T13:12:34.731372",
     "status": "completed"
    },
    "tags": []
   },
   "outputs": [],
   "source": [
    "HYPER_OPT = True \n",
    "HYPER_OPT_TIME = 1*60*60\n",
    "USE_ORIGINAL_DATA = False \n",
    "SUBMIT_TO_KAGGLE = False\n",
    "COMPUTE_NONLOG = False\n",
    "USE_NONLOG = False"
   ]
  },
  {
   "cell_type": "code",
   "execution_count": 3,
   "id": "636ad8af",
   "metadata": {},
   "outputs": [],
   "source": [
    "# Define the base directory (where the notebook is running)\n",
    "base_dir = os.path.abspath(os.path.join(os.getcwd(), \"..\", \"..\"))\n",
    "\n",
    "# Define the data directory\n",
    "data_dir = os.path.join(base_dir, \"data\")\n",
    "\n",
    "model_dir = os.path.join(base_dir, \"models\")\n",
    "\n",
    "notebooks_dir = os.path.join(base_dir, \"notebooks\")\n",
    "\n",
    "sys.path.append(base_dir)"
   ]
  },
  {
   "cell_type": "markdown",
   "id": "7d1038ad",
   "metadata": {
    "papermill": {
     "duration": 0.0037,
     "end_time": "2024-12-09T13:12:34.787072",
     "exception": false,
     "start_time": "2024-12-09T13:12:34.783372",
     "status": "completed"
    },
    "tags": []
   },
   "source": [
    "# Data Extraction"
   ]
  },
  {
   "cell_type": "code",
   "execution_count": 4,
   "id": "0d745aba",
   "metadata": {},
   "outputs": [],
   "source": [
    "from axyom_utilities.data_extraction import extract_data\n",
    "from axyom_utilities.training import train_model_cv\n",
    "from axyom_utilities.wrappers import CatBoostRegressorWrapper\n",
    "from axyom_utilities.preprocessing import * \n",
    "from toolz import pipe\n",
    "import joblib\n",
    "\n",
    "def get_oof(X_train, y_train, X_test):\n",
    "    \n",
    "    #X_train, y_train, X_test, X_orig, y_orig = extract_data(data_dir, USE_ORIGINAL_DATA, log_transform=False) # IMPORTANT: no log transform\n",
    "\n",
    "    preprocessor = lambda df: pipe(df,\\\n",
    "        preprocess_dates,\n",
    "        all_to_string    \n",
    "    )\n",
    "\n",
    "    X_train = preprocessor(X_train)\n",
    "    X_test = preprocessor(X_test)\n",
    "    \n",
    "    params = {\n",
    "        \"iterations\":500,\n",
    "        \"learning_rate\":0.1,\n",
    "        \"depth\":6,\n",
    "        \"eval_metric\":\"RMSE\",\n",
    "        \"random_seed\":42,\n",
    "        \"verbose\":200,\n",
    "        \"task_type\":'GPU',\n",
    "        \"l2_leaf_reg\" :0.7,\n",
    "    }\n",
    "    \n",
    "    results = train_model_cv(\n",
    "        model=CatBoostRegressorWrapper(**params),\n",
    "        X_train=X_train,\n",
    "        y_train=y_train,\n",
    "        X_test=X_test,\n",
    "        early_stopping_rounds=100,\n",
    "        cv_splits=5\n",
    "    )\n",
    "    \n",
    "    oof, test = results[\"oof_preds\"], results['test_preds']\n",
    "    \n",
    "    joblib.dump((oof, test), \"nonlog_feature/nonlog.pkl\")\n",
    "    \n",
    "    return oof, test\n",
    "\n",
    "\n",
    "\n",
    "# oof_log = pd.read_csv(os.path.join(notebooks_dir, \"Catboost_nonlog\\\\oof_preds_log.csv\"))\n",
    "# oof_nonlog = pd.read_csv(os.path.join(notebooks_dir, \"Catboost_nonlog\\\\oof_preds_nonlog.csv\"))\n",
    "\n",
    "# test_log = pd.read_csv(os.path.join(notebooks_dir, \"Catboost_nonlog\\\\test_preds_log.csv\"))\n",
    "# test_nonlog = pd.read_csv(os.path.join(notebooks_dir, \"Catboost_nonlog\\\\test_preds_nonlog.csv\"))\n",
    "\n",
    "# X_train[\"oof_nonlog\"] = oof_nonlog + np.random.normal(0, 0.01, oof_log.shape) # noise\n",
    "# X_test[\"oof_nonlog\"] = test_nonlog + np.random.normal(0, 0.01, oof_log.shape)\n",
    "\n",
    "# X_test[\"oof_log\"] = test_log\n",
    "# X_train[\"oof_log\"] = oof_log"
   ]
  },
  {
   "cell_type": "code",
   "execution_count": 5,
   "id": "ccf639fb",
   "metadata": {},
   "outputs": [],
   "source": [
    "X_train, y_train, X_test, X_orig, y_orig = extract_data(data_dir, USE_ORIGINAL_DATA, log_transform=True)\n",
    "y_train_nonlog = np.expm1(y_train)\n",
    "\n",
    "if USE_NONLOG:\n",
    "    if COMPUTE_NONLOG:\n",
    "        nonlog_oof_preds, nonlog_test_preds = get_oof(X_train, y_train_nonlog, X_test)\n",
    "    else:\n",
    "        nonlog_oof_preds, nonlog_test_preds = joblib.load('nonlog_feature/cat_non_loged.pkl')\n",
    "    \n",
    "    X_train[\"nonlog\"] = nonlog_oof_preds\n",
    "    X_test[\"nonlog\"] = nonlog_test_preds"
   ]
  },
  {
   "cell_type": "markdown",
   "id": "300f27ae",
   "metadata": {
    "papermill": {
     "duration": 0.003676,
     "end_time": "2024-12-09T13:12:43.939293",
     "exception": false,
     "start_time": "2024-12-09T13:12:43.935617",
     "status": "completed"
    },
    "tags": []
   },
   "source": [
    "# Data Cleaning"
   ]
  },
  {
   "cell_type": "code",
   "execution_count": 6,
   "id": "9d42d2df",
   "metadata": {
    "execution": {
     "iopub.execute_input": "2024-12-09T13:12:43.995169Z",
     "iopub.status.busy": "2024-12-09T13:12:43.994928Z",
     "iopub.status.idle": "2024-12-09T13:12:50.925060Z",
     "shell.execute_reply": "2024-12-09T13:12:50.924366Z"
    },
    "papermill": {
     "duration": 6.936729,
     "end_time": "2024-12-09T13:12:50.926967",
     "exception": false,
     "start_time": "2024-12-09T13:12:43.990238",
     "status": "completed"
    },
    "tags": []
   },
   "outputs": [],
   "source": [
    "from axyom_utilities.preprocessing import freq_encode, preprocess_dates, clean_categorical\n",
    "from toolz import pipe\n",
    "\n",
    "def feature_engineering(df):\n",
    "    \n",
    "    # df = freq_encode(df)\n",
    "    \n",
    "    df['MissingHealth'] = df['Health Score'].isna().astype(int)\n",
    "    df['Claims v Duration'] = df['Previous Claims'] / df['Insurance Duration']\n",
    "    df['Health vs Claims'] = df['Health Score'] / df['Previous Claims']\n",
    "    \n",
    "    def duplicate_int(col, df):\n",
    "        df[col + ' Integer'] = df[col].apply(lambda x: int(x) if pd.notna(x) else x)\n",
    "        df[col] = df[col].fillna('None').astype('string')\n",
    "        \n",
    "        return df\n",
    "    \n",
    "    df = duplicate_int('Health Score', df)\n",
    "    df = duplicate_int('Credit Score', df)\n",
    "    df = duplicate_int('Previous Claims', df)\n",
    "    df = duplicate_int('Annual Income', df)\n",
    "    \n",
    "    df['MissingValuesCount'] = df.isna().sum(axis=1)\n",
    "    \n",
    "    df = freq_encode(df, 'Customer Feedback')\n",
    "    df = freq_encode(df, 'Marital Status')\n",
    "    \n",
    "    return df\n",
    "\n",
    "preprocessor = lambda df: pipe(df,\\\n",
    "    preprocess_dates,\n",
    "    clean_categorical,\n",
    "    feature_engineering,  \n",
    ")\n",
    "\n",
    "X_train = preprocessor(X_train)\n",
    "X_test = preprocessor(X_test)\n",
    "if USE_ORIGINAL_DATA:\n",
    "    X_orig = preprocessor(X_orig)\n",
    "    \n",
    "#frequency_encode(X_train, X_test, drop_org=False) # data leaking but acceptable in this context\n"
   ]
  },
  {
   "cell_type": "markdown",
   "id": "2bfe1a39",
   "metadata": {
    "papermill": {
     "duration": 0.003711,
     "end_time": "2024-12-09T13:12:52.399442",
     "exception": false,
     "start_time": "2024-12-09T13:12:52.395731",
     "status": "completed"
    },
    "tags": []
   },
   "source": [
    "# HyperOpt"
   ]
  },
  {
   "cell_type": "code",
   "execution_count": 7,
   "id": "3a251a32",
   "metadata": {},
   "outputs": [],
   "source": [
    "from axyom_utilities.hyperparameter_tuning import CatBoostTuner\n",
    "\n",
    "if HYPER_OPT:\n",
    "    catboost_tuner = CatBoostTuner(X_train, y_train, HYPER_OPT_TIME)\n",
    "    best_params = catboost_tuner.tune()\n",
    "else:\n",
    "    best_params = {\n",
    "        \"iterations\":3000,\n",
    "        \"learning_rate\":0.05,\n",
    "        \"depth\":6,\n",
    "        \"eval_metric\":\"RMSE\",\n",
    "        \"random_seed\":42,\n",
    "        \"verbose\":200,\n",
    "        \"task_type\":'GPU',\n",
    "        \"l2_leaf_reg\" :0.7,\n",
    "    }"
   ]
  },
  {
   "cell_type": "code",
   "execution_count": 8,
   "id": "743d5c4c",
   "metadata": {
    "execution": {
     "iopub.execute_input": "2024-12-09T18:16:55.241304Z",
     "iopub.status.busy": "2024-12-09T18:16:55.240196Z",
     "iopub.status.idle": "2024-12-09T18:16:55.246167Z",
     "shell.execute_reply": "2024-12-09T18:16:55.245357Z"
    },
    "papermill": {
     "duration": 0.035916,
     "end_time": "2024-12-09T18:16:55.247704",
     "exception": false,
     "start_time": "2024-12-09T18:16:55.211788",
     "status": "completed"
    },
    "tags": []
   },
   "outputs": [
    {
     "data": {
      "text/plain": [
       "{'iterations': 3000,\n",
       " 'learning_rate': 0.05,\n",
       " 'depth': 6,\n",
       " 'eval_metric': 'RMSE',\n",
       " 'random_seed': 42,\n",
       " 'verbose': 200,\n",
       " 'task_type': 'GPU',\n",
       " 'l2_leaf_reg': 0.7}"
      ]
     },
     "execution_count": 8,
     "metadata": {},
     "output_type": "execute_result"
    }
   ],
   "source": [
    "best_params"
   ]
  },
  {
   "cell_type": "code",
   "execution_count": 9,
   "id": "b1e870ef",
   "metadata": {
    "execution": {
     "iopub.execute_input": "2024-12-09T18:16:55.304289Z",
     "iopub.status.busy": "2024-12-09T18:16:55.303586Z",
     "iopub.status.idle": "2024-12-09T18:16:55.307059Z",
     "shell.execute_reply": "2024-12-09T18:16:55.306445Z"
    },
    "papermill": {
     "duration": 0.033579,
     "end_time": "2024-12-09T18:16:55.308644",
     "exception": false,
     "start_time": "2024-12-09T18:16:55.275065",
     "status": "completed"
    },
    "tags": []
   },
   "outputs": [],
   "source": [
    "best_params[\"iterations\"] = 10000"
   ]
  },
  {
   "cell_type": "markdown",
   "id": "912bf058",
   "metadata": {
    "papermill": {
     "duration": 0.032715,
     "end_time": "2024-12-09T18:16:55.371337",
     "exception": false,
     "start_time": "2024-12-09T18:16:55.338622",
     "status": "completed"
    },
    "tags": []
   },
   "source": [
    "# Model Training"
   ]
  },
  {
   "cell_type": "code",
   "execution_count": 10,
   "id": "d9ed4579",
   "metadata": {
    "execution": {
     "iopub.execute_input": "2024-12-09T18:16:55.437662Z",
     "iopub.status.busy": "2024-12-09T18:16:55.437325Z",
     "iopub.status.idle": "2024-12-09T18:27:05.981939Z",
     "shell.execute_reply": "2024-12-09T18:27:05.980966Z"
    },
    "papermill": {
     "duration": 610.608804,
     "end_time": "2024-12-09T18:27:06.012560",
     "exception": false,
     "start_time": "2024-12-09T18:16:55.403756",
     "status": "completed"
    },
    "tags": []
   },
   "outputs": [
    {
     "name": "stdout",
     "output_type": "stream",
     "text": [
      "Training fold 1...\n",
      "0:\tlearn: 1.0911998\ttest: 1.0919006\tbest: 1.0919006 (0)\ttotal: 104ms\tremaining: 17m 21s\n",
      "200:\tlearn: 1.0257071\ttest: 1.0238598\tbest: 1.0238598 (200)\ttotal: 19.3s\tremaining: 15m 38s\n",
      "400:\tlearn: 1.0193495\ttest: 1.0168887\tbest: 1.0168887 (400)\ttotal: 38.1s\tremaining: 15m 10s\n",
      "600:\tlearn: 1.0159843\ttest: 1.0135476\tbest: 1.0135476 (600)\ttotal: 57.3s\tremaining: 14m 55s\n",
      "800:\tlearn: 1.0137402\ttest: 1.0116739\tbest: 1.0116739 (800)\ttotal: 1m 16s\tremaining: 14m 39s\n",
      "1000:\tlearn: 1.0121180\ttest: 1.0104168\tbest: 1.0104168 (1000)\ttotal: 1m 36s\tremaining: 14m 27s\n",
      "1200:\tlearn: 1.0106406\ttest: 1.0092781\tbest: 1.0092760 (1199)\ttotal: 1m 56s\tremaining: 14m 14s\n",
      "1400:\tlearn: 1.0094368\ttest: 1.0086645\tbest: 1.0086645 (1400)\ttotal: 2m 16s\tremaining: 13m 58s\n",
      "1600:\tlearn: 1.0082663\ttest: 1.0081427\tbest: 1.0081422 (1599)\ttotal: 2m 36s\tremaining: 13m 40s\n",
      "1800:\tlearn: 1.0073006\ttest: 1.0077874\tbest: 1.0077849 (1798)\ttotal: 2m 56s\tremaining: 13m 24s\n",
      "2000:\tlearn: 1.0065052\ttest: 1.0076105\tbest: 1.0076100 (1999)\ttotal: 3m 16s\tremaining: 13m 6s\n",
      "2200:\tlearn: 1.0056567\ttest: 1.0074406\tbest: 1.0074379 (2191)\ttotal: 3m 37s\tremaining: 12m 51s\n",
      "2400:\tlearn: 1.0047980\ttest: 1.0071953\tbest: 1.0071923 (2392)\ttotal: 3m 57s\tremaining: 12m 32s\n",
      "2600:\tlearn: 1.0039681\ttest: 1.0069463\tbest: 1.0069442 (2599)\ttotal: 4m 18s\tremaining: 12m 14s\n",
      "2800:\tlearn: 1.0030824\ttest: 1.0066514\tbest: 1.0066514 (2800)\ttotal: 4m 38s\tremaining: 11m 56s\n",
      "3000:\tlearn: 1.0023298\ttest: 1.0065717\tbest: 1.0065603 (2973)\ttotal: 4m 59s\tremaining: 11m 38s\n",
      "3200:\tlearn: 1.0016109\ttest: 1.0064203\tbest: 1.0064203 (3200)\ttotal: 5m 20s\tremaining: 11m 19s\n",
      "3400:\tlearn: 1.0008661\ttest: 1.0063163\tbest: 1.0062970 (3349)\ttotal: 5m 40s\tremaining: 11m 1s\n",
      "3600:\tlearn: 1.0001781\ttest: 1.0062397\tbest: 1.0062397 (3600)\ttotal: 6m 1s\tremaining: 10m 42s\n",
      "3800:\tlearn: 0.9994179\ttest: 1.0060994\tbest: 1.0060994 (3800)\ttotal: 6m 22s\tremaining: 10m 23s\n",
      "4000:\tlearn: 0.9987297\ttest: 1.0059947\tbest: 1.0059927 (3994)\ttotal: 6m 42s\tremaining: 10m 3s\n",
      "4200:\tlearn: 0.9980159\ttest: 1.0058571\tbest: 1.0058571 (4200)\ttotal: 7m 3s\tremaining: 9m 44s\n",
      "4400:\tlearn: 0.9973463\ttest: 1.0058204\tbest: 1.0058123 (4330)\ttotal: 7m 24s\tremaining: 9m 25s\n",
      "4600:\tlearn: 0.9966687\ttest: 1.0057338\tbest: 1.0057319 (4598)\ttotal: 7m 44s\tremaining: 9m 5s\n",
      "4800:\tlearn: 0.9960465\ttest: 1.0056929\tbest: 1.0056826 (4741)\ttotal: 8m 5s\tremaining: 8m 45s\n",
      "5000:\tlearn: 0.9953684\ttest: 1.0055581\tbest: 1.0055573 (4995)\ttotal: 8m 26s\tremaining: 8m 26s\n",
      "5200:\tlearn: 0.9946740\ttest: 1.0054563\tbest: 1.0054467 (5171)\ttotal: 8m 46s\tremaining: 8m 6s\n",
      "5400:\tlearn: 0.9939824\ttest: 1.0053925\tbest: 1.0053797 (5343)\ttotal: 9m 7s\tremaining: 7m 46s\n",
      "5600:\tlearn: 0.9933431\ttest: 1.0053630\tbest: 1.0053466 (5536)\ttotal: 9m 27s\tremaining: 7m 25s\n",
      "bestTest = 1.005346644\n",
      "bestIteration = 5536\n",
      "Shrink model to first 5537 iterations.\n",
      "Fold 1 RMSE: 1.0053\n",
      "Training fold 2...\n",
      "0:\tlearn: 1.0915074\ttest: 1.0907031\tbest: 1.0907031 (0)\ttotal: 307ms\tremaining: 51m 11s\n",
      "200:\tlearn: 1.0263730\ttest: 1.0239937\tbest: 1.0239937 (200)\ttotal: 19.4s\tremaining: 15m 45s\n",
      "400:\tlearn: 1.0191422\ttest: 1.0156094\tbest: 1.0156094 (400)\ttotal: 38.2s\tremaining: 15m 14s\n",
      "600:\tlearn: 1.0162411\ttest: 1.0131174\tbest: 1.0131174 (600)\ttotal: 57.4s\tremaining: 14m 58s\n",
      "800:\tlearn: 1.0139542\ttest: 1.0111039\tbest: 1.0111039 (798)\ttotal: 1m 16s\tremaining: 14m 40s\n",
      "1000:\tlearn: 1.0124217\ttest: 1.0101342\tbest: 1.0101317 (993)\ttotal: 1m 35s\tremaining: 14m 20s\n",
      "1200:\tlearn: 1.0110499\ttest: 1.0092937\tbest: 1.0092934 (1199)\ttotal: 1m 55s\tremaining: 14m 2s\n",
      "1400:\tlearn: 1.0097616\ttest: 1.0086825\tbest: 1.0086798 (1397)\ttotal: 2m 14s\tremaining: 13m 45s\n",
      "1600:\tlearn: 1.0087288\ttest: 1.0083092\tbest: 1.0083092 (1600)\ttotal: 2m 34s\tremaining: 13m 28s\n",
      "1800:\tlearn: 1.0078295\ttest: 1.0080830\tbest: 1.0080818 (1799)\ttotal: 2m 54s\tremaining: 13m 14s\n",
      "2000:\tlearn: 1.0069755\ttest: 1.0079200\tbest: 1.0079200 (2000)\ttotal: 3m 14s\tremaining: 12m 59s\n",
      "2200:\tlearn: 1.0060909\ttest: 1.0077295\tbest: 1.0077265 (2183)\ttotal: 3m 35s\tremaining: 12m 42s\n",
      "2400:\tlearn: 1.0052212\ttest: 1.0075038\tbest: 1.0075032 (2399)\ttotal: 3m 55s\tremaining: 12m 24s\n",
      "2600:\tlearn: 1.0043847\ttest: 1.0072991\tbest: 1.0072985 (2599)\ttotal: 4m 15s\tremaining: 12m 7s\n",
      "2800:\tlearn: 1.0033866\ttest: 1.0069222\tbest: 1.0069185 (2787)\ttotal: 4m 35s\tremaining: 11m 48s\n",
      "3000:\tlearn: 1.0026444\ttest: 1.0068806\tbest: 1.0068664 (2964)\ttotal: 4m 55s\tremaining: 11m 29s\n",
      "3200:\tlearn: 1.0018237\ttest: 1.0067284\tbest: 1.0067226 (3197)\ttotal: 5m 16s\tremaining: 11m 11s\n",
      "3400:\tlearn: 1.0010681\ttest: 1.0065831\tbest: 1.0065819 (3397)\ttotal: 5m 36s\tremaining: 10m 53s\n",
      "3600:\tlearn: 1.0003568\ttest: 1.0064901\tbest: 1.0064852 (3583)\ttotal: 5m 57s\tremaining: 10m 35s\n",
      "3800:\tlearn: 0.9996640\ttest: 1.0063847\tbest: 1.0063843 (3798)\ttotal: 6m 18s\tremaining: 10m 17s\n",
      "4000:\tlearn: 0.9989446\ttest: 1.0062710\tbest: 1.0062658 (3988)\ttotal: 6m 39s\tremaining: 9m 59s\n",
      "4200:\tlearn: 0.9982350\ttest: 1.0061828\tbest: 1.0061763 (4170)\ttotal: 7m\tremaining: 9m 41s\n",
      "bestTest = 1.006175366\n",
      "bestIteration = 4228\n",
      "Shrink model to first 4229 iterations.\n",
      "Fold 2 RMSE: 1.0062\n",
      "Training fold 3...\n",
      "0:\tlearn: 1.0914764\ttest: 1.0906607\tbest: 1.0906607 (0)\ttotal: 322ms\tremaining: 53m 41s\n",
      "200:\tlearn: 1.0253026\ttest: 1.0246754\tbest: 1.0246754 (200)\ttotal: 19.6s\tremaining: 15m 54s\n",
      "400:\tlearn: 1.0185057\ttest: 1.0171342\tbest: 1.0171342 (400)\ttotal: 38.7s\tremaining: 15m 25s\n",
      "600:\tlearn: 1.0158624\ttest: 1.0147063\tbest: 1.0147057 (599)\ttotal: 58.1s\tremaining: 15m 9s\n",
      "800:\tlearn: 1.0137975\ttest: 1.0130088\tbest: 1.0130081 (799)\ttotal: 1m 17s\tremaining: 14m 54s\n",
      "1000:\tlearn: 1.0119379\ttest: 1.0117717\tbest: 1.0117717 (1000)\ttotal: 1m 37s\tremaining: 14m 38s\n",
      "1200:\tlearn: 1.0105351\ttest: 1.0108652\tbest: 1.0108652 (1199)\ttotal: 1m 57s\tremaining: 14m 21s\n",
      "1400:\tlearn: 1.0093805\ttest: 1.0103200\tbest: 1.0103200 (1400)\ttotal: 2m 17s\tremaining: 14m 6s\n",
      "1600:\tlearn: 1.0082975\ttest: 1.0099024\tbest: 1.0099019 (1599)\ttotal: 2m 37s\tremaining: 13m 48s\n",
      "1800:\tlearn: 1.0072369\ttest: 1.0095118\tbest: 1.0095118 (1800)\ttotal: 2m 58s\tremaining: 13m 31s\n",
      "2000:\tlearn: 1.0062514\ttest: 1.0091671\tbest: 1.0091661 (1996)\ttotal: 3m 18s\tremaining: 13m 12s\n",
      "2200:\tlearn: 1.0053768\ttest: 1.0088917\tbest: 1.0088917 (2200)\ttotal: 3m 38s\tremaining: 12m 54s\n",
      "2400:\tlearn: 1.0044529\ttest: 1.0086536\tbest: 1.0086478 (2362)\ttotal: 3m 58s\tremaining: 12m 35s\n",
      "2600:\tlearn: 1.0037171\ttest: 1.0085407\tbest: 1.0085395 (2597)\ttotal: 4m 19s\tremaining: 12m 18s\n",
      "2800:\tlearn: 1.0028528\ttest: 1.0083037\tbest: 1.0083017 (2795)\ttotal: 4m 39s\tremaining: 11m 59s\n",
      "3000:\tlearn: 1.0020552\ttest: 1.0081625\tbest: 1.0081625 (3000)\ttotal: 5m\tremaining: 11m 40s\n",
      "3200:\tlearn: 1.0011924\ttest: 1.0079370\tbest: 1.0079342 (3191)\ttotal: 5m 20s\tremaining: 11m 21s\n",
      "3400:\tlearn: 1.0004625\ttest: 1.0078433\tbest: 1.0078402 (3399)\ttotal: 5m 41s\tremaining: 11m 2s\n",
      "3600:\tlearn: 0.9997345\ttest: 1.0077634\tbest: 1.0077584 (3590)\ttotal: 6m 2s\tremaining: 10m 44s\n",
      "3800:\tlearn: 0.9989478\ttest: 1.0075602\tbest: 1.0075597 (3799)\ttotal: 6m 23s\tremaining: 10m 24s\n",
      "4000:\tlearn: 0.9982340\ttest: 1.0073909\tbest: 1.0073900 (3999)\ttotal: 6m 43s\tremaining: 10m 5s\n",
      "4200:\tlearn: 0.9975552\ttest: 1.0073189\tbest: 1.0073189 (4200)\ttotal: 7m 4s\tremaining: 9m 46s\n",
      "4400:\tlearn: 0.9968606\ttest: 1.0071941\tbest: 1.0071941 (4400)\ttotal: 7m 25s\tremaining: 9m 26s\n",
      "4600:\tlearn: 0.9961906\ttest: 1.0071617\tbest: 1.0071598 (4596)\ttotal: 7m 46s\tremaining: 9m 7s\n",
      "4800:\tlearn: 0.9955203\ttest: 1.0070894\tbest: 1.0070795 (4777)\ttotal: 8m 7s\tremaining: 8m 48s\n",
      "5000:\tlearn: 0.9949345\ttest: 1.0070661\tbest: 1.0070584 (4987)\ttotal: 8m 29s\tremaining: 8m 29s\n",
      "5200:\tlearn: 0.9943430\ttest: 1.0070055\tbest: 1.0070034 (5199)\ttotal: 8m 50s\tremaining: 8m 9s\n",
      "5400:\tlearn: 0.9936971\ttest: 1.0069547\tbest: 1.0069547 (5400)\ttotal: 9m 11s\tremaining: 7m 49s\n",
      "5600:\tlearn: 0.9930794\ttest: 1.0069081\tbest: 1.0069051 (5593)\ttotal: 9m 33s\tremaining: 7m 30s\n",
      "5800:\tlearn: 0.9924649\ttest: 1.0068927\tbest: 1.0068864 (5744)\ttotal: 9m 54s\tremaining: 7m 10s\n",
      "bestTest = 1.00688638\n",
      "bestIteration = 5744\n",
      "Shrink model to first 5745 iterations.\n",
      "Fold 3 RMSE: 1.0069\n",
      "Training fold 4...\n",
      "0:\tlearn: 1.0914399\ttest: 1.0911647\tbest: 1.0911647 (0)\ttotal: 280ms\tremaining: 46m 34s\n",
      "200:\tlearn: 1.0276554\ttest: 1.0236082\tbest: 1.0236082 (200)\ttotal: 19.9s\tremaining: 16m 10s\n",
      "400:\tlearn: 1.0202220\ttest: 1.0151398\tbest: 1.0151398 (400)\ttotal: 39.4s\tremaining: 15m 42s\n",
      "600:\tlearn: 1.0167844\ttest: 1.0115490\tbest: 1.0115490 (600)\ttotal: 58.8s\tremaining: 15m 20s\n",
      "800:\tlearn: 1.0143589\ttest: 1.0093523\tbest: 1.0093523 (800)\ttotal: 1m 18s\tremaining: 14m 55s\n",
      "1000:\tlearn: 1.0128481\ttest: 1.0083547\tbest: 1.0083547 (1000)\ttotal: 1m 38s\tremaining: 14m 42s\n",
      "1200:\tlearn: 1.0117876\ttest: 1.0079518\tbest: 1.0079518 (1200)\ttotal: 1m 58s\tremaining: 14m 27s\n",
      "1400:\tlearn: 1.0104353\ttest: 1.0073125\tbest: 1.0073106 (1398)\ttotal: 2m 18s\tremaining: 14m 11s\n",
      "1600:\tlearn: 1.0094019\ttest: 1.0069059\tbest: 1.0069059 (1600)\ttotal: 2m 39s\tremaining: 13m 54s\n",
      "1800:\tlearn: 1.0083749\ttest: 1.0065287\tbest: 1.0065274 (1798)\ttotal: 2m 59s\tremaining: 13m 36s\n",
      "2000:\tlearn: 1.0073863\ttest: 1.0061648\tbest: 1.0061620 (1994)\ttotal: 3m 19s\tremaining: 13m 16s\n",
      "2200:\tlearn: 1.0064231\ttest: 1.0058745\tbest: 1.0058744 (2199)\ttotal: 3m 39s\tremaining: 12m 56s\n",
      "2400:\tlearn: 1.0056056\ttest: 1.0057586\tbest: 1.0057545 (2393)\ttotal: 3m 59s\tremaining: 12m 37s\n",
      "2600:\tlearn: 1.0047715\ttest: 1.0055875\tbest: 1.0055860 (2599)\ttotal: 4m 19s\tremaining: 12m 18s\n",
      "2800:\tlearn: 1.0038928\ttest: 1.0053435\tbest: 1.0053390 (2795)\ttotal: 4m 39s\tremaining: 11m 59s\n",
      "3000:\tlearn: 1.0031341\ttest: 1.0052434\tbest: 1.0052388 (2990)\ttotal: 5m\tremaining: 11m 40s\n",
      "3200:\tlearn: 1.0024046\ttest: 1.0051473\tbest: 1.0051473 (3200)\ttotal: 5m 20s\tremaining: 11m 21s\n",
      "3400:\tlearn: 1.0016040\ttest: 1.0050265\tbest: 1.0050153 (3358)\ttotal: 5m 41s\tremaining: 11m 2s\n",
      "3600:\tlearn: 1.0008807\ttest: 1.0048689\tbest: 1.0048686 (3599)\ttotal: 6m 2s\tremaining: 10m 44s\n",
      "bestTest = 1.004857085\n",
      "bestIteration = 3615\n",
      "Shrink model to first 3616 iterations.\n",
      "Fold 4 RMSE: 1.0049\n",
      "Training fold 5...\n",
      "0:\tlearn: 1.0910791\ttest: 1.0923282\tbest: 1.0923282 (0)\ttotal: 163ms\tremaining: 27m 13s\n",
      "200:\tlearn: 1.0265280\ttest: 1.0253695\tbest: 1.0253695 (200)\ttotal: 19.4s\tremaining: 15m 44s\n",
      "400:\tlearn: 1.0193652\ttest: 1.0170786\tbest: 1.0170786 (400)\ttotal: 38.1s\tremaining: 15m 11s\n",
      "600:\tlearn: 1.0156162\ttest: 1.0132071\tbest: 1.0132071 (600)\ttotal: 56.9s\tremaining: 14m 49s\n",
      "800:\tlearn: 1.0135558\ttest: 1.0116010\tbest: 1.0116010 (800)\ttotal: 1m 16s\tremaining: 14m 33s\n",
      "1000:\tlearn: 1.0120482\ttest: 1.0105791\tbest: 1.0105780 (999)\ttotal: 1m 35s\tremaining: 14m 18s\n",
      "1200:\tlearn: 1.0108322\ttest: 1.0098539\tbest: 1.0098535 (1186)\ttotal: 1m 55s\tremaining: 14m 4s\n",
      "1400:\tlearn: 1.0095259\ttest: 1.0091144\tbest: 1.0091144 (1400)\ttotal: 2m 14s\tremaining: 13m 48s\n",
      "1600:\tlearn: 1.0084167\ttest: 1.0084806\tbest: 1.0084806 (1600)\ttotal: 2m 34s\tremaining: 13m 31s\n",
      "1800:\tlearn: 1.0073573\ttest: 1.0081488\tbest: 1.0081480 (1799)\ttotal: 2m 54s\tremaining: 13m 14s\n",
      "2000:\tlearn: 1.0064252\ttest: 1.0078811\tbest: 1.0078811 (2000)\ttotal: 3m 15s\tremaining: 12m 59s\n",
      "2200:\tlearn: 1.0055361\ttest: 1.0076282\tbest: 1.0076258 (2152)\ttotal: 3m 35s\tremaining: 12m 42s\n",
      "2400:\tlearn: 1.0046377\ttest: 1.0074031\tbest: 1.0074031 (2400)\ttotal: 3m 55s\tremaining: 12m 25s\n",
      "2600:\tlearn: 1.0038583\ttest: 1.0073114\tbest: 1.0073114 (2600)\ttotal: 4m 15s\tremaining: 12m 7s\n",
      "2800:\tlearn: 1.0029840\ttest: 1.0070402\tbest: 1.0070402 (2800)\ttotal: 4m 35s\tremaining: 11m 49s\n",
      "3000:\tlearn: 1.0022035\ttest: 1.0068698\tbest: 1.0068686 (2998)\ttotal: 4m 56s\tremaining: 11m 31s\n",
      "3200:\tlearn: 1.0013417\ttest: 1.0066688\tbest: 1.0066683 (3197)\ttotal: 5m 16s\tremaining: 11m 13s\n",
      "3400:\tlearn: 1.0006279\ttest: 1.0065430\tbest: 1.0065416 (3396)\ttotal: 5m 37s\tremaining: 10m 53s\n",
      "3600:\tlearn: 0.9998496\ttest: 1.0064152\tbest: 1.0064143 (3595)\ttotal: 5m 57s\tremaining: 10m 35s\n",
      "3800:\tlearn: 0.9991355\ttest: 1.0062717\tbest: 1.0062713 (3799)\ttotal: 6m 18s\tremaining: 10m 16s\n",
      "4000:\tlearn: 0.9983572\ttest: 1.0061373\tbest: 1.0061373 (4000)\ttotal: 6m 38s\tremaining: 9m 57s\n",
      "4200:\tlearn: 0.9976370\ttest: 1.0060178\tbest: 1.0060178 (4200)\ttotal: 6m 59s\tremaining: 9m 38s\n",
      "4400:\tlearn: 0.9969740\ttest: 1.0059780\tbest: 1.0059723 (4387)\ttotal: 7m 19s\tremaining: 9m 19s\n",
      "4600:\tlearn: 0.9962761\ttest: 1.0058807\tbest: 1.0058777 (4577)\ttotal: 7m 40s\tremaining: 9m\n",
      "4800:\tlearn: 0.9956285\ttest: 1.0058149\tbest: 1.0058143 (4798)\ttotal: 8m 1s\tremaining: 8m 41s\n",
      "5000:\tlearn: 0.9949602\ttest: 1.0057608\tbest: 1.0057544 (4979)\ttotal: 8m 21s\tremaining: 8m 21s\n",
      "5200:\tlearn: 0.9943285\ttest: 1.0057335\tbest: 1.0057249 (5146)\ttotal: 8m 42s\tremaining: 8m 2s\n",
      "5400:\tlearn: 0.9936976\ttest: 1.0056754\tbest: 1.0056718 (5357)\ttotal: 9m 3s\tremaining: 7m 42s\n",
      "5600:\tlearn: 0.9930513\ttest: 1.0056313\tbest: 1.0056173 (5543)\ttotal: 9m 23s\tremaining: 7m 22s\n",
      "bestTest = 1.005617328\n",
      "bestIteration = 5543\n",
      "Shrink model to first 5544 iterations.\n",
      "Fold 5 RMSE: 1.0056\n",
      "Mean CV RMSE: 1.0058 ± 0.0007\n"
     ]
    }
   ],
   "source": [
    "import json\n",
    "\n",
    "model = CatBoostRegressorWrapper(**best_params)\n",
    "\n",
    "# Use the train_model function to train and evaluate the model\n",
    "results = train_model_cv(\n",
    "    model=model,\n",
    "    X_train=X_train,\n",
    "    y_train=y_train,\n",
    "    X_test=X_test,\n",
    "    X_orig=X_orig,\n",
    "    early_stopping_rounds=100,\n",
    "    cv_splits=5\n",
    ")"
   ]
  },
  {
   "cell_type": "code",
   "execution_count": 12,
   "id": "5803178b",
   "metadata": {},
   "outputs": [],
   "source": [
    "# from sklearn import mean_squared_log_error\n",
    "\n",
    "# def rmsle(y_true, y_pred):\n",
    "#     return np.sqrt(mean_squared_log_error(y_true, y_pred))\n",
    "\n",
    "# rmsle_score = rmsle(y_train, results[\"oof_preds\"])\n",
    "\n",
    "# print(f\"RMSLE score = {rmsle_score}\")"
   ]
  },
  {
   "cell_type": "code",
   "execution_count": 11,
   "id": "40b2d112",
   "metadata": {},
   "outputs": [
    {
     "name": "stdout",
     "output_type": "stream",
     "text": [
      "                    Feature  Importance\n",
      "18                   nonlog   30.660574\n",
      "44    Annual Income Integer   20.748770\n",
      "7              Health Score   13.106105\n",
      "42     Credit Score Integer    8.537983\n",
      "41     Health Score Integer    4.702955\n",
      "12             Credit Score    3.110392\n",
      "2             Annual Income    2.380924\n",
      "27           DaysSinceStart    2.083151\n",
      "10          Previous Claims    1.528666\n",
      "0                       Age    0.917499\n",
      "14        Customer Feedback    0.877009\n",
      "21                     Week    0.815159\n",
      "43  Previous Claims Integer    0.776880\n",
      "11              Vehicle Age    0.775135\n",
      "39        Claims v Duration    0.667273\n",
      "4      Number of Dependents    0.556687\n",
      "40         Health vs Claims    0.531149\n",
      "20                      Day    0.520964\n",
      "3            Marital Status    0.482121\n",
      "23                   DaySin    0.453714\n",
      "38            MissingHealth    0.441585\n",
      "24                   DayCos    0.436483\n",
      "34   Customer Feedback_freq    0.420636\n",
      "13       Insurance Duration    0.420329\n",
      "29      Marital Status_freq    0.340465\n",
      "6                Occupation    0.338848\n",
      "16       Exercise Frequency    0.309589\n",
      "5           Education Level    0.301047\n",
      "17            Property Type    0.251413\n",
      "22                  Weekday    0.251053\n",
      "8                  Location    0.244621\n",
      "9               Policy Type    0.237680\n",
      "25               WeekdaySin    0.224357\n",
      "31          Occupation_freq    0.207101\n",
      "45       MissingValuesCount    0.198178\n",
      "36  Exercise Frequency_freq    0.185429\n",
      "19                    Month    0.184280\n",
      "33         Policy Type_freq    0.156893\n",
      "30     Education Level_freq    0.137518\n",
      "26               WeekdayCos    0.123610\n",
      "32            Location_freq    0.118360\n",
      "37       Property Type_freq    0.112248\n",
      "1                    Gender    0.060796\n",
      "15           Smoking Status    0.044796\n",
      "35      Smoking Status_freq    0.011560\n",
      "28              Gender_freq    0.008013\n"
     ]
    }
   ],
   "source": [
    "models = results['models']\n",
    "\n",
    "# Get feature importance\n",
    "feature_importances = models[3].catboost_model_.get_feature_importance(type='PredictionValuesChange')\n",
    "\n",
    "# Map to feature names\n",
    "feature_importance_df = pd.DataFrame({\n",
    "    'Feature': X_train.columns,\n",
    "    'Importance': feature_importances\n",
    "}).sort_values(by='Importance', ascending=False)\n",
    "\n",
    "print(feature_importance_df)"
   ]
  },
  {
   "cell_type": "code",
   "execution_count": 12,
   "id": "76c5d6d4",
   "metadata": {
    "execution": {
     "iopub.execute_input": "2024-12-09T18:27:06.069815Z",
     "iopub.status.busy": "2024-12-09T18:27:06.069512Z",
     "iopub.status.idle": "2024-12-09T18:27:06.074853Z",
     "shell.execute_reply": "2024-12-09T18:27:06.074183Z"
    },
    "papermill": {
     "duration": 0.035663,
     "end_time": "2024-12-09T18:27:06.076253",
     "exception": false,
     "start_time": "2024-12-09T18:27:06.040590",
     "status": "completed"
    },
    "tags": []
   },
   "outputs": [],
   "source": [
    "mean_score = np.mean(results[\"cv_scores\"])\n",
    "std_score = np.std(results[\"cv_scores\"])"
   ]
  },
  {
   "cell_type": "markdown",
   "id": "2d6f1ec1",
   "metadata": {},
   "source": [
    "# Saving"
   ]
  },
  {
   "cell_type": "code",
   "execution_count": 13,
   "id": "bba76357",
   "metadata": {
    "execution": {
     "iopub.execute_input": "2024-12-09T18:27:06.134109Z",
     "iopub.status.busy": "2024-12-09T18:27:06.133614Z",
     "iopub.status.idle": "2024-12-09T18:27:09.560189Z",
     "shell.execute_reply": "2024-12-09T18:27:09.559255Z"
    },
    "papermill": {
     "duration": 3.457335,
     "end_time": "2024-12-09T18:27:09.561802",
     "exception": false,
     "start_time": "2024-12-09T18:27:06.104467",
     "status": "completed"
    },
    "tags": []
   },
   "outputs": [],
   "source": [
    "import joblib\n",
    "\n",
    "results_dir = f\"{mean_score:.4f}+-{std_score:.4f}\"\n",
    "os.makedirs(results_dir, exist_ok=True)\n",
    "\n",
    "# Save OOF predictions as a CSV file\n",
    "oof_preds_df = pd.DataFrame({\"oof_preds\": results[\"oof_preds\"]})\n",
    "oof_preds_df.to_csv(os.path.join(results_dir, \"oof_preds.csv\"), index=False)\n",
    "\n",
    "test_preds_df = pd.DataFrame({\"test_preds\": results[\"test_preds\"]})\n",
    "test_preds_df.to_csv(os.path.join(results_dir, \"test_preds.csv\"), index=False)\n",
    "\n",
    "#joblib.dump(results[\"models\"], \"models.pkl\")"
   ]
  },
  {
   "cell_type": "markdown",
   "id": "607e1999",
   "metadata": {
    "papermill": {
     "duration": 0.030518,
     "end_time": "2024-12-09T18:27:09.621403",
     "exception": false,
     "start_time": "2024-12-09T18:27:09.590885",
     "status": "completed"
    },
    "tags": []
   },
   "source": [
    "# Submission"
   ]
  },
  {
   "cell_type": "code",
   "execution_count": 14,
   "id": "221fab64",
   "metadata": {
    "execution": {
     "iopub.execute_input": "2024-12-09T18:27:09.684611Z",
     "iopub.status.busy": "2024-12-09T18:27:09.683845Z",
     "iopub.status.idle": "2024-12-09T18:27:11.039199Z",
     "shell.execute_reply": "2024-12-09T18:27:11.038523Z"
    },
    "papermill": {
     "duration": 1.388863,
     "end_time": "2024-12-09T18:27:11.041168",
     "exception": false,
     "start_time": "2024-12-09T18:27:09.652305",
     "status": "completed"
    },
    "tags": []
   },
   "outputs": [],
   "source": [
    "y_pred = np.expm1(results['test_preds'])\n",
    "\n",
    "submission = pd.DataFrame({\n",
    "    'id': X_test.index,  \n",
    "    'Premium Amount': y_pred\n",
    "})\n",
    "\n",
    "FILE_PATH = os.path.join(results_dir, f\"Catboost_nonlog_feature_{mean_score:.4f}+-{std_score:.4f}.csv\")\n",
    "\n",
    "submission.to_csv(FILE_PATH, index=False)"
   ]
  },
  {
   "cell_type": "code",
   "execution_count": 18,
   "id": "1dacbf49",
   "metadata": {},
   "outputs": [],
   "source": [
    "if False: \n",
    "    # Define your message and file paths\n",
    "    COMP_NAME = \"playground-series-s4e12\"\n",
    "\n",
    "    SUBMIT_MESSAGE = \"Catboost_nonlog_feature_{mean_score:.4f}+-{std_score:.4f}\"\n",
    "\n",
    "    # Submit to Kaggle\n",
    "    os.system(f'kaggle competitions submit -c {COMP_NAME} -f {FILE_PATH} -m \"{SUBMIT_MESSAGE}\"')"
   ]
  },
  {
   "cell_type": "code",
   "execution_count": null,
   "id": "8e1e0fc5",
   "metadata": {},
   "outputs": [],
   "source": []
  }
 ],
 "metadata": {
  "kaggle": {
   "accelerator": "gpu",
   "dataSources": [
    {
     "databundleVersionId": 10305135,
     "sourceId": 84896,
     "sourceType": "competition"
    },
    {
     "datasetId": 5547076,
     "sourceId": 9178166,
     "sourceType": "datasetVersion"
    },
    {
     "sourceId": 211948002,
     "sourceType": "kernelVersion"
    }
   ],
   "dockerImageVersionId": 30805,
   "isGpuEnabled": true,
   "isInternetEnabled": true,
   "language": "python",
   "sourceType": "notebook"
  },
  "kernelspec": {
   "display_name": "kaggle_env",
   "language": "python",
   "name": "python3"
  },
  "language_info": {
   "codemirror_mode": {
    "name": "ipython",
    "version": 3
   },
   "file_extension": ".py",
   "mimetype": "text/x-python",
   "name": "python",
   "nbconvert_exporter": "python",
   "pygments_lexer": "ipython3",
   "version": "3.10.16"
  },
  "papermill": {
   "default_parameters": {},
   "duration": 18880.993655,
   "end_time": "2024-12-09T18:27:12.649632",
   "environment_variables": {},
   "exception": null,
   "input_path": "__notebook__.ipynb",
   "output_path": "__notebook__.ipynb",
   "parameters": {},
   "start_time": "2024-12-09T13:12:31.655977",
   "version": "2.6.0"
  }
 },
 "nbformat": 4,
 "nbformat_minor": 5
}
