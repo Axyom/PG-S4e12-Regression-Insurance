{
 "cells": [
  {
   "cell_type": "code",
   "execution_count": 1,
   "id": "615cf318",
   "metadata": {
    "_cell_guid": "b1076dfc-b9ad-4769-8c92-a6c4dae69d19",
    "_uuid": "8f2839f25d086af736a60e9eeb907d3b93b6e0e5",
    "execution": {
     "iopub.execute_input": "2024-12-09T13:12:34.047888Z",
     "iopub.status.busy": "2024-12-09T13:12:34.047597Z",
     "iopub.status.idle": "2024-12-09T13:12:34.716436Z",
     "shell.execute_reply": "2024-12-09T13:12:34.715768Z"
    },
    "papermill": {
     "duration": 0.676501,
     "end_time": "2024-12-09T13:12:34.718408",
     "exception": false,
     "start_time": "2024-12-09T13:12:34.041907",
     "status": "completed"
    },
    "tags": []
   },
   "outputs": [],
   "source": [
    "import numpy as np\n",
    "import os\n",
    "import pandas as pd\n",
    "import sys"
   ]
  },
  {
   "cell_type": "markdown",
   "id": "f1522c74",
   "metadata": {
    "papermill": {
     "duration": 0.004851,
     "end_time": "2024-12-09T13:12:34.727632",
     "exception": false,
     "start_time": "2024-12-09T13:12:34.722781",
     "status": "completed"
    },
    "tags": []
   },
   "source": [
    "# Config"
   ]
  },
  {
   "cell_type": "code",
   "execution_count": 2,
   "id": "25bf2667",
   "metadata": {
    "execution": {
     "iopub.execute_input": "2024-12-09T13:12:34.736529Z",
     "iopub.status.busy": "2024-12-09T13:12:34.736123Z",
     "iopub.status.idle": "2024-12-09T13:12:34.740000Z",
     "shell.execute_reply": "2024-12-09T13:12:34.739354Z"
    },
    "papermill": {
     "duration": 0.01006,
     "end_time": "2024-12-09T13:12:34.741432",
     "exception": false,
     "start_time": "2024-12-09T13:12:34.731372",
     "status": "completed"
    },
    "tags": []
   },
   "outputs": [],
   "source": [
    "HYPER_OPT = False \n",
    "HYPER_OPT_TIME = 3*60*60\n",
    "USE_ORIGINAL_DATA = False \n",
    "SUBMIT_TO_KAGGLE = False"
   ]
  },
  {
   "cell_type": "code",
   "execution_count": 3,
   "id": "636ad8af",
   "metadata": {},
   "outputs": [],
   "source": [
    "# Define the base directory (where the notebook is running)\n",
    "base_dir = os.path.abspath(os.path.join(os.getcwd(), \"..\", \"..\"))\n",
    "\n",
    "# Define the data directory\n",
    "data_dir = os.path.join(base_dir, \"data\")\n",
    "\n",
    "model_dir = os.path.join(base_dir, \"models\")\n",
    "\n",
    "notebooks_dir = os.path.join(base_dir, \"notebooks\")\n",
    "\n",
    "sys.path.append(base_dir)"
   ]
  },
  {
   "cell_type": "markdown",
   "id": "7d1038ad",
   "metadata": {
    "papermill": {
     "duration": 0.0037,
     "end_time": "2024-12-09T13:12:34.787072",
     "exception": false,
     "start_time": "2024-12-09T13:12:34.783372",
     "status": "completed"
    },
    "tags": []
   },
   "source": [
    "# Data Extraction"
   ]
  },
  {
   "cell_type": "code",
   "execution_count": 4,
   "id": "0d745aba",
   "metadata": {},
   "outputs": [],
   "source": [
    "from axyom_utilities.data_extraction import extract_data\n",
    "\n",
    "X_train, y_train, X_test, X_orig, y_orig = extract_data(data_dir, USE_ORIGINAL_DATA, log_transform=True)\n",
    "\n",
    "oof_log = pd.read_csv(os.path.join(notebooks_dir, \"Catboost_nonlog\\\\oof_preds_log.csv\"))\n",
    "oof_nonlog = pd.read_csv(os.path.join(notebooks_dir, \"Catboost_nonlog\\\\oof_preds_nonlog.csv\"))\n",
    "\n",
    "test_log = pd.read_csv(os.path.join(notebooks_dir, \"Catboost_nonlog\\\\test_preds_log.csv\"))\n",
    "test_nonlog = pd.read_csv(os.path.join(notebooks_dir, \"Catboost_nonlog\\\\test_preds_nonlog.csv\"))\n",
    "\n",
    "X_train[\"oof_nonlog\"] = oof_nonlog\n",
    "X_test[\"oof_nonlog\"] = test_nonlog\n",
    "\n",
    "# X_test[\"oof_log\"] = test_log\n",
    "# X_train[\"oof_log\"] = oof_log"
   ]
  },
  {
   "cell_type": "markdown",
   "id": "300f27ae",
   "metadata": {
    "papermill": {
     "duration": 0.003676,
     "end_time": "2024-12-09T13:12:43.939293",
     "exception": false,
     "start_time": "2024-12-09T13:12:43.935617",
     "status": "completed"
    },
    "tags": []
   },
   "source": [
    "# Data Cleaning"
   ]
  },
  {
   "cell_type": "code",
   "execution_count": 5,
   "id": "9d42d2df",
   "metadata": {
    "execution": {
     "iopub.execute_input": "2024-12-09T13:12:43.995169Z",
     "iopub.status.busy": "2024-12-09T13:12:43.994928Z",
     "iopub.status.idle": "2024-12-09T13:12:50.925060Z",
     "shell.execute_reply": "2024-12-09T13:12:50.924366Z"
    },
    "papermill": {
     "duration": 6.936729,
     "end_time": "2024-12-09T13:12:50.926967",
     "exception": false,
     "start_time": "2024-12-09T13:12:43.990238",
     "status": "completed"
    },
    "tags": []
   },
   "outputs": [],
   "source": [
    "from axyom_utilities.preprocessing import * \n",
    "from toolz import pipe\n",
    "\n",
    "preprocessor = lambda df: pipe(df,\\\n",
    "    preprocess_dates,\n",
    "    health_score_eng,\n",
    "    clean_categorical   \n",
    ")\n",
    "\n",
    "X_train = preprocessor(X_train)\n",
    "X_test = preprocessor(X_test)\n",
    "if USE_ORIGINAL_DATA:\n",
    "    X_orig = preprocessor(X_orig)\n",
    "    \n"
   ]
  },
  {
   "cell_type": "code",
   "execution_count": null,
   "id": "79d99bc3",
   "metadata": {},
   "outputs": [],
   "source": []
  },
  {
   "cell_type": "code",
   "execution_count": 6,
   "id": "8ad0547b",
   "metadata": {},
   "outputs": [
    {
     "name": "stdout",
     "output_type": "stream",
     "text": [
      "<class 'pandas.core.frame.DataFrame'>\n",
      "Index: 1200000 entries, 0 to 1199999\n",
      "Data columns (total 29 columns):\n",
      " #   Column                Non-Null Count    Dtype   \n",
      "---  ------                --------------    -----   \n",
      " 0   Age                   1181295 non-null  float64 \n",
      " 1   Gender                1200000 non-null  category\n",
      " 2   Annual Income         1155051 non-null  float64 \n",
      " 3   Marital Status        1200000 non-null  category\n",
      " 4   Number of Dependents  1090328 non-null  float64 \n",
      " 5   Education Level       1200000 non-null  category\n",
      " 6   Occupation            1200000 non-null  category\n",
      " 7   Health Score          1200000 non-null  string  \n",
      " 8   Location              1200000 non-null  category\n",
      " 9   Policy Type           1200000 non-null  category\n",
      " 10  Previous Claims       835971 non-null   float64 \n",
      " 11  Vehicle Age           1199994 non-null  float64 \n",
      " 12  Credit Score          1062118 non-null  float64 \n",
      " 13  Insurance Duration    1199999 non-null  float64 \n",
      " 14  Customer Feedback     1200000 non-null  category\n",
      " 15  Smoking Status        1200000 non-null  category\n",
      " 16  Exercise Frequency    1200000 non-null  category\n",
      " 17  Property Type         1200000 non-null  category\n",
      " 18  oof_nonlog            1200000 non-null  float64 \n",
      " 19  Month                 1200000 non-null  int32   \n",
      " 20  Day                   1200000 non-null  int32   \n",
      " 21  Week                  1200000 non-null  UInt32  \n",
      " 22  Weekday               1200000 non-null  int32   \n",
      " 23  DaySin                1200000 non-null  float64 \n",
      " 24  DayCos                1200000 non-null  float64 \n",
      " 25  WeekdaySin            1200000 non-null  float64 \n",
      " 26  WeekdayCos            1200000 non-null  float64 \n",
      " 27  DaysSinceStart        1200000 non-null  float64 \n",
      " 28  HealthScore           1125924 non-null  float64 \n",
      "dtypes: UInt32(1), category(10), float64(14), int32(3), string(1)\n",
      "memory usage: 177.4 MB\n"
     ]
    }
   ],
   "source": [
    "X_train.info()"
   ]
  },
  {
   "cell_type": "markdown",
   "id": "2bfe1a39",
   "metadata": {
    "papermill": {
     "duration": 0.003711,
     "end_time": "2024-12-09T13:12:52.399442",
     "exception": false,
     "start_time": "2024-12-09T13:12:52.395731",
     "status": "completed"
    },
    "tags": []
   },
   "source": [
    "# HyperOpt"
   ]
  },
  {
   "cell_type": "code",
   "execution_count": 7,
   "id": "3a251a32",
   "metadata": {},
   "outputs": [],
   "source": [
    "from axyom_utilities.hyperparameter_tuning import CatBoostTuner\n",
    "\n",
    "if HYPER_OPT:\n",
    "    #tune_lgbm(X_train, y_train, HYPER_OPT_TIME)\n",
    "    catboost_tuner = CatBoostTuner(X_train, y_train, HYPER_OPT_TIME)\n",
    "    best_params = catboost_tuner.tune()\n",
    "else:\n",
    "    best_params = {\n",
    "        \"iterations\":3000,\n",
    "        \"learning_rate\":0.05,\n",
    "        \"depth\":6,\n",
    "        \"eval_metric\":\"RMSE\",\n",
    "        \"random_seed\":42,\n",
    "        \"verbose\":200,\n",
    "        \"task_type\":'GPU',\n",
    "        \"l2_leaf_reg\" :0.7,\n",
    "    }"
   ]
  },
  {
   "cell_type": "code",
   "execution_count": 8,
   "id": "743d5c4c",
   "metadata": {
    "execution": {
     "iopub.execute_input": "2024-12-09T18:16:55.241304Z",
     "iopub.status.busy": "2024-12-09T18:16:55.240196Z",
     "iopub.status.idle": "2024-12-09T18:16:55.246167Z",
     "shell.execute_reply": "2024-12-09T18:16:55.245357Z"
    },
    "papermill": {
     "duration": 0.035916,
     "end_time": "2024-12-09T18:16:55.247704",
     "exception": false,
     "start_time": "2024-12-09T18:16:55.211788",
     "status": "completed"
    },
    "tags": []
   },
   "outputs": [
    {
     "data": {
      "text/plain": [
       "{'iterations': 3000,\n",
       " 'learning_rate': 0.05,\n",
       " 'depth': 6,\n",
       " 'eval_metric': 'RMSE',\n",
       " 'random_seed': 42,\n",
       " 'verbose': 200,\n",
       " 'task_type': 'GPU',\n",
       " 'l2_leaf_reg': 0.7}"
      ]
     },
     "execution_count": 8,
     "metadata": {},
     "output_type": "execute_result"
    }
   ],
   "source": [
    "best_params"
   ]
  },
  {
   "cell_type": "code",
   "execution_count": 9,
   "id": "b1e870ef",
   "metadata": {
    "execution": {
     "iopub.execute_input": "2024-12-09T18:16:55.304289Z",
     "iopub.status.busy": "2024-12-09T18:16:55.303586Z",
     "iopub.status.idle": "2024-12-09T18:16:55.307059Z",
     "shell.execute_reply": "2024-12-09T18:16:55.306445Z"
    },
    "papermill": {
     "duration": 0.033579,
     "end_time": "2024-12-09T18:16:55.308644",
     "exception": false,
     "start_time": "2024-12-09T18:16:55.275065",
     "status": "completed"
    },
    "tags": []
   },
   "outputs": [],
   "source": [
    "best_params[\"iterations\"] = 10000"
   ]
  },
  {
   "cell_type": "markdown",
   "id": "912bf058",
   "metadata": {
    "papermill": {
     "duration": 0.032715,
     "end_time": "2024-12-09T18:16:55.371337",
     "exception": false,
     "start_time": "2024-12-09T18:16:55.338622",
     "status": "completed"
    },
    "tags": []
   },
   "source": [
    "# Model Training"
   ]
  },
  {
   "cell_type": "code",
   "execution_count": null,
   "id": "d9ed4579",
   "metadata": {
    "execution": {
     "iopub.execute_input": "2024-12-09T18:16:55.437662Z",
     "iopub.status.busy": "2024-12-09T18:16:55.437325Z",
     "iopub.status.idle": "2024-12-09T18:27:05.981939Z",
     "shell.execute_reply": "2024-12-09T18:27:05.980966Z"
    },
    "papermill": {
     "duration": 610.608804,
     "end_time": "2024-12-09T18:27:06.012560",
     "exception": false,
     "start_time": "2024-12-09T18:16:55.403756",
     "status": "completed"
    },
    "tags": []
   },
   "outputs": [
    {
     "name": "stdout",
     "output_type": "stream",
     "text": [
      "Training fold 1...\n",
      "0:\tlearn: 1.0911906\ttest: 1.0925613\tbest: 1.0925613 (0)\ttotal: 127ms\tremaining: 21m 12s\n",
      "200:\tlearn: 1.0256717\ttest: 1.0246098\tbest: 1.0246098 (200)\ttotal: 15s\tremaining: 12m 11s\n",
      "400:\tlearn: 1.0193365\ttest: 1.0173352\tbest: 1.0173349 (399)\ttotal: 29.9s\tremaining: 11m 56s\n",
      "600:\tlearn: 1.0165439\ttest: 1.0146167\tbest: 1.0146167 (600)\ttotal: 45s\tremaining: 11m 43s\n",
      "800:\tlearn: 1.0145800\ttest: 1.0130537\tbest: 1.0130529 (799)\ttotal: 1m\tremaining: 11m 31s\n",
      "1000:\tlearn: 1.0131008\ttest: 1.0119618\tbest: 1.0119611 (999)\ttotal: 1m 15s\tremaining: 11m 19s\n",
      "1200:\tlearn: 1.0118698\ttest: 1.0113666\tbest: 1.0113666 (1200)\ttotal: 1m 31s\tremaining: 11m 10s\n",
      "1400:\tlearn: 1.0105909\ttest: 1.0106218\tbest: 1.0106192 (1396)\ttotal: 1m 47s\tremaining: 10m 57s\n",
      "1600:\tlearn: 1.0095343\ttest: 1.0101717\tbest: 1.0101691 (1595)\ttotal: 2m 2s\tremaining: 10m 43s\n",
      "1800:\tlearn: 1.0084809\ttest: 1.0097224\tbest: 1.0097224 (1800)\ttotal: 2m 18s\tremaining: 10m 30s\n",
      "2000:\tlearn: 1.0074394\ttest: 1.0093627\tbest: 1.0093600 (1995)\ttotal: 2m 33s\tremaining: 10m 15s\n",
      "2200:\tlearn: 1.0065039\ttest: 1.0091829\tbest: 1.0091692 (2186)\ttotal: 2m 49s\tremaining: 10m 1s\n",
      "2400:\tlearn: 1.0056665\ttest: 1.0089976\tbest: 1.0089936 (2393)\ttotal: 3m 5s\tremaining: 9m 47s\n",
      "2600:\tlearn: 1.0048770\ttest: 1.0088896\tbest: 1.0088888 (2593)\ttotal: 3m 21s\tremaining: 9m 34s\n",
      "2800:\tlearn: 1.0040698\ttest: 1.0087897\tbest: 1.0087870 (2776)\ttotal: 3m 38s\tremaining: 9m 20s\n",
      "3000:\tlearn: 1.0032580\ttest: 1.0087197\tbest: 1.0087131 (2975)\ttotal: 3m 54s\tremaining: 9m 7s\n",
      "3200:\tlearn: 1.0024958\ttest: 1.0086222\tbest: 1.0086197 (3197)\ttotal: 4m 11s\tremaining: 8m 53s\n",
      "3400:\tlearn: 1.0017361\ttest: 1.0085121\tbest: 1.0085006 (3316)\ttotal: 4m 26s\tremaining: 8m 37s\n",
      "3600:\tlearn: 1.0009610\ttest: 1.0084288\tbest: 1.0084207 (3557)\ttotal: 4m 43s\tremaining: 8m 22s\n",
      "bestTest = 1.008420731\n",
      "bestIteration = 3557\n",
      "Shrink model to first 3558 iterations.\n",
      "Fold 1 RMSE: 1.0084\n",
      "Training fold 2...\n",
      "0:\tlearn: 1.0916758\ttest: 1.0906052\tbest: 1.0906052 (0)\ttotal: 169ms\tremaining: 28m 5s\n",
      "200:\tlearn: 1.0258127\ttest: 1.0231428\tbest: 1.0231428 (200)\ttotal: 15.1s\tremaining: 12m 17s\n",
      "400:\tlearn: 1.0198059\ttest: 1.0160505\tbest: 1.0160505 (400)\ttotal: 30.5s\tremaining: 12m 11s\n",
      "600:\tlearn: 1.0168381\ttest: 1.0132369\tbest: 1.0132361 (598)\ttotal: 46.1s\tremaining: 12m 1s\n",
      "800:\tlearn: 1.0150615\ttest: 1.0119527\tbest: 1.0119512 (799)\ttotal: 1m 1s\tremaining: 11m 51s\n",
      "1000:\tlearn: 1.0136705\ttest: 1.0111755\tbest: 1.0111755 (1000)\ttotal: 1m 17s\tremaining: 11m 40s\n",
      "1200:\tlearn: 1.0124377\ttest: 1.0106705\tbest: 1.0106699 (1199)\ttotal: 1m 33s\tremaining: 11m 28s\n",
      "1400:\tlearn: 1.0110405\ttest: 1.0098495\tbest: 1.0098495 (1400)\ttotal: 1m 49s\tremaining: 11m 11s\n",
      "1600:\tlearn: 1.0100223\ttest: 1.0095088\tbest: 1.0095083 (1599)\ttotal: 2m 5s\tremaining: 10m 58s\n",
      "1800:\tlearn: 1.0089915\ttest: 1.0092089\tbest: 1.0092089 (1800)\ttotal: 2m 21s\tremaining: 10m 44s\n",
      "2000:\tlearn: 1.0080594\ttest: 1.0088995\tbest: 1.0088952 (1992)\ttotal: 2m 37s\tremaining: 10m 29s\n",
      "2200:\tlearn: 1.0071717\ttest: 1.0086794\tbest: 1.0086786 (2190)\ttotal: 2m 53s\tremaining: 10m 15s\n",
      "2400:\tlearn: 1.0063436\ttest: 1.0085234\tbest: 1.0085140 (2342)\ttotal: 3m 9s\tremaining: 10m\n",
      "2600:\tlearn: 1.0055596\ttest: 1.0084031\tbest: 1.0083988 (2558)\ttotal: 3m 26s\tremaining: 9m 46s\n",
      "2800:\tlearn: 1.0047178\ttest: 1.0082117\tbest: 1.0082048 (2794)\ttotal: 3m 42s\tremaining: 9m 32s\n",
      "3000:\tlearn: 1.0039301\ttest: 1.0080693\tbest: 1.0080635 (2977)\ttotal: 3m 58s\tremaining: 9m 16s\n",
      "3200:\tlearn: 1.0031350\ttest: 1.0079180\tbest: 1.0079130 (3193)\ttotal: 4m 14s\tremaining: 9m 1s\n",
      "3400:\tlearn: 1.0023228\ttest: 1.0078492\tbest: 1.0078447 (3394)\ttotal: 4m 30s\tremaining: 8m 45s\n",
      "3600:\tlearn: 1.0014925\ttest: 1.0076966\tbest: 1.0076966 (3600)\ttotal: 4m 46s\tremaining: 8m 29s\n",
      "3800:\tlearn: 1.0008160\ttest: 1.0076770\tbest: 1.0076720 (3792)\ttotal: 5m 3s\tremaining: 8m 14s\n",
      "4000:\tlearn: 1.0000776\ttest: 1.0076091\tbest: 1.0076061 (3917)\ttotal: 5m 19s\tremaining: 7m 58s\n",
      "bestTest = 1.007562194\n",
      "bestIteration = 4049\n",
      "Shrink model to first 4050 iterations.\n",
      "Fold 2 RMSE: 1.0076\n",
      "Training fold 3...\n",
      "0:\tlearn: 1.0918495\ttest: 1.0897572\tbest: 1.0897572 (0)\ttotal: 153ms\tremaining: 25m 30s\n",
      "200:\tlearn: 1.0269243\ttest: 1.0240250\tbest: 1.0240250 (200)\ttotal: 14.7s\tremaining: 11m 55s\n",
      "400:\tlearn: 1.0202994\ttest: 1.0159919\tbest: 1.0159919 (400)\ttotal: 29.7s\tremaining: 11m 52s\n",
      "600:\tlearn: 1.0172582\ttest: 1.0128875\tbest: 1.0128875 (600)\ttotal: 44.7s\tremaining: 11m 38s\n",
      "800:\tlearn: 1.0155157\ttest: 1.0115792\tbest: 1.0115792 (800)\ttotal: 59.9s\tremaining: 11m 28s\n",
      "1000:\tlearn: 1.0138860\ttest: 1.0104796\tbest: 1.0104796 (1000)\ttotal: 1m 15s\tremaining: 11m 18s\n",
      "1200:\tlearn: 1.0125947\ttest: 1.0098871\tbest: 1.0098859 (1198)\ttotal: 1m 31s\tremaining: 11m 6s\n",
      "1400:\tlearn: 1.0115787\ttest: 1.0096123\tbest: 1.0096123 (1400)\ttotal: 1m 46s\tremaining: 10m 54s\n",
      "1600:\tlearn: 1.0105375\ttest: 1.0092599\tbest: 1.0092597 (1598)\ttotal: 2m 2s\tremaining: 10m 42s\n",
      "1800:\tlearn: 1.0095811\ttest: 1.0090298\tbest: 1.0090292 (1795)\ttotal: 2m 18s\tremaining: 10m 30s\n",
      "2000:\tlearn: 1.0086188\ttest: 1.0087349\tbest: 1.0087348 (1993)\ttotal: 2m 34s\tremaining: 10m 17s\n",
      "2200:\tlearn: 1.0077425\ttest: 1.0084607\tbest: 1.0084602 (2198)\ttotal: 2m 50s\tremaining: 10m 4s\n",
      "2400:\tlearn: 1.0067837\ttest: 1.0082369\tbest: 1.0082333 (2387)\ttotal: 3m 6s\tremaining: 9m 49s\n",
      "2600:\tlearn: 1.0058858\ttest: 1.0080154\tbest: 1.0080154 (2600)\ttotal: 3m 22s\tremaining: 9m 35s\n",
      "2800:\tlearn: 1.0050798\ttest: 1.0079172\tbest: 1.0079090 (2780)\ttotal: 3m 38s\tremaining: 9m 21s\n",
      "3000:\tlearn: 1.0043169\ttest: 1.0078013\tbest: 1.0078000 (2981)\ttotal: 3m 54s\tremaining: 9m 6s\n",
      "3200:\tlearn: 1.0035717\ttest: 1.0077388\tbest: 1.0077345 (3137)\ttotal: 4m 10s\tremaining: 8m 52s\n",
      "3400:\tlearn: 1.0028311\ttest: 1.0077013\tbest: 1.0076957 (3377)\ttotal: 4m 27s\tremaining: 8m 38s\n",
      "3600:\tlearn: 1.0020488\ttest: 1.0075529\tbest: 1.0075482 (3589)\ttotal: 4m 43s\tremaining: 8m 23s\n",
      "3800:\tlearn: 1.0013260\ttest: 1.0074949\tbest: 1.0074938 (3796)\ttotal: 5m\tremaining: 8m 9s\n",
      "4000:\tlearn: 1.0006104\ttest: 1.0074060\tbest: 1.0074060 (4000)\ttotal: 5m 16s\tremaining: 7m 54s\n",
      "4200:\tlearn: 0.9999309\ttest: 1.0073798\tbest: 1.0073663 (4169)\ttotal: 5m 33s\tremaining: 7m 39s\n",
      "bestTest = 1.007366293\n",
      "bestIteration = 4169\n",
      "Shrink model to first 4170 iterations.\n",
      "Fold 3 RMSE: 1.0074\n",
      "Training fold 4...\n",
      "0:\tlearn: 1.0911042\ttest: 1.0928274\tbest: 1.0928274 (0)\ttotal: 156ms\tremaining: 25m 59s\n",
      "200:\tlearn: 1.0264091\ttest: 1.0259375\tbest: 1.0259375 (200)\ttotal: 14.9s\tremaining: 12m 8s\n",
      "400:\tlearn: 1.0200578\ttest: 1.0183013\tbest: 1.0183013 (400)\ttotal: 30.2s\tremaining: 12m 3s\n",
      "600:\tlearn: 1.0167727\ttest: 1.0148236\tbest: 1.0148235 (599)\ttotal: 45.3s\tremaining: 11m 49s\n",
      "800:\tlearn: 1.0151130\ttest: 1.0135247\tbest: 1.0135247 (800)\ttotal: 1m\tremaining: 11m 37s\n",
      "1000:\tlearn: 1.0135289\ttest: 1.0123670\tbest: 1.0123636 (999)\ttotal: 1m 16s\tremaining: 11m 25s\n",
      "1200:\tlearn: 1.0120790\ttest: 1.0114214\tbest: 1.0114200 (1198)\ttotal: 1m 31s\tremaining: 11m 12s\n",
      "1400:\tlearn: 1.0108008\ttest: 1.0108232\tbest: 1.0108232 (1400)\ttotal: 1m 47s\tremaining: 11m 2s\n",
      "1600:\tlearn: 1.0097238\ttest: 1.0103992\tbest: 1.0103992 (1600)\ttotal: 2m 4s\tremaining: 10m 50s\n",
      "1800:\tlearn: 1.0086476\ttest: 1.0100306\tbest: 1.0100299 (1799)\ttotal: 2m 20s\tremaining: 10m 37s\n",
      "2000:\tlearn: 1.0077052\ttest: 1.0097783\tbest: 1.0097783 (2000)\ttotal: 2m 36s\tremaining: 10m 24s\n",
      "2200:\tlearn: 1.0067827\ttest: 1.0095288\tbest: 1.0095288 (2200)\ttotal: 2m 52s\tremaining: 10m 11s\n",
      "2400:\tlearn: 1.0059542\ttest: 1.0094137\tbest: 1.0094111 (2368)\ttotal: 3m 8s\tremaining: 9m 57s\n",
      "2600:\tlearn: 1.0051057\ttest: 1.0092293\tbest: 1.0092292 (2599)\ttotal: 3m 25s\tremaining: 9m 43s\n",
      "2800:\tlearn: 1.0043017\ttest: 1.0091025\tbest: 1.0091012 (2798)\ttotal: 3m 41s\tremaining: 9m 29s\n",
      "3000:\tlearn: 1.0034912\ttest: 1.0090233\tbest: 1.0090161 (2984)\ttotal: 3m 58s\tremaining: 9m 15s\n",
      "3200:\tlearn: 1.0027223\ttest: 1.0089889\tbest: 1.0089772 (3139)\ttotal: 4m 14s\tremaining: 9m\n",
      "3400:\tlearn: 1.0019714\ttest: 1.0089313\tbest: 1.0089247 (3386)\ttotal: 4m 31s\tremaining: 8m 46s\n",
      "3600:\tlearn: 1.0012300\ttest: 1.0088547\tbest: 1.0088520 (3596)\ttotal: 4m 47s\tremaining: 8m 31s\n",
      "3800:\tlearn: 1.0005179\ttest: 1.0087551\tbest: 1.0087485 (3773)\ttotal: 5m 4s\tremaining: 8m 16s\n",
      "4000:\tlearn: 0.9997960\ttest: 1.0086500\tbest: 1.0086500 (4000)\ttotal: 5m 21s\tremaining: 8m 1s\n",
      "bestTest = 1.008645699\n",
      "bestIteration = 4013\n",
      "Shrink model to first 4014 iterations.\n",
      "Fold 4 RMSE: 1.0086\n",
      "Training fold 5...\n",
      "0:\tlearn: 1.0914377\ttest: 1.0915328\tbest: 1.0915328 (0)\ttotal: 316ms\tremaining: 52m 35s\n",
      "200:\tlearn: 1.0262578\ttest: 1.0244770\tbest: 1.0244770 (200)\ttotal: 15s\tremaining: 12m 10s\n",
      "400:\tlearn: 1.0201239\ttest: 1.0175943\tbest: 1.0175943 (400)\ttotal: 29.7s\tremaining: 11m 51s\n",
      "600:\tlearn: 1.0170009\ttest: 1.0144907\tbest: 1.0144898 (598)\ttotal: 44.8s\tremaining: 11m 40s\n",
      "800:\tlearn: 1.0151191\ttest: 1.0130174\tbest: 1.0130174 (800)\ttotal: 59.9s\tremaining: 11m 28s\n",
      "1000:\tlearn: 1.0134905\ttest: 1.0119847\tbest: 1.0119847 (1000)\ttotal: 1m 15s\tremaining: 11m 15s\n",
      "1200:\tlearn: 1.0122519\ttest: 1.0114149\tbest: 1.0114149 (1199)\ttotal: 1m 30s\tremaining: 11m 5s\n"
     ]
    }
   ],
   "source": [
    "from axyom_utilities.training import train_model_cv\n",
    "from axyom_utilities.wrappers import CatBoostRegressorWrapper\n",
    "import json\n",
    "\n",
    "model = CatBoostRegressorWrapper(**best_params)\n",
    "\n",
    "# Use the train_model function to train and evaluate the model\n",
    "results = train_model_cv(\n",
    "    model=model,\n",
    "    X_train=X_train,\n",
    "    y_train=y_train,\n",
    "    X_test=X_test,\n",
    "    X_orig=X_orig,\n",
    "    early_stopping_rounds=100,\n",
    "    cv_splits=5\n",
    ")"
   ]
  },
  {
   "cell_type": "code",
   "execution_count": null,
   "id": "5803178b",
   "metadata": {},
   "outputs": [],
   "source": [
    "# from sklearn import mean_squared_log_error\n",
    "\n",
    "# def rmsle(y_true, y_pred):\n",
    "#     return np.sqrt(mean_squared_log_error(y_true, y_pred))\n",
    "\n",
    "# rmsle_score = rmsle(y_train, results[\"oof_preds\"])\n",
    "\n",
    "# print(f\"RMSLE score = {rmsle_score}\")"
   ]
  },
  {
   "cell_type": "code",
   "execution_count": 12,
   "id": "76c5d6d4",
   "metadata": {
    "execution": {
     "iopub.execute_input": "2024-12-09T18:27:06.069815Z",
     "iopub.status.busy": "2024-12-09T18:27:06.069512Z",
     "iopub.status.idle": "2024-12-09T18:27:06.074853Z",
     "shell.execute_reply": "2024-12-09T18:27:06.074183Z"
    },
    "papermill": {
     "duration": 0.035663,
     "end_time": "2024-12-09T18:27:06.076253",
     "exception": false,
     "start_time": "2024-12-09T18:27:06.040590",
     "status": "completed"
    },
    "tags": []
   },
   "outputs": [],
   "source": [
    "mean_score = np.mean(results[\"cv_scores\"])\n",
    "std_score = np.std(results[\"cv_scores\"])\n",
    "\n",
    "# Prepare the data\n",
    "data = {\n",
    "    \"mean_score\": mean_score,\n",
    "    \"std_score\": std_score\n",
    "}\n",
    "\n",
    "# Save to a JSON file\n",
    "with open(\"score.json\", \"w\") as json_file:\n",
    "    json.dump(data, json_file, indent=4)  # Use `indent` for readability"
   ]
  },
  {
   "cell_type": "code",
   "execution_count": 13,
   "id": "bba76357",
   "metadata": {
    "execution": {
     "iopub.execute_input": "2024-12-09T18:27:06.134109Z",
     "iopub.status.busy": "2024-12-09T18:27:06.133614Z",
     "iopub.status.idle": "2024-12-09T18:27:09.560189Z",
     "shell.execute_reply": "2024-12-09T18:27:09.559255Z"
    },
    "papermill": {
     "duration": 3.457335,
     "end_time": "2024-12-09T18:27:09.561802",
     "exception": false,
     "start_time": "2024-12-09T18:27:06.104467",
     "status": "completed"
    },
    "tags": []
   },
   "outputs": [],
   "source": [
    "import joblib\n",
    "\n",
    "name = f\"catboost_nonlog_feature_rmsle_{mean_score}\"\n",
    "\n",
    "# Save OOF predictions as a CSV file\n",
    "oof_preds_df = pd.DataFrame({f\"preds_{name}\": results[\"oof_preds\"]})\n",
    "oof_preds_df.to_csv(f\"oof_preds_{name}.csv\", index=False)\n",
    "\n",
    "test_preds_df = pd.DataFrame({f\"preds_{name}\": results[\"test_preds\"]})\n",
    "test_preds_df.to_csv(f\"test_preds_{name}.csv\", index=False)\n",
    "\n",
    "#joblib.dump(results[\"models\"], \"models.pkl\")"
   ]
  },
  {
   "cell_type": "markdown",
   "id": "607e1999",
   "metadata": {
    "papermill": {
     "duration": 0.030518,
     "end_time": "2024-12-09T18:27:09.621403",
     "exception": false,
     "start_time": "2024-12-09T18:27:09.590885",
     "status": "completed"
    },
    "tags": []
   },
   "source": [
    "# Submission"
   ]
  },
  {
   "cell_type": "code",
   "execution_count": 14,
   "id": "221fab64",
   "metadata": {
    "execution": {
     "iopub.execute_input": "2024-12-09T18:27:09.684611Z",
     "iopub.status.busy": "2024-12-09T18:27:09.683845Z",
     "iopub.status.idle": "2024-12-09T18:27:11.039199Z",
     "shell.execute_reply": "2024-12-09T18:27:11.038523Z"
    },
    "papermill": {
     "duration": 1.388863,
     "end_time": "2024-12-09T18:27:11.041168",
     "exception": false,
     "start_time": "2024-12-09T18:27:09.652305",
     "status": "completed"
    },
    "tags": []
   },
   "outputs": [],
   "source": [
    "y_pred = np.expm1(results['test_preds'])\n",
    "\n",
    "submission = pd.DataFrame({\n",
    "    'id': X_test.index,  \n",
    "    'Premium Amount': y_pred\n",
    "})\n",
    "\n",
    "FILE_PATH = f\"{name}.csv\"\n",
    "\n",
    "submission.to_csv(FILE_PATH, index=False)"
   ]
  },
  {
   "cell_type": "code",
   "execution_count": 15,
   "id": "1dacbf49",
   "metadata": {},
   "outputs": [],
   "source": [
    "if True: \n",
    "    # Define your message and file paths\n",
    "    COMP_NAME = \"playground-series-s4e12\"\n",
    "\n",
    "    SUBMIT_MESSAGE = name\n",
    "\n",
    "    # Submit to Kaggle\n",
    "    os.system(f'kaggle competitions submit -c {COMP_NAME} -f {FILE_PATH} -m \"{SUBMIT_MESSAGE}\"')"
   ]
  },
  {
   "cell_type": "code",
   "execution_count": null,
   "id": "8e1e0fc5",
   "metadata": {},
   "outputs": [],
   "source": []
  }
 ],
 "metadata": {
  "kaggle": {
   "accelerator": "gpu",
   "dataSources": [
    {
     "databundleVersionId": 10305135,
     "sourceId": 84896,
     "sourceType": "competition"
    },
    {
     "datasetId": 5547076,
     "sourceId": 9178166,
     "sourceType": "datasetVersion"
    },
    {
     "sourceId": 211948002,
     "sourceType": "kernelVersion"
    }
   ],
   "dockerImageVersionId": 30805,
   "isGpuEnabled": true,
   "isInternetEnabled": true,
   "language": "python",
   "sourceType": "notebook"
  },
  "kernelspec": {
   "display_name": "kaggle_env",
   "language": "python",
   "name": "python3"
  },
  "language_info": {
   "codemirror_mode": {
    "name": "ipython",
    "version": 3
   },
   "file_extension": ".py",
   "mimetype": "text/x-python",
   "name": "python",
   "nbconvert_exporter": "python",
   "pygments_lexer": "ipython3",
   "version": "3.10.16"
  },
  "papermill": {
   "default_parameters": {},
   "duration": 18880.993655,
   "end_time": "2024-12-09T18:27:12.649632",
   "environment_variables": {},
   "exception": null,
   "input_path": "__notebook__.ipynb",
   "output_path": "__notebook__.ipynb",
   "parameters": {},
   "start_time": "2024-12-09T13:12:31.655977",
   "version": "2.6.0"
  }
 },
 "nbformat": 4,
 "nbformat_minor": 5
}
