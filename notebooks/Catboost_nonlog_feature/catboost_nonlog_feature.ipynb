{
 "cells": [
  {
   "cell_type": "code",
   "execution_count": 1,
   "id": "615cf318",
   "metadata": {
    "_cell_guid": "b1076dfc-b9ad-4769-8c92-a6c4dae69d19",
    "_uuid": "8f2839f25d086af736a60e9eeb907d3b93b6e0e5",
    "execution": {
     "iopub.execute_input": "2024-12-09T13:12:34.047888Z",
     "iopub.status.busy": "2024-12-09T13:12:34.047597Z",
     "iopub.status.idle": "2024-12-09T13:12:34.716436Z",
     "shell.execute_reply": "2024-12-09T13:12:34.715768Z"
    },
    "papermill": {
     "duration": 0.676501,
     "end_time": "2024-12-09T13:12:34.718408",
     "exception": false,
     "start_time": "2024-12-09T13:12:34.041907",
     "status": "completed"
    },
    "tags": []
   },
   "outputs": [],
   "source": [
    "import numpy as np\n",
    "import os\n",
    "import pandas as pd\n",
    "import sys"
   ]
  },
  {
   "cell_type": "markdown",
   "id": "f1522c74",
   "metadata": {
    "papermill": {
     "duration": 0.004851,
     "end_time": "2024-12-09T13:12:34.727632",
     "exception": false,
     "start_time": "2024-12-09T13:12:34.722781",
     "status": "completed"
    },
    "tags": []
   },
   "source": [
    "# Config"
   ]
  },
  {
   "cell_type": "code",
   "execution_count": 2,
   "id": "25bf2667",
   "metadata": {
    "execution": {
     "iopub.execute_input": "2024-12-09T13:12:34.736529Z",
     "iopub.status.busy": "2024-12-09T13:12:34.736123Z",
     "iopub.status.idle": "2024-12-09T13:12:34.740000Z",
     "shell.execute_reply": "2024-12-09T13:12:34.739354Z"
    },
    "papermill": {
     "duration": 0.01006,
     "end_time": "2024-12-09T13:12:34.741432",
     "exception": false,
     "start_time": "2024-12-09T13:12:34.731372",
     "status": "completed"
    },
    "tags": []
   },
   "outputs": [],
   "source": [
    "HYPER_OPT = False \n",
    "HYPER_OPT_TIME = 3*60*60\n",
    "USE_ORIGINAL_DATA = False \n",
    "SUBMIT_TO_KAGGLE = False"
   ]
  },
  {
   "cell_type": "code",
   "execution_count": 3,
   "id": "636ad8af",
   "metadata": {},
   "outputs": [],
   "source": [
    "# Define the base directory (where the notebook is running)\n",
    "base_dir = os.path.abspath(os.path.join(os.getcwd(), \"..\", \"..\"))\n",
    "\n",
    "# Define the data directory\n",
    "data_dir = os.path.join(base_dir, \"data\")\n",
    "\n",
    "model_dir = os.path.join(base_dir, \"models\")\n",
    "\n",
    "notebooks_dir = os.path.join(base_dir, \"notebooks\")\n",
    "\n",
    "sys.path.append(base_dir)"
   ]
  },
  {
   "cell_type": "markdown",
   "id": "7d1038ad",
   "metadata": {
    "papermill": {
     "duration": 0.0037,
     "end_time": "2024-12-09T13:12:34.787072",
     "exception": false,
     "start_time": "2024-12-09T13:12:34.783372",
     "status": "completed"
    },
    "tags": []
   },
   "source": [
    "# Data Extraction"
   ]
  },
  {
   "cell_type": "code",
   "execution_count": 4,
   "id": "0d745aba",
   "metadata": {},
   "outputs": [],
   "source": [
    "from axyom_utilities.data_extraction import extract_data\n",
    "\n",
    "X_train, y_train, X_test, X_orig, y_orig = extract_data(data_dir, USE_ORIGINAL_DATA, log_transform=True)\n",
    "\n",
    "oof_log = pd.read_csv(os.path.join(notebooks_dir, \"Catboost_nonlog\\\\oof_preds_log.csv\"))\n",
    "oof_nonlog = pd.read_csv(os.path.join(notebooks_dir, \"Catboost_nonlog\\\\oof_preds_nonlog.csv\"))\n",
    "\n",
    "test_log = pd.read_csv(os.path.join(notebooks_dir, \"Catboost_nonlog\\\\test_preds_log.csv\"))\n",
    "test_nonlog = pd.read_csv(os.path.join(notebooks_dir, \"Catboost_nonlog\\\\test_preds_nonlog.csv\"))\n",
    "\n",
    "X_train[\"oof_nonlog\"] = oof_nonlog\n",
    "X_train[\"oof_log\"] = oof_log\n",
    "\n",
    "X_test[\"oof_nonlog\"] = test_nonlog\n",
    "X_test[\"oof_log\"] = test_log"
   ]
  },
  {
   "cell_type": "markdown",
   "id": "300f27ae",
   "metadata": {
    "papermill": {
     "duration": 0.003676,
     "end_time": "2024-12-09T13:12:43.939293",
     "exception": false,
     "start_time": "2024-12-09T13:12:43.935617",
     "status": "completed"
    },
    "tags": []
   },
   "source": [
    "# Data Cleaning"
   ]
  },
  {
   "cell_type": "code",
   "execution_count": 5,
   "id": "9d42d2df",
   "metadata": {
    "execution": {
     "iopub.execute_input": "2024-12-09T13:12:43.995169Z",
     "iopub.status.busy": "2024-12-09T13:12:43.994928Z",
     "iopub.status.idle": "2024-12-09T13:12:50.925060Z",
     "shell.execute_reply": "2024-12-09T13:12:50.924366Z"
    },
    "papermill": {
     "duration": 6.936729,
     "end_time": "2024-12-09T13:12:50.926967",
     "exception": false,
     "start_time": "2024-12-09T13:12:43.990238",
     "status": "completed"
    },
    "tags": []
   },
   "outputs": [],
   "source": [
    "from axyom_utilities.preprocessing import * \n",
    "from toolz import pipe\n",
    "\n",
    "preprocessor = lambda df: pipe(df,\\\n",
    "    preprocess_dates,\n",
    "    all_to_string    \n",
    ")\n",
    "\n",
    "X_train = preprocessor(X_train)\n",
    "X_test = preprocessor(X_test)\n",
    "if USE_ORIGINAL_DATA:\n",
    "    X_orig = preprocessor(X_orig)"
   ]
  },
  {
   "cell_type": "markdown",
   "id": "2bfe1a39",
   "metadata": {
    "papermill": {
     "duration": 0.003711,
     "end_time": "2024-12-09T13:12:52.399442",
     "exception": false,
     "start_time": "2024-12-09T13:12:52.395731",
     "status": "completed"
    },
    "tags": []
   },
   "source": [
    "# HyperOpt"
   ]
  },
  {
   "cell_type": "code",
   "execution_count": 6,
   "id": "3a251a32",
   "metadata": {},
   "outputs": [],
   "source": [
    "from axyom_utilities.hyperparameter_tuning import CatBoostTuner\n",
    "\n",
    "if HYPER_OPT:\n",
    "    #tune_lgbm(X_train, y_train, HYPER_OPT_TIME)\n",
    "    catboost_tuner = CatBoostTuner(X_train, y_train, HYPER_OPT_TIME)\n",
    "    best_params = catboost_tuner.tune()\n",
    "else:\n",
    "    best_params = {\n",
    "        \"iterations\":1000,\n",
    "        \"learning_rate\":0.1,\n",
    "        \"depth\":6,\n",
    "        \"eval_metric\":\"RMSE\",\n",
    "        \"random_seed\":42,\n",
    "        \"verbose\":200,\n",
    "        \"task_type\":'GPU',\n",
    "        \"l2_leaf_reg\" :0.7,\n",
    "    }"
   ]
  },
  {
   "cell_type": "code",
   "execution_count": 7,
   "id": "743d5c4c",
   "metadata": {
    "execution": {
     "iopub.execute_input": "2024-12-09T18:16:55.241304Z",
     "iopub.status.busy": "2024-12-09T18:16:55.240196Z",
     "iopub.status.idle": "2024-12-09T18:16:55.246167Z",
     "shell.execute_reply": "2024-12-09T18:16:55.245357Z"
    },
    "papermill": {
     "duration": 0.035916,
     "end_time": "2024-12-09T18:16:55.247704",
     "exception": false,
     "start_time": "2024-12-09T18:16:55.211788",
     "status": "completed"
    },
    "tags": []
   },
   "outputs": [
    {
     "data": {
      "text/plain": [
       "{'iterations': 1000,\n",
       " 'learning_rate': 0.1,\n",
       " 'depth': 6,\n",
       " 'eval_metric': 'RMSE',\n",
       " 'random_seed': 42,\n",
       " 'verbose': 200,\n",
       " 'task_type': 'GPU',\n",
       " 'l2_leaf_reg': 0.7}"
      ]
     },
     "execution_count": 7,
     "metadata": {},
     "output_type": "execute_result"
    }
   ],
   "source": [
    "best_params"
   ]
  },
  {
   "cell_type": "code",
   "execution_count": 8,
   "id": "b1e870ef",
   "metadata": {
    "execution": {
     "iopub.execute_input": "2024-12-09T18:16:55.304289Z",
     "iopub.status.busy": "2024-12-09T18:16:55.303586Z",
     "iopub.status.idle": "2024-12-09T18:16:55.307059Z",
     "shell.execute_reply": "2024-12-09T18:16:55.306445Z"
    },
    "papermill": {
     "duration": 0.033579,
     "end_time": "2024-12-09T18:16:55.308644",
     "exception": false,
     "start_time": "2024-12-09T18:16:55.275065",
     "status": "completed"
    },
    "tags": []
   },
   "outputs": [],
   "source": [
    "best_params[\"iterations\"] = 10000"
   ]
  },
  {
   "cell_type": "markdown",
   "id": "912bf058",
   "metadata": {
    "papermill": {
     "duration": 0.032715,
     "end_time": "2024-12-09T18:16:55.371337",
     "exception": false,
     "start_time": "2024-12-09T18:16:55.338622",
     "status": "completed"
    },
    "tags": []
   },
   "source": [
    "# Model Training"
   ]
  },
  {
   "cell_type": "code",
   "execution_count": null,
   "id": "d9ed4579",
   "metadata": {
    "execution": {
     "iopub.execute_input": "2024-12-09T18:16:55.437662Z",
     "iopub.status.busy": "2024-12-09T18:16:55.437325Z",
     "iopub.status.idle": "2024-12-09T18:27:05.981939Z",
     "shell.execute_reply": "2024-12-09T18:27:05.980966Z"
    },
    "papermill": {
     "duration": 610.608804,
     "end_time": "2024-12-09T18:27:06.012560",
     "exception": false,
     "start_time": "2024-12-09T18:16:55.403756",
     "status": "completed"
    },
    "tags": []
   },
   "outputs": [
    {
     "name": "stdout",
     "output_type": "stream",
     "text": [
      "Training fold 1...\n",
      "0:\tlearn: 1.0917708\ttest: 1.0924541\tbest: 1.0924541 (0)\ttotal: 239ms\tremaining: 39m 49s\n",
      "200:\tlearn: 1.0644263\ttest: 1.0596339\tbest: 1.0596339 (200)\ttotal: 26.3s\tremaining: 21m 22s\n",
      "400:\tlearn: 1.0629169\ttest: 1.0590497\tbest: 1.0590497 (400)\ttotal: 54.4s\tremaining: 21m 41s\n",
      "600:\tlearn: 1.0617068\ttest: 1.0588237\tbest: 1.0588167 (584)\ttotal: 1m 22s\tremaining: 21m 32s\n",
      "800:\tlearn: 1.0604916\ttest: 1.0586746\tbest: 1.0586746 (800)\ttotal: 1m 50s\tremaining: 21m 11s\n",
      "1000:\tlearn: 1.0592999\ttest: 1.0585330\tbest: 1.0585330 (1000)\ttotal: 2m 19s\tremaining: 20m 49s\n",
      "1200:\tlearn: 1.0582167\ttest: 1.0585285\tbest: 1.0585164 (1124)\ttotal: 2m 47s\tremaining: 20m 27s\n",
      "bestTest = 1.058516429\n",
      "bestIteration = 1124\n",
      "Shrink model to first 1125 iterations.\n",
      "Fold 1 RMSE: 1.0585\n",
      "Training fold 2...\n",
      "0:\tlearn: 1.0921429\ttest: 1.0905254\tbest: 1.0905254 (0)\ttotal: 121ms\tremaining: 20m 14s\n",
      "200:\tlearn: 1.0642371\ttest: 1.0579962\tbest: 1.0579962 (200)\ttotal: 26s\tremaining: 21m 9s\n",
      "400:\tlearn: 1.0626659\ttest: 1.0574301\tbest: 1.0574293 (389)\ttotal: 53.7s\tremaining: 21m 25s\n",
      "600:\tlearn: 1.0614438\ttest: 1.0572662\tbest: 1.0572631 (595)\ttotal: 1m 22s\tremaining: 21m 23s\n",
      "800:\tlearn: 1.0602694\ttest: 1.0571624\tbest: 1.0571564 (779)\ttotal: 1m 50s\tremaining: 21m 12s\n",
      "1000:\tlearn: 1.0591609\ttest: 1.0571030\tbest: 1.0571030 (1000)\ttotal: 2m 19s\tremaining: 20m 57s\n",
      "1200:\tlearn: 1.0581388\ttest: 1.0570757\tbest: 1.0570757 (1200)\ttotal: 2m 49s\tremaining: 20m 38s\n",
      "bestTest = 1.057058431\n",
      "bestIteration = 1292\n",
      "Shrink model to first 1293 iterations.\n",
      "Fold 2 RMSE: 1.0571\n",
      "Training fold 3...\n",
      "0:\tlearn: 1.0924029\ttest: 1.0896279\tbest: 1.0896279 (0)\ttotal: 289ms\tremaining: 48m 4s\n",
      "200:\tlearn: 1.0647368\ttest: 1.0574270\tbest: 1.0574270 (200)\ttotal: 25.8s\tremaining: 20m 56s\n",
      "400:\tlearn: 1.0632023\ttest: 1.0568361\tbest: 1.0568361 (400)\ttotal: 53.8s\tremaining: 21m 27s\n",
      "600:\tlearn: 1.0620279\ttest: 1.0566493\tbest: 1.0566475 (585)\ttotal: 1m 22s\tremaining: 21m 36s\n",
      "800:\tlearn: 1.0608564\ttest: 1.0565406\tbest: 1.0565400 (797)\ttotal: 1m 51s\tremaining: 21m 20s\n",
      "1000:\tlearn: 1.0597353\ttest: 1.0564509\tbest: 1.0564497 (977)\ttotal: 2m 20s\tremaining: 21m 1s\n",
      "1200:\tlearn: 1.0586535\ttest: 1.0564024\tbest: 1.0564019 (1199)\ttotal: 2m 49s\tremaining: 20m 42s\n",
      "1400:\tlearn: 1.0575986\ttest: 1.0563549\tbest: 1.0563452 (1382)\ttotal: 3m 18s\tremaining: 20m 20s\n",
      "bestTest = 1.056321928\n",
      "bestIteration = 1471\n",
      "Shrink model to first 1472 iterations.\n",
      "Fold 3 RMSE: 1.0563\n",
      "Training fold 4...\n",
      "0:\tlearn: 1.0916371\ttest: 1.0926936\tbest: 1.0926936 (0)\ttotal: 269ms\tremaining: 44m 45s\n",
      "200:\tlearn: 1.0641679\ttest: 1.0602029\tbest: 1.0602029 (200)\ttotal: 26.3s\tremaining: 21m 22s\n",
      "400:\tlearn: 1.0626225\ttest: 1.0597383\tbest: 1.0597379 (394)\ttotal: 54.3s\tremaining: 21m 40s\n",
      "600:\tlearn: 1.0613590\ttest: 1.0594775\tbest: 1.0594775 (600)\ttotal: 1m 22s\tremaining: 21m 31s\n",
      "800:\tlearn: 1.0602434\ttest: 1.0594296\tbest: 1.0594231 (789)\ttotal: 1m 51s\tremaining: 21m 16s\n",
      "1000:\tlearn: 1.0591351\ttest: 1.0593602\tbest: 1.0593599 (977)\ttotal: 2m 19s\tremaining: 20m 52s\n",
      "1200:\tlearn: 1.0580684\ttest: 1.0593203\tbest: 1.0593120 (1162)\ttotal: 2m 47s\tremaining: 20m 27s\n",
      "1400:\tlearn: 1.0569848\ttest: 1.0592888\tbest: 1.0592869 (1315)\ttotal: 3m 16s\tremaining: 20m 4s\n",
      "bestTest = 1.059286869\n",
      "bestIteration = 1315\n",
      "Shrink model to first 1316 iterations.\n",
      "Fold 4 RMSE: 1.0593\n",
      "Training fold 5...\n",
      "0:\tlearn: 1.0919444\ttest: 1.0914434\tbest: 1.0914434 (0)\ttotal: 302ms\tremaining: 50m 16s\n",
      "200:\tlearn: 1.0645339\ttest: 1.0590773\tbest: 1.0590773 (200)\ttotal: 26s\tremaining: 21m 8s\n",
      "400:\tlearn: 1.0630450\ttest: 1.0585706\tbest: 1.0585691 (399)\ttotal: 53.9s\tremaining: 21m 30s\n",
      "600:\tlearn: 1.0618167\ttest: 1.0583512\tbest: 1.0583489 (591)\ttotal: 1m 22s\tremaining: 21m 27s\n",
      "800:\tlearn: 1.0606339\ttest: 1.0581447\tbest: 1.0581447 (800)\ttotal: 1m 50s\tremaining: 21m 10s\n",
      "1000:\tlearn: 1.0594841\ttest: 1.0580750\tbest: 1.0580748 (999)\ttotal: 2m 19s\tremaining: 20m 52s\n",
      "1200:\tlearn: 1.0583590\ttest: 1.0580427\tbest: 1.0580357 (1180)\ttotal: 2m 48s\tremaining: 20m 32s\n",
      "1400:\tlearn: 1.0573598\ttest: 1.0580015\tbest: 1.0580006 (1392)\ttotal: 3m 17s\tremaining: 20m 10s\n"
     ]
    }
   ],
   "source": [
    "from axyom_utilities.training import train_model_cv\n",
    "from axyom_utilities.wrappers import CatBoostRegressorWrapper\n",
    "import json\n",
    "\n",
    "model = CatBoostRegressorWrapper(**best_params)\n",
    "\n",
    "# Use the train_model function to train and evaluate the model\n",
    "results = train_model_cv(\n",
    "    model=model,\n",
    "    X_train=X_train,\n",
    "    y_train=y_train,\n",
    "    X_test=X_test,\n",
    "    X_orig=X_orig,\n",
    "    early_stopping_rounds=100,\n",
    "    cv_splits=5\n",
    ")"
   ]
  },
  {
   "cell_type": "code",
   "execution_count": null,
   "id": "5803178b",
   "metadata": {},
   "outputs": [],
   "source": [
    "from sklearn import mean_squared_log_error\n",
    "\n",
    "def rmsle(y_true, y_pred):\n",
    "    return np.sqrt(mean_squared_log_error(y_true, y_pred))\n",
    "\n",
    "rmsle_score = rmsle(y_train, results[\"oof_preds\"])\n",
    "\n",
    "print(f\"RMSLE score = {rmsle_score}\")"
   ]
  },
  {
   "cell_type": "code",
   "execution_count": 10,
   "id": "76c5d6d4",
   "metadata": {
    "execution": {
     "iopub.execute_input": "2024-12-09T18:27:06.069815Z",
     "iopub.status.busy": "2024-12-09T18:27:06.069512Z",
     "iopub.status.idle": "2024-12-09T18:27:06.074853Z",
     "shell.execute_reply": "2024-12-09T18:27:06.074183Z"
    },
    "papermill": {
     "duration": 0.035663,
     "end_time": "2024-12-09T18:27:06.076253",
     "exception": false,
     "start_time": "2024-12-09T18:27:06.040590",
     "status": "completed"
    },
    "tags": []
   },
   "outputs": [],
   "source": [
    "# mean_score = np.mean(results[\"cv_scores\"])\n",
    "# std_score = np.std(results[\"cv_scores\"])\n",
    "\n",
    "# # Prepare the data\n",
    "# data = {\n",
    "#     \"mean_score\": mean_score,\n",
    "#     \"std_score\": std_score\n",
    "# }\n",
    "\n",
    "# # Save to a JSON file\n",
    "# with open(\"score.json\", \"w\") as json_file:\n",
    "#     json.dump(data, json_file, indent=4)  # Use `indent` for readability"
   ]
  },
  {
   "cell_type": "code",
   "execution_count": null,
   "id": "bba76357",
   "metadata": {
    "execution": {
     "iopub.execute_input": "2024-12-09T18:27:06.134109Z",
     "iopub.status.busy": "2024-12-09T18:27:06.133614Z",
     "iopub.status.idle": "2024-12-09T18:27:09.560189Z",
     "shell.execute_reply": "2024-12-09T18:27:09.559255Z"
    },
    "papermill": {
     "duration": 3.457335,
     "end_time": "2024-12-09T18:27:09.561802",
     "exception": false,
     "start_time": "2024-12-09T18:27:06.104467",
     "status": "completed"
    },
    "tags": []
   },
   "outputs": [],
   "source": [
    "import joblib\n",
    "\n",
    "# Save OOF predictions as a CSV file\n",
    "oof_preds_df = pd.DataFrame({\"oof_preds_nonlog\": results[\"oof_preds\"]})\n",
    "oof_preds_df.to_csv(\"oof_preds_nonlog.csv\", index=False)\n",
    "\n",
    "test_preds_df = pd.DataFrame({\"test_preds_nonlog\": results[\"test_preds\"]})\n",
    "test_preds_df.to_csv(\"test_preds_nonlog.csv\", index=False)\n",
    "\n",
    "joblib.dump(results[\"models\"], \"models.pkl\")"
   ]
  },
  {
   "cell_type": "markdown",
   "id": "607e1999",
   "metadata": {
    "papermill": {
     "duration": 0.030518,
     "end_time": "2024-12-09T18:27:09.621403",
     "exception": false,
     "start_time": "2024-12-09T18:27:09.590885",
     "status": "completed"
    },
    "tags": []
   },
   "source": [
    "# Submission"
   ]
  },
  {
   "cell_type": "code",
   "execution_count": 12,
   "id": "221fab64",
   "metadata": {
    "execution": {
     "iopub.execute_input": "2024-12-09T18:27:09.684611Z",
     "iopub.status.busy": "2024-12-09T18:27:09.683845Z",
     "iopub.status.idle": "2024-12-09T18:27:11.039199Z",
     "shell.execute_reply": "2024-12-09T18:27:11.038523Z"
    },
    "papermill": {
     "duration": 1.388863,
     "end_time": "2024-12-09T18:27:11.041168",
     "exception": false,
     "start_time": "2024-12-09T18:27:09.652305",
     "status": "completed"
    },
    "tags": []
   },
   "outputs": [],
   "source": [
    "# y_pred = np.expm1(results['test_preds'])\n",
    "\n",
    "# submission = pd.DataFrame({\n",
    "#     'id': X_test.index,  \n",
    "#     'Premium Amount': y_pred\n",
    "# })\n",
    "\n",
    "# FILE_PATH = f\"nonlog_preds_RMSE_{rmsle_score:.4f}.csv\"\n",
    "\n",
    "# submission.to_csv(FILE_PATH, index=False)"
   ]
  },
  {
   "cell_type": "code",
   "execution_count": 13,
   "id": "1dacbf49",
   "metadata": {},
   "outputs": [],
   "source": [
    "if False: \n",
    "    # Define your message and file paths\n",
    "    COMP_NAME = \"playground-series-s4e12\"\n",
    "\n",
    "    SUBMIT_MESSAGE = f\"Clean LGBM: Mean score: {mean_score:.4f} +/- {std_score:.4f}\"\n",
    "\n",
    "    # Submit to Kaggle\n",
    "    os.system(f'kaggle competitions submit -c {COMP_NAME} -f {FILE_PATH} -m \"{SUBMIT_MESSAGE}\"')"
   ]
  }
 ],
 "metadata": {
  "kaggle": {
   "accelerator": "gpu",
   "dataSources": [
    {
     "databundleVersionId": 10305135,
     "sourceId": 84896,
     "sourceType": "competition"
    },
    {
     "datasetId": 5547076,
     "sourceId": 9178166,
     "sourceType": "datasetVersion"
    },
    {
     "sourceId": 211948002,
     "sourceType": "kernelVersion"
    }
   ],
   "dockerImageVersionId": 30805,
   "isGpuEnabled": true,
   "isInternetEnabled": true,
   "language": "python",
   "sourceType": "notebook"
  },
  "kernelspec": {
   "display_name": "kaggle_env",
   "language": "python",
   "name": "python3"
  },
  "language_info": {
   "codemirror_mode": {
    "name": "ipython",
    "version": 3
   },
   "file_extension": ".py",
   "mimetype": "text/x-python",
   "name": "python",
   "nbconvert_exporter": "python",
   "pygments_lexer": "ipython3",
   "version": "3.10.16"
  },
  "papermill": {
   "default_parameters": {},
   "duration": 18880.993655,
   "end_time": "2024-12-09T18:27:12.649632",
   "environment_variables": {},
   "exception": null,
   "input_path": "__notebook__.ipynb",
   "output_path": "__notebook__.ipynb",
   "parameters": {},
   "start_time": "2024-12-09T13:12:31.655977",
   "version": "2.6.0"
  }
 },
 "nbformat": 4,
 "nbformat_minor": 5
}
