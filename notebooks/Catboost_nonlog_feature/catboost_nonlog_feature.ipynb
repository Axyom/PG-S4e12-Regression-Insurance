{
 "cells": [
  {
   "cell_type": "code",
   "execution_count": 1,
   "id": "615cf318",
   "metadata": {
    "_cell_guid": "b1076dfc-b9ad-4769-8c92-a6c4dae69d19",
    "_uuid": "8f2839f25d086af736a60e9eeb907d3b93b6e0e5",
    "execution": {
     "iopub.execute_input": "2024-12-09T13:12:34.047888Z",
     "iopub.status.busy": "2024-12-09T13:12:34.047597Z",
     "iopub.status.idle": "2024-12-09T13:12:34.716436Z",
     "shell.execute_reply": "2024-12-09T13:12:34.715768Z"
    },
    "papermill": {
     "duration": 0.676501,
     "end_time": "2024-12-09T13:12:34.718408",
     "exception": false,
     "start_time": "2024-12-09T13:12:34.041907",
     "status": "completed"
    },
    "tags": []
   },
   "outputs": [],
   "source": [
    "import numpy as np\n",
    "import os\n",
    "import pandas as pd\n",
    "import sys"
   ]
  },
  {
   "cell_type": "markdown",
   "id": "f1522c74",
   "metadata": {
    "papermill": {
     "duration": 0.004851,
     "end_time": "2024-12-09T13:12:34.727632",
     "exception": false,
     "start_time": "2024-12-09T13:12:34.722781",
     "status": "completed"
    },
    "tags": []
   },
   "source": [
    "# Config"
   ]
  },
  {
   "cell_type": "code",
   "execution_count": 2,
   "id": "25bf2667",
   "metadata": {
    "execution": {
     "iopub.execute_input": "2024-12-09T13:12:34.736529Z",
     "iopub.status.busy": "2024-12-09T13:12:34.736123Z",
     "iopub.status.idle": "2024-12-09T13:12:34.740000Z",
     "shell.execute_reply": "2024-12-09T13:12:34.739354Z"
    },
    "papermill": {
     "duration": 0.01006,
     "end_time": "2024-12-09T13:12:34.741432",
     "exception": false,
     "start_time": "2024-12-09T13:12:34.731372",
     "status": "completed"
    },
    "tags": []
   },
   "outputs": [],
   "source": [
    "HYPER_OPT = False \n",
    "HYPER_OPT_TIME = 3*60*60\n",
    "USE_ORIGINAL_DATA = False \n",
    "SUBMIT_TO_KAGGLE = False\n",
    "COMPUTE_NONLOG = True\n",
    "USE_NONLOG = False"
   ]
  },
  {
   "cell_type": "code",
   "execution_count": 3,
   "id": "636ad8af",
   "metadata": {},
   "outputs": [],
   "source": [
    "# Define the base directory (where the notebook is running)\n",
    "base_dir = os.path.abspath(os.path.join(os.getcwd(), \"..\", \"..\"))\n",
    "\n",
    "# Define the data directory\n",
    "data_dir = os.path.join(base_dir, \"data\")\n",
    "\n",
    "model_dir = os.path.join(base_dir, \"models\")\n",
    "\n",
    "notebooks_dir = os.path.join(base_dir, \"notebooks\")\n",
    "\n",
    "sys.path.append(base_dir)"
   ]
  },
  {
   "cell_type": "markdown",
   "id": "7d1038ad",
   "metadata": {
    "papermill": {
     "duration": 0.0037,
     "end_time": "2024-12-09T13:12:34.787072",
     "exception": false,
     "start_time": "2024-12-09T13:12:34.783372",
     "status": "completed"
    },
    "tags": []
   },
   "source": [
    "# Data Extraction"
   ]
  },
  {
   "cell_type": "code",
   "execution_count": 4,
   "id": "0d745aba",
   "metadata": {},
   "outputs": [],
   "source": [
    "from axyom_utilities.data_extraction import extract_data\n",
    "from axyom_utilities.training import train_model_cv\n",
    "from axyom_utilities.wrappers import CatBoostRegressorWrapper\n",
    "from axyom_utilities.preprocessing import * \n",
    "from toolz import pipe\n",
    "import joblib\n",
    "\n",
    "def get_oof(X_train, y_train, X_test):\n",
    "    \n",
    "    #X_train, y_train, X_test, X_orig, y_orig = extract_data(data_dir, USE_ORIGINAL_DATA, log_transform=False) # IMPORTANT: no log transform\n",
    "\n",
    "    preprocessor = lambda df: pipe(df,\\\n",
    "        preprocess_dates,\n",
    "        all_to_string    \n",
    "    )\n",
    "\n",
    "    X_train = preprocessor(X_train)\n",
    "    X_test = preprocessor(X_test)\n",
    "    \n",
    "    params = {\n",
    "        \"iterations\":200,\n",
    "        \"learning_rate\":0.1,\n",
    "        \"depth\":6,\n",
    "        \"eval_metric\":\"RMSE\",\n",
    "        \"random_seed\":42,\n",
    "        \"verbose\":200,\n",
    "        \"task_type\":'GPU',\n",
    "        \"l2_leaf_reg\" :0.7,\n",
    "    }\n",
    "    \n",
    "    results = train_model_cv(\n",
    "        model=CatBoostRegressorWrapper(**params),\n",
    "        X_train=X_train,\n",
    "        y_train=y_train,\n",
    "        X_test=X_test,\n",
    "        early_stopping_rounds=100,\n",
    "        cv_splits=5\n",
    "    )\n",
    "    \n",
    "    oof, test = results[\"oof_preds\"], results['test_preds']\n",
    "    \n",
    "    joblib.dump((oof, test), \"nonlog_feature/nonlog.pkl\")\n",
    "    \n",
    "    return oof, test\n",
    "\n",
    "\n",
    "\n",
    "# oof_log = pd.read_csv(os.path.join(notebooks_dir, \"Catboost_nonlog\\\\oof_preds_log.csv\"))\n",
    "# oof_nonlog = pd.read_csv(os.path.join(notebooks_dir, \"Catboost_nonlog\\\\oof_preds_nonlog.csv\"))\n",
    "\n",
    "# test_log = pd.read_csv(os.path.join(notebooks_dir, \"Catboost_nonlog\\\\test_preds_log.csv\"))\n",
    "# test_nonlog = pd.read_csv(os.path.join(notebooks_dir, \"Catboost_nonlog\\\\test_preds_nonlog.csv\"))\n",
    "\n",
    "# X_train[\"oof_nonlog\"] = oof_nonlog + np.random.normal(0, 0.01, oof_log.shape) # noise\n",
    "# X_test[\"oof_nonlog\"] = test_nonlog + np.random.normal(0, 0.01, oof_log.shape)\n",
    "\n",
    "# X_test[\"oof_log\"] = test_log\n",
    "# X_train[\"oof_log\"] = oof_log"
   ]
  },
  {
   "cell_type": "code",
   "execution_count": 5,
   "id": "ccf639fb",
   "metadata": {},
   "outputs": [],
   "source": [
    "X_train, y_train, X_test, X_orig, y_orig = extract_data(data_dir, USE_ORIGINAL_DATA, log_transform=True)\n",
    "y_train_nonlog = np.expm1(y_train)\n",
    "\n",
    "if USE_NONLOG:\n",
    "    if COMPUTE_NONLOG:\n",
    "        nonlog_oof_preds, nonlog_test_preds = get_oof(X_train, y_train_nonlog)\n",
    "    else:\n",
    "        nonlog_oof_preds, nonlog_test_preds = joblib.load('nonlog_feature/cat_non_loged.pkl')\n",
    "    \n",
    "    X_train[\"nonlog\"] = nonlog_oof_preds\n",
    "    X_test[\"nonlog\"] = nonlog_test_preds"
   ]
  },
  {
   "cell_type": "markdown",
   "id": "300f27ae",
   "metadata": {
    "papermill": {
     "duration": 0.003676,
     "end_time": "2024-12-09T13:12:43.939293",
     "exception": false,
     "start_time": "2024-12-09T13:12:43.935617",
     "status": "completed"
    },
    "tags": []
   },
   "source": [
    "# Data Cleaning"
   ]
  },
  {
   "cell_type": "code",
   "execution_count": 7,
   "id": "9d42d2df",
   "metadata": {
    "execution": {
     "iopub.execute_input": "2024-12-09T13:12:43.995169Z",
     "iopub.status.busy": "2024-12-09T13:12:43.994928Z",
     "iopub.status.idle": "2024-12-09T13:12:50.925060Z",
     "shell.execute_reply": "2024-12-09T13:12:50.924366Z"
    },
    "papermill": {
     "duration": 6.936729,
     "end_time": "2024-12-09T13:12:50.926967",
     "exception": false,
     "start_time": "2024-12-09T13:12:43.990238",
     "status": "completed"
    },
    "tags": []
   },
   "outputs": [],
   "source": [
    "from axyom_utilities.preprocessing import freq_encode, preprocess_dates, clean_categorical\n",
    "from toolz import pipe\n",
    "\n",
    "def feature_engineering(df):\n",
    "    \n",
    "    df['MissingHealth'] = df['Health Score'].isna().astype(int)\n",
    "    df['Claims v Duration'] = df['Previous Claims'] / df['Insurance Duration']\n",
    "    df['Health vs Claims'] = df['Health Score'] / df['Previous Claims']\n",
    "    \n",
    "    def duplicate_int(col, df):\n",
    "        df[col + ' Integer'] = df[col].apply(lambda x: int(x) if pd.notna(x) else x)\n",
    "        df[col] = df[col].fillna('None').astype('string')\n",
    "        \n",
    "        return df\n",
    "    \n",
    "    df = duplicate_int('Health Score', df)\n",
    "    df = duplicate_int('Credit Score', df)\n",
    "    df = duplicate_int('Previous Claims', df)\n",
    "    df = duplicate_int('Annual Income', df)\n",
    "    \n",
    "    df['MissingValuesCount'] = df.isna().sum(axis=1)\n",
    "    \n",
    "    df = freq_encode(df)\n",
    "    \n",
    " \n",
    "    \n",
    "    return df\n",
    "\n",
    "preprocessor = lambda df: pipe(df,\\\n",
    "    preprocess_dates,\n",
    "    feature_engineering,\n",
    "    clean_categorical   \n",
    ")\n",
    "\n",
    "X_train = preprocessor(X_train)\n",
    "X_test = preprocessor(X_test)\n",
    "if USE_ORIGINAL_DATA:\n",
    "    X_orig = preprocessor(X_orig)\n",
    "    \n",
    "#frequency_encode(X_train, X_test, drop_org=False) # data leaking but acceptable in this context\n"
   ]
  },
  {
   "cell_type": "markdown",
   "id": "2bfe1a39",
   "metadata": {
    "papermill": {
     "duration": 0.003711,
     "end_time": "2024-12-09T13:12:52.399442",
     "exception": false,
     "start_time": "2024-12-09T13:12:52.395731",
     "status": "completed"
    },
    "tags": []
   },
   "source": [
    "# HyperOpt"
   ]
  },
  {
   "cell_type": "code",
   "execution_count": 8,
   "id": "3a251a32",
   "metadata": {},
   "outputs": [],
   "source": [
    "from axyom_utilities.hyperparameter_tuning import CatBoostTuner\n",
    "\n",
    "if HYPER_OPT:\n",
    "    #tune_lgbm(X_train, y_train, HYPER_OPT_TIME)\n",
    "    catboost_tuner = CatBoostTuner(X_train, y_train, HYPER_OPT_TIME)\n",
    "    best_params = catboost_tuner.tune()\n",
    "else:\n",
    "    best_params = {\n",
    "        \"iterations\":3000,\n",
    "        \"learning_rate\":0.05,\n",
    "        \"depth\":6,\n",
    "        \"eval_metric\":\"RMSE\",\n",
    "        \"random_seed\":42,\n",
    "        \"verbose\":200,\n",
    "        \"task_type\":'GPU',\n",
    "        \"l2_leaf_reg\" :0.7,\n",
    "    }"
   ]
  },
  {
   "cell_type": "code",
   "execution_count": 9,
   "id": "743d5c4c",
   "metadata": {
    "execution": {
     "iopub.execute_input": "2024-12-09T18:16:55.241304Z",
     "iopub.status.busy": "2024-12-09T18:16:55.240196Z",
     "iopub.status.idle": "2024-12-09T18:16:55.246167Z",
     "shell.execute_reply": "2024-12-09T18:16:55.245357Z"
    },
    "papermill": {
     "duration": 0.035916,
     "end_time": "2024-12-09T18:16:55.247704",
     "exception": false,
     "start_time": "2024-12-09T18:16:55.211788",
     "status": "completed"
    },
    "tags": []
   },
   "outputs": [
    {
     "data": {
      "text/plain": [
       "{'iterations': 3000,\n",
       " 'learning_rate': 0.05,\n",
       " 'depth': 6,\n",
       " 'eval_metric': 'RMSE',\n",
       " 'random_seed': 42,\n",
       " 'verbose': 200,\n",
       " 'task_type': 'GPU',\n",
       " 'l2_leaf_reg': 0.7}"
      ]
     },
     "execution_count": 9,
     "metadata": {},
     "output_type": "execute_result"
    }
   ],
   "source": [
    "best_params"
   ]
  },
  {
   "cell_type": "code",
   "execution_count": 10,
   "id": "b1e870ef",
   "metadata": {
    "execution": {
     "iopub.execute_input": "2024-12-09T18:16:55.304289Z",
     "iopub.status.busy": "2024-12-09T18:16:55.303586Z",
     "iopub.status.idle": "2024-12-09T18:16:55.307059Z",
     "shell.execute_reply": "2024-12-09T18:16:55.306445Z"
    },
    "papermill": {
     "duration": 0.033579,
     "end_time": "2024-12-09T18:16:55.308644",
     "exception": false,
     "start_time": "2024-12-09T18:16:55.275065",
     "status": "completed"
    },
    "tags": []
   },
   "outputs": [],
   "source": [
    "best_params[\"iterations\"] = 10000"
   ]
  },
  {
   "cell_type": "markdown",
   "id": "912bf058",
   "metadata": {
    "papermill": {
     "duration": 0.032715,
     "end_time": "2024-12-09T18:16:55.371337",
     "exception": false,
     "start_time": "2024-12-09T18:16:55.338622",
     "status": "completed"
    },
    "tags": []
   },
   "source": [
    "# Model Training"
   ]
  },
  {
   "cell_type": "code",
   "execution_count": 11,
   "id": "d9ed4579",
   "metadata": {
    "execution": {
     "iopub.execute_input": "2024-12-09T18:16:55.437662Z",
     "iopub.status.busy": "2024-12-09T18:16:55.437325Z",
     "iopub.status.idle": "2024-12-09T18:27:05.981939Z",
     "shell.execute_reply": "2024-12-09T18:27:05.980966Z"
    },
    "papermill": {
     "duration": 610.608804,
     "end_time": "2024-12-09T18:27:06.012560",
     "exception": false,
     "start_time": "2024-12-09T18:16:55.403756",
     "status": "completed"
    },
    "tags": []
   },
   "outputs": [
    {
     "name": "stdout",
     "output_type": "stream",
     "text": [
      "Training fold 1...\n",
      "0:\tlearn: 1.0928053\ttest: 1.0941692\tbest: 1.0941692 (0)\ttotal: 159ms\tremaining: 26m 31s\n",
      "200:\tlearn: 1.0395612\ttest: 1.0366854\tbest: 1.0366854 (200)\ttotal: 20.3s\tremaining: 16m 27s\n",
      "400:\tlearn: 1.0369598\ttest: 1.0346196\tbest: 1.0346196 (399)\ttotal: 40.5s\tremaining: 16m 10s\n",
      "600:\tlearn: 1.0357016\ttest: 1.0339480\tbest: 1.0339475 (599)\ttotal: 1m 1s\tremaining: 15m 58s\n",
      "800:\tlearn: 1.0346371\ttest: 1.0335163\tbest: 1.0335163 (800)\ttotal: 1m 22s\tremaining: 15m 42s\n",
      "1000:\tlearn: 1.0337808\ttest: 1.0332840\tbest: 1.0332840 (1000)\ttotal: 1m 42s\tremaining: 15m 24s\n",
      "1200:\tlearn: 1.0328883\ttest: 1.0330447\tbest: 1.0330419 (1186)\ttotal: 2m 3s\tremaining: 15m 6s\n",
      "1400:\tlearn: 1.0321932\ttest: 1.0329778\tbest: 1.0329778 (1400)\ttotal: 2m 24s\tremaining: 14m 47s\n",
      "1600:\tlearn: 1.0314528\ttest: 1.0328312\tbest: 1.0328312 (1600)\ttotal: 2m 45s\tremaining: 14m 27s\n",
      "1800:\tlearn: 1.0306908\ttest: 1.0327254\tbest: 1.0327254 (1800)\ttotal: 3m 5s\tremaining: 14m 6s\n",
      "2000:\tlearn: 1.0299585\ttest: 1.0326114\tbest: 1.0326114 (2000)\ttotal: 3m 26s\tremaining: 13m 44s\n",
      "2200:\tlearn: 1.0292991\ttest: 1.0325801\tbest: 1.0325801 (2200)\ttotal: 3m 46s\tremaining: 13m 23s\n",
      "2400:\tlearn: 1.0286370\ttest: 1.0324794\tbest: 1.0324718 (2381)\ttotal: 4m 7s\tremaining: 13m 3s\n",
      "2600:\tlearn: 1.0279721\ttest: 1.0324449\tbest: 1.0324424 (2593)\ttotal: 4m 28s\tremaining: 12m 42s\n",
      "2800:\tlearn: 1.0272929\ttest: 1.0324051\tbest: 1.0324051 (2800)\ttotal: 4m 48s\tremaining: 12m 22s\n",
      "3000:\tlearn: 1.0266638\ttest: 1.0323757\tbest: 1.0323745 (2980)\ttotal: 5m 9s\tremaining: 12m\n",
      "3200:\tlearn: 1.0259769\ttest: 1.0323403\tbest: 1.0323354 (3168)\ttotal: 5m 30s\tremaining: 11m 41s\n",
      "3400:\tlearn: 1.0253723\ttest: 1.0323287\tbest: 1.0323141 (3333)\ttotal: 5m 51s\tremaining: 11m 21s\n",
      "bestTest = 1.032310061\n",
      "bestIteration = 3441\n",
      "Shrink model to first 3442 iterations.\n",
      "Fold 1 RMSE: 1.0323\n",
      "Training fold 2...\n",
      "0:\tlearn: 1.0932992\ttest: 1.0921062\tbest: 1.0921062 (0)\ttotal: 310ms\tremaining: 51m 38s\n",
      "200:\tlearn: 1.0394673\ttest: 1.0358242\tbest: 1.0358242 (200)\ttotal: 20.2s\tremaining: 16m 22s\n",
      "400:\tlearn: 1.0368942\ttest: 1.0337796\tbest: 1.0337796 (400)\ttotal: 39.9s\tremaining: 15m 54s\n",
      "600:\tlearn: 1.0355677\ttest: 1.0331229\tbest: 1.0331229 (600)\ttotal: 1m\tremaining: 15m 41s\n",
      "800:\tlearn: 1.0345426\ttest: 1.0327365\tbest: 1.0327356 (799)\ttotal: 1m 20s\tremaining: 15m 25s\n",
      "1000:\tlearn: 1.0336210\ttest: 1.0324950\tbest: 1.0324950 (1000)\ttotal: 1m 41s\tremaining: 15m 10s\n",
      "1200:\tlearn: 1.0327598\ttest: 1.0322811\tbest: 1.0322811 (1200)\ttotal: 2m 2s\tremaining: 14m 54s\n",
      "1400:\tlearn: 1.0319817\ttest: 1.0321457\tbest: 1.0321439 (1399)\ttotal: 2m 22s\tremaining: 14m 37s\n",
      "1600:\tlearn: 1.0312392\ttest: 1.0320473\tbest: 1.0320437 (1587)\ttotal: 2m 43s\tremaining: 14m 18s\n",
      "1800:\tlearn: 1.0305523\ttest: 1.0320083\tbest: 1.0320076 (1799)\ttotal: 3m 4s\tremaining: 14m\n",
      "2000:\tlearn: 1.0298347\ttest: 1.0319751\tbest: 1.0319731 (1994)\ttotal: 3m 25s\tremaining: 13m 41s\n",
      "2200:\tlearn: 1.0291350\ttest: 1.0318903\tbest: 1.0318903 (2200)\ttotal: 3m 46s\tremaining: 13m 22s\n",
      "2400:\tlearn: 1.0284694\ttest: 1.0318499\tbest: 1.0318355 (2346)\ttotal: 4m 7s\tremaining: 13m 3s\n",
      "bestTest = 1.031835535\n",
      "bestIteration = 2346\n",
      "Shrink model to first 2347 iterations.\n",
      "Fold 2 RMSE: 1.0318\n",
      "Training fold 3...\n",
      "0:\tlearn: 1.0934615\ttest: 1.0913591\tbest: 1.0913591 (0)\ttotal: 183ms\tremaining: 30m 31s\n",
      "200:\tlearn: 1.0399312\ttest: 1.0351945\tbest: 1.0351945 (200)\ttotal: 19.9s\tremaining: 16m 8s\n",
      "400:\tlearn: 1.0372525\ttest: 1.0328749\tbest: 1.0328749 (400)\ttotal: 39.7s\tremaining: 15m 51s\n",
      "600:\tlearn: 1.0359092\ttest: 1.0321825\tbest: 1.0321821 (599)\ttotal: 1m\tremaining: 15m 40s\n",
      "800:\tlearn: 1.0348750\ttest: 1.0317412\tbest: 1.0317412 (800)\ttotal: 1m 20s\tremaining: 15m 23s\n",
      "1000:\tlearn: 1.0339169\ttest: 1.0314534\tbest: 1.0314526 (997)\ttotal: 1m 40s\tremaining: 15m 6s\n",
      "1200:\tlearn: 1.0331559\ttest: 1.0313247\tbest: 1.0313235 (1196)\ttotal: 2m 1s\tremaining: 14m 49s\n",
      "1400:\tlearn: 1.0323879\ttest: 1.0312407\tbest: 1.0312379 (1381)\ttotal: 2m 22s\tremaining: 14m 33s\n",
      "1600:\tlearn: 1.0316444\ttest: 1.0311311\tbest: 1.0311295 (1595)\ttotal: 2m 42s\tremaining: 14m 14s\n",
      "1800:\tlearn: 1.0309191\ttest: 1.0310050\tbest: 1.0310038 (1789)\ttotal: 3m 3s\tremaining: 13m 56s\n",
      "2000:\tlearn: 1.0302105\ttest: 1.0309076\tbest: 1.0309027 (1980)\ttotal: 3m 24s\tremaining: 13m 38s\n",
      "2200:\tlearn: 1.0295549\ttest: 1.0308263\tbest: 1.0308256 (2193)\ttotal: 3m 45s\tremaining: 13m 20s\n",
      "2400:\tlearn: 1.0288617\ttest: 1.0307856\tbest: 1.0307790 (2381)\ttotal: 4m 6s\tremaining: 13m 1s\n",
      "2600:\tlearn: 1.0282272\ttest: 1.0307301\tbest: 1.0307301 (2600)\ttotal: 4m 27s\tremaining: 12m 41s\n",
      "2800:\tlearn: 1.0275944\ttest: 1.0306828\tbest: 1.0306828 (2800)\ttotal: 4m 48s\tremaining: 12m 21s\n",
      "3000:\tlearn: 1.0269901\ttest: 1.0306520\tbest: 1.0306513 (2995)\ttotal: 5m 9s\tremaining: 12m 2s\n",
      "3200:\tlearn: 1.0263801\ttest: 1.0306430\tbest: 1.0306277 (3116)\ttotal: 5m 30s\tremaining: 11m 42s\n",
      "bestTest = 1.030627653\n",
      "bestIteration = 3116\n",
      "Shrink model to first 3117 iterations.\n",
      "Fold 3 RMSE: 1.0306\n",
      "Training fold 4...\n",
      "0:\tlearn: 1.0927100\ttest: 1.0943708\tbest: 1.0943708 (0)\ttotal: 359ms\tremaining: 59m 46s\n",
      "200:\tlearn: 1.0391910\ttest: 1.0371125\tbest: 1.0371125 (200)\ttotal: 20.1s\tremaining: 16m 21s\n",
      "400:\tlearn: 1.0366954\ttest: 1.0351869\tbest: 1.0351869 (400)\ttotal: 39.9s\tremaining: 15m 56s\n",
      "600:\tlearn: 1.0353216\ttest: 1.0344264\tbest: 1.0344264 (600)\ttotal: 1m\tremaining: 15m 41s\n",
      "800:\tlearn: 1.0343253\ttest: 1.0340379\tbest: 1.0340372 (795)\ttotal: 1m 20s\tremaining: 15m 22s\n",
      "1000:\tlearn: 1.0334358\ttest: 1.0337784\tbest: 1.0337784 (1000)\ttotal: 1m 40s\tremaining: 15m 3s\n",
      "1200:\tlearn: 1.0325949\ttest: 1.0335783\tbest: 1.0335775 (1199)\ttotal: 2m\tremaining: 14m 45s\n",
      "1400:\tlearn: 1.0317550\ttest: 1.0333880\tbest: 1.0333880 (1400)\ttotal: 2m 21s\tremaining: 14m 28s\n",
      "1600:\tlearn: 1.0309548\ttest: 1.0332608\tbest: 1.0332581 (1597)\ttotal: 2m 42s\tremaining: 14m 11s\n",
      "1800:\tlearn: 1.0302255\ttest: 1.0331654\tbest: 1.0331642 (1788)\ttotal: 3m 3s\tremaining: 13m 53s\n",
      "2000:\tlearn: 1.0295535\ttest: 1.0331076\tbest: 1.0331044 (1994)\ttotal: 3m 24s\tremaining: 13m 35s\n",
      "2200:\tlearn: 1.0288320\ttest: 1.0330219\tbest: 1.0330188 (2176)\ttotal: 3m 44s\tremaining: 13m 16s\n",
      "2400:\tlearn: 1.0281786\ttest: 1.0329976\tbest: 1.0329953 (2392)\ttotal: 4m 5s\tremaining: 12m 57s\n",
      "2600:\tlearn: 1.0275348\ttest: 1.0329670\tbest: 1.0329624 (2574)\ttotal: 4m 26s\tremaining: 12m 38s\n",
      "2800:\tlearn: 1.0268750\ttest: 1.0329374\tbest: 1.0329343 (2771)\ttotal: 4m 47s\tremaining: 12m 18s\n",
      "3000:\tlearn: 1.0262386\ttest: 1.0329124\tbest: 1.0329074 (2966)\ttotal: 5m 8s\tremaining: 12m\n",
      "bestTest = 1.032897453\n",
      "bestIteration = 3083\n",
      "Shrink model to first 3084 iterations.\n",
      "Fold 4 RMSE: 1.0329\n",
      "Training fold 5...\n",
      "0:\tlearn: 1.0930815\ttest: 1.0930511\tbest: 1.0930511 (0)\ttotal: 223ms\tremaining: 37m 14s\n",
      "200:\tlearn: 1.0397328\ttest: 1.0361778\tbest: 1.0361778 (200)\ttotal: 19.9s\tremaining: 16m 9s\n",
      "400:\tlearn: 1.0370250\ttest: 1.0340454\tbest: 1.0340446 (399)\ttotal: 39.8s\tremaining: 15m 53s\n",
      "600:\tlearn: 1.0356927\ttest: 1.0333458\tbest: 1.0333458 (600)\ttotal: 1m\tremaining: 15m 43s\n",
      "800:\tlearn: 1.0347182\ttest: 1.0329992\tbest: 1.0329992 (800)\ttotal: 1m 20s\tremaining: 15m 26s\n",
      "1000:\tlearn: 1.0337891\ttest: 1.0327360\tbest: 1.0327355 (999)\ttotal: 1m 41s\tremaining: 15m 13s\n",
      "1200:\tlearn: 1.0329691\ttest: 1.0324985\tbest: 1.0324985 (1200)\ttotal: 2m 2s\tremaining: 14m 56s\n",
      "1400:\tlearn: 1.0322173\ttest: 1.0323953\tbest: 1.0323890 (1389)\ttotal: 2m 22s\tremaining: 14m 36s\n",
      "1600:\tlearn: 1.0314935\ttest: 1.0323364\tbest: 1.0323316 (1582)\ttotal: 2m 43s\tremaining: 14m 17s\n",
      "1800:\tlearn: 1.0307996\ttest: 1.0322941\tbest: 1.0322928 (1797)\ttotal: 3m 4s\tremaining: 13m 58s\n",
      "2000:\tlearn: 1.0300882\ttest: 1.0322284\tbest: 1.0322281 (1993)\ttotal: 3m 25s\tremaining: 13m 39s\n",
      "2200:\tlearn: 1.0294001\ttest: 1.0321892\tbest: 1.0321830 (2185)\ttotal: 3m 46s\tremaining: 13m 21s\n",
      "2400:\tlearn: 1.0287165\ttest: 1.0321296\tbest: 1.0321284 (2390)\ttotal: 4m 7s\tremaining: 13m 2s\n",
      "2600:\tlearn: 1.0280534\ttest: 1.0321039\tbest: 1.0320996 (2591)\ttotal: 4m 28s\tremaining: 12m 42s\n",
      "2800:\tlearn: 1.0273833\ttest: 1.0320682\tbest: 1.0320673 (2787)\ttotal: 4m 49s\tremaining: 12m 23s\n",
      "3000:\tlearn: 1.0267242\ttest: 1.0320423\tbest: 1.0320411 (2988)\ttotal: 5m 10s\tremaining: 12m 2s\n",
      "bestTest = 1.032039439\n",
      "bestIteration = 3020\n",
      "Shrink model to first 3021 iterations.\n",
      "Fold 5 RMSE: 1.0320\n",
      "Mean CV RMSE: 1.0319 ± 0.0007\n"
     ]
    }
   ],
   "source": [
    "import json\n",
    "\n",
    "model = CatBoostRegressorWrapper(**best_params)\n",
    "\n",
    "# Use the train_model function to train and evaluate the model\n",
    "results = train_model_cv(\n",
    "    model=model,\n",
    "    X_train=X_train,\n",
    "    y_train=y_train,\n",
    "    X_test=X_test,\n",
    "    X_orig=X_orig,\n",
    "    early_stopping_rounds=100,\n",
    "    cv_splits=5\n",
    ")"
   ]
  },
  {
   "cell_type": "code",
   "execution_count": 12,
   "id": "5803178b",
   "metadata": {},
   "outputs": [],
   "source": [
    "# from sklearn import mean_squared_log_error\n",
    "\n",
    "# def rmsle(y_true, y_pred):\n",
    "#     return np.sqrt(mean_squared_log_error(y_true, y_pred))\n",
    "\n",
    "# rmsle_score = rmsle(y_train, results[\"oof_preds\"])\n",
    "\n",
    "# print(f\"RMSLE score = {rmsle_score}\")"
   ]
  },
  {
   "cell_type": "code",
   "execution_count": 13,
   "id": "40b2d112",
   "metadata": {},
   "outputs": [
    {
     "name": "stdout",
     "output_type": "stream",
     "text": [
      "                    Feature  Importance\n",
      "33    Annual Income Integer   26.231217\n",
      "31     Credit Score Integer   14.285616\n",
      "7              Health Score   11.040982\n",
      "30     Health Score Integer    5.976213\n",
      "12             Credit Score    5.398785\n",
      "36       Annual Income_freq    4.749591\n",
      "40        Health Score_freq    4.552173\n",
      "26           DaysSinceStart    3.458021\n",
      "10          Previous Claims    2.834553\n",
      "14        Customer Feedback    2.673632\n",
      "43     Previous Claims_freq    2.549359\n",
      "2             Annual Income    2.245502\n",
      "44        Credit Score_freq    1.706550\n",
      "32  Previous Claims Integer    1.523217\n",
      "45   Customer Feedback_freq    0.925649\n",
      "3            Marital Status    0.917333\n",
      "0                       Age    0.732742\n",
      "28        Claims v Duration    0.644114\n",
      "20                     Week    0.621302\n",
      "11              Vehicle Age    0.565660\n",
      "4      Number of Dependents    0.485746\n",
      "19                      Day    0.439066\n",
      "37      Marital Status_freq    0.416890\n",
      "6                Occupation    0.412954\n",
      "13       Insurance Duration    0.357940\n",
      "29         Health vs Claims    0.357133\n",
      "16       Exercise Frequency    0.344065\n",
      "27            MissingHealth    0.317238\n",
      "23                   DayCos    0.309595\n",
      "22                   DaySin    0.291228\n",
      "5           Education Level    0.275147\n",
      "34       MissingValuesCount    0.255080\n",
      "8                  Location    0.238428\n",
      "9               Policy Type    0.233214\n",
      "24               WeekdaySin    0.195849\n",
      "17            Property Type    0.187805\n",
      "21                  Weekday    0.182699\n",
      "39          Occupation_freq    0.157876\n",
      "18                    Month    0.157364\n",
      "47  Exercise Frequency_freq    0.152082\n",
      "42         Policy Type_freq    0.113528\n",
      "41            Location_freq    0.105512\n",
      "25               WeekdayCos    0.103855\n",
      "48       Property Type_freq    0.101538\n",
      "38     Education Level_freq    0.093644\n",
      "1                    Gender    0.024436\n",
      "46      Smoking Status_freq    0.021534\n",
      "35              Gender_freq    0.018499\n",
      "15           Smoking Status    0.017842\n"
     ]
    }
   ],
   "source": [
    "models = results['models']\n",
    "\n",
    "# Get feature importance\n",
    "feature_importances = models[3].catboost_model_.get_feature_importance(type='PredictionValuesChange')\n",
    "\n",
    "# Map to feature names\n",
    "feature_importance_df = pd.DataFrame({\n",
    "    'Feature': X_train.columns,\n",
    "    'Importance': feature_importances\n",
    "}).sort_values(by='Importance', ascending=False)\n",
    "\n",
    "print(feature_importance_df)"
   ]
  },
  {
   "cell_type": "code",
   "execution_count": 14,
   "id": "76c5d6d4",
   "metadata": {
    "execution": {
     "iopub.execute_input": "2024-12-09T18:27:06.069815Z",
     "iopub.status.busy": "2024-12-09T18:27:06.069512Z",
     "iopub.status.idle": "2024-12-09T18:27:06.074853Z",
     "shell.execute_reply": "2024-12-09T18:27:06.074183Z"
    },
    "papermill": {
     "duration": 0.035663,
     "end_time": "2024-12-09T18:27:06.076253",
     "exception": false,
     "start_time": "2024-12-09T18:27:06.040590",
     "status": "completed"
    },
    "tags": []
   },
   "outputs": [],
   "source": [
    "mean_score = np.mean(results[\"cv_scores\"])\n",
    "std_score = np.std(results[\"cv_scores\"])"
   ]
  },
  {
   "cell_type": "markdown",
   "id": "2d6f1ec1",
   "metadata": {},
   "source": [
    "# Saving"
   ]
  },
  {
   "cell_type": "code",
   "execution_count": 15,
   "id": "bba76357",
   "metadata": {
    "execution": {
     "iopub.execute_input": "2024-12-09T18:27:06.134109Z",
     "iopub.status.busy": "2024-12-09T18:27:06.133614Z",
     "iopub.status.idle": "2024-12-09T18:27:09.560189Z",
     "shell.execute_reply": "2024-12-09T18:27:09.559255Z"
    },
    "papermill": {
     "duration": 3.457335,
     "end_time": "2024-12-09T18:27:09.561802",
     "exception": false,
     "start_time": "2024-12-09T18:27:06.104467",
     "status": "completed"
    },
    "tags": []
   },
   "outputs": [],
   "source": [
    "import joblib\n",
    "\n",
    "results_dir = f\"{mean_score:.4f}+-{std_score:.4f}\"\n",
    "os.makedirs(results_dir, exist_ok=True)\n",
    "\n",
    "# Save OOF predictions as a CSV file\n",
    "oof_preds_df = pd.DataFrame({\"oof_preds\": results[\"oof_preds\"]})\n",
    "oof_preds_df.to_csv(os.path.join(results_dir, \"oof_preds.csv\"), index=False)\n",
    "\n",
    "test_preds_df = pd.DataFrame({\"test_preds\": results[\"test_preds\"]})\n",
    "test_preds_df.to_csv(os.path.join(results_dir, \"test_preds.csv\"), index=False)\n",
    "\n",
    "#joblib.dump(results[\"models\"], \"models.pkl\")"
   ]
  },
  {
   "cell_type": "markdown",
   "id": "607e1999",
   "metadata": {
    "papermill": {
     "duration": 0.030518,
     "end_time": "2024-12-09T18:27:09.621403",
     "exception": false,
     "start_time": "2024-12-09T18:27:09.590885",
     "status": "completed"
    },
    "tags": []
   },
   "source": [
    "# Submission"
   ]
  },
  {
   "cell_type": "code",
   "execution_count": 16,
   "id": "221fab64",
   "metadata": {
    "execution": {
     "iopub.execute_input": "2024-12-09T18:27:09.684611Z",
     "iopub.status.busy": "2024-12-09T18:27:09.683845Z",
     "iopub.status.idle": "2024-12-09T18:27:11.039199Z",
     "shell.execute_reply": "2024-12-09T18:27:11.038523Z"
    },
    "papermill": {
     "duration": 1.388863,
     "end_time": "2024-12-09T18:27:11.041168",
     "exception": false,
     "start_time": "2024-12-09T18:27:09.652305",
     "status": "completed"
    },
    "tags": []
   },
   "outputs": [],
   "source": [
    "y_pred = np.expm1(results['test_preds'])\n",
    "\n",
    "submission = pd.DataFrame({\n",
    "    'id': X_test.index,  \n",
    "    'Premium Amount': y_pred\n",
    "})\n",
    "\n",
    "FILE_PATH = os.path.join(results_dir, f\"Catboost_nonlog_feature_{mean_score:.4f}+-{std_score:.4f}.csv\")\n",
    "\n",
    "submission.to_csv(FILE_PATH, index=False)"
   ]
  },
  {
   "cell_type": "code",
   "execution_count": 18,
   "id": "1dacbf49",
   "metadata": {},
   "outputs": [],
   "source": [
    "if True: \n",
    "    # Define your message and file paths\n",
    "    COMP_NAME = \"playground-series-s4e12\"\n",
    "\n",
    "    SUBMIT_MESSAGE = \"Catboost_nonlog_feature_{mean_score:.4f}+-{std_score:.4f}\"\n",
    "\n",
    "    # Submit to Kaggle\n",
    "    os.system(f'kaggle competitions submit -c {COMP_NAME} -f {FILE_PATH} -m \"{SUBMIT_MESSAGE}\"')"
   ]
  },
  {
   "cell_type": "code",
   "execution_count": null,
   "id": "8e1e0fc5",
   "metadata": {},
   "outputs": [],
   "source": []
  }
 ],
 "metadata": {
  "kaggle": {
   "accelerator": "gpu",
   "dataSources": [
    {
     "databundleVersionId": 10305135,
     "sourceId": 84896,
     "sourceType": "competition"
    },
    {
     "datasetId": 5547076,
     "sourceId": 9178166,
     "sourceType": "datasetVersion"
    },
    {
     "sourceId": 211948002,
     "sourceType": "kernelVersion"
    }
   ],
   "dockerImageVersionId": 30805,
   "isGpuEnabled": true,
   "isInternetEnabled": true,
   "language": "python",
   "sourceType": "notebook"
  },
  "kernelspec": {
   "display_name": "kaggle_env",
   "language": "python",
   "name": "python3"
  },
  "language_info": {
   "codemirror_mode": {
    "name": "ipython",
    "version": 3
   },
   "file_extension": ".py",
   "mimetype": "text/x-python",
   "name": "python",
   "nbconvert_exporter": "python",
   "pygments_lexer": "ipython3",
   "version": "3.10.16"
  },
  "papermill": {
   "default_parameters": {},
   "duration": 18880.993655,
   "end_time": "2024-12-09T18:27:12.649632",
   "environment_variables": {},
   "exception": null,
   "input_path": "__notebook__.ipynb",
   "output_path": "__notebook__.ipynb",
   "parameters": {},
   "start_time": "2024-12-09T13:12:31.655977",
   "version": "2.6.0"
  }
 },
 "nbformat": 4,
 "nbformat_minor": 5
}
