{
 "cells": [
  {
   "cell_type": "code",
   "execution_count": 1,
   "id": "615cf318",
   "metadata": {
    "_cell_guid": "b1076dfc-b9ad-4769-8c92-a6c4dae69d19",
    "_uuid": "8f2839f25d086af736a60e9eeb907d3b93b6e0e5",
    "execution": {
     "iopub.execute_input": "2024-12-09T13:12:34.047888Z",
     "iopub.status.busy": "2024-12-09T13:12:34.047597Z",
     "iopub.status.idle": "2024-12-09T13:12:34.716436Z",
     "shell.execute_reply": "2024-12-09T13:12:34.715768Z"
    },
    "papermill": {
     "duration": 0.676501,
     "end_time": "2024-12-09T13:12:34.718408",
     "exception": false,
     "start_time": "2024-12-09T13:12:34.041907",
     "status": "completed"
    },
    "tags": []
   },
   "outputs": [],
   "source": [
    "import numpy as np\n",
    "import pandas as pd\n",
    "import os\n",
    "import sys"
   ]
  },
  {
   "cell_type": "markdown",
   "id": "f1522c74",
   "metadata": {
    "papermill": {
     "duration": 0.004851,
     "end_time": "2024-12-09T13:12:34.727632",
     "exception": false,
     "start_time": "2024-12-09T13:12:34.722781",
     "status": "completed"
    },
    "tags": []
   },
   "source": [
    "# Config"
   ]
  },
  {
   "cell_type": "code",
   "execution_count": 2,
   "id": "25bf2667",
   "metadata": {
    "execution": {
     "iopub.execute_input": "2024-12-09T13:12:34.736529Z",
     "iopub.status.busy": "2024-12-09T13:12:34.736123Z",
     "iopub.status.idle": "2024-12-09T13:12:34.740000Z",
     "shell.execute_reply": "2024-12-09T13:12:34.739354Z"
    },
    "papermill": {
     "duration": 0.01006,
     "end_time": "2024-12-09T13:12:34.741432",
     "exception": false,
     "start_time": "2024-12-09T13:12:34.731372",
     "status": "completed"
    },
    "tags": []
   },
   "outputs": [],
   "source": [
    "HYPER_OPT = False \n",
    "HYPER_OPT_TIME = 3600*8\n",
    "USE_ORIGINAL_DATA = False \n",
    "SUBMIT_TO_KAGGLE = False"
   ]
  },
  {
   "cell_type": "code",
   "execution_count": 3,
   "id": "636ad8af",
   "metadata": {},
   "outputs": [],
   "source": [
    "# Define the base directory (where the notebook is running)\n",
    "base_dir = os.path.abspath(os.path.join(os.getcwd(), \"..\", \"..\"))\n",
    "\n",
    "# Define the data directory\n",
    "data_dir = os.path.join(base_dir, \"data\")\n",
    "\n",
    "model_dir = os.path.join(base_dir, \"models\")\n",
    "\n",
    "sys.path.append(base_dir)"
   ]
  },
  {
   "cell_type": "markdown",
   "id": "7d1038ad",
   "metadata": {
    "papermill": {
     "duration": 0.0037,
     "end_time": "2024-12-09T13:12:34.787072",
     "exception": false,
     "start_time": "2024-12-09T13:12:34.783372",
     "status": "completed"
    },
    "tags": []
   },
   "source": [
    "# Data Extraction"
   ]
  },
  {
   "cell_type": "code",
   "execution_count": 4,
   "id": "0d745aba",
   "metadata": {},
   "outputs": [],
   "source": [
    "from axyom_utilities.data_extraction import extract_data\n",
    "\n",
    "X_train, y_train, X_test, X_orig, y_orig = extract_data(data_dir, USE_ORIGINAL_DATA)"
   ]
  },
  {
   "cell_type": "code",
   "execution_count": 5,
   "id": "e27a2545",
   "metadata": {},
   "outputs": [],
   "source": [
    "oof_clean_xgboost = pd.read_csv(os.path.join(base_dir, \"notebooks\\\\Clean_XGBoost\\\\oof_preds.csv\"))\n",
    "oof_clean_lgbm = pd.read_csv(os.path.join(base_dir, \"notebooks\\\\Clean_LGBM\\\\oof_preds.csv\"))\n",
    "oof_clean_catboost = pd.read_csv(os.path.join(base_dir, \"notebooks\\\\Clean_Catboost\\\\oof_preds.csv\"))\n",
    "oof_clean_autogluon = pd.read_csv(os.path.join(base_dir, \"notebooks\\\\AutoGluon\\\\oof_preds.csv\"))\n",
    "\n",
    "test_clean_xgboost = pd.read_csv(os.path.join(base_dir, \"notebooks\\\\Clean_XGBoost\\\\test_preds.csv\"))\n",
    "test_clean_lgbm = pd.read_csv(os.path.join(base_dir, \"notebooks\\\\Clean_LGBM\\\\test_preds.csv\"))\n",
    "test_clean_catboost = pd.read_csv(os.path.join(base_dir, \"notebooks\\\\Clean_Catboost\\\\test_preds.csv\"))\n",
    "test_clean_autogluon = pd.read_csv(os.path.join(base_dir, \"notebooks\\\\AutoGluon\\\\test_preds.csv\"))"
   ]
  },
  {
   "cell_type": "markdown",
   "id": "300f27ae",
   "metadata": {
    "papermill": {
     "duration": 0.003676,
     "end_time": "2024-12-09T13:12:43.939293",
     "exception": false,
     "start_time": "2024-12-09T13:12:43.935617",
     "status": "completed"
    },
    "tags": []
   },
   "source": [
    "# Data Cleaning"
   ]
  },
  {
   "cell_type": "code",
   "execution_count": 6,
   "id": "9d42d2df",
   "metadata": {
    "execution": {
     "iopub.execute_input": "2024-12-09T13:12:43.995169Z",
     "iopub.status.busy": "2024-12-09T13:12:43.994928Z",
     "iopub.status.idle": "2024-12-09T13:12:50.925060Z",
     "shell.execute_reply": "2024-12-09T13:12:50.924366Z"
    },
    "papermill": {
     "duration": 6.936729,
     "end_time": "2024-12-09T13:12:50.926967",
     "exception": false,
     "start_time": "2024-12-09T13:12:43.990238",
     "status": "completed"
    },
    "tags": []
   },
   "outputs": [],
   "source": [
    "from axyom_utilities.preprocessing import preprocess \n",
    "\n",
    "X_train = preprocess(X_train)\n",
    "X_test = preprocess(X_test)\n",
    "if USE_ORIGINAL_DATA:\n",
    "    X_orig = preprocess(X_orig)"
   ]
  },
  {
   "cell_type": "markdown",
   "id": "d0b82a31",
   "metadata": {},
   "source": [
    "# Joining Data"
   ]
  },
  {
   "cell_type": "code",
   "execution_count": 35,
   "id": "d103b563",
   "metadata": {},
   "outputs": [],
   "source": [
    "X_train_L1 = pd.concat([X_train, oof_clean_xgboost, oof_clean_lgbm, oof_clean_catboost, oof_clean_autogluon], axis=1)\n",
    "X_test_L1 = pd.concat([X_test.reset_index(drop=True), test_clean_xgboost, test_clean_lgbm, test_clean_catboost, test_clean_autogluon], axis=1)"
   ]
  },
  {
   "cell_type": "code",
   "execution_count": 36,
   "id": "f3ef32a2",
   "metadata": {},
   "outputs": [
    {
     "data": {
      "text/html": [
       "<div>\n",
       "<style scoped>\n",
       "    .dataframe tbody tr th:only-of-type {\n",
       "        vertical-align: middle;\n",
       "    }\n",
       "\n",
       "    .dataframe tbody tr th {\n",
       "        vertical-align: top;\n",
       "    }\n",
       "\n",
       "    .dataframe thead th {\n",
       "        text-align: right;\n",
       "    }\n",
       "</style>\n",
       "<table border=\"1\" class=\"dataframe\">\n",
       "  <thead>\n",
       "    <tr style=\"text-align: right;\">\n",
       "      <th></th>\n",
       "      <th>Age</th>\n",
       "      <th>Gender</th>\n",
       "      <th>Annual Income</th>\n",
       "      <th>Marital Status</th>\n",
       "      <th>Number of Dependents</th>\n",
       "      <th>Education Level</th>\n",
       "      <th>Occupation</th>\n",
       "      <th>Health Score</th>\n",
       "      <th>Location</th>\n",
       "      <th>Policy Type</th>\n",
       "      <th>...</th>\n",
       "      <th>Weekday</th>\n",
       "      <th>DaySin</th>\n",
       "      <th>DayCos</th>\n",
       "      <th>WeekdaySin</th>\n",
       "      <th>WeekdayCos</th>\n",
       "      <th>DaysSinceStart</th>\n",
       "      <th>preds_clean_XGBoost</th>\n",
       "      <th>preds_clean_lgbm</th>\n",
       "      <th>preds_clean_catboost</th>\n",
       "      <th>preds_clean_autogluon</th>\n",
       "    </tr>\n",
       "  </thead>\n",
       "  <tbody>\n",
       "    <tr>\n",
       "      <th>0</th>\n",
       "      <td>28.0</td>\n",
       "      <td>Female</td>\n",
       "      <td>2310.0</td>\n",
       "      <td>Unknown</td>\n",
       "      <td>4.0</td>\n",
       "      <td>Bachelor's</td>\n",
       "      <td>Self-Employed</td>\n",
       "      <td>7.657981</td>\n",
       "      <td>Rural</td>\n",
       "      <td>Basic</td>\n",
       "      <td>...</td>\n",
       "      <td>6</td>\n",
       "      <td>7.431448e-01</td>\n",
       "      <td>0.669131</td>\n",
       "      <td>-0.781831</td>\n",
       "      <td>0.623490</td>\n",
       "      <td>576.0</td>\n",
       "      <td>6.723132</td>\n",
       "      <td>6.726636</td>\n",
       "      <td>6.710793</td>\n",
       "      <td>6.742937</td>\n",
       "    </tr>\n",
       "    <tr>\n",
       "      <th>1</th>\n",
       "      <td>31.0</td>\n",
       "      <td>Female</td>\n",
       "      <td>126031.0</td>\n",
       "      <td>Married</td>\n",
       "      <td>2.0</td>\n",
       "      <td>Master's</td>\n",
       "      <td>Self-Employed</td>\n",
       "      <td>13.381379</td>\n",
       "      <td>Suburban</td>\n",
       "      <td>Premium</td>\n",
       "      <td>...</td>\n",
       "      <td>0</td>\n",
       "      <td>-9.945219e-01</td>\n",
       "      <td>-0.104528</td>\n",
       "      <td>0.000000</td>\n",
       "      <td>1.000000</td>\n",
       "      <td>253.0</td>\n",
       "      <td>6.683443</td>\n",
       "      <td>6.683843</td>\n",
       "      <td>6.663115</td>\n",
       "      <td>6.689930</td>\n",
       "    </tr>\n",
       "    <tr>\n",
       "      <th>2</th>\n",
       "      <td>47.0</td>\n",
       "      <td>Female</td>\n",
       "      <td>17092.0</td>\n",
       "      <td>Divorced</td>\n",
       "      <td>0.0</td>\n",
       "      <td>PhD</td>\n",
       "      <td>Unemployed</td>\n",
       "      <td>24.354527</td>\n",
       "      <td>Urban</td>\n",
       "      <td>Comprehensive</td>\n",
       "      <td>...</td>\n",
       "      <td>2</td>\n",
       "      <td>8.660254e-01</td>\n",
       "      <td>0.500000</td>\n",
       "      <td>0.974928</td>\n",
       "      <td>-0.222521</td>\n",
       "      <td>636.0</td>\n",
       "      <td>6.670720</td>\n",
       "      <td>6.677606</td>\n",
       "      <td>6.667378</td>\n",
       "      <td>6.692963</td>\n",
       "    </tr>\n",
       "    <tr>\n",
       "      <th>3</th>\n",
       "      <td>28.0</td>\n",
       "      <td>Female</td>\n",
       "      <td>30424.0</td>\n",
       "      <td>Divorced</td>\n",
       "      <td>3.0</td>\n",
       "      <td>PhD</td>\n",
       "      <td>Self-Employed</td>\n",
       "      <td>5.136225</td>\n",
       "      <td>Suburban</td>\n",
       "      <td>Comprehensive</td>\n",
       "      <td>...</td>\n",
       "      <td>2</td>\n",
       "      <td>-8.660254e-01</td>\n",
       "      <td>0.500000</td>\n",
       "      <td>0.974928</td>\n",
       "      <td>-0.222521</td>\n",
       "      <td>433.0</td>\n",
       "      <td>6.687591</td>\n",
       "      <td>6.690707</td>\n",
       "      <td>6.682231</td>\n",
       "      <td>6.690712</td>\n",
       "    </tr>\n",
       "    <tr>\n",
       "      <th>4</th>\n",
       "      <td>24.0</td>\n",
       "      <td>Male</td>\n",
       "      <td>10863.0</td>\n",
       "      <td>Divorced</td>\n",
       "      <td>2.0</td>\n",
       "      <td>High School</td>\n",
       "      <td>Unemployed</td>\n",
       "      <td>11.844155</td>\n",
       "      <td>Suburban</td>\n",
       "      <td>Premium</td>\n",
       "      <td>...</td>\n",
       "      <td>4</td>\n",
       "      <td>-7.431448e-01</td>\n",
       "      <td>0.669131</td>\n",
       "      <td>-0.433884</td>\n",
       "      <td>-0.900969</td>\n",
       "      <td>1131.0</td>\n",
       "      <td>6.623063</td>\n",
       "      <td>6.626821</td>\n",
       "      <td>6.615705</td>\n",
       "      <td>6.616789</td>\n",
       "    </tr>\n",
       "    <tr>\n",
       "      <th>...</th>\n",
       "      <td>...</td>\n",
       "      <td>...</td>\n",
       "      <td>...</td>\n",
       "      <td>...</td>\n",
       "      <td>...</td>\n",
       "      <td>...</td>\n",
       "      <td>...</td>\n",
       "      <td>...</td>\n",
       "      <td>...</td>\n",
       "      <td>...</td>\n",
       "      <td>...</td>\n",
       "      <td>...</td>\n",
       "      <td>...</td>\n",
       "      <td>...</td>\n",
       "      <td>...</td>\n",
       "      <td>...</td>\n",
       "      <td>...</td>\n",
       "      <td>...</td>\n",
       "      <td>...</td>\n",
       "      <td>...</td>\n",
       "      <td>...</td>\n",
       "    </tr>\n",
       "    <tr>\n",
       "      <th>799995</th>\n",
       "      <td>50.0</td>\n",
       "      <td>Female</td>\n",
       "      <td>38782.0</td>\n",
       "      <td>Married</td>\n",
       "      <td>1.0</td>\n",
       "      <td>Bachelor's</td>\n",
       "      <td>Unknown</td>\n",
       "      <td>14.498639</td>\n",
       "      <td>Rural</td>\n",
       "      <td>Premium</td>\n",
       "      <td>...</td>\n",
       "      <td>4</td>\n",
       "      <td>9.510565e-01</td>\n",
       "      <td>-0.309017</td>\n",
       "      <td>-0.433884</td>\n",
       "      <td>-0.900969</td>\n",
       "      <td>1271.0</td>\n",
       "      <td>6.876002</td>\n",
       "      <td>6.877139</td>\n",
       "      <td>6.827030</td>\n",
       "      <td>6.879146</td>\n",
       "    </tr>\n",
       "    <tr>\n",
       "      <th>799996</th>\n",
       "      <td>NaN</td>\n",
       "      <td>Female</td>\n",
       "      <td>73462.0</td>\n",
       "      <td>Single</td>\n",
       "      <td>0.0</td>\n",
       "      <td>Master's</td>\n",
       "      <td>Unknown</td>\n",
       "      <td>8.145748</td>\n",
       "      <td>Rural</td>\n",
       "      <td>Basic</td>\n",
       "      <td>...</td>\n",
       "      <td>1</td>\n",
       "      <td>-4.067366e-01</td>\n",
       "      <td>0.913545</td>\n",
       "      <td>0.781831</td>\n",
       "      <td>0.623490</td>\n",
       "      <td>644.0</td>\n",
       "      <td>6.375881</td>\n",
       "      <td>6.356761</td>\n",
       "      <td>6.368920</td>\n",
       "      <td>6.384323</td>\n",
       "    </tr>\n",
       "    <tr>\n",
       "      <th>799997</th>\n",
       "      <td>26.0</td>\n",
       "      <td>Female</td>\n",
       "      <td>35178.0</td>\n",
       "      <td>Single</td>\n",
       "      <td>0.0</td>\n",
       "      <td>Master's</td>\n",
       "      <td>Employed</td>\n",
       "      <td>6.636583</td>\n",
       "      <td>Urban</td>\n",
       "      <td>Comprehensive</td>\n",
       "      <td>...</td>\n",
       "      <td>0</td>\n",
       "      <td>-1.133108e-15</td>\n",
       "      <td>1.000000</td>\n",
       "      <td>0.000000</td>\n",
       "      <td>1.000000</td>\n",
       "      <td>1919.0</td>\n",
       "      <td>6.722048</td>\n",
       "      <td>6.713081</td>\n",
       "      <td>6.706430</td>\n",
       "      <td>6.718744</td>\n",
       "    </tr>\n",
       "    <tr>\n",
       "      <th>799998</th>\n",
       "      <td>34.0</td>\n",
       "      <td>Female</td>\n",
       "      <td>45661.0</td>\n",
       "      <td>Single</td>\n",
       "      <td>3.0</td>\n",
       "      <td>Master's</td>\n",
       "      <td>Unknown</td>\n",
       "      <td>15.937248</td>\n",
       "      <td>Urban</td>\n",
       "      <td>Premium</td>\n",
       "      <td>...</td>\n",
       "      <td>0</td>\n",
       "      <td>9.510565e-01</td>\n",
       "      <td>-0.309017</td>\n",
       "      <td>0.000000</td>\n",
       "      <td>1.000000</td>\n",
       "      <td>967.0</td>\n",
       "      <td>6.707286</td>\n",
       "      <td>6.697231</td>\n",
       "      <td>6.683486</td>\n",
       "      <td>6.695484</td>\n",
       "    </tr>\n",
       "    <tr>\n",
       "      <th>799999</th>\n",
       "      <td>25.0</td>\n",
       "      <td>Male</td>\n",
       "      <td>24843.0</td>\n",
       "      <td>Divorced</td>\n",
       "      <td>3.0</td>\n",
       "      <td>High School</td>\n",
       "      <td>Unknown</td>\n",
       "      <td>24.893939</td>\n",
       "      <td>Suburban</td>\n",
       "      <td>Comprehensive</td>\n",
       "      <td>...</td>\n",
       "      <td>1</td>\n",
       "      <td>-5.877853e-01</td>\n",
       "      <td>-0.809017</td>\n",
       "      <td>0.781831</td>\n",
       "      <td>0.623490</td>\n",
       "      <td>1323.0</td>\n",
       "      <td>6.662069</td>\n",
       "      <td>6.664226</td>\n",
       "      <td>6.641800</td>\n",
       "      <td>6.676944</td>\n",
       "    </tr>\n",
       "  </tbody>\n",
       "</table>\n",
       "<p>800000 rows × 31 columns</p>\n",
       "</div>"
      ],
      "text/plain": [
       "         Age  Gender  Annual Income Marital Status  Number of Dependents  \\\n",
       "0       28.0  Female         2310.0        Unknown                   4.0   \n",
       "1       31.0  Female       126031.0        Married                   2.0   \n",
       "2       47.0  Female        17092.0       Divorced                   0.0   \n",
       "3       28.0  Female        30424.0       Divorced                   3.0   \n",
       "4       24.0    Male        10863.0       Divorced                   2.0   \n",
       "...      ...     ...            ...            ...                   ...   \n",
       "799995  50.0  Female        38782.0        Married                   1.0   \n",
       "799996   NaN  Female        73462.0         Single                   0.0   \n",
       "799997  26.0  Female        35178.0         Single                   0.0   \n",
       "799998  34.0  Female        45661.0         Single                   3.0   \n",
       "799999  25.0    Male        24843.0       Divorced                   3.0   \n",
       "\n",
       "       Education Level     Occupation  Health Score  Location    Policy Type  \\\n",
       "0           Bachelor's  Self-Employed      7.657981     Rural          Basic   \n",
       "1             Master's  Self-Employed     13.381379  Suburban        Premium   \n",
       "2                  PhD     Unemployed     24.354527     Urban  Comprehensive   \n",
       "3                  PhD  Self-Employed      5.136225  Suburban  Comprehensive   \n",
       "4          High School     Unemployed     11.844155  Suburban        Premium   \n",
       "...                ...            ...           ...       ...            ...   \n",
       "799995      Bachelor's        Unknown     14.498639     Rural        Premium   \n",
       "799996        Master's        Unknown      8.145748     Rural          Basic   \n",
       "799997        Master's       Employed      6.636583     Urban  Comprehensive   \n",
       "799998        Master's        Unknown     15.937248     Urban        Premium   \n",
       "799999     High School        Unknown     24.893939  Suburban  Comprehensive   \n",
       "\n",
       "        ...  Weekday        DaySin    DayCos  WeekdaySin WeekdayCos  \\\n",
       "0       ...        6  7.431448e-01  0.669131   -0.781831   0.623490   \n",
       "1       ...        0 -9.945219e-01 -0.104528    0.000000   1.000000   \n",
       "2       ...        2  8.660254e-01  0.500000    0.974928  -0.222521   \n",
       "3       ...        2 -8.660254e-01  0.500000    0.974928  -0.222521   \n",
       "4       ...        4 -7.431448e-01  0.669131   -0.433884  -0.900969   \n",
       "...     ...      ...           ...       ...         ...        ...   \n",
       "799995  ...        4  9.510565e-01 -0.309017   -0.433884  -0.900969   \n",
       "799996  ...        1 -4.067366e-01  0.913545    0.781831   0.623490   \n",
       "799997  ...        0 -1.133108e-15  1.000000    0.000000   1.000000   \n",
       "799998  ...        0  9.510565e-01 -0.309017    0.000000   1.000000   \n",
       "799999  ...        1 -5.877853e-01 -0.809017    0.781831   0.623490   \n",
       "\n",
       "       DaysSinceStart preds_clean_XGBoost preds_clean_lgbm  \\\n",
       "0               576.0            6.723132         6.726636   \n",
       "1               253.0            6.683443         6.683843   \n",
       "2               636.0            6.670720         6.677606   \n",
       "3               433.0            6.687591         6.690707   \n",
       "4              1131.0            6.623063         6.626821   \n",
       "...               ...                 ...              ...   \n",
       "799995         1271.0            6.876002         6.877139   \n",
       "799996          644.0            6.375881         6.356761   \n",
       "799997         1919.0            6.722048         6.713081   \n",
       "799998          967.0            6.707286         6.697231   \n",
       "799999         1323.0            6.662069         6.664226   \n",
       "\n",
       "        preds_clean_catboost  preds_clean_autogluon  \n",
       "0                   6.710793               6.742937  \n",
       "1                   6.663115               6.689930  \n",
       "2                   6.667378               6.692963  \n",
       "3                   6.682231               6.690712  \n",
       "4                   6.615705               6.616789  \n",
       "...                      ...                    ...  \n",
       "799995              6.827030               6.879146  \n",
       "799996              6.368920               6.384323  \n",
       "799997              6.706430               6.718744  \n",
       "799998              6.683486               6.695484  \n",
       "799999              6.641800               6.676944  \n",
       "\n",
       "[800000 rows x 31 columns]"
      ]
     },
     "execution_count": 36,
     "metadata": {},
     "output_type": "execute_result"
    }
   ],
   "source": [
    "X_test_L1"
   ]
  },
  {
   "cell_type": "markdown",
   "id": "2bfe1a39",
   "metadata": {
    "papermill": {
     "duration": 0.003711,
     "end_time": "2024-12-09T13:12:52.399442",
     "exception": false,
     "start_time": "2024-12-09T13:12:52.395731",
     "status": "completed"
    },
    "tags": []
   },
   "source": [
    "# HyperOpt"
   ]
  },
  {
   "cell_type": "code",
   "execution_count": 9,
   "id": "3a251a32",
   "metadata": {},
   "outputs": [],
   "source": [
    "import json\n",
    "from axyom_utilities.wrappers import XGBRegressorWrapper\n",
    "from axyom_utilities.training import train_model_cv\n",
    "import optuna\n",
    "import torch\n",
    "from optuna.samplers import TPESampler\n",
    "from optuna.visualization.matplotlib import (\n",
    "    plot_optimization_history, \n",
    "    plot_param_importances, \n",
    "    plot_parallel_coordinate,\n",
    "    plot_slice,\n",
    "    plot_contour\n",
    ")\n",
    "import matplotlib.pyplot as plt\n",
    "\n",
    "if HYPER_OPT:\n",
    "    fixed_params = {\n",
    "        \"n_estimators\": 10000,\n",
    "        \"objective\": \"reg:squarederror\",  # XGBoost regression objective\n",
    "        \"tree_method\": \"gpu_hist\" if torch.cuda.is_available() else \"auto\",\n",
    "        \"verbosity\": 0,\n",
    "        \"enable_categorical\": True\n",
    "    }\n",
    "    \n",
    "    # Define the Optuna objective function\n",
    "    def objective(trial):\n",
    "        # Define hyperparameter space\n",
    "        varying_params = {\n",
    "            \"learning_rate\": trial.suggest_float(\"learning_rate\", 1e-3, 0.3, log=True),\n",
    "            \"max_depth\": trial.suggest_int(\"max_depth\", 8, 15),\n",
    "            \"min_child_weight\": trial.suggest_float(\"min_child_weight\", 1e-3, 50, log=True),\n",
    "            \"subsample\": trial.suggest_float(\"subsample\", 0.4, 1.0),\n",
    "            \"colsample_bytree\": trial.suggest_float(\"colsample_bytree\", 0.4, 1.0),\n",
    "            \"gamma\": trial.suggest_float(\"gamma\", 0, 5),\n",
    "            \"lambda\": trial.suggest_float(\"lambda\", 1e-3, 10, log=True),\n",
    "            \"alpha\": trial.suggest_float(\"alpha\", 1e-3, 10, log=True)\n",
    "        }\n",
    "\n",
    "        xgb_params = {**fixed_params, **varying_params}\n",
    "        \n",
    "        # Initialize XGBRegressor with trial parameters\n",
    "        model = XGBRegressorWrapper(**xgb_params)\n",
    "        \n",
    "        # Evaluate using K-Fold CV with early stopping\n",
    "        results = train_model_cv(\\\n",
    "            model, \n",
    "            X_train_L1, \n",
    "            y_train, \n",
    "            X_test_L1, \n",
    "            X_orig,\n",
    "            cv_splits=5, \n",
    "            early_stopping_rounds=50\n",
    "        )\n",
    "        score = results['cv_scores'].mean()\n",
    "\n",
    "        trial.set_user_attr(\"best_iteration\", results['best_iteration'])\n",
    "        \n",
    "        return score\n",
    "    \n",
    "    # Prepare data\n",
    "    # Replace X_train, y_train, and X_test with your data\n",
    "    # Example:\n",
    "    # X_train, X_test, y_train = ...\n",
    "    \n",
    "    # Run Optuna optimization\n",
    "    study = optuna.create_study( \\\n",
    "        direction=\"minimize\", \n",
    "        study_name=\"XGB_v1\", \n",
    "        storage=\"sqlite:///xgb_study_v1.db\", \n",
    "        load_if_exists=True,\n",
    "        sampler=TPESampler(seed=666)\n",
    "    )\n",
    "    study.optimize(objective, n_trials=100, timeout=HYPER_OPT_TIME)\n",
    "    \n",
    "    # Best parameters and result\n",
    "    print(\"Best Trial: \", study.best_trial.params)\n",
    "    print(\"Best RMSE: \", study.best_value)\n",
    "\n",
    "    xgb_best_params = {**fixed_params, **study.best_trial.params}\n",
    "\n",
    "    xgb_best_params[\"n_estimators\"] = study.best_trial.user_attrs.get(\"best_iteration\", None)\n",
    "\n",
    "    with open(\"xgb_best_params.json\", \"w\") as f:\n",
    "        json.dump(xgb_best_params, f, indent=4)\n",
    "   \n",
    "    plot_optimization_history(study)\n",
    "    plt.show()\n",
    "    \n",
    "    plot_param_importances(study)\n",
    "    plt.show()\n",
    "    \n",
    "    plot_slice(study)\n",
    "    plt.show()\n",
    "\n",
    "else:\n",
    "    xgb_best_params = {\n",
    "        \"n_estimators\": 2936,\n",
    "        \"objective\": \"reg:squarederror\",\n",
    "        \"tree_method\": \"gpu_hist\",\n",
    "        \"verbosity\": 0,\n",
    "        \"enable_categorical\": True,\n",
    "        \"learning_rate\": 0.0015809559369696921,\n",
    "        \"max_depth\": 8,\n",
    "        \"min_child_weight\": 0.0010519063716596696,\n",
    "        \"subsample\": 0.9259500688120887,\n",
    "        \"colsample_bytree\": 0.5156374474989557,\n",
    "        \"gamma\": 4.750602896904545,\n",
    "        \"lambda\": 7.589009467266231,\n",
    "        \"alpha\": 3.6958778093250424\n",
    "    }\n"
   ]
  },
  {
   "cell_type": "code",
   "execution_count": 10,
   "id": "743d5c4c",
   "metadata": {
    "execution": {
     "iopub.execute_input": "2024-12-09T18:16:55.241304Z",
     "iopub.status.busy": "2024-12-09T18:16:55.240196Z",
     "iopub.status.idle": "2024-12-09T18:16:55.246167Z",
     "shell.execute_reply": "2024-12-09T18:16:55.245357Z"
    },
    "papermill": {
     "duration": 0.035916,
     "end_time": "2024-12-09T18:16:55.247704",
     "exception": false,
     "start_time": "2024-12-09T18:16:55.211788",
     "status": "completed"
    },
    "tags": []
   },
   "outputs": [
    {
     "data": {
      "text/plain": [
       "{'n_estimators': 2936,\n",
       " 'objective': 'reg:squarederror',\n",
       " 'tree_method': 'gpu_hist',\n",
       " 'verbosity': 0,\n",
       " 'enable_categorical': True,\n",
       " 'learning_rate': 0.0015809559369696921,\n",
       " 'max_depth': 8,\n",
       " 'min_child_weight': 0.0010519063716596696,\n",
       " 'subsample': 0.9259500688120887,\n",
       " 'colsample_bytree': 0.5156374474989557,\n",
       " 'gamma': 4.750602896904545,\n",
       " 'lambda': 7.589009467266231,\n",
       " 'alpha': 3.6958778093250424}"
      ]
     },
     "execution_count": 10,
     "metadata": {},
     "output_type": "execute_result"
    }
   ],
   "source": [
    "xgb_best_params"
   ]
  },
  {
   "cell_type": "code",
   "execution_count": 11,
   "id": "b1e870ef",
   "metadata": {
    "execution": {
     "iopub.execute_input": "2024-12-09T18:16:55.304289Z",
     "iopub.status.busy": "2024-12-09T18:16:55.303586Z",
     "iopub.status.idle": "2024-12-09T18:16:55.307059Z",
     "shell.execute_reply": "2024-12-09T18:16:55.306445Z"
    },
    "papermill": {
     "duration": 0.033579,
     "end_time": "2024-12-09T18:16:55.308644",
     "exception": false,
     "start_time": "2024-12-09T18:16:55.275065",
     "status": "completed"
    },
    "tags": []
   },
   "outputs": [],
   "source": [
    "xgb_best_params[\"n_estimators\"] = 10000"
   ]
  },
  {
   "cell_type": "markdown",
   "id": "912bf058",
   "metadata": {
    "papermill": {
     "duration": 0.032715,
     "end_time": "2024-12-09T18:16:55.371337",
     "exception": false,
     "start_time": "2024-12-09T18:16:55.338622",
     "status": "completed"
    },
    "tags": []
   },
   "source": [
    "# Model Training"
   ]
  },
  {
   "cell_type": "code",
   "execution_count": 37,
   "id": "d9ed4579",
   "metadata": {
    "execution": {
     "iopub.execute_input": "2024-12-09T18:16:55.437662Z",
     "iopub.status.busy": "2024-12-09T18:16:55.437325Z",
     "iopub.status.idle": "2024-12-09T18:27:05.981939Z",
     "shell.execute_reply": "2024-12-09T18:27:05.980966Z"
    },
    "papermill": {
     "duration": 610.608804,
     "end_time": "2024-12-09T18:27:06.012560",
     "exception": false,
     "start_time": "2024-12-09T18:16:55.403756",
     "status": "completed"
    },
    "tags": []
   },
   "outputs": [
    {
     "name": "stdout",
     "output_type": "stream",
     "text": [
      "Training fold 1...\n",
      "Fold 1 RMSE: 1.0484\n",
      "Training fold 2...\n",
      "Fold 2 RMSE: 1.0415\n",
      "Training fold 3...\n",
      "Fold 3 RMSE: 1.0457\n",
      "Training fold 4...\n",
      "Fold 4 RMSE: 1.0421\n",
      "Training fold 5...\n",
      "Fold 5 RMSE: 1.0461\n",
      "Training fold 6...\n",
      "Fold 6 RMSE: 1.0475\n",
      "Training fold 7...\n",
      "Fold 7 RMSE: 1.0416\n",
      "Mean CV RMSE: 1.0447 ± 0.0027\n"
     ]
    }
   ],
   "source": [
    "# Initialize a CatBoost Regressor\n",
    "model = XGBRegressorWrapper(**xgb_best_params)\n",
    "\n",
    "# Use the train_model function to train and evaluate the model\n",
    "results = train_model_cv(\n",
    "    model=model,\n",
    "    X_train=X_train_L1,\n",
    "    y_train=y_train,\n",
    "    X_test=X_test_L1,\n",
    "    X_orig=X_orig,\n",
    "    early_stopping_rounds=100,\n",
    "    cv_splits=7\n",
    ")"
   ]
  },
  {
   "cell_type": "code",
   "execution_count": 38,
   "id": "76c5d6d4",
   "metadata": {
    "execution": {
     "iopub.execute_input": "2024-12-09T18:27:06.069815Z",
     "iopub.status.busy": "2024-12-09T18:27:06.069512Z",
     "iopub.status.idle": "2024-12-09T18:27:06.074853Z",
     "shell.execute_reply": "2024-12-09T18:27:06.074183Z"
    },
    "papermill": {
     "duration": 0.035663,
     "end_time": "2024-12-09T18:27:06.076253",
     "exception": false,
     "start_time": "2024-12-09T18:27:06.040590",
     "status": "completed"
    },
    "tags": []
   },
   "outputs": [],
   "source": [
    "mean_score = np.mean(results[\"cv_scores\"])\n",
    "std_score = np.std(results[\"cv_scores\"])\n",
    "\n",
    "# Prepare the data\n",
    "data = {\n",
    "    \"mean_score\": mean_score,\n",
    "    \"std_score\": std_score\n",
    "}\n",
    "\n",
    "# Save to a JSON file\n",
    "with open(\"score.json\", \"w\") as json_file:\n",
    "    json.dump(data, json_file, indent=4)  # Use `indent` for readability"
   ]
  },
  {
   "cell_type": "code",
   "execution_count": 39,
   "id": "bba76357",
   "metadata": {
    "execution": {
     "iopub.execute_input": "2024-12-09T18:27:06.134109Z",
     "iopub.status.busy": "2024-12-09T18:27:06.133614Z",
     "iopub.status.idle": "2024-12-09T18:27:09.560189Z",
     "shell.execute_reply": "2024-12-09T18:27:09.559255Z"
    },
    "papermill": {
     "duration": 3.457335,
     "end_time": "2024-12-09T18:27:09.561802",
     "exception": false,
     "start_time": "2024-12-09T18:27:06.104467",
     "status": "completed"
    },
    "tags": []
   },
   "outputs": [
    {
     "data": {
      "text/plain": [
       "['xgboost_models.pkl']"
      ]
     },
     "execution_count": 39,
     "metadata": {},
     "output_type": "execute_result"
    }
   ],
   "source": [
    "import joblib\n",
    "\n",
    "# Save OOF predictions as a CSV file\n",
    "oof_preds_df = pd.DataFrame({\"oof_preds_stacking_L1_XGB\": results[\"oof_preds\"]})\n",
    "oof_preds_df.to_csv(\"oof_preds_stacking_L1_XGB.csv\", index=False)\n",
    "\n",
    "test_preds_df = pd.DataFrame({\"test_preds_stacking_L1_XGB\": results[\"test_preds\"]})\n",
    "test_preds_df.to_csv(\"test_preds_stacking_L1_XGB.csv\", index=False)\n",
    "\n",
    "joblib.dump(results[\"models\"], \"xgboost_models.pkl\")"
   ]
  },
  {
   "cell_type": "markdown",
   "id": "607e1999",
   "metadata": {
    "papermill": {
     "duration": 0.030518,
     "end_time": "2024-12-09T18:27:09.621403",
     "exception": false,
     "start_time": "2024-12-09T18:27:09.590885",
     "status": "completed"
    },
    "tags": []
   },
   "source": [
    "# Submission"
   ]
  },
  {
   "cell_type": "code",
   "execution_count": 40,
   "id": "52513754",
   "metadata": {},
   "outputs": [
    {
     "name": "stdout",
     "output_type": "stream",
     "text": [
      "y_min = 0    3.044522\n",
      "dtype: float64\n",
      "y_max = 0    8.517193\n",
      "dtype: float64\n"
     ]
    }
   ],
   "source": [
    "y_min = y_train.min()\n",
    "print(f\"y_min = {y_min}\")\n",
    "y_max = y_train.max() \n",
    "print(f\"y_max = {y_max}\")"
   ]
  },
  {
   "cell_type": "code",
   "execution_count": 42,
   "id": "221fab64",
   "metadata": {
    "execution": {
     "iopub.execute_input": "2024-12-09T18:27:09.684611Z",
     "iopub.status.busy": "2024-12-09T18:27:09.683845Z",
     "iopub.status.idle": "2024-12-09T18:27:11.039199Z",
     "shell.execute_reply": "2024-12-09T18:27:11.038523Z"
    },
    "papermill": {
     "duration": 1.388863,
     "end_time": "2024-12-09T18:27:11.041168",
     "exception": false,
     "start_time": "2024-12-09T18:27:09.652305",
     "status": "completed"
    },
    "tags": []
   },
   "outputs": [],
   "source": [
    "y_pred = np.expm1(results['test_preds'])\n",
    "submission = pd.DataFrame({\n",
    "    'id': X_test.index,  \n",
    "    'Premium Amount': y_pred\n",
    "})\n",
    "\n",
    "FILE_PATH = f\"stacking_v1_{mean_score:.4f}.csv\"\n",
    "\n",
    "submission.to_csv(FILE_PATH, index=False)"
   ]
  },
  {
   "cell_type": "code",
   "execution_count": 43,
   "id": "1dacbf49",
   "metadata": {},
   "outputs": [],
   "source": [
    "import os\n",
    "\n",
    "# Define your message and file paths\n",
    "COMP_NAME = \"playground-series-s4e12\"\n",
    "\n",
    "\n",
    "SUBMIT_MESSAGE = f\"Stacking v1: Mean score: {mean_score:.4f} +/- {std_score:.4f}\"\n",
    "\n",
    "# Submit to Kaggle\n",
    "\n",
    "if True: \n",
    "    os.system(f'kaggle competitions submit -c {COMP_NAME} -f {FILE_PATH} -m \"{SUBMIT_MESSAGE}\"')"
   ]
  }
 ],
 "metadata": {
  "kaggle": {
   "accelerator": "gpu",
   "dataSources": [
    {
     "databundleVersionId": 10305135,
     "sourceId": 84896,
     "sourceType": "competition"
    },
    {
     "datasetId": 5547076,
     "sourceId": 9178166,
     "sourceType": "datasetVersion"
    },
    {
     "sourceId": 211948002,
     "sourceType": "kernelVersion"
    }
   ],
   "dockerImageVersionId": 30805,
   "isGpuEnabled": true,
   "isInternetEnabled": true,
   "language": "python",
   "sourceType": "notebook"
  },
  "kernelspec": {
   "display_name": "kaggle_env",
   "language": "python",
   "name": "python3"
  },
  "language_info": {
   "codemirror_mode": {
    "name": "ipython",
    "version": 3
   },
   "file_extension": ".py",
   "mimetype": "text/x-python",
   "name": "python",
   "nbconvert_exporter": "python",
   "pygments_lexer": "ipython3",
   "version": "3.10.16"
  },
  "papermill": {
   "default_parameters": {},
   "duration": 18880.993655,
   "end_time": "2024-12-09T18:27:12.649632",
   "environment_variables": {},
   "exception": null,
   "input_path": "__notebook__.ipynb",
   "output_path": "__notebook__.ipynb",
   "parameters": {},
   "start_time": "2024-12-09T13:12:31.655977",
   "version": "2.6.0"
  }
 },
 "nbformat": 4,
 "nbformat_minor": 5
}
