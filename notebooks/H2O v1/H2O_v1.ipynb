{
 "cells": [
  {
   "cell_type": "code",
   "execution_count": 1,
   "id": "44ddac72",
   "metadata": {
    "execution": {
     "iopub.execute_input": "2024-12-25T06:06:57.237703Z",
     "iopub.status.busy": "2024-12-25T06:06:57.237270Z",
     "iopub.status.idle": "2024-12-25T06:07:00.764275Z",
     "shell.execute_reply": "2024-12-25T06:07:00.763281Z"
    },
    "papermill": {
     "duration": 3.53547,
     "end_time": "2024-12-25T06:07:00.766750",
     "exception": false,
     "start_time": "2024-12-25T06:06:57.231280",
     "status": "completed"
    },
    "tags": []
   },
   "outputs": [],
   "source": [
    "import pandas as pd\n",
    "import numpy as np\n",
    "from sklearn.model_selection import KFold\n",
    "from sklearn.metrics import mean_squared_log_error\n",
    "from sklearn.preprocessing import LabelEncoder, OrdinalEncoder\n",
    "from sklearn.preprocessing import OneHotEncoder\n",
    "from sklearn.linear_model import Lasso, Ridge\n",
    "import lightgbm as lgb\n",
    "\n",
    "import joblib\n",
    "\n",
    "train_ag = True\n",
    "\n",
    "import warnings\n",
    "warnings.filterwarnings(\"ignore\")"
   ]
  },
  {
   "cell_type": "code",
   "execution_count": null,
   "id": "507fd101",
   "metadata": {
    "execution": {
     "iopub.execute_input": "2024-12-25T06:07:00.776547Z",
     "iopub.status.busy": "2024-12-25T06:07:00.775969Z",
     "iopub.status.idle": "2024-12-25T06:07:09.966084Z",
     "shell.execute_reply": "2024-12-25T06:07:09.964881Z"
    },
    "papermill": {
     "duration": 9.197762,
     "end_time": "2024-12-25T06:07:09.968450",
     "exception": false,
     "start_time": "2024-12-25T06:07:00.770688",
     "status": "completed"
    },
    "tags": []
   },
   "outputs": [],
   "source": [
    "import h2o\n",
    "from h2o.automl import H2OAutoML\n",
    "\n",
    "h2o.init()"
   ]
  },
  {
   "cell_type": "code",
   "execution_count": 3,
   "id": "41a3b4ae",
   "metadata": {
    "execution": {
     "iopub.execute_input": "2024-12-25T06:07:09.979113Z",
     "iopub.status.busy": "2024-12-25T06:07:09.978712Z",
     "iopub.status.idle": "2024-12-25T06:07:09.984005Z",
     "shell.execute_reply": "2024-12-25T06:07:09.982782Z"
    },
    "papermill": {
     "duration": 0.013343,
     "end_time": "2024-12-25T06:07:09.986286",
     "exception": false,
     "start_time": "2024-12-25T06:07:09.972943",
     "status": "completed"
    },
    "tags": []
   },
   "outputs": [],
   "source": [
    "RUNTIME = 60 * 30"
   ]
  },
  {
   "cell_type": "code",
   "execution_count": null,
   "id": "896ef174",
   "metadata": {},
   "outputs": [],
   "source": [
    "from pathlib import Path\n",
    "from datetime import datetime\n",
    "import sys\n",
    "\n",
    "# Define the base directory\n",
    "base_dir = Path.cwd().resolve().parents[1]\n",
    "\n",
    "# Define subdirectories\n",
    "data_dir = base_dir / \"data\"\n",
    "model_dir = base_dir / \"models\"\n",
    "notebooks_dir = base_dir / \"notebooks\"\n",
    "\n",
    "# Append base_dir to sys.path\n",
    "sys.path.append(str(base_dir))"
   ]
  },
  {
   "cell_type": "code",
   "execution_count": 4,
   "id": "397428b7",
   "metadata": {
    "execution": {
     "iopub.execute_input": "2024-12-25T06:07:09.997061Z",
     "iopub.status.busy": "2024-12-25T06:07:09.996418Z",
     "iopub.status.idle": "2024-12-25T06:07:22.268226Z",
     "shell.execute_reply": "2024-12-25T06:07:22.267204Z"
    },
    "papermill": {
     "duration": 12.279807,
     "end_time": "2024-12-25T06:07:22.270559",
     "exception": false,
     "start_time": "2024-12-25T06:07:09.990752",
     "status": "completed"
    },
    "tags": []
   },
   "outputs": [],
   "source": [
    "train = pd.read_csv(data_dir/\"train.csv\")\n",
    "test = pd.read_csv(data_dir/\"test.csv\")\n",
    "\n",
    "sample = pd.read_csv(data_dir/'sample_submission.csv')\n",
    "\n",
    "train.drop('id', axis=1, inplace=True)\n",
    "test.drop('id', axis=1, inplace=True) "
   ]
  },
  {
   "cell_type": "code",
   "execution_count": 5,
   "id": "899c202c",
   "metadata": {
    "execution": {
     "iopub.execute_input": "2024-12-25T06:07:22.281162Z",
     "iopub.status.busy": "2024-12-25T06:07:22.280783Z",
     "iopub.status.idle": "2024-12-25T06:07:22.289282Z",
     "shell.execute_reply": "2024-12-25T06:07:22.288120Z"
    },
    "papermill": {
     "duration": 0.016165,
     "end_time": "2024-12-25T06:07:22.291340",
     "exception": false,
     "start_time": "2024-12-25T06:07:22.275175",
     "status": "completed"
    },
    "tags": []
   },
   "outputs": [],
   "source": [
    "def date(Df):\n",
    "\n",
    "    Df['Policy Start Date'] = pd.to_datetime(Df['Policy Start Date'])\n",
    "    Df['Year'] = Df['Policy Start Date'].dt.year\n",
    "    Df['Day'] = Df['Policy Start Date'].dt.day\n",
    "    Df['Month'] = Df['Policy Start Date'].dt.month\n",
    "    Df['Month_name'] = Df['Policy Start Date'].dt.month_name()\n",
    "    Df['Day_of_week'] = Df['Policy Start Date'].dt.day_name()\n",
    "    Df['Week'] = Df['Policy Start Date'].dt.isocalendar().week\n",
    "    Df['Year_sin'] = np.sin(2 * np.pi * Df['Year'])\n",
    "    Df['Year_cos'] = np.cos(2 * np.pi * Df['Year'])\n",
    "    Df['Month_sin'] = np.sin(2 * np.pi * Df['Month'] / 12) \n",
    "    Df['Month_cos'] = np.cos(2 * np.pi * Df['Month'] / 12)\n",
    "    Df['Day_sin'] = np.sin(2 * np.pi * Df['Day'] / 31)  \n",
    "    Df['Day_cos'] = np.cos(2 * np.pi * Df['Day'] / 31)\n",
    "    Df['Group']=(Df['Year']-2020)*48+Df['Month']*4+Df['Day']//7\n",
    "    \n",
    "    Df.drop('Policy Start Date', axis=1, inplace=True)\n",
    "\n",
    "    return Df"
   ]
  },
  {
   "cell_type": "code",
   "execution_count": 6,
   "id": "55d8564b",
   "metadata": {
    "execution": {
     "iopub.execute_input": "2024-12-25T06:07:22.301775Z",
     "iopub.status.busy": "2024-12-25T06:07:22.301378Z",
     "iopub.status.idle": "2024-12-25T06:07:25.526701Z",
     "shell.execute_reply": "2024-12-25T06:07:25.525577Z"
    },
    "papermill": {
     "duration": 3.233319,
     "end_time": "2024-12-25T06:07:25.529194",
     "exception": false,
     "start_time": "2024-12-25T06:07:22.295875",
     "status": "completed"
    },
    "tags": []
   },
   "outputs": [],
   "source": [
    "train = date(train)\n",
    "test = date(test)\n",
    "\n",
    "cat_cols = [col for col in train.columns if train[col].dtype == 'object']\n",
    "feature_cols = list(test.columns)"
   ]
  },
  {
   "cell_type": "code",
   "execution_count": 7,
   "id": "7001accd",
   "metadata": {
    "execution": {
     "iopub.execute_input": "2024-12-25T06:07:25.540225Z",
     "iopub.status.busy": "2024-12-25T06:07:25.539504Z",
     "iopub.status.idle": "2024-12-25T06:07:25.547299Z",
     "shell.execute_reply": "2024-12-25T06:07:25.546211Z"
    },
    "papermill": {
     "duration": 0.015806,
     "end_time": "2024-12-25T06:07:25.549652",
     "exception": false,
     "start_time": "2024-12-25T06:07:25.533846",
     "status": "completed"
    },
    "tags": []
   },
   "outputs": [],
   "source": [
    "class CategoricalEncoder:\n",
    "    def __init__(self, train, test):\n",
    "        self.train = train\n",
    "        self.test = test\n",
    "\n",
    "    def frequency_encode(self, cat_cols, feature_cols, drop_org=False):\n",
    "\n",
    "        new_cat_cols = []\n",
    "        for col in cat_cols:\n",
    "            freq_encoding = self.train[col].value_counts().to_dict()\n",
    "\n",
    "            self.train[f\"{col}_freq\"] = self.train[col].map(freq_encoding).astype('category')\n",
    "            self.test[f\"{col}_freq\"] = self.test[col].map(freq_encoding).astype('category')\n",
    "\n",
    "            new_col_name = f\"{col}_freq\"\n",
    "            new_cat_cols.append(new_col_name)\n",
    "            feature_cols.append(new_col_name)\n",
    "            if drop_org:\n",
    "                feature_cols.remove(col)\n",
    "\n",
    "        return self.train, self.test, new_cat_cols, feature_cols"
   ]
  },
  {
   "cell_type": "code",
   "execution_count": 8,
   "id": "b208b521",
   "metadata": {
    "execution": {
     "iopub.execute_input": "2024-12-25T06:07:25.561042Z",
     "iopub.status.busy": "2024-12-25T06:07:25.560688Z",
     "iopub.status.idle": "2024-12-25T06:07:29.183371Z",
     "shell.execute_reply": "2024-12-25T06:07:29.182246Z"
    },
    "papermill": {
     "duration": 3.631652,
     "end_time": "2024-12-25T06:07:29.185775",
     "exception": false,
     "start_time": "2024-12-25T06:07:25.554123",
     "status": "completed"
    },
    "tags": []
   },
   "outputs": [],
   "source": [
    "encoder = CategoricalEncoder(train, test)\n",
    "train, test, cat_cols, feature_cols = encoder.frequency_encode(cat_cols, feature_cols, drop_org=True)\n",
    "\n",
    "train = train[feature_cols + ['Premium Amount']]\n",
    "test = test[feature_cols]\n",
    "\n",
    "train['Premium Amount'] = np.log1p(train['Premium Amount'])\n",
    "\n",
    "non_log_oof, non_log_test = joblib.load('nonlog_feature/cat_non_loged.pkl')\n",
    "\n",
    "train['non_log_premium_amount'] = non_log_oof\n",
    "test['non_log_premium_amount'] = non_log_test"
   ]
  },
  {
   "cell_type": "code",
   "execution_count": null,
   "id": "3a9423b7",
   "metadata": {
    "execution": {
     "iopub.execute_input": "2024-12-25T06:07:29.196570Z",
     "iopub.status.busy": "2024-12-25T06:07:29.196140Z",
     "iopub.status.idle": "2024-12-25T06:07:29.228248Z",
     "shell.execute_reply": "2024-12-25T06:07:29.227203Z"
    },
    "papermill": {
     "duration": 0.040189,
     "end_time": "2024-12-25T06:07:29.230552",
     "exception": false,
     "start_time": "2024-12-25T06:07:29.190363",
     "status": "completed"
    },
    "tags": []
   },
   "outputs": [],
   "source": [
    "train.head()"
   ]
  },
  {
   "cell_type": "code",
   "execution_count": 10,
   "id": "69347637",
   "metadata": {
    "execution": {
     "iopub.execute_input": "2024-12-25T06:07:29.241880Z",
     "iopub.status.busy": "2024-12-25T06:07:29.241484Z",
     "iopub.status.idle": "2024-12-25T06:07:29.246368Z",
     "shell.execute_reply": "2024-12-25T06:07:29.245474Z"
    },
    "papermill": {
     "duration": 0.013182,
     "end_time": "2024-12-25T06:07:29.248657",
     "exception": false,
     "start_time": "2024-12-25T06:07:29.235475",
     "status": "completed"
    },
    "tags": []
   },
   "outputs": [],
   "source": [
    "def rmsle(y_true, y_pred):\n",
    "    return np.sqrt(mean_squared_log_error(y_true, y_pred))"
   ]
  },
  {
   "cell_type": "code",
   "execution_count": null,
   "id": "f86ef50b",
   "metadata": {
    "execution": {
     "iopub.execute_input": "2024-12-25T06:07:29.259680Z",
     "iopub.status.busy": "2024-12-25T06:07:29.259296Z",
     "iopub.status.idle": "2024-12-25T06:08:40.374484Z",
     "shell.execute_reply": "2024-12-25T06:08:40.373499Z"
    },
    "papermill": {
     "duration": 71.123372,
     "end_time": "2024-12-25T06:08:40.376871",
     "exception": false,
     "start_time": "2024-12-25T06:07:29.253499",
     "status": "completed"
    },
    "tags": []
   },
   "outputs": [],
   "source": [
    "kf = KFold(n_splits=5, shuffle=True, random_state=42)\n",
    "\n",
    "for i, (_, val_index) in enumerate(kf.split(train)):\n",
    "    train.loc[val_index, 'fold'] = i\n",
    "\n",
    "h_train = h2o.H2OFrame(train)\n",
    "h_test = h2o.H2OFrame(test)\n",
    "\n",
    "x = [col for col in h_train.columns if col not in ['Premium Amount', 'fold']]\n",
    "y = 'Premium Amount'\n",
    "fold_column = 'fold'"
   ]
  },
  {
   "cell_type": "code",
   "execution_count": null,
   "id": "f77af228",
   "metadata": {
    "execution": {
     "iopub.execute_input": "2024-12-25T06:08:40.402091Z",
     "iopub.status.busy": "2024-12-25T06:08:40.401713Z",
     "iopub.status.idle": "2024-12-25T06:38:46.510171Z",
     "shell.execute_reply": "2024-12-25T06:38:46.508965Z"
    },
    "papermill": {
     "duration": 1806.123835,
     "end_time": "2024-12-25T06:38:46.512866",
     "exception": false,
     "start_time": "2024-12-25T06:08:40.389031",
     "status": "completed"
    },
    "tags": []
   },
   "outputs": [],
   "source": [
    "import joblib\n",
    "\n",
    "aml = H2OAutoML(\n",
    "        max_runtime_secs=RUNTIME,\n",
    "        include_algos=[\"GBM\", \"DRF\", \"XGBoost\", \"StackedEnsemble\"],\n",
    "        keep_cross_validation_predictions=True,\n",
    "        seed=42,\n",
    "        nfolds=5,\n",
    "        verbosity=\"info\"\n",
    "    )\n",
    "aml.train(x=x, y=y, training_frame=h_train,fold_column=fold_column)\n",
    "\n",
    "joblib.dump(aml, \"model.pkl\")"
   ]
  },
  {
   "cell_type": "code",
   "execution_count": null,
   "id": "5226f55f",
   "metadata": {
    "execution": {
     "iopub.execute_input": "2024-12-25T06:38:46.550012Z",
     "iopub.status.busy": "2024-12-25T06:38:46.549492Z",
     "iopub.status.idle": "2024-12-25T06:38:47.925054Z",
     "shell.execute_reply": "2024-12-25T06:38:47.923378Z"
    },
    "papermill": {
     "duration": 1.397222,
     "end_time": "2024-12-25T06:38:47.927016",
     "exception": true,
     "start_time": "2024-12-25T06:38:46.529794",
     "status": "failed"
    },
    "tags": []
   },
   "outputs": [],
   "source": [
    "leaderboard = aml.leaderboard.as_data_frame()\n",
    "print(leaderboard)\n",
    "\n",
    "model_ids = leaderboard['model_id'].tolist()\n",
    "\n",
    "oofs = pd.DataFrame()\n",
    "for model_id in model_ids:\n",
    "    model = h2o.get_model(model_id)\n",
    "    oof_predictions = model.cross_validation_holdout_predictions().as_data_frame()\n",
    "    oofs[model_id] = oof_predictions['predict']\n",
    "\n",
    "preds = pd.DataFrame()\n",
    "for model_id in model_ids:\n",
    "    model = h2o.get_model(model_id)\n",
    "    if model is not None:\n",
    "        test_predictions = model.predict(h_test).as_data_frame()\n",
    "        preds[model_id] = test_predictions['predict']\n",
    "\n",
    "joblib.dump([oofs, preds], \"h2o_automl.pkl\")"
   ]
  },
  {
   "cell_type": "code",
   "execution_count": null,
   "id": "799b8e0c",
   "metadata": {
    "execution": {
     "execution_failed": "2024-12-25T06:06:42.783Z"
    },
    "papermill": {
     "duration": null,
     "end_time": null,
     "exception": null,
     "start_time": null,
     "status": "pending"
    },
    "tags": []
   },
   "outputs": [],
   "source": [
    "models = list(oofs.columns)\n",
    "for model in models:\n",
    "    print(f\"{model}: {rmsle(np.expm1(oofs[model]), np.expm1(train['Premium Amount']))}\")"
   ]
  },
  {
   "cell_type": "code",
   "execution_count": null,
   "id": "c0f1b0c7",
   "metadata": {
    "execution": {
     "execution_failed": "2024-12-25T06:06:42.783Z"
    },
    "papermill": {
     "duration": null,
     "end_time": null,
     "exception": null,
     "start_time": null,
     "status": "pending"
    },
    "tags": []
   },
   "outputs": [],
   "source": [
    "ridge = Ridge(alpha=0.1)  \n",
    "\n",
    "ridge.fit(oofs, train['Premium Amount'])\n",
    "oof_preds = ridge.predict(oofs)\n",
    "print(rmsle(np.expm1(oof_preds), np.expm1(train['Premium Amount'])))"
   ]
  },
  {
   "cell_type": "code",
   "execution_count": null,
   "id": "3c67934a",
   "metadata": {
    "execution": {
     "execution_failed": "2024-12-25T06:06:42.783Z"
    },
    "papermill": {
     "duration": null,
     "end_time": null,
     "exception": null,
     "start_time": null,
     "status": "pending"
    },
    "tags": []
   },
   "outputs": [],
   "source": [
    "test_predictions = ridge.predict(preds)\n",
    "\n",
    "sample['Premium Amount'] = np.expm1(test_predictions)\n",
    "sample.to_csv('submission.csv', index = False)"
   ]
  }
 ],
 "metadata": {
  "kaggle": {
   "accelerator": "none",
   "dataSources": [
    {
     "databundleVersionId": 10305135,
     "sourceId": 84896,
     "sourceType": "competition"
    },
    {
     "datasetId": 6220067,
     "sourceId": 10087945,
     "sourceType": "datasetVersion"
    },
    {
     "datasetId": 6228803,
     "sourceId": 10103971,
     "sourceType": "datasetVersion"
    },
    {
     "sourceId": 211205059,
     "sourceType": "kernelVersion"
    }
   ],
   "dockerImageVersionId": 30786,
   "isGpuEnabled": false,
   "isInternetEnabled": true,
   "language": "python",
   "sourceType": "notebook"
  },
  "kernelspec": {
   "display_name": "Python 3",
   "language": "python",
   "name": "python3"
  },
  "language_info": {
   "codemirror_mode": {
    "name": "ipython",
    "version": 3
   },
   "file_extension": ".py",
   "mimetype": "text/x-python",
   "name": "python",
   "nbconvert_exporter": "python",
   "pygments_lexer": "ipython3",
   "version": "3.10.14"
  },
  "papermill": {
   "default_parameters": {},
   "duration": 1915.94043,
   "end_time": "2024-12-25T06:38:49.970970",
   "environment_variables": {},
   "exception": true,
   "input_path": "__notebook__.ipynb",
   "output_path": "__notebook__.ipynb",
   "parameters": {},
   "start_time": "2024-12-25T06:06:54.030540",
   "version": "2.6.0"
  }
 },
 "nbformat": 4,
 "nbformat_minor": 5
}
