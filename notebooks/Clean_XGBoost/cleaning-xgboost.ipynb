{
 "cells": [
  {
   "cell_type": "code",
   "execution_count": null,
   "id": "615cf318",
   "metadata": {
    "_cell_guid": "b1076dfc-b9ad-4769-8c92-a6c4dae69d19",
    "_uuid": "8f2839f25d086af736a60e9eeb907d3b93b6e0e5",
    "execution": {
     "iopub.execute_input": "2024-12-09T13:12:34.047888Z",
     "iopub.status.busy": "2024-12-09T13:12:34.047597Z",
     "iopub.status.idle": "2024-12-09T13:12:34.716436Z",
     "shell.execute_reply": "2024-12-09T13:12:34.715768Z"
    },
    "papermill": {
     "duration": 0.676501,
     "end_time": "2024-12-09T13:12:34.718408",
     "exception": false,
     "start_time": "2024-12-09T13:12:34.041907",
     "status": "completed"
    },
    "tags": []
   },
   "outputs": [],
   "source": [
    "import numpy as np\n",
    "import pandas as pd\n",
    "import os\n",
    "import pandas as pd\n",
    "import sys"
   ]
  },
  {
   "cell_type": "markdown",
   "id": "f1522c74",
   "metadata": {
    "papermill": {
     "duration": 0.004851,
     "end_time": "2024-12-09T13:12:34.727632",
     "exception": false,
     "start_time": "2024-12-09T13:12:34.722781",
     "status": "completed"
    },
    "tags": []
   },
   "source": [
    "# Config"
   ]
  },
  {
   "cell_type": "code",
   "execution_count": null,
   "id": "25bf2667",
   "metadata": {
    "execution": {
     "iopub.execute_input": "2024-12-09T13:12:34.736529Z",
     "iopub.status.busy": "2024-12-09T13:12:34.736123Z",
     "iopub.status.idle": "2024-12-09T13:12:34.740000Z",
     "shell.execute_reply": "2024-12-09T13:12:34.739354Z"
    },
    "papermill": {
     "duration": 0.01006,
     "end_time": "2024-12-09T13:12:34.741432",
     "exception": false,
     "start_time": "2024-12-09T13:12:34.731372",
     "status": "completed"
    },
    "tags": []
   },
   "outputs": [],
   "source": [
    "HYPER_OPT = False \n",
    "HYPER_OPT_TIME = 3600*5\n",
    "USE_ORIGINAL_DATA = False \n",
    "SUBMIT_TO_KAGGLE = False"
   ]
  },
  {
   "cell_type": "code",
   "execution_count": null,
   "id": "636ad8af",
   "metadata": {},
   "outputs": [],
   "source": [
    "# Define the base directory (where the notebook is running)\n",
    "base_dir = os.path.abspath(os.path.join(os.getcwd(), \"..\", \"..\"))\n",
    "\n",
    "# Define the data directory\n",
    "data_dir = os.path.join(base_dir, \"data\")\n",
    "\n",
    "model_dir = os.path.join(base_dir, \"models\")\n",
    "\n",
    "sys.path.append(base_dir)"
   ]
  },
  {
   "cell_type": "markdown",
   "id": "7d1038ad",
   "metadata": {
    "papermill": {
     "duration": 0.0037,
     "end_time": "2024-12-09T13:12:34.787072",
     "exception": false,
     "start_time": "2024-12-09T13:12:34.783372",
     "status": "completed"
    },
    "tags": []
   },
   "source": [
    "# Data Extraction"
   ]
  },
  {
   "cell_type": "code",
   "execution_count": null,
   "id": "743efa5b",
   "metadata": {
    "execution": {
     "iopub.execute_input": "2024-12-09T13:12:34.795909Z",
     "iopub.status.busy": "2024-12-09T13:12:34.795667Z",
     "iopub.status.idle": "2024-12-09T13:12:43.929071Z",
     "shell.execute_reply": "2024-12-09T13:12:43.928139Z"
    },
    "papermill": {
     "duration": 9.140256,
     "end_time": "2024-12-09T13:12:43.931157",
     "exception": false,
     "start_time": "2024-12-09T13:12:34.790901",
     "status": "completed"
    },
    "tags": []
   },
   "outputs": [],
   "source": [
    "\n",
    "# # Construct file paths\n",
    "# train_file = os.path.join(data_dir, \"train.csv\")\n",
    "# test_file = os.path.join(data_dir, \"test.csv\")\n",
    "# original_file = os.path.join(data_dir, \"Insurance Premium Prediction Dataset.csv\")\n",
    "\n",
    "# # Load the datasets\n",
    "# train_df = pd.read_csv(train_file, index_col=\"id\")\n",
    "# test_df = pd.read_csv(test_file, index_col=\"id\")\n",
    "# original_df = pd.read_csv(original_file)"
   ]
  },
  {
   "cell_type": "code",
   "execution_count": null,
   "id": "0d745aba",
   "metadata": {},
   "outputs": [],
   "source": [
    "from axyom_utilities.data_extraction import extract_data\n",
    "\n",
    "X_train, y_train, X_test, X_orig, y_orig = extract_data(data_dir, USE_ORIGINAL_DATA)"
   ]
  },
  {
   "cell_type": "markdown",
   "id": "300f27ae",
   "metadata": {
    "papermill": {
     "duration": 0.003676,
     "end_time": "2024-12-09T13:12:43.939293",
     "exception": false,
     "start_time": "2024-12-09T13:12:43.935617",
     "status": "completed"
    },
    "tags": []
   },
   "source": [
    "# Data Cleaning"
   ]
  },
  {
   "cell_type": "code",
   "execution_count": null,
   "id": "9d42d2df",
   "metadata": {
    "execution": {
     "iopub.execute_input": "2024-12-09T13:12:43.995169Z",
     "iopub.status.busy": "2024-12-09T13:12:43.994928Z",
     "iopub.status.idle": "2024-12-09T13:12:50.925060Z",
     "shell.execute_reply": "2024-12-09T13:12:50.924366Z"
    },
    "papermill": {
     "duration": 6.936729,
     "end_time": "2024-12-09T13:12:50.926967",
     "exception": false,
     "start_time": "2024-12-09T13:12:43.990238",
     "status": "completed"
    },
    "tags": []
   },
   "outputs": [],
   "source": [
    "from axyom_utilities.preprocessing import preprocess \n",
    "\n",
    "#original_df = original_df.dropna(subset=[\"Premium Amount\"])\n",
    "\n",
    "# train_df = preprocess(train_df)\n",
    "# test_df = preprocess(test_df)\n",
    "# original_df = preprocess(original_df)\n",
    "\n",
    "X_train = preprocess(X_train)\n",
    "X_test = preprocess(X_test)\n",
    "if USE_ORIGINAL_DATA:\n",
    "    X_orig = preprocess(X_orig)"
   ]
  },
  {
   "cell_type": "markdown",
   "id": "9bea2194",
   "metadata": {
    "papermill": {
     "duration": 0.00378,
     "end_time": "2024-12-09T13:12:50.934969",
     "exception": false,
     "start_time": "2024-12-09T13:12:50.931189",
     "status": "completed"
    },
    "tags": []
   },
   "source": [
    "# Data Splitting"
   ]
  },
  {
   "cell_type": "code",
   "execution_count": null,
   "id": "43c14c11",
   "metadata": {
    "execution": {
     "iopub.execute_input": "2024-12-09T13:12:50.943986Z",
     "iopub.status.busy": "2024-12-09T13:12:50.943322Z",
     "iopub.status.idle": "2024-12-09T13:12:51.006500Z",
     "shell.execute_reply": "2024-12-09T13:12:51.005817Z"
    },
    "papermill": {
     "duration": 0.069789,
     "end_time": "2024-12-09T13:12:51.008486",
     "exception": false,
     "start_time": "2024-12-09T13:12:50.938697",
     "status": "completed"
    },
    "tags": []
   },
   "outputs": [],
   "source": [
    "# X_train = train_df.drop('Premium Amount', axis=1)\n",
    "# y_train = pd.DataFrame(np.log1p(train_df['Premium Amount'].values)) # Log Space\n",
    "# X_test = test_df\n",
    "\n",
    "# if USE_ORIGINAL_DATA:\n",
    "#     X_train[\"Synthetic\"] = 1\n",
    "#     X_test[\"Synthetic\"] = 1\n",
    "#     X_orig = original_df.drop('Premium Amount', axis=1)\n",
    "#     X_orig[\"Synthetic\"] = 0\n",
    "#     y_orig = pd.DataFrame(np.log1p(original_df['Premium Amount'].values))\n",
    "    \n",
    "# else:\n",
    "#     X_orig = None"
   ]
  },
  {
   "cell_type": "markdown",
   "id": "2bfe1a39",
   "metadata": {
    "papermill": {
     "duration": 0.003711,
     "end_time": "2024-12-09T13:12:52.399442",
     "exception": false,
     "start_time": "2024-12-09T13:12:52.395731",
     "status": "completed"
    },
    "tags": []
   },
   "source": [
    "# HyperOpt"
   ]
  },
  {
   "cell_type": "code",
   "execution_count": null,
   "id": "63616760",
   "metadata": {
    "execution": {
     "iopub.execute_input": "2024-12-09T13:12:52.408413Z",
     "iopub.status.busy": "2024-12-09T13:12:52.407769Z",
     "iopub.status.idle": "2024-12-09T18:16:55.180521Z",
     "shell.execute_reply": "2024-12-09T18:16:55.179660Z"
    },
    "papermill": {
     "duration": 18242.779653,
     "end_time": "2024-12-09T18:16:55.182810",
     "exception": false,
     "start_time": "2024-12-09T13:12:52.403157",
     "status": "completed"
    },
    "tags": []
   },
   "outputs": [],
   "source": [
    "import json\n",
    "from axyom_utilities.wrappers import XGBRegressorWrapper\n",
    "from axyom_utilities.training import train_model_cv\n",
    "import optuna\n",
    "import torch\n",
    "from optuna.samplers import TPESampler\n",
    "from optuna.visualization.matplotlib import (\n",
    "    plot_optimization_history, \n",
    "    plot_param_importances, \n",
    "    plot_parallel_coordinate,\n",
    "    plot_slice,\n",
    "    plot_contour\n",
    ")\n",
    "import matplotlib.pyplot as plt\n",
    "\n",
    "if HYPER_OPT:\n",
    "    fixed_params = {\n",
    "        \"n_estimators\": 10000,\n",
    "        \"objective\": \"reg:squarederror\",  # XGBoost regression objective\n",
    "        \"tree_method\": \"gpu_hist\" if torch.cuda.is_available() else \"auto\",\n",
    "        \"verbosity\": 0,\n",
    "        \"enable_categorical\": True\n",
    "    }\n",
    "    \n",
    "    # Define the Optuna objective function\n",
    "    def objective(trial):\n",
    "        # Define hyperparameter space\n",
    "        varying_params = {\n",
    "            \"learning_rate\": trial.suggest_float(\"learning_rate\", 1e-3, 0.3, log=True),\n",
    "            \"max_depth\": trial.suggest_int(\"max_depth\", 8, 15),\n",
    "            \"min_child_weight\": trial.suggest_float(\"min_child_weight\", 1e-3, 50, log=True),\n",
    "            \"subsample\": trial.suggest_float(\"subsample\", 0.4, 1.0),\n",
    "            \"colsample_bytree\": trial.suggest_float(\"colsample_bytree\", 0.4, 1.0),\n",
    "            \"gamma\": trial.suggest_float(\"gamma\", 0, 5),\n",
    "            \"lambda\": trial.suggest_float(\"lambda\", 1e-3, 10, log=True),\n",
    "            \"alpha\": trial.suggest_float(\"alpha\", 1e-3, 10, log=True)\n",
    "        }\n",
    "\n",
    "        xgb_params = {**fixed_params, **varying_params}\n",
    "        \n",
    "        # Initialize XGBRegressor with trial parameters\n",
    "        model = XGBRegressorWrapper(**xgb_params)\n",
    "        \n",
    "        # Evaluate using K-Fold CV with early stopping\n",
    "        results = train_model_cv(\\\n",
    "            model, \n",
    "            X_train, \n",
    "            y_train, \n",
    "            X_test, \n",
    "            X_orig,\n",
    "            cv_splits=5, \n",
    "            early_stopping_rounds=50\n",
    "        )\n",
    "        score = results['cv_scores'].mean()\n",
    "\n",
    "        trial.set_user_attr(\"best_iteration\", results['best_iteration'])\n",
    "        \n",
    "        return score\n",
    "    \n",
    "    # Prepare data\n",
    "    # Replace X_train, y_train, and X_test with your data\n",
    "    # Example:\n",
    "    # X_train, X_test, y_train = ...\n",
    "    \n",
    "    # Run Optuna optimization\n",
    "    study = optuna.create_study( \\\n",
    "        direction=\"minimize\", \n",
    "        study_name=\"XGB_v1\", \n",
    "        storage=\"sqlite:///xgb_study_v1.db\", \n",
    "        load_if_exists=True,\n",
    "        sampler=TPESampler(seed=666)\n",
    "    )\n",
    "    study.optimize(objective, n_trials=100, timeout=HYPER_OPT_TIME)\n",
    "    \n",
    "    # Best parameters and result\n",
    "    print(\"Best Trial: \", study.best_trial.params)\n",
    "    print(\"Best RMSE: \", study.best_value)\n",
    "\n",
    "    xgb_best_params = {**fixed_params, **study.best_trial.params}\n",
    "\n",
    "    xgb_best_params[\"n_estimators\"] = study.best_trial.user_attrs.get(\"best_iteration\", None)\n",
    "\n",
    "    with open(\"xgb_best_params.json\", \"w\") as f:\n",
    "        json.dump(xgb_best_params, f, indent=4)\n",
    "   \n",
    "    plot_optimization_history(study)\n",
    "    plt.show()\n",
    "    \n",
    "    plot_param_importances(study)\n",
    "    plt.show()\n",
    "    \n",
    "    plot_slice(study)\n",
    "    plt.show()\n",
    "\n",
    "else:\n",
    "    xgb_best_params = {\n",
    "        'n_estimators': 2225,\n",
    "        'objective': 'reg:squarederror',\n",
    "        'tree_method': 'gpu_hist',\n",
    "        'verbosity': 0,\n",
    "        'enable_categorical': True,\n",
    "        'learning_rate': 0.003059929305190928,\n",
    "        'max_depth': 8,\n",
    "        'min_child_weight': 12.496270561250991,\n",
    "        'subsample': 0.8428246186530037,\n",
    "        'colsample_bytree': 0.9999895920675128,\n",
    "        'gamma': 2.937438656382514,\n",
    "        'lambda': 1.5752155403171972,\n",
    "        'alpha': 0.4038060866963702\n",
    "    }\n"
   ]
  },
  {
   "cell_type": "code",
   "execution_count": null,
   "id": "743d5c4c",
   "metadata": {
    "execution": {
     "iopub.execute_input": "2024-12-09T18:16:55.241304Z",
     "iopub.status.busy": "2024-12-09T18:16:55.240196Z",
     "iopub.status.idle": "2024-12-09T18:16:55.246167Z",
     "shell.execute_reply": "2024-12-09T18:16:55.245357Z"
    },
    "papermill": {
     "duration": 0.035916,
     "end_time": "2024-12-09T18:16:55.247704",
     "exception": false,
     "start_time": "2024-12-09T18:16:55.211788",
     "status": "completed"
    },
    "tags": []
   },
   "outputs": [],
   "source": [
    "xgb_best_params"
   ]
  },
  {
   "cell_type": "code",
   "execution_count": null,
   "id": "b1e870ef",
   "metadata": {
    "execution": {
     "iopub.execute_input": "2024-12-09T18:16:55.304289Z",
     "iopub.status.busy": "2024-12-09T18:16:55.303586Z",
     "iopub.status.idle": "2024-12-09T18:16:55.307059Z",
     "shell.execute_reply": "2024-12-09T18:16:55.306445Z"
    },
    "papermill": {
     "duration": 0.033579,
     "end_time": "2024-12-09T18:16:55.308644",
     "exception": false,
     "start_time": "2024-12-09T18:16:55.275065",
     "status": "completed"
    },
    "tags": []
   },
   "outputs": [],
   "source": [
    "xgb_best_params[\"n_estimators\"] = 10000"
   ]
  },
  {
   "cell_type": "markdown",
   "id": "912bf058",
   "metadata": {
    "papermill": {
     "duration": 0.032715,
     "end_time": "2024-12-09T18:16:55.371337",
     "exception": false,
     "start_time": "2024-12-09T18:16:55.338622",
     "status": "completed"
    },
    "tags": []
   },
   "source": [
    "# Model Training"
   ]
  },
  {
   "cell_type": "code",
   "execution_count": null,
   "id": "d9ed4579",
   "metadata": {
    "execution": {
     "iopub.execute_input": "2024-12-09T18:16:55.437662Z",
     "iopub.status.busy": "2024-12-09T18:16:55.437325Z",
     "iopub.status.idle": "2024-12-09T18:27:05.981939Z",
     "shell.execute_reply": "2024-12-09T18:27:05.980966Z"
    },
    "papermill": {
     "duration": 610.608804,
     "end_time": "2024-12-09T18:27:06.012560",
     "exception": false,
     "start_time": "2024-12-09T18:16:55.403756",
     "status": "completed"
    },
    "tags": []
   },
   "outputs": [],
   "source": [
    "# Initialize a CatBoost Regressor\n",
    "model = XGBRegressorWrapper(**xgb_best_params)\n",
    "\n",
    "# Use the train_model function to train and evaluate the model\n",
    "results = train_model_cv(\n",
    "    model=model,\n",
    "    X_train=X_train,\n",
    "    y_train=y_train,\n",
    "    X_test=X_test,\n",
    "    X_orig=X_orig,\n",
    "    early_stopping_rounds=100,\n",
    "    cv_splits=7\n",
    ")"
   ]
  },
  {
   "cell_type": "code",
   "execution_count": null,
   "id": "76c5d6d4",
   "metadata": {
    "execution": {
     "iopub.execute_input": "2024-12-09T18:27:06.069815Z",
     "iopub.status.busy": "2024-12-09T18:27:06.069512Z",
     "iopub.status.idle": "2024-12-09T18:27:06.074853Z",
     "shell.execute_reply": "2024-12-09T18:27:06.074183Z"
    },
    "papermill": {
     "duration": 0.035663,
     "end_time": "2024-12-09T18:27:06.076253",
     "exception": false,
     "start_time": "2024-12-09T18:27:06.040590",
     "status": "completed"
    },
    "tags": []
   },
   "outputs": [],
   "source": [
    "mean_score = np.mean(results[\"cv_scores\"])\n",
    "std_score = np.std(results[\"cv_scores\"])\n",
    "\n",
    "# Prepare the data\n",
    "data = {\n",
    "    \"mean_score\": mean_score,\n",
    "    \"std_score\": std_score\n",
    "}\n",
    "\n",
    "# Save to a JSON file\n",
    "with open(\"score.json\", \"w\") as json_file:\n",
    "    json.dump(data, json_file, indent=4)  # Use `indent` for readability"
   ]
  },
  {
   "cell_type": "code",
   "execution_count": null,
   "id": "bba76357",
   "metadata": {
    "execution": {
     "iopub.execute_input": "2024-12-09T18:27:06.134109Z",
     "iopub.status.busy": "2024-12-09T18:27:06.133614Z",
     "iopub.status.idle": "2024-12-09T18:27:09.560189Z",
     "shell.execute_reply": "2024-12-09T18:27:09.559255Z"
    },
    "papermill": {
     "duration": 3.457335,
     "end_time": "2024-12-09T18:27:09.561802",
     "exception": false,
     "start_time": "2024-12-09T18:27:06.104467",
     "status": "completed"
    },
    "tags": []
   },
   "outputs": [],
   "source": [
    "import joblib\n",
    "\n",
    "# Save OOF predictions as a CSV file\n",
    "oof_preds_df = pd.DataFrame({\"oof_preds\": results[\"oof_preds\"]})\n",
    "oof_preds_df.to_csv(\"oof_preds\", index=False)\n",
    "print(\"OOF predictions saved to oof_preds.csv.\")\n",
    "\n",
    "test_preds_df = pd.DataFrame({\"test_preds\": results[\"test_preds\"]})\n",
    "test_preds_df.to_csv(\"test_preds\", index=False)\n",
    "print(\"Test predictions saved to test_preds.csv.\")\n",
    "\n",
    "joblib.dump(results[\"models\"], \"xgboost_models.pkl\")"
   ]
  },
  {
   "cell_type": "markdown",
   "id": "607e1999",
   "metadata": {
    "papermill": {
     "duration": 0.030518,
     "end_time": "2024-12-09T18:27:09.621403",
     "exception": false,
     "start_time": "2024-12-09T18:27:09.590885",
     "status": "completed"
    },
    "tags": []
   },
   "source": [
    "# Submission"
   ]
  },
  {
   "cell_type": "code",
   "execution_count": null,
   "id": "221fab64",
   "metadata": {
    "execution": {
     "iopub.execute_input": "2024-12-09T18:27:09.684611Z",
     "iopub.status.busy": "2024-12-09T18:27:09.683845Z",
     "iopub.status.idle": "2024-12-09T18:27:11.039199Z",
     "shell.execute_reply": "2024-12-09T18:27:11.038523Z"
    },
    "papermill": {
     "duration": 1.388863,
     "end_time": "2024-12-09T18:27:11.041168",
     "exception": false,
     "start_time": "2024-12-09T18:27:09.652305",
     "status": "completed"
    },
    "tags": []
   },
   "outputs": [],
   "source": [
    "y_pred = np.expm1(results['test_preds'])\n",
    "\n",
    "submission = pd.DataFrame({\n",
    "    'id': X_test.index,  \n",
    "    'Premium Amount': y_pred\n",
    "})\n",
    "\n",
    "submission.to_csv('submission.csv', index=False)"
   ]
  },
  {
   "cell_type": "code",
   "execution_count": null,
   "id": "9fdb004a",
   "metadata": {
    "papermill": {
     "duration": 0.028392,
     "end_time": "2024-12-09T18:27:11.099295",
     "exception": false,
     "start_time": "2024-12-09T18:27:11.070903",
     "status": "completed"
    },
    "tags": []
   },
   "outputs": [],
   "source": [
    "import os\n",
    "from IPython.display import display, Javascript\n",
    "\n",
    "# Define your message and file paths\n",
    "COMP_NAME = \"playground-series-s4e12\"\n",
    "FILE_PATH = \"submission.csv\"\n",
    "\n",
    "SUBMIT_MESSAGE = f\"Clean XGB: Mean score: {mean_score:.4f} +/- {std_score:.4f}\"\n",
    "\n",
    "# Submit to Kaggle\n",
    "if SUBMIT_TO_KAGGLE: \n",
    "    os.system(f'kaggle competitions submit -c {COMP_NAME} -f {FILE_PATH} -m \"{SUBMIT_MESSAGE}\"')\n",
    "\n",
    "# Git commit and push\n",
    "GIT_COMMIT_MESSAGE = f\"Submission: {SUBMIT_MESSAGE}\"\n",
    "\n",
    "# save notebook\n",
    "# display(Javascript('IPython.notebook.save_checkpoint()'))\n",
    "\n",
    "# Commands for Git\n",
    "os.system(\"git add .\")  # Stage all changes (adjust if you only want specific files)\n",
    "os.system(f'git commit -m \"{GIT_COMMIT_MESSAGE}\"')  # Commit changes with a message\n",
    "os.system(\"git push origin main\")  # Push to the main branch (change branch if needed)"
   ]
  },
  {
   "cell_type": "code",
   "execution_count": null,
   "id": "a2683386",
   "metadata": {},
   "outputs": [],
   "source": []
  }
 ],
 "metadata": {
  "kaggle": {
   "accelerator": "gpu",
   "dataSources": [
    {
     "databundleVersionId": 10305135,
     "sourceId": 84896,
     "sourceType": "competition"
    },
    {
     "datasetId": 5547076,
     "sourceId": 9178166,
     "sourceType": "datasetVersion"
    },
    {
     "sourceId": 211948002,
     "sourceType": "kernelVersion"
    }
   ],
   "dockerImageVersionId": 30805,
   "isGpuEnabled": true,
   "isInternetEnabled": true,
   "language": "python",
   "sourceType": "notebook"
  },
  "kernelspec": {
   "display_name": "kaggle_env",
   "language": "python",
   "name": "python3"
  },
  "language_info": {
   "codemirror_mode": {
    "name": "ipython",
    "version": 3
   },
   "file_extension": ".py",
   "mimetype": "text/x-python",
   "name": "python",
   "nbconvert_exporter": "python",
   "pygments_lexer": "ipython3",
   "version": "3.10.16"
  },
  "papermill": {
   "default_parameters": {},
   "duration": 18880.993655,
   "end_time": "2024-12-09T18:27:12.649632",
   "environment_variables": {},
   "exception": null,
   "input_path": "__notebook__.ipynb",
   "output_path": "__notebook__.ipynb",
   "parameters": {},
   "start_time": "2024-12-09T13:12:31.655977",
   "version": "2.6.0"
  }
 },
 "nbformat": 4,
 "nbformat_minor": 5
}
