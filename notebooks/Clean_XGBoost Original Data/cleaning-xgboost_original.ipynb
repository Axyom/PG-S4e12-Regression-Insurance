{
 "cells": [
  {
   "cell_type": "code",
   "execution_count": 1,
   "id": "615cf318",
   "metadata": {
    "_cell_guid": "b1076dfc-b9ad-4769-8c92-a6c4dae69d19",
    "_uuid": "8f2839f25d086af736a60e9eeb907d3b93b6e0e5",
    "execution": {
     "iopub.execute_input": "2024-12-09T13:12:34.047888Z",
     "iopub.status.busy": "2024-12-09T13:12:34.047597Z",
     "iopub.status.idle": "2024-12-09T13:12:34.716436Z",
     "shell.execute_reply": "2024-12-09T13:12:34.715768Z"
    },
    "papermill": {
     "duration": 0.676501,
     "end_time": "2024-12-09T13:12:34.718408",
     "exception": false,
     "start_time": "2024-12-09T13:12:34.041907",
     "status": "completed"
    },
    "tags": []
   },
   "outputs": [],
   "source": [
    "import numpy as np\n",
    "import pandas as pd\n",
    "import os\n",
    "import pandas as pd\n",
    "import sys"
   ]
  },
  {
   "cell_type": "markdown",
   "id": "f1522c74",
   "metadata": {
    "papermill": {
     "duration": 0.004851,
     "end_time": "2024-12-09T13:12:34.727632",
     "exception": false,
     "start_time": "2024-12-09T13:12:34.722781",
     "status": "completed"
    },
    "tags": []
   },
   "source": [
    "# Config"
   ]
  },
  {
   "cell_type": "code",
   "execution_count": 2,
   "id": "25bf2667",
   "metadata": {
    "execution": {
     "iopub.execute_input": "2024-12-09T13:12:34.736529Z",
     "iopub.status.busy": "2024-12-09T13:12:34.736123Z",
     "iopub.status.idle": "2024-12-09T13:12:34.740000Z",
     "shell.execute_reply": "2024-12-09T13:12:34.739354Z"
    },
    "papermill": {
     "duration": 0.01006,
     "end_time": "2024-12-09T13:12:34.741432",
     "exception": false,
     "start_time": "2024-12-09T13:12:34.731372",
     "status": "completed"
    },
    "tags": []
   },
   "outputs": [],
   "source": [
    "HYPER_OPT = True \n",
    "HYPER_OPT_TIME = 3600*11\n",
    "USE_ORIGINAL_DATA = True \n",
    "SUBMIT_TO_KAGGLE = False"
   ]
  },
  {
   "cell_type": "code",
   "execution_count": 3,
   "id": "636ad8af",
   "metadata": {},
   "outputs": [],
   "source": [
    "# Define the base directory (where the notebook is running)\n",
    "base_dir = os.path.abspath(os.path.join(os.getcwd(), \"..\", \"..\"))\n",
    "\n",
    "# Define the data directory\n",
    "data_dir = os.path.join(base_dir, \"data\")\n",
    "\n",
    "model_dir = os.path.join(base_dir, \"models\")\n",
    "\n",
    "sys.path.append(base_dir)"
   ]
  },
  {
   "cell_type": "markdown",
   "id": "7d1038ad",
   "metadata": {
    "papermill": {
     "duration": 0.0037,
     "end_time": "2024-12-09T13:12:34.787072",
     "exception": false,
     "start_time": "2024-12-09T13:12:34.783372",
     "status": "completed"
    },
    "tags": []
   },
   "source": [
    "# Data Extraction"
   ]
  },
  {
   "cell_type": "code",
   "execution_count": 4,
   "id": "743efa5b",
   "metadata": {
    "execution": {
     "iopub.execute_input": "2024-12-09T13:12:34.795909Z",
     "iopub.status.busy": "2024-12-09T13:12:34.795667Z",
     "iopub.status.idle": "2024-12-09T13:12:43.929071Z",
     "shell.execute_reply": "2024-12-09T13:12:43.928139Z"
    },
    "papermill": {
     "duration": 9.140256,
     "end_time": "2024-12-09T13:12:43.931157",
     "exception": false,
     "start_time": "2024-12-09T13:12:34.790901",
     "status": "completed"
    },
    "tags": []
   },
   "outputs": [],
   "source": [
    "\n",
    "# # Construct file paths\n",
    "# train_file = os.path.join(data_dir, \"train.csv\")\n",
    "# test_file = os.path.join(data_dir, \"test.csv\")\n",
    "# original_file = os.path.join(data_dir, \"Insurance Premium Prediction Dataset.csv\")\n",
    "\n",
    "# # Load the datasets\n",
    "# train_df = pd.read_csv(train_file, index_col=\"id\")\n",
    "# test_df = pd.read_csv(test_file, index_col=\"id\")\n",
    "# original_df = pd.read_csv(original_file)"
   ]
  },
  {
   "cell_type": "code",
   "execution_count": 5,
   "id": "0d745aba",
   "metadata": {},
   "outputs": [],
   "source": [
    "from axyom_utilities.data_extraction import extract_data\n",
    "\n",
    "X_train, y_train, X_test, X_orig, y_orig = extract_data(data_dir, USE_ORIGINAL_DATA)"
   ]
  },
  {
   "cell_type": "markdown",
   "id": "300f27ae",
   "metadata": {
    "papermill": {
     "duration": 0.003676,
     "end_time": "2024-12-09T13:12:43.939293",
     "exception": false,
     "start_time": "2024-12-09T13:12:43.935617",
     "status": "completed"
    },
    "tags": []
   },
   "source": [
    "# Data Cleaning"
   ]
  },
  {
   "cell_type": "code",
   "execution_count": 6,
   "id": "9d42d2df",
   "metadata": {
    "execution": {
     "iopub.execute_input": "2024-12-09T13:12:43.995169Z",
     "iopub.status.busy": "2024-12-09T13:12:43.994928Z",
     "iopub.status.idle": "2024-12-09T13:12:50.925060Z",
     "shell.execute_reply": "2024-12-09T13:12:50.924366Z"
    },
    "papermill": {
     "duration": 6.936729,
     "end_time": "2024-12-09T13:12:50.926967",
     "exception": false,
     "start_time": "2024-12-09T13:12:43.990238",
     "status": "completed"
    },
    "tags": []
   },
   "outputs": [],
   "source": [
    "from axyom_utilities.preprocessing import preprocess \n",
    "\n",
    "#original_df = original_df.dropna(subset=[\"Premium Amount\"])\n",
    "\n",
    "# train_df = preprocess(train_df)\n",
    "# test_df = preprocess(test_df)\n",
    "# original_df = preprocess(original_df)\n",
    "\n",
    "X_train = preprocess(X_train)\n",
    "X_test = preprocess(X_test)\n",
    "if USE_ORIGINAL_DATA:\n",
    "    X_orig = preprocess(X_orig)"
   ]
  },
  {
   "cell_type": "markdown",
   "id": "2bfe1a39",
   "metadata": {
    "papermill": {
     "duration": 0.003711,
     "end_time": "2024-12-09T13:12:52.399442",
     "exception": false,
     "start_time": "2024-12-09T13:12:52.395731",
     "status": "completed"
    },
    "tags": []
   },
   "source": [
    "# HyperOpt"
   ]
  },
  {
   "cell_type": "code",
   "execution_count": 7,
   "id": "63616760",
   "metadata": {
    "execution": {
     "iopub.execute_input": "2024-12-09T13:12:52.408413Z",
     "iopub.status.busy": "2024-12-09T13:12:52.407769Z",
     "iopub.status.idle": "2024-12-09T18:16:55.180521Z",
     "shell.execute_reply": "2024-12-09T18:16:55.179660Z"
    },
    "papermill": {
     "duration": 18242.779653,
     "end_time": "2024-12-09T18:16:55.182810",
     "exception": false,
     "start_time": "2024-12-09T13:12:52.403157",
     "status": "completed"
    },
    "tags": []
   },
   "outputs": [
    {
     "name": "stderr",
     "output_type": "stream",
     "text": [
      "[I 2024-12-16 21:51:16,367] Using an existing study with name 'XGB_v1' instead of creating a new one.\n"
     ]
    },
    {
     "name": "stdout",
     "output_type": "stream",
     "text": [
      "Training fold 1...\n",
      "Fold 1 RMSE: 1.0499\n",
      "Training fold 2...\n",
      "Fold 2 RMSE: 1.0488\n",
      "Training fold 3...\n",
      "Fold 3 RMSE: 1.0473\n",
      "Training fold 4...\n",
      "Fold 4 RMSE: 1.0503\n",
      "Training fold 5...\n"
     ]
    },
    {
     "name": "stderr",
     "output_type": "stream",
     "text": [
      "[I 2024-12-16 21:53:29,427] Trial 2 finished with value: 1.048994163843117 and parameters: {'learning_rate': 0.05433350003437882, 'max_depth': 14, 'min_child_weight': 1.509804001525835, 'subsample': 0.8367148343488449, 'colsample_bytree': 0.9708747744678036, 'gamma': 0.06351598517383816, 'lambda': 0.04511809923805299, 'alpha': 0.0015676574662308934}. Best is trial 2 with value: 1.048994163843117.\n"
     ]
    },
    {
     "name": "stdout",
     "output_type": "stream",
     "text": [
      "Fold 5 RMSE: 1.0487\n",
      "Mean CV RMSE: 1.0490 ± 0.0010\n",
      "Training fold 1...\n",
      "Fold 1 RMSE: 1.0488\n",
      "Training fold 2...\n",
      "Fold 2 RMSE: 1.0477\n",
      "Training fold 3...\n",
      "Fold 3 RMSE: 1.0463\n",
      "Training fold 4...\n",
      "Fold 4 RMSE: 1.0488\n",
      "Training fold 5...\n",
      "Fold 5 RMSE: 1.0475\n",
      "Mean CV RMSE: 1.0478 ± 0.0009\n"
     ]
    },
    {
     "name": "stderr",
     "output_type": "stream",
     "text": [
      "[I 2024-12-16 22:26:00,832] Trial 3 finished with value: 1.0478290056562236 and parameters: {'learning_rate': 0.001768215377734423, 'max_depth': 12, 'min_child_weight': 0.008728853020978604, 'subsample': 0.8464925012884582, 'colsample_bytree': 0.5157352018243503, 'gamma': 3.5042237608299063, 'lambda': 0.014890607747597583, 'alpha': 1.2529040614881077}. Best is trial 3 with value: 1.0478290056562236.\n"
     ]
    },
    {
     "name": "stdout",
     "output_type": "stream",
     "text": [
      "Training fold 1...\n",
      "Fold 1 RMSE: 1.0549\n",
      "Training fold 2...\n",
      "Fold 2 RMSE: 1.0536\n",
      "Training fold 3...\n",
      "Fold 3 RMSE: 1.0522\n",
      "Training fold 4...\n",
      "Fold 4 RMSE: 1.0555\n",
      "Training fold 5...\n"
     ]
    },
    {
     "name": "stderr",
     "output_type": "stream",
     "text": [
      "[I 2024-12-16 22:42:36,427] Trial 4 finished with value: 1.0540149557096832 and parameters: {'learning_rate': 0.0010295684202914674, 'max_depth': 8, 'min_child_weight': 0.003321757899981517, 'subsample': 0.5486009372170182, 'colsample_bytree': 0.4139417795433424, 'gamma': 3.6366057711758453, 'lambda': 0.02291605035157054, 'alpha': 0.006166129274351907}. Best is trial 3 with value: 1.0478290056562236.\n"
     ]
    },
    {
     "name": "stdout",
     "output_type": "stream",
     "text": [
      "Fold 5 RMSE: 1.0538\n",
      "Mean CV RMSE: 1.0540 ± 0.0011\n",
      "Training fold 1...\n",
      "Fold 1 RMSE: 1.0602\n",
      "Training fold 2...\n",
      "Fold 2 RMSE: 1.0588\n",
      "Training fold 3...\n",
      "Fold 3 RMSE: 1.0581\n",
      "Training fold 4...\n",
      "Fold 4 RMSE: 1.0609\n",
      "Training fold 5...\n"
     ]
    },
    {
     "name": "stderr",
     "output_type": "stream",
     "text": [
      "[I 2024-12-16 22:44:09,563] Trial 5 finished with value: 1.0593466521559864 and parameters: {'learning_rate': 0.17870968683687566, 'max_depth': 15, 'min_child_weight': 0.318876983451918, 'subsample': 0.5554791096213735, 'colsample_bytree': 0.7502875712951831, 'gamma': 1.6284532646680434, 'lambda': 3.594158746720598, 'alpha': 0.3203451159453505}. Best is trial 3 with value: 1.0478290056562236.\n"
     ]
    },
    {
     "name": "stdout",
     "output_type": "stream",
     "text": [
      "Fold 5 RMSE: 1.0588\n",
      "Mean CV RMSE: 1.0593 ± 0.0010\n",
      "Training fold 1...\n",
      "Fold 1 RMSE: 1.0510\n",
      "Training fold 2...\n",
      "Fold 2 RMSE: 1.0499\n",
      "Training fold 3...\n",
      "Fold 3 RMSE: 1.0489\n",
      "Training fold 4...\n",
      "Fold 4 RMSE: 1.0511\n",
      "Training fold 5...\n"
     ]
    },
    {
     "name": "stderr",
     "output_type": "stream",
     "text": [
      "[I 2024-12-16 22:45:08,919] Trial 6 finished with value: 1.0501439351811883 and parameters: {'learning_rate': 0.10677004453213144, 'max_depth': 12, 'min_child_weight': 0.09080655845269026, 'subsample': 0.8458283150473813, 'colsample_bytree': 0.6217578285385542, 'gamma': 0.375832719735959, 'lambda': 1.261165012072524, 'alpha': 0.007544613176679852}. Best is trial 3 with value: 1.0478290056562236.\n"
     ]
    },
    {
     "name": "stdout",
     "output_type": "stream",
     "text": [
      "Fold 5 RMSE: 1.0499\n",
      "Mean CV RMSE: 1.0501 ± 0.0008\n",
      "Training fold 1...\n",
      "Fold 1 RMSE: 1.0487\n",
      "Training fold 2...\n",
      "Fold 2 RMSE: 1.0475\n",
      "Training fold 3...\n",
      "Fold 3 RMSE: 1.0460\n",
      "Training fold 4...\n",
      "Fold 4 RMSE: 1.0485\n",
      "Training fold 5...\n",
      "Fold 5 RMSE: 1.0473\n",
      "Mean CV RMSE: 1.0476 ± 0.0010\n"
     ]
    },
    {
     "name": "stderr",
     "output_type": "stream",
     "text": [
      "[I 2024-12-16 23:32:24,295] Trial 7 finished with value: 1.0475861522959087 and parameters: {'learning_rate': 0.001572316850677651, 'max_depth': 11, 'min_child_weight': 0.005273622710529421, 'subsample': 0.8970790799514776, 'colsample_bytree': 0.5148211407627984, 'gamma': 1.352044768751754, 'lambda': 0.17544366233758285, 'alpha': 4.069317345142579}. Best is trial 7 with value: 1.0475861522959087.\n"
     ]
    },
    {
     "name": "stdout",
     "output_type": "stream",
     "text": [
      "Training fold 1...\n",
      "Fold 1 RMSE: 1.0525\n",
      "Training fold 2...\n",
      "Fold 2 RMSE: 1.0516\n",
      "Training fold 3...\n",
      "Fold 3 RMSE: 1.0500\n",
      "Training fold 4...\n",
      "Fold 4 RMSE: 1.0520\n",
      "Training fold 5...\n"
     ]
    },
    {
     "name": "stderr",
     "output_type": "stream",
     "text": [
      "[I 2024-12-16 23:33:00,185] Trial 8 finished with value: 1.0514551495253919 and parameters: {'learning_rate': 0.1288199143020136, 'max_depth': 11, 'min_child_weight': 0.0706208895177166, 'subsample': 0.40973230799046567, 'colsample_bytree': 0.5795280231067159, 'gamma': 1.7688910936390445, 'lambda': 3.749822076655429, 'alpha': 1.394910288740228}. Best is trial 7 with value: 1.0475861522959087.\n"
     ]
    },
    {
     "name": "stdout",
     "output_type": "stream",
     "text": [
      "Fold 5 RMSE: 1.0512\n",
      "Mean CV RMSE: 1.0515 ± 0.0008\n",
      "Training fold 1...\n",
      "Fold 1 RMSE: 1.0503\n",
      "Training fold 2...\n",
      "Fold 2 RMSE: 1.0490\n",
      "Training fold 3...\n",
      "Fold 3 RMSE: 1.0480\n",
      "Training fold 4...\n",
      "Fold 4 RMSE: 1.0502\n",
      "Training fold 5...\n"
     ]
    },
    {
     "name": "stderr",
     "output_type": "stream",
     "text": [
      "[I 2024-12-16 23:33:37,965] Trial 9 finished with value: 1.0493600828501675 and parameters: {'learning_rate': 0.08143647168295229, 'max_depth': 11, 'min_child_weight': 4.431174429966464, 'subsample': 0.6785848861398642, 'colsample_bytree': 0.5090620994307342, 'gamma': 4.420128023795511, 'lambda': 0.7501862009222005, 'alpha': 0.48699578287890244}. Best is trial 7 with value: 1.0475861522959087.\n"
     ]
    },
    {
     "name": "stdout",
     "output_type": "stream",
     "text": [
      "Fold 5 RMSE: 1.0494\n",
      "Mean CV RMSE: 1.0494 ± 0.0008\n",
      "Training fold 1...\n",
      "Fold 1 RMSE: 1.0474\n",
      "Training fold 2...\n",
      "Fold 2 RMSE: 1.0463\n",
      "Training fold 3...\n",
      "Fold 3 RMSE: 1.0449\n",
      "Training fold 4...\n",
      "Fold 4 RMSE: 1.0475\n",
      "Training fold 5...\n",
      "Fold 5 RMSE: 1.0462\n",
      "Mean CV RMSE: 1.0465 ± 0.0009\n"
     ]
    },
    {
     "name": "stderr",
     "output_type": "stream",
     "text": [
      "[I 2024-12-16 23:43:56,586] Trial 10 finished with value: 1.04645564144077 and parameters: {'learning_rate': 0.004320551911885695, 'max_depth': 11, 'min_child_weight': 0.0011948540563670102, 'subsample': 0.5409962960406868, 'colsample_bytree': 0.7067027866999082, 'gamma': 1.460046202059528, 'lambda': 0.10175928165655608, 'alpha': 0.09842207562639121}. Best is trial 10 with value: 1.04645564144077.\n"
     ]
    },
    {
     "name": "stdout",
     "output_type": "stream",
     "text": [
      "Training fold 1...\n",
      "Fold 1 RMSE: 1.0464\n",
      "Training fold 2...\n",
      "Fold 2 RMSE: 1.0453\n",
      "Training fold 3...\n",
      "Fold 3 RMSE: 1.0440\n",
      "Training fold 4...\n",
      "Fold 4 RMSE: 1.0464\n",
      "Training fold 5...\n",
      "Fold 5 RMSE: 1.0453\n",
      "Mean CV RMSE: 1.0455 ± 0.0009\n"
     ]
    },
    {
     "name": "stderr",
     "output_type": "stream",
     "text": [
      "[I 2024-12-16 23:55:56,057] Trial 11 finished with value: 1.0454830269442963 and parameters: {'learning_rate': 0.0018074015405110902, 'max_depth': 11, 'min_child_weight': 35.82538209022429, 'subsample': 0.8430826729425029, 'colsample_bytree': 0.8317303646698226, 'gamma': 4.465216932504686, 'lambda': 7.090856965711639, 'alpha': 0.00614046006689163}. Best is trial 11 with value: 1.0454830269442963.\n"
     ]
    },
    {
     "name": "stdout",
     "output_type": "stream",
     "text": [
      "Training fold 1...\n",
      "Fold 1 RMSE: 1.0466\n",
      "Training fold 2...\n",
      "Fold 2 RMSE: 1.0454\n",
      "Training fold 3...\n",
      "Fold 3 RMSE: 1.0441\n",
      "Training fold 4...\n",
      "Fold 4 RMSE: 1.0467\n",
      "Training fold 5...\n"
     ]
    },
    {
     "name": "stderr",
     "output_type": "stream",
     "text": [
      "[I 2024-12-16 23:57:09,406] Trial 12 finished with value: 1.045651103880564 and parameters: {'learning_rate': 0.009400945131082061, 'max_depth': 8, 'min_child_weight': 17.66047343840021, 'subsample': 0.9713920422846007, 'colsample_bytree': 0.8892753632074072, 'gamma': 4.866253783371921, 'lambda': 0.004611852426900528, 'alpha': 0.03684461480788173}. Best is trial 11 with value: 1.0454830269442963.\n"
     ]
    },
    {
     "name": "stdout",
     "output_type": "stream",
     "text": [
      "Fold 5 RMSE: 1.0455\n",
      "Mean CV RMSE: 1.0457 ± 0.0010\n",
      "Training fold 1...\n",
      "Fold 1 RMSE: 1.0466\n",
      "Training fold 2...\n",
      "Fold 2 RMSE: 1.0454\n",
      "Training fold 3...\n",
      "Fold 3 RMSE: 1.0441\n",
      "Training fold 4...\n",
      "Fold 4 RMSE: 1.0467\n",
      "Training fold 5...\n"
     ]
    },
    {
     "name": "stderr",
     "output_type": "stream",
     "text": [
      "[I 2024-12-16 23:58:08,759] Trial 13 finished with value: 1.0456640324384179 and parameters: {'learning_rate': 0.011488727419687842, 'max_depth': 8, 'min_child_weight': 20.344596524445297, 'subsample': 0.9849367826553198, 'colsample_bytree': 0.8654303243924336, 'gamma': 4.767219514134811, 'lambda': 0.0020077924453237683, 'alpha': 0.03433674363313339}. Best is trial 11 with value: 1.0454830269442963.\n"
     ]
    },
    {
     "name": "stdout",
     "output_type": "stream",
     "text": [
      "Fold 5 RMSE: 1.0455\n",
      "Mean CV RMSE: 1.0457 ± 0.0010\n",
      "Training fold 1...\n",
      "Fold 1 RMSE: 1.0465\n",
      "Training fold 2...\n",
      "Fold 2 RMSE: 1.0454\n",
      "Training fold 3...\n",
      "Fold 3 RMSE: 1.0440\n",
      "Training fold 4...\n",
      "Fold 4 RMSE: 1.0466\n",
      "Training fold 5...\n"
     ]
    },
    {
     "name": "stderr",
     "output_type": "stream",
     "text": [
      "[I 2024-12-16 23:59:24,948] Trial 14 finished with value: 1.045547317991709 and parameters: {'learning_rate': 0.011587069462410312, 'max_depth': 9, 'min_child_weight': 39.62468870296583, 'subsample': 0.979599616505807, 'colsample_bytree': 0.849454630061222, 'gamma': 3.8295240444484078, 'lambda': 0.001027665566481729, 'alpha': 0.01732901003671875}. Best is trial 11 with value: 1.0454830269442963.\n"
     ]
    },
    {
     "name": "stdout",
     "output_type": "stream",
     "text": [
      "Fold 5 RMSE: 1.0453\n",
      "Mean CV RMSE: 1.0455 ± 0.0010\n",
      "Training fold 1...\n",
      "Fold 1 RMSE: 1.0468\n",
      "Training fold 2...\n",
      "Fold 2 RMSE: 1.0457\n",
      "Training fold 3...\n",
      "Fold 3 RMSE: 1.0443\n",
      "Training fold 4...\n",
      "Fold 4 RMSE: 1.0468\n",
      "Training fold 5...\n"
     ]
    },
    {
     "name": "stderr",
     "output_type": "stream",
     "text": [
      "[I 2024-12-17 00:00:05,759] Trial 15 finished with value: 1.0458314066192373 and parameters: {'learning_rate': 0.03194696217941441, 'max_depth': 9, 'min_child_weight': 42.02046319929978, 'subsample': 0.7439418577471766, 'colsample_bytree': 0.8155922713829251, 'gamma': 3.600005995752612, 'lambda': 0.0014881972229552932, 'alpha': 0.0011784748227089113}. Best is trial 11 with value: 1.0454830269442963.\n"
     ]
    },
    {
     "name": "stdout",
     "output_type": "stream",
     "text": [
      "Fold 5 RMSE: 1.0456\n",
      "Mean CV RMSE: 1.0458 ± 0.0010\n",
      "Training fold 1...\n",
      "Fold 1 RMSE: 1.0464\n",
      "Training fold 2...\n",
      "Fold 2 RMSE: 1.0453\n",
      "Training fold 3...\n",
      "Fold 3 RMSE: 1.0439\n",
      "Training fold 4...\n",
      "Fold 4 RMSE: 1.0463\n",
      "Training fold 5...\n"
     ]
    },
    {
     "name": "stderr",
     "output_type": "stream",
     "text": [
      "[I 2024-12-17 00:05:38,734] Trial 16 finished with value: 1.0454291619134592 and parameters: {'learning_rate': 0.003742750014416757, 'max_depth': 10, 'min_child_weight': 3.627068843726137, 'subsample': 0.7675192241268168, 'colsample_bytree': 0.9613435327497694, 'gamma': 2.707664369008234, 'lambda': 0.49608798503256685, 'alpha': 0.008035116498791017}. Best is trial 16 with value: 1.0454291619134592.\n"
     ]
    },
    {
     "name": "stdout",
     "output_type": "stream",
     "text": [
      "Fold 5 RMSE: 1.0452\n",
      "Mean CV RMSE: 1.0454 ± 0.0009\n",
      "Training fold 1...\n",
      "Fold 1 RMSE: 1.0467\n",
      "Training fold 2...\n",
      "Fold 2 RMSE: 1.0457\n",
      "Training fold 3...\n",
      "Fold 3 RMSE: 1.0442\n",
      "Training fold 4...\n",
      "Fold 4 RMSE: 1.0466\n",
      "Training fold 5...\n",
      "Fold 5 RMSE: 1.0455\n",
      "Mean CV RMSE: 1.0458 ± 0.0009\n"
     ]
    },
    {
     "name": "stderr",
     "output_type": "stream",
     "text": [
      "[I 2024-12-17 00:18:40,824] Trial 17 finished with value: 1.0457726111314543 and parameters: {'learning_rate': 0.0033720333844194546, 'max_depth': 13, 'min_child_weight': 3.8662364637749365, 'subsample': 0.7174339800218963, 'colsample_bytree': 0.9646283252073747, 'gamma': 2.69806031887569, 'lambda': 7.973455513997151, 'alpha': 0.003650475710082196}. Best is trial 16 with value: 1.0454291619134592.\n"
     ]
    },
    {
     "name": "stdout",
     "output_type": "stream",
     "text": [
      "Training fold 1...\n",
      "Fold 1 RMSE: 1.0467\n",
      "Training fold 2...\n",
      "Fold 2 RMSE: 1.0456\n",
      "Training fold 3...\n",
      "Fold 3 RMSE: 1.0443\n",
      "Training fold 4...\n",
      "Fold 4 RMSE: 1.0468\n",
      "Training fold 5...\n",
      "Fold 5 RMSE: 1.0456\n",
      "Mean CV RMSE: 1.0458 ± 0.0009\n"
     ]
    },
    {
     "name": "stderr",
     "output_type": "stream",
     "text": [
      "[I 2024-12-17 00:24:42,730] Trial 18 finished with value: 1.0457968961264168 and parameters: {'learning_rate': 0.004505593226052351, 'max_depth': 10, 'min_child_weight': 0.9842447446595114, 'subsample': 0.6423197483492797, 'colsample_bytree': 0.7804837291963207, 'gamma': 2.7826260703713097, 'lambda': 0.5556358324188969, 'alpha': 0.016193731171747397}. Best is trial 16 with value: 1.0454291619134592.\n"
     ]
    },
    {
     "name": "stdout",
     "output_type": "stream",
     "text": [
      "Training fold 1...\n",
      "Fold 1 RMSE: 1.0464\n",
      "Training fold 2...\n",
      "Fold 2 RMSE: 1.0453\n",
      "Training fold 3...\n",
      "Fold 3 RMSE: 1.0439\n",
      "Training fold 4...\n",
      "Fold 4 RMSE: 1.0464\n",
      "Training fold 5...\n",
      "Fold 5 RMSE: 1.0452\n",
      "Mean CV RMSE: 1.0454 ± 0.0009\n"
     ]
    },
    {
     "name": "stderr",
     "output_type": "stream",
     "text": [
      "[I 2024-12-17 00:32:22,441] Trial 19 finished with value: 1.045434280680779 and parameters: {'learning_rate': 0.002670769300447097, 'max_depth': 10, 'min_child_weight': 7.511147296525409, 'subsample': 0.784507025193432, 'colsample_bytree': 0.9238059460710545, 'gamma': 2.286630477666964, 'lambda': 0.30429681760032806, 'alpha': 0.003413464312779463}. Best is trial 16 with value: 1.0454291619134592.\n"
     ]
    },
    {
     "name": "stdout",
     "output_type": "stream",
     "text": [
      "Training fold 1...\n",
      "Fold 1 RMSE: 1.0464\n",
      "Training fold 2...\n",
      "Fold 2 RMSE: 1.0453\n",
      "Training fold 3...\n",
      "Fold 3 RMSE: 1.0439\n",
      "Training fold 4...\n",
      "Fold 4 RMSE: 1.0464\n",
      "Training fold 5...\n"
     ]
    },
    {
     "name": "stderr",
     "output_type": "stream",
     "text": [
      "[I 2024-12-17 00:36:16,085] Trial 20 finished with value: 1.0454636676126154 and parameters: {'learning_rate': 0.005760770635434498, 'max_depth': 10, 'min_child_weight': 6.599922874593271, 'subsample': 0.7502732404046113, 'colsample_bytree': 0.9193583925083266, 'gamma': 2.178470023546367, 'lambda': 0.2875779943678673, 'alpha': 0.09413389736675846}. Best is trial 16 with value: 1.0454291619134592.\n"
     ]
    },
    {
     "name": "stdout",
     "output_type": "stream",
     "text": [
      "Fold 5 RMSE: 1.0453\n",
      "Mean CV RMSE: 1.0455 ± 0.0009\n",
      "Training fold 1...\n",
      "Fold 1 RMSE: 1.0465\n",
      "Training fold 2...\n",
      "Fold 2 RMSE: 1.0456\n",
      "Training fold 3...\n",
      "Fold 3 RMSE: 1.0443\n",
      "Training fold 4...\n",
      "Fold 4 RMSE: 1.0467\n",
      "Training fold 5...\n"
     ]
    },
    {
     "name": "stderr",
     "output_type": "stream",
     "text": [
      "[I 2024-12-17 00:37:15,680] Trial 21 finished with value: 1.045756527236213 and parameters: {'learning_rate': 0.0226585809832132, 'max_depth': 10, 'min_child_weight': 0.6845186003223416, 'subsample': 0.6161093577970366, 'colsample_bytree': 0.9936815577179293, 'gamma': 0.8483493067149817, 'lambda': 1.378295129564904, 'alpha': 0.0023956030357665057}. Best is trial 16 with value: 1.0454291619134592.\n"
     ]
    },
    {
     "name": "stdout",
     "output_type": "stream",
     "text": [
      "Fold 5 RMSE: 1.0456\n",
      "Mean CV RMSE: 1.0458 ± 0.0009\n",
      "Training fold 1...\n",
      "Fold 1 RMSE: 1.0463\n",
      "Training fold 2...\n",
      "Fold 2 RMSE: 1.0453\n",
      "Training fold 3...\n",
      "Fold 3 RMSE: 1.0439\n",
      "Training fold 4...\n",
      "Fold 4 RMSE: 1.0464\n",
      "Training fold 5...\n"
     ]
    },
    {
     "name": "stderr",
     "output_type": "stream",
     "text": [
      "[I 2024-12-17 00:42:28,424] Trial 22 finished with value: 1.0454026242735197 and parameters: {'learning_rate': 0.002920099556583298, 'max_depth': 9, 'min_child_weight': 9.195292520612849, 'subsample': 0.7934373349754068, 'colsample_bytree': 0.9335201324755311, 'gamma': 3.1120597386444615, 'lambda': 0.3025929088404199, 'alpha': 0.016417775580559877}. Best is trial 22 with value: 1.0454026242735197.\n"
     ]
    },
    {
     "name": "stdout",
     "output_type": "stream",
     "text": [
      "Fold 5 RMSE: 1.0452\n",
      "Mean CV RMSE: 1.0454 ± 0.0009\n",
      "Training fold 1...\n",
      "Fold 1 RMSE: 1.0463\n",
      "Training fold 2...\n",
      "Fold 2 RMSE: 1.0452\n",
      "Training fold 3...\n",
      "Fold 3 RMSE: 1.0438\n",
      "Training fold 4...\n",
      "Fold 4 RMSE: 1.0464\n",
      "Training fold 5...\n"
     ]
    },
    {
     "name": "stderr",
     "output_type": "stream",
     "text": [
      "[I 2024-12-17 00:48:44,180] Trial 23 finished with value: 1.0453837144565397 and parameters: {'learning_rate': 0.0026639994606664002, 'max_depth': 9, 'min_child_weight': 8.032436910591848, 'subsample': 0.7961012143398528, 'colsample_bytree': 0.9438323934559976, 'gamma': 2.988217950738047, 'lambda': 0.1715486590901371, 'alpha': 0.01517695217402667}. Best is trial 23 with value: 1.0453837144565397.\n"
     ]
    },
    {
     "name": "stdout",
     "output_type": "stream",
     "text": [
      "Fold 5 RMSE: 1.0452\n",
      "Mean CV RMSE: 1.0454 ± 0.0009\n",
      "Training fold 1...\n",
      "Fold 1 RMSE: 1.0464\n",
      "Training fold 2...\n",
      "Fold 2 RMSE: 1.0453\n",
      "Training fold 3...\n",
      "Fold 3 RMSE: 1.0439\n",
      "Training fold 4...\n",
      "Fold 4 RMSE: 1.0464\n",
      "Training fold 5...\n"
     ]
    },
    {
     "name": "stderr",
     "output_type": "stream",
     "text": [
      "[I 2024-12-17 00:51:22,132] Trial 24 finished with value: 1.0454402057828902 and parameters: {'learning_rate': 0.007102572897917363, 'max_depth': 9, 'min_child_weight': 2.6304597620591, 'subsample': 0.7903204017210748, 'colsample_bytree': 0.9314098699649346, 'gamma': 2.976680251558798, 'lambda': 0.07104383848777393, 'alpha': 0.0167600188290207}. Best is trial 23 with value: 1.0453837144565397.\n"
     ]
    },
    {
     "name": "stdout",
     "output_type": "stream",
     "text": [
      "Fold 5 RMSE: 1.0452\n",
      "Mean CV RMSE: 1.0454 ± 0.0009\n",
      "Training fold 1...\n",
      "Fold 1 RMSE: 1.0463\n",
      "Training fold 2...\n",
      "Fold 2 RMSE: 1.0452\n",
      "Training fold 3...\n",
      "Fold 3 RMSE: 1.0438\n",
      "Training fold 4...\n",
      "Fold 4 RMSE: 1.0463\n",
      "Training fold 5...\n"
     ]
    },
    {
     "name": "stderr",
     "output_type": "stream",
     "text": [
      "[I 2024-12-17 00:57:32,680] Trial 25 finished with value: 1.0453613381313727 and parameters: {'learning_rate': 0.0024562693815393744, 'max_depth': 9, 'min_child_weight': 11.687439486531844, 'subsample': 0.9199126034731623, 'colsample_bytree': 0.9972729656937434, 'gamma': 3.2628018782035406, 'lambda': 0.1606950464092559, 'alpha': 0.03388437535861661}. Best is trial 25 with value: 1.0453613381313727.\n"
     ]
    },
    {
     "name": "stdout",
     "output_type": "stream",
     "text": [
      "Fold 5 RMSE: 1.0452\n",
      "Mean CV RMSE: 1.0454 ± 0.0009\n",
      "Training fold 1...\n",
      "Fold 1 RMSE: 1.0463\n",
      "Training fold 2...\n",
      "Fold 2 RMSE: 1.0452\n",
      "Training fold 3...\n",
      "Fold 3 RMSE: 1.0438\n",
      "Training fold 4...\n",
      "Fold 4 RMSE: 1.0463\n",
      "Training fold 5...\n",
      "Fold 5 RMSE: 1.0452\n",
      "Mean CV RMSE: 1.0454 ± 0.0009\n"
     ]
    },
    {
     "name": "stderr",
     "output_type": "stream",
     "text": [
      "[I 2024-12-17 01:09:37,654] Trial 26 finished with value: 1.045368086644693 and parameters: {'learning_rate': 0.0011825877045558346, 'max_depth': 9, 'min_child_weight': 12.165192471966876, 'subsample': 0.9163310373731692, 'colsample_bytree': 0.9895889688089055, 'gamma': 3.265546893215477, 'lambda': 0.1379611338359896, 'alpha': 0.05028347705822193}. Best is trial 25 with value: 1.0453613381313727.\n"
     ]
    },
    {
     "name": "stdout",
     "output_type": "stream",
     "text": [
      "Training fold 1...\n",
      "Fold 1 RMSE: 1.0464\n",
      "Training fold 2...\n",
      "Fold 2 RMSE: 1.0453\n",
      "Training fold 3...\n",
      "Fold 3 RMSE: 1.0439\n",
      "Training fold 4...\n",
      "Fold 4 RMSE: 1.0465\n",
      "Training fold 5...\n"
     ]
    },
    {
     "name": "stderr",
     "output_type": "stream",
     "text": [
      "[I 2024-12-17 01:19:40,259] Trial 27 finished with value: 1.045505924140646 and parameters: {'learning_rate': 0.001346189554969161, 'max_depth': 8, 'min_child_weight': 14.079991975158913, 'subsample': 0.8914483485732925, 'colsample_bytree': 0.994980376640635, 'gamma': 3.3135769941675144, 'lambda': 0.02690087624762238, 'alpha': 0.05488379908771929}. Best is trial 25 with value: 1.0453613381313727.\n"
     ]
    },
    {
     "name": "stdout",
     "output_type": "stream",
     "text": [
      "Fold 5 RMSE: 1.0453\n",
      "Mean CV RMSE: 1.0455 ± 0.0009\n",
      "Training fold 1...\n",
      "Fold 1 RMSE: 1.0463\n",
      "Training fold 2...\n",
      "Fold 2 RMSE: 1.0453\n",
      "Training fold 3...\n",
      "Fold 3 RMSE: 1.0438\n",
      "Training fold 4...\n",
      "Fold 4 RMSE: 1.0464\n",
      "Training fold 5...\n"
     ]
    },
    {
     "name": "stderr",
     "output_type": "stream",
     "text": [
      "[I 2024-12-17 01:25:24,249] Trial 28 finished with value: 1.0453962273699466 and parameters: {'learning_rate': 0.0022863349106052038, 'max_depth': 9, 'min_child_weight': 0.43463274233090166, 'subsample': 0.9098653288486309, 'colsample_bytree': 0.9996437753505708, 'gamma': 4.133726658272436, 'lambda': 0.1412659563265008, 'alpha': 0.2656050681067541}. Best is trial 25 with value: 1.0453613381313727.\n"
     ]
    },
    {
     "name": "stdout",
     "output_type": "stream",
     "text": [
      "Fold 5 RMSE: 1.0452\n",
      "Mean CV RMSE: 1.0454 ± 0.0009\n",
      "Training fold 1...\n",
      "Fold 1 RMSE: 1.0464\n",
      "Training fold 2...\n",
      "Fold 2 RMSE: 1.0453\n",
      "Training fold 3...\n",
      "Fold 3 RMSE: 1.0438\n",
      "Training fold 4...\n",
      "Fold 4 RMSE: 1.0464\n",
      "Training fold 5...\n",
      "Fold 5 RMSE: 1.0452\n",
      "Mean CV RMSE: 1.0454 ± 0.0009\n"
     ]
    },
    {
     "name": "stderr",
     "output_type": "stream",
     "text": [
      "[I 2024-12-17 01:38:40,969] Trial 29 finished with value: 1.045418074348428 and parameters: {'learning_rate': 0.0010232807471275242, 'max_depth': 9, 'min_child_weight': 0.1591819650943226, 'subsample': 0.9296260895939548, 'colsample_bytree': 0.9015494001092689, 'gamma': 3.993464718652871, 'lambda': 0.00879320783222039, 'alpha': 0.05277342879843005}. Best is trial 25 with value: 1.0453613381313727.\n"
     ]
    },
    {
     "name": "stdout",
     "output_type": "stream",
     "text": [
      "Training fold 1...\n",
      "Fold 1 RMSE: 1.0478\n",
      "Training fold 2...\n",
      "Fold 2 RMSE: 1.0467\n",
      "Training fold 3...\n",
      "Fold 3 RMSE: 1.0456\n",
      "Training fold 4...\n",
      "Fold 4 RMSE: 1.0483\n",
      "Training fold 5...\n"
     ]
    },
    {
     "name": "stderr",
     "output_type": "stream",
     "text": [
      "[I 2024-12-17 01:38:53,352] Trial 30 finished with value: 1.0470374574626442 and parameters: {'learning_rate': 0.2942135021462481, 'max_depth': 8, 'min_child_weight': 2.034781599895151, 'subsample': 0.9198600052756488, 'colsample_bytree': 0.7406001424084412, 'gamma': 2.3418542933589093, 'lambda': 0.07406659280344369, 'alpha': 0.25880665101457284}. Best is trial 25 with value: 1.0453613381313727.\n"
     ]
    },
    {
     "name": "stdout",
     "output_type": "stream",
     "text": [
      "Fold 5 RMSE: 1.0467\n",
      "Mean CV RMSE: 1.0470 ± 0.0009\n",
      "Training fold 1...\n",
      "Fold 1 RMSE: 1.0482\n",
      "Training fold 2...\n",
      "Fold 2 RMSE: 1.0471\n",
      "Training fold 3...\n",
      "Fold 3 RMSE: 1.0457\n",
      "Training fold 4...\n",
      "Fold 4 RMSE: 1.0479\n",
      "Training fold 5...\n"
     ]
    },
    {
     "name": "stderr",
     "output_type": "stream",
     "text": [
      "[I 2024-12-17 01:42:51,370] Trial 31 finished with value: 1.0471479797346994 and parameters: {'learning_rate': 0.017133351125432572, 'max_depth': 13, 'min_child_weight': 1.300463398545396, 'subsample': 0.8691673109233743, 'colsample_bytree': 0.6477295330709955, 'gamma': 3.2081274045953285, 'lambda': 0.046141972414924445, 'alpha': 0.1359161956147205}. Best is trial 25 with value: 1.0453613381313727.\n"
     ]
    },
    {
     "name": "stdout",
     "output_type": "stream",
     "text": [
      "Fold 5 RMSE: 1.0468\n",
      "Mean CV RMSE: 1.0471 ± 0.0009\n",
      "Training fold 1...\n",
      "Fold 1 RMSE: 1.0473\n",
      "Training fold 2...\n",
      "Fold 2 RMSE: 1.0460\n",
      "Training fold 3...\n",
      "Fold 3 RMSE: 1.0446\n",
      "Training fold 4...\n",
      "Fold 4 RMSE: 1.0473\n",
      "Training fold 5...\n"
     ]
    },
    {
     "name": "stderr",
     "output_type": "stream",
     "text": [
      "[I 2024-12-17 01:43:27,736] Trial 32 finished with value: 1.04618162065431 and parameters: {'learning_rate': 0.050804251886536644, 'max_depth': 10, 'min_child_weight': 0.02523664236029901, 'subsample': 0.9568364279751503, 'colsample_bytree': 0.7861166081339875, 'gamma': 1.9364881418295579, 'lambda': 0.046339229900298644, 'alpha': 0.03766959204220514}. Best is trial 25 with value: 1.0453613381313727.\n"
     ]
    },
    {
     "name": "stdout",
     "output_type": "stream",
     "text": [
      "Fold 5 RMSE: 1.0458\n",
      "Mean CV RMSE: 1.0462 ± 0.0010\n",
      "Training fold 1...\n",
      "Fold 1 RMSE: 1.0463\n",
      "Training fold 2...\n",
      "Fold 2 RMSE: 1.0453\n",
      "Training fold 3...\n",
      "Fold 3 RMSE: 1.0438\n",
      "Training fold 4...\n",
      "Fold 4 RMSE: 1.0464\n",
      "Training fold 5...\n"
     ]
    },
    {
     "name": "stderr",
     "output_type": "stream",
     "text": [
      "[I 2024-12-17 01:48:52,103] Trial 33 finished with value: 1.045387617912112 and parameters: {'learning_rate': 0.0023466531509615256, 'max_depth': 9, 'min_child_weight': 17.426046412650564, 'subsample': 0.931003831910785, 'colsample_bytree': 0.9975335503914388, 'gamma': 4.187565610828517, 'lambda': 0.15671273620587126, 'alpha': 0.14833231619729312}. Best is trial 25 with value: 1.0453613381313727.\n"
     ]
    },
    {
     "name": "stdout",
     "output_type": "stream",
     "text": [
      "Fold 5 RMSE: 1.0452\n",
      "Mean CV RMSE: 1.0454 ± 0.0009\n",
      "Training fold 1...\n",
      "Fold 1 RMSE: 1.0463\n",
      "Training fold 2...\n",
      "Fold 2 RMSE: 1.0452\n",
      "Training fold 3...\n",
      "Fold 3 RMSE: 1.0438\n",
      "Training fold 4...\n",
      "Fold 4 RMSE: 1.0464\n",
      "Training fold 5...\n"
     ]
    },
    {
     "name": "stderr",
     "output_type": "stream",
     "text": [
      "[I 2024-12-17 01:55:27,779] Trial 34 finished with value: 1.0453818789183145 and parameters: {'learning_rate': 0.0021978412286356554, 'max_depth': 9, 'min_child_weight': 13.769796614512282, 'subsample': 0.8201686655552866, 'colsample_bytree': 0.9517316594253322, 'gamma': 4.196887300383792, 'lambda': 0.1770413282973609, 'alpha': 0.11609821800436655}. Best is trial 25 with value: 1.0453613381313727.\n"
     ]
    },
    {
     "name": "stdout",
     "output_type": "stream",
     "text": [
      "Fold 5 RMSE: 1.0452\n",
      "Mean CV RMSE: 1.0454 ± 0.0009\n",
      "Training fold 1...\n",
      "Fold 1 RMSE: 1.0465\n",
      "Training fold 2...\n",
      "Fold 2 RMSE: 1.0453\n",
      "Training fold 3...\n",
      "Fold 3 RMSE: 1.0440\n",
      "Training fold 4...\n",
      "Fold 4 RMSE: 1.0466\n",
      "Training fold 5...\n"
     ]
    },
    {
     "name": "stderr",
     "output_type": "stream",
     "text": [
      "[W 2024-12-17 02:03:58,323] Trial 35 failed with parameters: {'learning_rate': 0.0014055817540153878, 'max_depth': 8, 'min_child_weight': 9.001701045150105, 'subsample': 0.8123380792736161, 'colsample_bytree': 0.8764072067850127, 'gamma': 3.55474318759224, 'lambda': 0.21305813081580105, 'alpha': 0.6444099583891106} because of the following error: KeyboardInterrupt().\n",
      "Traceback (most recent call last):\n",
      "  File \"c:\\Users\\Axyom\\anaconda3\\envs\\kaggle_env\\lib\\site-packages\\optuna\\study\\_optimize.py\", line 197, in _run_trial\n",
      "    value_or_values = func(trial)\n",
      "  File \"C:\\Users\\Axyom\\AppData\\Local\\Temp\\ipykernel_10324\\762608703.py\", line 45, in objective\n",
      "    results = train_model_cv(\\\n",
      "  File \"c:\\Users\\Axyom\\Kaggle\\PG S4e12 - Regression Insurance\\axyom_utilities\\training.py\", line 32, in train_model_cv\n",
      "    model.fit(\n",
      "  File \"c:\\Users\\Axyom\\Kaggle\\PG S4e12 - Regression Insurance\\axyom_utilities\\wrappers.py\", line 41, in fit\n",
      "    self.xgb_model_.fit(\n",
      "  File \"c:\\Users\\Axyom\\anaconda3\\envs\\kaggle_env\\lib\\site-packages\\xgboost\\core.py\", line 726, in inner_f\n",
      "    return func(**kwargs)\n",
      "  File \"c:\\Users\\Axyom\\anaconda3\\envs\\kaggle_env\\lib\\site-packages\\xgboost\\sklearn.py\", line 1108, in fit\n",
      "    self._Booster = train(\n",
      "  File \"c:\\Users\\Axyom\\anaconda3\\envs\\kaggle_env\\lib\\site-packages\\xgboost\\core.py\", line 726, in inner_f\n",
      "    return func(**kwargs)\n",
      "  File \"c:\\Users\\Axyom\\anaconda3\\envs\\kaggle_env\\lib\\site-packages\\xgboost\\training.py\", line 181, in train\n",
      "    bst.update(dtrain, iteration=i, fobj=obj)\n",
      "  File \"c:\\Users\\Axyom\\anaconda3\\envs\\kaggle_env\\lib\\site-packages\\xgboost\\core.py\", line 2101, in update\n",
      "    _LIB.XGBoosterUpdateOneIter(\n",
      "KeyboardInterrupt\n",
      "[W 2024-12-17 02:03:58,335] Trial 35 failed with value None.\n"
     ]
    },
    {
     "ename": "KeyboardInterrupt",
     "evalue": "",
     "output_type": "error",
     "traceback": [
      "\u001b[1;31m---------------------------------------------------------------------------\u001b[0m",
      "\u001b[1;31mKeyboardInterrupt\u001b[0m                         Traceback (most recent call last)",
      "Cell \u001b[1;32mIn[7], line 74\u001b[0m\n\u001b[0;32m     61\u001b[0m \u001b[38;5;66;03m# Prepare data\u001b[39;00m\n\u001b[0;32m     62\u001b[0m \u001b[38;5;66;03m# Replace X_train, y_train, and X_test with your data\u001b[39;00m\n\u001b[0;32m     63\u001b[0m \u001b[38;5;66;03m# Example:\u001b[39;00m\n\u001b[0;32m     64\u001b[0m \u001b[38;5;66;03m# X_train, X_test, y_train = ...\u001b[39;00m\n\u001b[0;32m     65\u001b[0m \n\u001b[0;32m     66\u001b[0m \u001b[38;5;66;03m# Run Optuna optimization\u001b[39;00m\n\u001b[0;32m     67\u001b[0m study \u001b[38;5;241m=\u001b[39m optuna\u001b[38;5;241m.\u001b[39mcreate_study( \\\n\u001b[0;32m     68\u001b[0m     direction\u001b[38;5;241m=\u001b[39m\u001b[38;5;124m\"\u001b[39m\u001b[38;5;124mminimize\u001b[39m\u001b[38;5;124m\"\u001b[39m, \n\u001b[0;32m     69\u001b[0m     study_name\u001b[38;5;241m=\u001b[39m\u001b[38;5;124m\"\u001b[39m\u001b[38;5;124mXGB_v1\u001b[39m\u001b[38;5;124m\"\u001b[39m, \n\u001b[1;32m   (...)\u001b[0m\n\u001b[0;32m     72\u001b[0m     sampler\u001b[38;5;241m=\u001b[39mTPESampler(seed\u001b[38;5;241m=\u001b[39m\u001b[38;5;241m666\u001b[39m)\n\u001b[0;32m     73\u001b[0m )\n\u001b[1;32m---> 74\u001b[0m \u001b[43mstudy\u001b[49m\u001b[38;5;241;43m.\u001b[39;49m\u001b[43moptimize\u001b[49m\u001b[43m(\u001b[49m\u001b[43mobjective\u001b[49m\u001b[43m,\u001b[49m\u001b[43m \u001b[49m\u001b[43mn_trials\u001b[49m\u001b[38;5;241;43m=\u001b[39;49m\u001b[38;5;241;43m100\u001b[39;49m\u001b[43m,\u001b[49m\u001b[43m \u001b[49m\u001b[43mtimeout\u001b[49m\u001b[38;5;241;43m=\u001b[39;49m\u001b[43mHYPER_OPT_TIME\u001b[49m\u001b[43m)\u001b[49m\n\u001b[0;32m     76\u001b[0m \u001b[38;5;66;03m# Best parameters and result\u001b[39;00m\n\u001b[0;32m     77\u001b[0m \u001b[38;5;28mprint\u001b[39m(\u001b[38;5;124m\"\u001b[39m\u001b[38;5;124mBest Trial: \u001b[39m\u001b[38;5;124m\"\u001b[39m, study\u001b[38;5;241m.\u001b[39mbest_trial\u001b[38;5;241m.\u001b[39mparams)\n",
      "File \u001b[1;32mc:\\Users\\Axyom\\anaconda3\\envs\\kaggle_env\\lib\\site-packages\\optuna\\study\\study.py:475\u001b[0m, in \u001b[0;36mStudy.optimize\u001b[1;34m(self, func, n_trials, timeout, n_jobs, catch, callbacks, gc_after_trial, show_progress_bar)\u001b[0m\n\u001b[0;32m    373\u001b[0m \u001b[38;5;28;01mdef\u001b[39;00m \u001b[38;5;21moptimize\u001b[39m(\n\u001b[0;32m    374\u001b[0m     \u001b[38;5;28mself\u001b[39m,\n\u001b[0;32m    375\u001b[0m     func: ObjectiveFuncType,\n\u001b[1;32m   (...)\u001b[0m\n\u001b[0;32m    382\u001b[0m     show_progress_bar: \u001b[38;5;28mbool\u001b[39m \u001b[38;5;241m=\u001b[39m \u001b[38;5;28;01mFalse\u001b[39;00m,\n\u001b[0;32m    383\u001b[0m ) \u001b[38;5;241m-\u001b[39m\u001b[38;5;241m>\u001b[39m \u001b[38;5;28;01mNone\u001b[39;00m:\n\u001b[0;32m    384\u001b[0m \u001b[38;5;250m    \u001b[39m\u001b[38;5;124;03m\"\"\"Optimize an objective function.\u001b[39;00m\n\u001b[0;32m    385\u001b[0m \n\u001b[0;32m    386\u001b[0m \u001b[38;5;124;03m    Optimization is done by choosing a suitable set of hyperparameter values from a given\u001b[39;00m\n\u001b[1;32m   (...)\u001b[0m\n\u001b[0;32m    473\u001b[0m \u001b[38;5;124;03m            If nested invocation of this method occurs.\u001b[39;00m\n\u001b[0;32m    474\u001b[0m \u001b[38;5;124;03m    \"\"\"\u001b[39;00m\n\u001b[1;32m--> 475\u001b[0m     \u001b[43m_optimize\u001b[49m\u001b[43m(\u001b[49m\n\u001b[0;32m    476\u001b[0m \u001b[43m        \u001b[49m\u001b[43mstudy\u001b[49m\u001b[38;5;241;43m=\u001b[39;49m\u001b[38;5;28;43mself\u001b[39;49m\u001b[43m,\u001b[49m\n\u001b[0;32m    477\u001b[0m \u001b[43m        \u001b[49m\u001b[43mfunc\u001b[49m\u001b[38;5;241;43m=\u001b[39;49m\u001b[43mfunc\u001b[49m\u001b[43m,\u001b[49m\n\u001b[0;32m    478\u001b[0m \u001b[43m        \u001b[49m\u001b[43mn_trials\u001b[49m\u001b[38;5;241;43m=\u001b[39;49m\u001b[43mn_trials\u001b[49m\u001b[43m,\u001b[49m\n\u001b[0;32m    479\u001b[0m \u001b[43m        \u001b[49m\u001b[43mtimeout\u001b[49m\u001b[38;5;241;43m=\u001b[39;49m\u001b[43mtimeout\u001b[49m\u001b[43m,\u001b[49m\n\u001b[0;32m    480\u001b[0m \u001b[43m        \u001b[49m\u001b[43mn_jobs\u001b[49m\u001b[38;5;241;43m=\u001b[39;49m\u001b[43mn_jobs\u001b[49m\u001b[43m,\u001b[49m\n\u001b[0;32m    481\u001b[0m \u001b[43m        \u001b[49m\u001b[43mcatch\u001b[49m\u001b[38;5;241;43m=\u001b[39;49m\u001b[38;5;28;43mtuple\u001b[39;49m\u001b[43m(\u001b[49m\u001b[43mcatch\u001b[49m\u001b[43m)\u001b[49m\u001b[43m \u001b[49m\u001b[38;5;28;43;01mif\u001b[39;49;00m\u001b[43m \u001b[49m\u001b[38;5;28;43misinstance\u001b[39;49m\u001b[43m(\u001b[49m\u001b[43mcatch\u001b[49m\u001b[43m,\u001b[49m\u001b[43m \u001b[49m\u001b[43mIterable\u001b[49m\u001b[43m)\u001b[49m\u001b[43m \u001b[49m\u001b[38;5;28;43;01melse\u001b[39;49;00m\u001b[43m \u001b[49m\u001b[43m(\u001b[49m\u001b[43mcatch\u001b[49m\u001b[43m,\u001b[49m\u001b[43m)\u001b[49m\u001b[43m,\u001b[49m\n\u001b[0;32m    482\u001b[0m \u001b[43m        \u001b[49m\u001b[43mcallbacks\u001b[49m\u001b[38;5;241;43m=\u001b[39;49m\u001b[43mcallbacks\u001b[49m\u001b[43m,\u001b[49m\n\u001b[0;32m    483\u001b[0m \u001b[43m        \u001b[49m\u001b[43mgc_after_trial\u001b[49m\u001b[38;5;241;43m=\u001b[39;49m\u001b[43mgc_after_trial\u001b[49m\u001b[43m,\u001b[49m\n\u001b[0;32m    484\u001b[0m \u001b[43m        \u001b[49m\u001b[43mshow_progress_bar\u001b[49m\u001b[38;5;241;43m=\u001b[39;49m\u001b[43mshow_progress_bar\u001b[49m\u001b[43m,\u001b[49m\n\u001b[0;32m    485\u001b[0m \u001b[43m    \u001b[49m\u001b[43m)\u001b[49m\n",
      "File \u001b[1;32mc:\\Users\\Axyom\\anaconda3\\envs\\kaggle_env\\lib\\site-packages\\optuna\\study\\_optimize.py:63\u001b[0m, in \u001b[0;36m_optimize\u001b[1;34m(study, func, n_trials, timeout, n_jobs, catch, callbacks, gc_after_trial, show_progress_bar)\u001b[0m\n\u001b[0;32m     61\u001b[0m \u001b[38;5;28;01mtry\u001b[39;00m:\n\u001b[0;32m     62\u001b[0m     \u001b[38;5;28;01mif\u001b[39;00m n_jobs \u001b[38;5;241m==\u001b[39m \u001b[38;5;241m1\u001b[39m:\n\u001b[1;32m---> 63\u001b[0m         \u001b[43m_optimize_sequential\u001b[49m\u001b[43m(\u001b[49m\n\u001b[0;32m     64\u001b[0m \u001b[43m            \u001b[49m\u001b[43mstudy\u001b[49m\u001b[43m,\u001b[49m\n\u001b[0;32m     65\u001b[0m \u001b[43m            \u001b[49m\u001b[43mfunc\u001b[49m\u001b[43m,\u001b[49m\n\u001b[0;32m     66\u001b[0m \u001b[43m            \u001b[49m\u001b[43mn_trials\u001b[49m\u001b[43m,\u001b[49m\n\u001b[0;32m     67\u001b[0m \u001b[43m            \u001b[49m\u001b[43mtimeout\u001b[49m\u001b[43m,\u001b[49m\n\u001b[0;32m     68\u001b[0m \u001b[43m            \u001b[49m\u001b[43mcatch\u001b[49m\u001b[43m,\u001b[49m\n\u001b[0;32m     69\u001b[0m \u001b[43m            \u001b[49m\u001b[43mcallbacks\u001b[49m\u001b[43m,\u001b[49m\n\u001b[0;32m     70\u001b[0m \u001b[43m            \u001b[49m\u001b[43mgc_after_trial\u001b[49m\u001b[43m,\u001b[49m\n\u001b[0;32m     71\u001b[0m \u001b[43m            \u001b[49m\u001b[43mreseed_sampler_rng\u001b[49m\u001b[38;5;241;43m=\u001b[39;49m\u001b[38;5;28;43;01mFalse\u001b[39;49;00m\u001b[43m,\u001b[49m\n\u001b[0;32m     72\u001b[0m \u001b[43m            \u001b[49m\u001b[43mtime_start\u001b[49m\u001b[38;5;241;43m=\u001b[39;49m\u001b[38;5;28;43;01mNone\u001b[39;49;00m\u001b[43m,\u001b[49m\n\u001b[0;32m     73\u001b[0m \u001b[43m            \u001b[49m\u001b[43mprogress_bar\u001b[49m\u001b[38;5;241;43m=\u001b[39;49m\u001b[43mprogress_bar\u001b[49m\u001b[43m,\u001b[49m\n\u001b[0;32m     74\u001b[0m \u001b[43m        \u001b[49m\u001b[43m)\u001b[49m\n\u001b[0;32m     75\u001b[0m     \u001b[38;5;28;01melse\u001b[39;00m:\n\u001b[0;32m     76\u001b[0m         \u001b[38;5;28;01mif\u001b[39;00m n_jobs \u001b[38;5;241m==\u001b[39m \u001b[38;5;241m-\u001b[39m\u001b[38;5;241m1\u001b[39m:\n",
      "File \u001b[1;32mc:\\Users\\Axyom\\anaconda3\\envs\\kaggle_env\\lib\\site-packages\\optuna\\study\\_optimize.py:160\u001b[0m, in \u001b[0;36m_optimize_sequential\u001b[1;34m(study, func, n_trials, timeout, catch, callbacks, gc_after_trial, reseed_sampler_rng, time_start, progress_bar)\u001b[0m\n\u001b[0;32m    157\u001b[0m         \u001b[38;5;28;01mbreak\u001b[39;00m\n\u001b[0;32m    159\u001b[0m \u001b[38;5;28;01mtry\u001b[39;00m:\n\u001b[1;32m--> 160\u001b[0m     frozen_trial \u001b[38;5;241m=\u001b[39m \u001b[43m_run_trial\u001b[49m\u001b[43m(\u001b[49m\u001b[43mstudy\u001b[49m\u001b[43m,\u001b[49m\u001b[43m \u001b[49m\u001b[43mfunc\u001b[49m\u001b[43m,\u001b[49m\u001b[43m \u001b[49m\u001b[43mcatch\u001b[49m\u001b[43m)\u001b[49m\n\u001b[0;32m    161\u001b[0m \u001b[38;5;28;01mfinally\u001b[39;00m:\n\u001b[0;32m    162\u001b[0m     \u001b[38;5;66;03m# The following line mitigates memory problems that can be occurred in some\u001b[39;00m\n\u001b[0;32m    163\u001b[0m     \u001b[38;5;66;03m# environments (e.g., services that use computing containers such as GitHub Actions).\u001b[39;00m\n\u001b[0;32m    164\u001b[0m     \u001b[38;5;66;03m# Please refer to the following PR for further details:\u001b[39;00m\n\u001b[0;32m    165\u001b[0m     \u001b[38;5;66;03m# https://github.com/optuna/optuna/pull/325.\u001b[39;00m\n\u001b[0;32m    166\u001b[0m     \u001b[38;5;28;01mif\u001b[39;00m gc_after_trial:\n",
      "File \u001b[1;32mc:\\Users\\Axyom\\anaconda3\\envs\\kaggle_env\\lib\\site-packages\\optuna\\study\\_optimize.py:248\u001b[0m, in \u001b[0;36m_run_trial\u001b[1;34m(study, func, catch)\u001b[0m\n\u001b[0;32m    241\u001b[0m         \u001b[38;5;28;01massert\u001b[39;00m \u001b[38;5;28;01mFalse\u001b[39;00m, \u001b[38;5;124m\"\u001b[39m\u001b[38;5;124mShould not reach.\u001b[39m\u001b[38;5;124m\"\u001b[39m\n\u001b[0;32m    243\u001b[0m \u001b[38;5;28;01mif\u001b[39;00m (\n\u001b[0;32m    244\u001b[0m     frozen_trial\u001b[38;5;241m.\u001b[39mstate \u001b[38;5;241m==\u001b[39m TrialState\u001b[38;5;241m.\u001b[39mFAIL\n\u001b[0;32m    245\u001b[0m     \u001b[38;5;129;01mand\u001b[39;00m func_err \u001b[38;5;129;01mis\u001b[39;00m \u001b[38;5;129;01mnot\u001b[39;00m \u001b[38;5;28;01mNone\u001b[39;00m\n\u001b[0;32m    246\u001b[0m     \u001b[38;5;129;01mand\u001b[39;00m \u001b[38;5;129;01mnot\u001b[39;00m \u001b[38;5;28misinstance\u001b[39m(func_err, catch)\n\u001b[0;32m    247\u001b[0m ):\n\u001b[1;32m--> 248\u001b[0m     \u001b[38;5;28;01mraise\u001b[39;00m func_err\n\u001b[0;32m    249\u001b[0m \u001b[38;5;28;01mreturn\u001b[39;00m frozen_trial\n",
      "File \u001b[1;32mc:\\Users\\Axyom\\anaconda3\\envs\\kaggle_env\\lib\\site-packages\\optuna\\study\\_optimize.py:197\u001b[0m, in \u001b[0;36m_run_trial\u001b[1;34m(study, func, catch)\u001b[0m\n\u001b[0;32m    195\u001b[0m \u001b[38;5;28;01mwith\u001b[39;00m get_heartbeat_thread(trial\u001b[38;5;241m.\u001b[39m_trial_id, study\u001b[38;5;241m.\u001b[39m_storage):\n\u001b[0;32m    196\u001b[0m     \u001b[38;5;28;01mtry\u001b[39;00m:\n\u001b[1;32m--> 197\u001b[0m         value_or_values \u001b[38;5;241m=\u001b[39m \u001b[43mfunc\u001b[49m\u001b[43m(\u001b[49m\u001b[43mtrial\u001b[49m\u001b[43m)\u001b[49m\n\u001b[0;32m    198\u001b[0m     \u001b[38;5;28;01mexcept\u001b[39;00m exceptions\u001b[38;5;241m.\u001b[39mTrialPruned \u001b[38;5;28;01mas\u001b[39;00m e:\n\u001b[0;32m    199\u001b[0m         \u001b[38;5;66;03m# TODO(mamu): Handle multi-objective cases.\u001b[39;00m\n\u001b[0;32m    200\u001b[0m         state \u001b[38;5;241m=\u001b[39m TrialState\u001b[38;5;241m.\u001b[39mPRUNED\n",
      "Cell \u001b[1;32mIn[7], line 45\u001b[0m, in \u001b[0;36mobjective\u001b[1;34m(trial)\u001b[0m\n\u001b[0;32m     42\u001b[0m model \u001b[38;5;241m=\u001b[39m XGBRegressorWrapper(\u001b[38;5;241m*\u001b[39m\u001b[38;5;241m*\u001b[39mxgb_params)\n\u001b[0;32m     44\u001b[0m \u001b[38;5;66;03m# Evaluate using K-Fold CV with early stopping\u001b[39;00m\n\u001b[1;32m---> 45\u001b[0m results \u001b[38;5;241m=\u001b[39m \u001b[43mtrain_model_cv\u001b[49m\u001b[43m(\u001b[49m\u001b[43m\\\u001b[49m\n\u001b[0;32m     46\u001b[0m \u001b[43m    \u001b[49m\u001b[43mmodel\u001b[49m\u001b[43m,\u001b[49m\u001b[43m \u001b[49m\n\u001b[0;32m     47\u001b[0m \u001b[43m    \u001b[49m\u001b[43mX_train\u001b[49m\u001b[43m,\u001b[49m\u001b[43m \u001b[49m\n\u001b[0;32m     48\u001b[0m \u001b[43m    \u001b[49m\u001b[43my_train\u001b[49m\u001b[43m,\u001b[49m\u001b[43m \u001b[49m\n\u001b[0;32m     49\u001b[0m \u001b[43m    \u001b[49m\u001b[43mX_test\u001b[49m\u001b[43m,\u001b[49m\u001b[43m \u001b[49m\n\u001b[0;32m     50\u001b[0m \u001b[43m    \u001b[49m\u001b[43mX_orig\u001b[49m\u001b[43m,\u001b[49m\n\u001b[0;32m     51\u001b[0m \u001b[43m    \u001b[49m\u001b[43my_orig\u001b[49m\u001b[43m,\u001b[49m\n\u001b[0;32m     52\u001b[0m \u001b[43m    \u001b[49m\u001b[43mcv_splits\u001b[49m\u001b[38;5;241;43m=\u001b[39;49m\u001b[38;5;241;43m5\u001b[39;49m\u001b[43m,\u001b[49m\u001b[43m \u001b[49m\n\u001b[0;32m     53\u001b[0m \u001b[43m    \u001b[49m\u001b[43mearly_stopping_rounds\u001b[49m\u001b[38;5;241;43m=\u001b[39;49m\u001b[38;5;241;43m50\u001b[39;49m\n\u001b[0;32m     54\u001b[0m \u001b[43m\u001b[49m\u001b[43m)\u001b[49m\n\u001b[0;32m     55\u001b[0m score \u001b[38;5;241m=\u001b[39m results[\u001b[38;5;124m'\u001b[39m\u001b[38;5;124mcv_scores\u001b[39m\u001b[38;5;124m'\u001b[39m]\u001b[38;5;241m.\u001b[39mmean()\n\u001b[0;32m     57\u001b[0m trial\u001b[38;5;241m.\u001b[39mset_user_attr(\u001b[38;5;124m\"\u001b[39m\u001b[38;5;124mbest_iteration\u001b[39m\u001b[38;5;124m\"\u001b[39m, results[\u001b[38;5;124m'\u001b[39m\u001b[38;5;124mbest_iteration\u001b[39m\u001b[38;5;124m'\u001b[39m])\n",
      "File \u001b[1;32mc:\\Users\\Axyom\\Kaggle\\PG S4e12 - Regression Insurance\\axyom_utilities\\training.py:32\u001b[0m, in \u001b[0;36mtrain_model_cv\u001b[1;34m(model, X_train, y_train, X_test, X_orig, y_orig, cv_splits, early_stopping_rounds)\u001b[0m\n\u001b[0;32m     30\u001b[0m \u001b[38;5;66;03m# Fit the model on training data\u001b[39;00m\n\u001b[0;32m     31\u001b[0m \u001b[38;5;28;01mif\u001b[39;00m early_stopping_rounds:\n\u001b[1;32m---> 32\u001b[0m     \u001b[43mmodel\u001b[49m\u001b[38;5;241;43m.\u001b[39;49m\u001b[43mfit\u001b[49m\u001b[43m(\u001b[49m\n\u001b[0;32m     33\u001b[0m \u001b[43m        \u001b[49m\u001b[43mX_train_fold\u001b[49m\u001b[43m,\u001b[49m\u001b[43m \u001b[49m\u001b[43my_train_fold\u001b[49m\u001b[43m,\u001b[49m\u001b[43m \u001b[49m\n\u001b[0;32m     34\u001b[0m \u001b[43m        \u001b[49m\u001b[43meval_set\u001b[49m\u001b[38;5;241;43m=\u001b[39;49m\u001b[43m(\u001b[49m\u001b[43mX_val_fold\u001b[49m\u001b[43m,\u001b[49m\u001b[43m \u001b[49m\u001b[43my_val_fold\u001b[49m\u001b[43m)\u001b[49m\u001b[43m,\u001b[49m\n\u001b[0;32m     35\u001b[0m \u001b[43m        \u001b[49m\u001b[43mearly_stopping_rounds\u001b[49m\u001b[38;5;241;43m=\u001b[39;49m\u001b[43mearly_stopping_rounds\u001b[49m\u001b[43m,\u001b[49m\n\u001b[0;32m     36\u001b[0m \u001b[43m        \u001b[49m\u001b[43mverbose\u001b[49m\u001b[38;5;241;43m=\u001b[39;49m\u001b[38;5;28;43;01mFalse\u001b[39;49;00m\n\u001b[0;32m     37\u001b[0m \u001b[43m    \u001b[49m\u001b[43m)\u001b[49m\n\u001b[0;32m     38\u001b[0m     best_iterations[fold]\u001b[38;5;241m=\u001b[39mmodel\u001b[38;5;241m.\u001b[39mget_best_iteration()\n\u001b[0;32m     39\u001b[0m \u001b[38;5;28;01melse\u001b[39;00m:\n",
      "File \u001b[1;32mc:\\Users\\Axyom\\Kaggle\\PG S4e12 - Regression Insurance\\axyom_utilities\\wrappers.py:41\u001b[0m, in \u001b[0;36mXGBRegressorWrapper.fit\u001b[1;34m(self, X, y, eval_set, early_stopping_rounds, verbose)\u001b[0m\n\u001b[0;32m     33\u001b[0m \u001b[38;5;28mself\u001b[39m\u001b[38;5;241m.\u001b[39mxgb_model_ \u001b[38;5;241m=\u001b[39m XGBRegressor(\u001b[38;5;241m*\u001b[39m\u001b[38;5;241m*\u001b[39m\u001b[38;5;28mself\u001b[39m\u001b[38;5;241m.\u001b[39mparams)\n\u001b[0;32m     35\u001b[0m \u001b[38;5;66;03m# callbacks = []\u001b[39;00m\n\u001b[0;32m     36\u001b[0m \u001b[38;5;66;03m# if early_stopping_rounds and eval_set:\u001b[39;00m\n\u001b[0;32m     37\u001b[0m \u001b[38;5;66;03m#     callbacks.append(EarlyStopping(rounds=early_stopping_rounds, save_best=True, maximize=False, metric_name=\"rmse\"))\u001b[39;00m\n\u001b[0;32m     38\u001b[0m \n\u001b[0;32m     39\u001b[0m \n\u001b[0;32m     40\u001b[0m \u001b[38;5;66;03m# Train the model with early stopping if validation set is provided\u001b[39;00m\n\u001b[1;32m---> 41\u001b[0m \u001b[38;5;28;43mself\u001b[39;49m\u001b[38;5;241;43m.\u001b[39;49m\u001b[43mxgb_model_\u001b[49m\u001b[38;5;241;43m.\u001b[39;49m\u001b[43mfit\u001b[49m\u001b[43m(\u001b[49m\n\u001b[0;32m     42\u001b[0m \u001b[43m    \u001b[49m\u001b[43mX\u001b[49m\u001b[43m,\u001b[49m\n\u001b[0;32m     43\u001b[0m \u001b[43m    \u001b[49m\u001b[43my\u001b[49m\u001b[43m,\u001b[49m\n\u001b[0;32m     44\u001b[0m \u001b[43m    \u001b[49m\u001b[43meval_set\u001b[49m\u001b[38;5;241;43m=\u001b[39;49m\u001b[43m[\u001b[49m\u001b[43meval_set\u001b[49m\u001b[43m]\u001b[49m\u001b[43m,\u001b[49m\n\u001b[0;32m     45\u001b[0m \u001b[43m    \u001b[49m\u001b[38;5;66;43;03m#early_stopping_rounds=early_stopping_rounds,\u001b[39;49;00m\n\u001b[0;32m     46\u001b[0m \u001b[43m    \u001b[49m\u001b[38;5;66;43;03m#callbacks=callbacks,\u001b[39;49;00m\n\u001b[0;32m     47\u001b[0m \u001b[43m    \u001b[49m\u001b[43mverbose\u001b[49m\u001b[38;5;241;43m=\u001b[39;49m\u001b[43mverbose\u001b[49m\n\u001b[0;32m     48\u001b[0m \u001b[43m\u001b[49m\u001b[43m)\u001b[49m\n\u001b[0;32m     50\u001b[0m \u001b[38;5;28;01mreturn\u001b[39;00m \u001b[38;5;28mself\u001b[39m\n",
      "File \u001b[1;32mc:\\Users\\Axyom\\anaconda3\\envs\\kaggle_env\\lib\\site-packages\\xgboost\\core.py:726\u001b[0m, in \u001b[0;36mrequire_keyword_args.<locals>.throw_if.<locals>.inner_f\u001b[1;34m(*args, **kwargs)\u001b[0m\n\u001b[0;32m    724\u001b[0m \u001b[38;5;28;01mfor\u001b[39;00m k, arg \u001b[38;5;129;01min\u001b[39;00m \u001b[38;5;28mzip\u001b[39m(sig\u001b[38;5;241m.\u001b[39mparameters, args):\n\u001b[0;32m    725\u001b[0m     kwargs[k] \u001b[38;5;241m=\u001b[39m arg\n\u001b[1;32m--> 726\u001b[0m \u001b[38;5;28;01mreturn\u001b[39;00m func(\u001b[38;5;241m*\u001b[39m\u001b[38;5;241m*\u001b[39mkwargs)\n",
      "File \u001b[1;32mc:\\Users\\Axyom\\anaconda3\\envs\\kaggle_env\\lib\\site-packages\\xgboost\\sklearn.py:1108\u001b[0m, in \u001b[0;36mXGBModel.fit\u001b[1;34m(self, X, y, sample_weight, base_margin, eval_set, verbose, xgb_model, sample_weight_eval_set, base_margin_eval_set, feature_weights)\u001b[0m\n\u001b[0;32m   1105\u001b[0m     obj \u001b[38;5;241m=\u001b[39m \u001b[38;5;28;01mNone\u001b[39;00m\n\u001b[0;32m   1107\u001b[0m model, metric, params \u001b[38;5;241m=\u001b[39m \u001b[38;5;28mself\u001b[39m\u001b[38;5;241m.\u001b[39m_configure_fit(xgb_model, params)\n\u001b[1;32m-> 1108\u001b[0m \u001b[38;5;28mself\u001b[39m\u001b[38;5;241m.\u001b[39m_Booster \u001b[38;5;241m=\u001b[39m \u001b[43mtrain\u001b[49m\u001b[43m(\u001b[49m\n\u001b[0;32m   1109\u001b[0m \u001b[43m    \u001b[49m\u001b[43mparams\u001b[49m\u001b[43m,\u001b[49m\n\u001b[0;32m   1110\u001b[0m \u001b[43m    \u001b[49m\u001b[43mtrain_dmatrix\u001b[49m\u001b[43m,\u001b[49m\n\u001b[0;32m   1111\u001b[0m \u001b[43m    \u001b[49m\u001b[38;5;28;43mself\u001b[39;49m\u001b[38;5;241;43m.\u001b[39;49m\u001b[43mget_num_boosting_rounds\u001b[49m\u001b[43m(\u001b[49m\u001b[43m)\u001b[49m\u001b[43m,\u001b[49m\n\u001b[0;32m   1112\u001b[0m \u001b[43m    \u001b[49m\u001b[43mevals\u001b[49m\u001b[38;5;241;43m=\u001b[39;49m\u001b[43mevals\u001b[49m\u001b[43m,\u001b[49m\n\u001b[0;32m   1113\u001b[0m \u001b[43m    \u001b[49m\u001b[43mearly_stopping_rounds\u001b[49m\u001b[38;5;241;43m=\u001b[39;49m\u001b[38;5;28;43mself\u001b[39;49m\u001b[38;5;241;43m.\u001b[39;49m\u001b[43mearly_stopping_rounds\u001b[49m\u001b[43m,\u001b[49m\n\u001b[0;32m   1114\u001b[0m \u001b[43m    \u001b[49m\u001b[43mevals_result\u001b[49m\u001b[38;5;241;43m=\u001b[39;49m\u001b[43mevals_result\u001b[49m\u001b[43m,\u001b[49m\n\u001b[0;32m   1115\u001b[0m \u001b[43m    \u001b[49m\u001b[43mobj\u001b[49m\u001b[38;5;241;43m=\u001b[39;49m\u001b[43mobj\u001b[49m\u001b[43m,\u001b[49m\n\u001b[0;32m   1116\u001b[0m \u001b[43m    \u001b[49m\u001b[43mcustom_metric\u001b[49m\u001b[38;5;241;43m=\u001b[39;49m\u001b[43mmetric\u001b[49m\u001b[43m,\u001b[49m\n\u001b[0;32m   1117\u001b[0m \u001b[43m    \u001b[49m\u001b[43mverbose_eval\u001b[49m\u001b[38;5;241;43m=\u001b[39;49m\u001b[43mverbose\u001b[49m\u001b[43m,\u001b[49m\n\u001b[0;32m   1118\u001b[0m \u001b[43m    \u001b[49m\u001b[43mxgb_model\u001b[49m\u001b[38;5;241;43m=\u001b[39;49m\u001b[43mmodel\u001b[49m\u001b[43m,\u001b[49m\n\u001b[0;32m   1119\u001b[0m \u001b[43m    \u001b[49m\u001b[43mcallbacks\u001b[49m\u001b[38;5;241;43m=\u001b[39;49m\u001b[38;5;28;43mself\u001b[39;49m\u001b[38;5;241;43m.\u001b[39;49m\u001b[43mcallbacks\u001b[49m\u001b[43m,\u001b[49m\n\u001b[0;32m   1120\u001b[0m \u001b[43m\u001b[49m\u001b[43m)\u001b[49m\n\u001b[0;32m   1122\u001b[0m \u001b[38;5;28mself\u001b[39m\u001b[38;5;241m.\u001b[39m_set_evaluation_result(evals_result)\n\u001b[0;32m   1123\u001b[0m \u001b[38;5;28;01mreturn\u001b[39;00m \u001b[38;5;28mself\u001b[39m\n",
      "File \u001b[1;32mc:\\Users\\Axyom\\anaconda3\\envs\\kaggle_env\\lib\\site-packages\\xgboost\\core.py:726\u001b[0m, in \u001b[0;36mrequire_keyword_args.<locals>.throw_if.<locals>.inner_f\u001b[1;34m(*args, **kwargs)\u001b[0m\n\u001b[0;32m    724\u001b[0m \u001b[38;5;28;01mfor\u001b[39;00m k, arg \u001b[38;5;129;01min\u001b[39;00m \u001b[38;5;28mzip\u001b[39m(sig\u001b[38;5;241m.\u001b[39mparameters, args):\n\u001b[0;32m    725\u001b[0m     kwargs[k] \u001b[38;5;241m=\u001b[39m arg\n\u001b[1;32m--> 726\u001b[0m \u001b[38;5;28;01mreturn\u001b[39;00m func(\u001b[38;5;241m*\u001b[39m\u001b[38;5;241m*\u001b[39mkwargs)\n",
      "File \u001b[1;32mc:\\Users\\Axyom\\anaconda3\\envs\\kaggle_env\\lib\\site-packages\\xgboost\\training.py:181\u001b[0m, in \u001b[0;36mtrain\u001b[1;34m(params, dtrain, num_boost_round, evals, obj, feval, maximize, early_stopping_rounds, evals_result, verbose_eval, xgb_model, callbacks, custom_metric)\u001b[0m\n\u001b[0;32m    179\u001b[0m \u001b[38;5;28;01mif\u001b[39;00m cb_container\u001b[38;5;241m.\u001b[39mbefore_iteration(bst, i, dtrain, evals):\n\u001b[0;32m    180\u001b[0m     \u001b[38;5;28;01mbreak\u001b[39;00m\n\u001b[1;32m--> 181\u001b[0m \u001b[43mbst\u001b[49m\u001b[38;5;241;43m.\u001b[39;49m\u001b[43mupdate\u001b[49m\u001b[43m(\u001b[49m\u001b[43mdtrain\u001b[49m\u001b[43m,\u001b[49m\u001b[43m \u001b[49m\u001b[43miteration\u001b[49m\u001b[38;5;241;43m=\u001b[39;49m\u001b[43mi\u001b[49m\u001b[43m,\u001b[49m\u001b[43m \u001b[49m\u001b[43mfobj\u001b[49m\u001b[38;5;241;43m=\u001b[39;49m\u001b[43mobj\u001b[49m\u001b[43m)\u001b[49m\n\u001b[0;32m    182\u001b[0m \u001b[38;5;28;01mif\u001b[39;00m cb_container\u001b[38;5;241m.\u001b[39mafter_iteration(bst, i, dtrain, evals):\n\u001b[0;32m    183\u001b[0m     \u001b[38;5;28;01mbreak\u001b[39;00m\n",
      "File \u001b[1;32mc:\\Users\\Axyom\\anaconda3\\envs\\kaggle_env\\lib\\site-packages\\xgboost\\core.py:2101\u001b[0m, in \u001b[0;36mBooster.update\u001b[1;34m(self, dtrain, iteration, fobj)\u001b[0m\n\u001b[0;32m   2097\u001b[0m \u001b[38;5;28mself\u001b[39m\u001b[38;5;241m.\u001b[39m_assign_dmatrix_features(dtrain)\n\u001b[0;32m   2099\u001b[0m \u001b[38;5;28;01mif\u001b[39;00m fobj \u001b[38;5;129;01mis\u001b[39;00m \u001b[38;5;28;01mNone\u001b[39;00m:\n\u001b[0;32m   2100\u001b[0m     _check_call(\n\u001b[1;32m-> 2101\u001b[0m         \u001b[43m_LIB\u001b[49m\u001b[38;5;241;43m.\u001b[39;49m\u001b[43mXGBoosterUpdateOneIter\u001b[49m\u001b[43m(\u001b[49m\n\u001b[0;32m   2102\u001b[0m \u001b[43m            \u001b[49m\u001b[38;5;28;43mself\u001b[39;49m\u001b[38;5;241;43m.\u001b[39;49m\u001b[43mhandle\u001b[49m\u001b[43m,\u001b[49m\u001b[43m \u001b[49m\u001b[43mctypes\u001b[49m\u001b[38;5;241;43m.\u001b[39;49m\u001b[43mc_int\u001b[49m\u001b[43m(\u001b[49m\u001b[43miteration\u001b[49m\u001b[43m)\u001b[49m\u001b[43m,\u001b[49m\u001b[43m \u001b[49m\u001b[43mdtrain\u001b[49m\u001b[38;5;241;43m.\u001b[39;49m\u001b[43mhandle\u001b[49m\n\u001b[0;32m   2103\u001b[0m \u001b[43m        \u001b[49m\u001b[43m)\u001b[49m\n\u001b[0;32m   2104\u001b[0m     )\n\u001b[0;32m   2105\u001b[0m \u001b[38;5;28;01melse\u001b[39;00m:\n\u001b[0;32m   2106\u001b[0m     pred \u001b[38;5;241m=\u001b[39m \u001b[38;5;28mself\u001b[39m\u001b[38;5;241m.\u001b[39mpredict(dtrain, output_margin\u001b[38;5;241m=\u001b[39m\u001b[38;5;28;01mTrue\u001b[39;00m, training\u001b[38;5;241m=\u001b[39m\u001b[38;5;28;01mTrue\u001b[39;00m)\n",
      "\u001b[1;31mKeyboardInterrupt\u001b[0m: "
     ]
    }
   ],
   "source": [
    "import json\n",
    "from axyom_utilities.wrappers import XGBRegressorWrapper\n",
    "from axyom_utilities.training import train_model_cv\n",
    "import optuna\n",
    "import torch\n",
    "from optuna.samplers import TPESampler\n",
    "from optuna.visualization.matplotlib import (\n",
    "    plot_optimization_history, \n",
    "    plot_param_importances, \n",
    "    plot_parallel_coordinate,\n",
    "    plot_slice,\n",
    "    plot_contour\n",
    ")\n",
    "import matplotlib.pyplot as plt\n",
    "\n",
    "if HYPER_OPT:\n",
    "    fixed_params = {\n",
    "        \"n_estimators\": 10000,\n",
    "        \"objective\": \"reg:squarederror\",  # XGBoost regression objective\n",
    "        \"tree_method\": \"gpu_hist\" if torch.cuda.is_available() else \"auto\",\n",
    "        \"verbosity\": 0,\n",
    "        \"enable_categorical\": True\n",
    "    }\n",
    "    \n",
    "    # Define the Optuna objective function\n",
    "    def objective(trial):\n",
    "        # Define hyperparameter space\n",
    "        varying_params = {\n",
    "            \"learning_rate\": trial.suggest_float(\"learning_rate\", 1e-3, 0.3, log=True),\n",
    "            \"max_depth\": trial.suggest_int(\"max_depth\", 8, 15),\n",
    "            \"min_child_weight\": trial.suggest_float(\"min_child_weight\", 1e-3, 50, log=True),\n",
    "            \"subsample\": trial.suggest_float(\"subsample\", 0.4, 1.0),\n",
    "            \"colsample_bytree\": trial.suggest_float(\"colsample_bytree\", 0.4, 1.0),\n",
    "            \"gamma\": trial.suggest_float(\"gamma\", 0, 5),\n",
    "            \"lambda\": trial.suggest_float(\"lambda\", 1e-3, 10, log=True),\n",
    "            \"alpha\": trial.suggest_float(\"alpha\", 1e-3, 10, log=True)\n",
    "        }\n",
    "\n",
    "        xgb_params = {**fixed_params, **varying_params}\n",
    "        \n",
    "        # Initialize XGBRegressor with trial parameters\n",
    "        model = XGBRegressorWrapper(**xgb_params)\n",
    "        \n",
    "        # Evaluate using K-Fold CV with early stopping\n",
    "        results = train_model_cv(\\\n",
    "            model, \n",
    "            X_train, \n",
    "            y_train, \n",
    "            X_test, \n",
    "            X_orig,\n",
    "            y_orig,\n",
    "            cv_splits=5, \n",
    "            early_stopping_rounds=50\n",
    "        )\n",
    "        score = results['cv_scores'].mean()\n",
    "\n",
    "        trial.set_user_attr(\"best_iteration\", results['best_iteration'])\n",
    "        \n",
    "        return score\n",
    "    \n",
    "    # Prepare data\n",
    "    # Replace X_train, y_train, and X_test with your data\n",
    "    # Example:\n",
    "    # X_train, X_test, y_train = ...\n",
    "    \n",
    "    # Run Optuna optimization\n",
    "    study = optuna.create_study( \\\n",
    "        direction=\"minimize\", \n",
    "        study_name=\"XGB_v1\", \n",
    "        storage=\"sqlite:///xgb_study_v1.db\", \n",
    "        load_if_exists=True,\n",
    "        sampler=TPESampler(seed=666)\n",
    "    )\n",
    "    study.optimize(objective, n_trials=100, timeout=HYPER_OPT_TIME)\n",
    "    \n",
    "    # Best parameters and result\n",
    "    print(\"Best Trial: \", study.best_trial.params)\n",
    "    print(\"Best RMSE: \", study.best_value)\n",
    "\n",
    "    xgb_best_params = {**fixed_params, **study.best_trial.params}\n",
    "\n",
    "    xgb_best_params[\"n_estimators\"] = study.best_trial.user_attrs.get(\"best_iteration\", None)\n",
    "\n",
    "    with open(\"xgb_best_params.json\", \"w\") as f:\n",
    "        json.dump(xgb_best_params, f, indent=4)\n",
    "   \n",
    "    plot_optimization_history(study)\n",
    "    plt.show()\n",
    "    \n",
    "    plot_param_importances(study)\n",
    "    plt.show()\n",
    "    \n",
    "    plot_slice(study)\n",
    "    plt.show()\n",
    "\n",
    "else:\n",
    "    xgb_best_params = {\n",
    "        'n_estimators': 2225,\n",
    "        'objective': 'reg:squarederror',\n",
    "        'tree_method': 'gpu_hist',\n",
    "        'verbosity': 0,\n",
    "        'enable_categorical': True,\n",
    "        'learning_rate': 0.003059929305190928,\n",
    "        'max_depth': 8,\n",
    "        'min_child_weight': 12.496270561250991,\n",
    "        'subsample': 0.8428246186530037,\n",
    "        'colsample_bytree': 0.9999895920675128,\n",
    "        'gamma': 2.937438656382514,\n",
    "        'lambda': 1.5752155403171972,\n",
    "        'alpha': 0.4038060866963702\n",
    "    }\n"
   ]
  },
  {
   "cell_type": "code",
   "execution_count": null,
   "id": "743d5c4c",
   "metadata": {
    "execution": {
     "iopub.execute_input": "2024-12-09T18:16:55.241304Z",
     "iopub.status.busy": "2024-12-09T18:16:55.240196Z",
     "iopub.status.idle": "2024-12-09T18:16:55.246167Z",
     "shell.execute_reply": "2024-12-09T18:16:55.245357Z"
    },
    "papermill": {
     "duration": 0.035916,
     "end_time": "2024-12-09T18:16:55.247704",
     "exception": false,
     "start_time": "2024-12-09T18:16:55.211788",
     "status": "completed"
    },
    "tags": []
   },
   "outputs": [],
   "source": [
    "xgb_best_params"
   ]
  },
  {
   "cell_type": "code",
   "execution_count": null,
   "id": "b1e870ef",
   "metadata": {
    "execution": {
     "iopub.execute_input": "2024-12-09T18:16:55.304289Z",
     "iopub.status.busy": "2024-12-09T18:16:55.303586Z",
     "iopub.status.idle": "2024-12-09T18:16:55.307059Z",
     "shell.execute_reply": "2024-12-09T18:16:55.306445Z"
    },
    "papermill": {
     "duration": 0.033579,
     "end_time": "2024-12-09T18:16:55.308644",
     "exception": false,
     "start_time": "2024-12-09T18:16:55.275065",
     "status": "completed"
    },
    "tags": []
   },
   "outputs": [],
   "source": [
    "xgb_best_params[\"n_estimators\"] = 10000"
   ]
  },
  {
   "cell_type": "markdown",
   "id": "912bf058",
   "metadata": {
    "papermill": {
     "duration": 0.032715,
     "end_time": "2024-12-09T18:16:55.371337",
     "exception": false,
     "start_time": "2024-12-09T18:16:55.338622",
     "status": "completed"
    },
    "tags": []
   },
   "source": [
    "# Model Training"
   ]
  },
  {
   "cell_type": "code",
   "execution_count": null,
   "id": "d9ed4579",
   "metadata": {
    "execution": {
     "iopub.execute_input": "2024-12-09T18:16:55.437662Z",
     "iopub.status.busy": "2024-12-09T18:16:55.437325Z",
     "iopub.status.idle": "2024-12-09T18:27:05.981939Z",
     "shell.execute_reply": "2024-12-09T18:27:05.980966Z"
    },
    "papermill": {
     "duration": 610.608804,
     "end_time": "2024-12-09T18:27:06.012560",
     "exception": false,
     "start_time": "2024-12-09T18:16:55.403756",
     "status": "completed"
    },
    "tags": []
   },
   "outputs": [],
   "source": [
    "# Initialize a CatBoost Regressor\n",
    "model = XGBRegressorWrapper(**xgb_best_params)\n",
    "\n",
    "# Use the train_model function to train and evaluate the model\n",
    "results = train_model_cv(\n",
    "    model=model,\n",
    "    X_train=X_train,\n",
    "    y_train=y_train,\n",
    "    X_test=X_test,\n",
    "    X_orig=X_orig,\n",
    "    y_orig=y_orig,\n",
    "    early_stopping_rounds=100,\n",
    "    cv_splits=7\n",
    ")"
   ]
  },
  {
   "cell_type": "code",
   "execution_count": null,
   "id": "76c5d6d4",
   "metadata": {
    "execution": {
     "iopub.execute_input": "2024-12-09T18:27:06.069815Z",
     "iopub.status.busy": "2024-12-09T18:27:06.069512Z",
     "iopub.status.idle": "2024-12-09T18:27:06.074853Z",
     "shell.execute_reply": "2024-12-09T18:27:06.074183Z"
    },
    "papermill": {
     "duration": 0.035663,
     "end_time": "2024-12-09T18:27:06.076253",
     "exception": false,
     "start_time": "2024-12-09T18:27:06.040590",
     "status": "completed"
    },
    "tags": []
   },
   "outputs": [],
   "source": [
    "mean_score = np.mean(results[\"cv_scores\"])\n",
    "std_score = np.std(results[\"cv_scores\"])\n",
    "\n",
    "# Prepare the data\n",
    "data = {\n",
    "    \"mean_score\": mean_score,\n",
    "    \"std_score\": std_score\n",
    "}\n",
    "\n",
    "# Save to a JSON file\n",
    "with open(\"score.json\", \"w\") as json_file:\n",
    "    json.dump(data, json_file, indent=4)  # Use `indent` for readability"
   ]
  },
  {
   "cell_type": "code",
   "execution_count": null,
   "id": "bba76357",
   "metadata": {
    "execution": {
     "iopub.execute_input": "2024-12-09T18:27:06.134109Z",
     "iopub.status.busy": "2024-12-09T18:27:06.133614Z",
     "iopub.status.idle": "2024-12-09T18:27:09.560189Z",
     "shell.execute_reply": "2024-12-09T18:27:09.559255Z"
    },
    "papermill": {
     "duration": 3.457335,
     "end_time": "2024-12-09T18:27:09.561802",
     "exception": false,
     "start_time": "2024-12-09T18:27:06.104467",
     "status": "completed"
    },
    "tags": []
   },
   "outputs": [],
   "source": [
    "import joblib\n",
    "\n",
    "# Save OOF predictions as a CSV file\n",
    "oof_preds_df = pd.DataFrame({\"oof_preds\": results[\"oof_preds\"]})\n",
    "oof_preds_df.to_csv(\"oof_preds\", index=False)\n",
    "print(\"OOF predictions saved to oof_preds.csv.\")\n",
    "\n",
    "test_preds_df = pd.DataFrame({\"test_preds\": results[\"test_preds\"]})\n",
    "test_preds_df.to_csv(\"test_preds\", index=False)\n",
    "print(\"Test predictions saved to test_preds.csv.\")\n",
    "\n",
    "joblib.dump(results[\"models\"], \"xgboost_models.pkl\")"
   ]
  },
  {
   "cell_type": "markdown",
   "id": "607e1999",
   "metadata": {
    "papermill": {
     "duration": 0.030518,
     "end_time": "2024-12-09T18:27:09.621403",
     "exception": false,
     "start_time": "2024-12-09T18:27:09.590885",
     "status": "completed"
    },
    "tags": []
   },
   "source": [
    "# Submission"
   ]
  },
  {
   "cell_type": "code",
   "execution_count": null,
   "id": "221fab64",
   "metadata": {
    "execution": {
     "iopub.execute_input": "2024-12-09T18:27:09.684611Z",
     "iopub.status.busy": "2024-12-09T18:27:09.683845Z",
     "iopub.status.idle": "2024-12-09T18:27:11.039199Z",
     "shell.execute_reply": "2024-12-09T18:27:11.038523Z"
    },
    "papermill": {
     "duration": 1.388863,
     "end_time": "2024-12-09T18:27:11.041168",
     "exception": false,
     "start_time": "2024-12-09T18:27:09.652305",
     "status": "completed"
    },
    "tags": []
   },
   "outputs": [],
   "source": [
    "y_pred = np.expm1(results['test_preds'])\n",
    "\n",
    "submission = pd.DataFrame({\n",
    "    'id': X_test.index,  \n",
    "    'Premium Amount': y_pred\n",
    "})\n",
    "\n",
    "submission.to_csv('submission.csv', index=False)"
   ]
  },
  {
   "cell_type": "code",
   "execution_count": null,
   "id": "9fdb004a",
   "metadata": {
    "papermill": {
     "duration": 0.028392,
     "end_time": "2024-12-09T18:27:11.099295",
     "exception": false,
     "start_time": "2024-12-09T18:27:11.070903",
     "status": "completed"
    },
    "tags": []
   },
   "outputs": [],
   "source": [
    "# import os\n",
    "# from IPython.display import display, Javascript\n",
    "\n",
    "# # Define your message and file paths\n",
    "# COMP_NAME = \"playground-series-s4e12\"\n",
    "# FILE_PATH = \"submission.csv\"\n",
    "\n",
    "# SUBMIT_MESSAGE = f\"Clean XGB: Mean score: {mean_score:.4f} +/- {std_score:.4f}\"\n",
    "\n",
    "# # Submit to Kaggle\n",
    "# if SUBMIT_TO_KAGGLE: \n",
    "#     os.system(f'kaggle competitions submit -c {COMP_NAME} -f {FILE_PATH} -m \"{SUBMIT_MESSAGE}\"')\n",
    "\n",
    "# # Git commit and push\n",
    "# GIT_COMMIT_MESSAGE = f\"Submission: {SUBMIT_MESSAGE}\"\n",
    "\n",
    "# # save notebook\n",
    "# # display(Javascript('IPython.notebook.save_checkpoint()'))\n",
    "\n",
    "# # Commands for Git\n",
    "# os.system(\"git add .\")  # Stage all changes (adjust if you only want specific files)\n",
    "# os.system(f'git commit -m \"{GIT_COMMIT_MESSAGE}\"')  # Commit changes with a message\n",
    "# os.system(\"git push origin main\")  # Push to the main branch (change branch if needed)"
   ]
  },
  {
   "cell_type": "code",
   "execution_count": null,
   "id": "a2683386",
   "metadata": {},
   "outputs": [],
   "source": []
  }
 ],
 "metadata": {
  "kaggle": {
   "accelerator": "gpu",
   "dataSources": [
    {
     "databundleVersionId": 10305135,
     "sourceId": 84896,
     "sourceType": "competition"
    },
    {
     "datasetId": 5547076,
     "sourceId": 9178166,
     "sourceType": "datasetVersion"
    },
    {
     "sourceId": 211948002,
     "sourceType": "kernelVersion"
    }
   ],
   "dockerImageVersionId": 30805,
   "isGpuEnabled": true,
   "isInternetEnabled": true,
   "language": "python",
   "sourceType": "notebook"
  },
  "kernelspec": {
   "display_name": "kaggle_env",
   "language": "python",
   "name": "python3"
  },
  "language_info": {
   "codemirror_mode": {
    "name": "ipython",
    "version": 3
   },
   "file_extension": ".py",
   "mimetype": "text/x-python",
   "name": "python",
   "nbconvert_exporter": "python",
   "pygments_lexer": "ipython3",
   "version": "3.10.16"
  },
  "papermill": {
   "default_parameters": {},
   "duration": 18880.993655,
   "end_time": "2024-12-09T18:27:12.649632",
   "environment_variables": {},
   "exception": null,
   "input_path": "__notebook__.ipynb",
   "output_path": "__notebook__.ipynb",
   "parameters": {},
   "start_time": "2024-12-09T13:12:31.655977",
   "version": "2.6.0"
  }
 },
 "nbformat": 4,
 "nbformat_minor": 5
}
