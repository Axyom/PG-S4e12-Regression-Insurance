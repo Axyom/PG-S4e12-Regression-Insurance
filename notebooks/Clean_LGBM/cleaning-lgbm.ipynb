{
 "cells": [
  {
   "cell_type": "code",
   "execution_count": null,
   "id": "615cf318",
   "metadata": {
    "_cell_guid": "b1076dfc-b9ad-4769-8c92-a6c4dae69d19",
    "_uuid": "8f2839f25d086af736a60e9eeb907d3b93b6e0e5",
    "execution": {
     "iopub.execute_input": "2024-12-09T13:12:34.047888Z",
     "iopub.status.busy": "2024-12-09T13:12:34.047597Z",
     "iopub.status.idle": "2024-12-09T13:12:34.716436Z",
     "shell.execute_reply": "2024-12-09T13:12:34.715768Z"
    },
    "papermill": {
     "duration": 0.676501,
     "end_time": "2024-12-09T13:12:34.718408",
     "exception": false,
     "start_time": "2024-12-09T13:12:34.041907",
     "status": "completed"
    },
    "tags": []
   },
   "outputs": [],
   "source": [
    "import numpy as np\n",
    "import pandas as pd\n",
    "import os\n",
    "import pandas as pd\n",
    "import sys"
   ]
  },
  {
   "cell_type": "markdown",
   "id": "f1522c74",
   "metadata": {
    "papermill": {
     "duration": 0.004851,
     "end_time": "2024-12-09T13:12:34.727632",
     "exception": false,
     "start_time": "2024-12-09T13:12:34.722781",
     "status": "completed"
    },
    "tags": []
   },
   "source": [
    "# Config"
   ]
  },
  {
   "cell_type": "code",
   "execution_count": null,
   "id": "25bf2667",
   "metadata": {
    "execution": {
     "iopub.execute_input": "2024-12-09T13:12:34.736529Z",
     "iopub.status.busy": "2024-12-09T13:12:34.736123Z",
     "iopub.status.idle": "2024-12-09T13:12:34.740000Z",
     "shell.execute_reply": "2024-12-09T13:12:34.739354Z"
    },
    "papermill": {
     "duration": 0.01006,
     "end_time": "2024-12-09T13:12:34.741432",
     "exception": false,
     "start_time": "2024-12-09T13:12:34.731372",
     "status": "completed"
    },
    "tags": []
   },
   "outputs": [],
   "source": [
    "HYPER_OPT = True \n",
    "HYPER_OPT_TIME = 3600*5\n",
    "USE_ORIGINAL_DATA = False \n",
    "SUBMIT_TO_KAGGLE = False"
   ]
  },
  {
   "cell_type": "code",
   "execution_count": null,
   "id": "636ad8af",
   "metadata": {},
   "outputs": [],
   "source": [
    "# Define the base directory (where the notebook is running)\n",
    "base_dir = os.path.abspath(os.path.join(os.getcwd(), \"..\", \"..\"))\n",
    "\n",
    "# Define the data directory\n",
    "data_dir = os.path.join(base_dir, \"data\")\n",
    "\n",
    "model_dir = os.path.join(base_dir, \"models\")\n",
    "\n",
    "sys.path.append(base_dir)"
   ]
  },
  {
   "cell_type": "markdown",
   "id": "7d1038ad",
   "metadata": {
    "papermill": {
     "duration": 0.0037,
     "end_time": "2024-12-09T13:12:34.787072",
     "exception": false,
     "start_time": "2024-12-09T13:12:34.783372",
     "status": "completed"
    },
    "tags": []
   },
   "source": [
    "# Data Extraction"
   ]
  },
  {
   "cell_type": "code",
   "execution_count": null,
   "id": "0d745aba",
   "metadata": {},
   "outputs": [],
   "source": [
    "from axyom_utilities.data_extraction import extract_data\n",
    "\n",
    "X_train, y_train, X_test, X_orig, y_orig = extract_data(data_dir, USE_ORIGINAL_DATA)"
   ]
  },
  {
   "cell_type": "markdown",
   "id": "300f27ae",
   "metadata": {
    "papermill": {
     "duration": 0.003676,
     "end_time": "2024-12-09T13:12:43.939293",
     "exception": false,
     "start_time": "2024-12-09T13:12:43.935617",
     "status": "completed"
    },
    "tags": []
   },
   "source": [
    "# Data Cleaning"
   ]
  },
  {
   "cell_type": "code",
   "execution_count": null,
   "id": "9d42d2df",
   "metadata": {
    "execution": {
     "iopub.execute_input": "2024-12-09T13:12:43.995169Z",
     "iopub.status.busy": "2024-12-09T13:12:43.994928Z",
     "iopub.status.idle": "2024-12-09T13:12:50.925060Z",
     "shell.execute_reply": "2024-12-09T13:12:50.924366Z"
    },
    "papermill": {
     "duration": 6.936729,
     "end_time": "2024-12-09T13:12:50.926967",
     "exception": false,
     "start_time": "2024-12-09T13:12:43.990238",
     "status": "completed"
    },
    "tags": []
   },
   "outputs": [],
   "source": [
    "from axyom_utilities.preprocessing import preprocess \n",
    "\n",
    "X_train = preprocess(X_train)\n",
    "X_test = preprocess(X_test)\n",
    "if USE_ORIGINAL_DATA:\n",
    "    X_orig = preprocess(X_orig)"
   ]
  },
  {
   "cell_type": "markdown",
   "id": "2bfe1a39",
   "metadata": {
    "papermill": {
     "duration": 0.003711,
     "end_time": "2024-12-09T13:12:52.399442",
     "exception": false,
     "start_time": "2024-12-09T13:12:52.395731",
     "status": "completed"
    },
    "tags": []
   },
   "source": [
    "# HyperOpt"
   ]
  },
  {
   "cell_type": "code",
   "execution_count": null,
   "id": "3a251a32",
   "metadata": {},
   "outputs": [],
   "source": [
    "import json\n",
    "import optuna\n",
    "from optuna.samplers import TPESampler\n",
    "from axyom_utilities.wrappers import LGBMRegressorWrapper\n",
    "from axyom_utilities.training import train_model_cv\n",
    "from optuna.visualization.matplotlib import (\n",
    "    plot_optimization_history, \n",
    "    plot_param_importances, \n",
    "    plot_parallel_coordinate,\n",
    "    plot_slice,\n",
    "    plot_contour\n",
    ")\n",
    "import matplotlib.pyplot as plt\n",
    "\n",
    "if HYPER_OPT:\n",
    "    fixed_params = {\n",
    "        \"n_estimators\": 10000,\n",
    "        \"objective\": \"regression\",\n",
    "        \"device\": \"gpu\",\n",
    "        \"verbose\": -1\n",
    "    }\n",
    "    \n",
    "    # Define the Optuna objective function\n",
    "    def objective(trial):\n",
    "        # Define hyperparameter space\n",
    "        varying_params = {\n",
    "            \"learning_rate\": trial.suggest_float(\"learning_rate\", 1e-3, 0.3, log=True),\n",
    "            \"max_depth\": trial.suggest_int(\"max_depth\", 8, 15),\n",
    "            \"num_leaves\": trial.suggest_int(\"num_leaves\", 20, 300),\n",
    "            \"min_child_samples\": trial.suggest_int(\"min_child_samples\", 5, 100),\n",
    "            \"min_child_weight\": trial.suggest_float(\"min_child_weight\", 1e-3, 50, log=True),\n",
    "            \"feature_fraction\": trial.suggest_float(\"feature_fraction\", 0.4, 1.0),\n",
    "            \"bagging_fraction\": trial.suggest_float(\"bagging_fraction\", 0.4, 1.0),\n",
    "            \"bagging_freq\": trial.suggest_int(\"bagging_freq\", 1, 7),\n",
    "            \"lambda_l1\": trial.suggest_float(\"lambda_l1\", 1e-3, 10, log=True),\n",
    "            \"lambda_l2\": trial.suggest_float(\"lambda_l2\", 1e-3, 10, log=True)\n",
    "        }\n",
    "\n",
    "        lgbm_params = {**fixed_params, **varying_params}\n",
    "        \n",
    "        # Initialize LGBMRegressor with trial parameters\n",
    "        model = LGBMRegressorWrapper(**lgbm_params)\n",
    "        \n",
    "        # Evaluate using K-Fold CV with early stopping\n",
    "        results = train_model_cv(\\\n",
    "            model, \n",
    "            X_train, \n",
    "            y_train, \n",
    "            X_test, \n",
    "            X_orig,\n",
    "            cv_splits=5, \n",
    "            early_stopping_rounds=50\n",
    "        )\n",
    "        score = results['cv_scores'].mean()\n",
    "\n",
    "        trial.set_user_attr(\"best_iteration\", results['best_iteration'])\n",
    "        \n",
    "        return score\n",
    "    \n",
    "    # Prepare data\n",
    "    # Replace X_train, y_train, and X_test with your data\n",
    "    # Example:\n",
    "    # X_train, X_test, y_train = ...\n",
    "    \n",
    "    # Run Optuna optimization\n",
    "    study = optuna.create_study( \\\n",
    "        direction=\"minimize\", \n",
    "        study_name=\"LGBM_v1\", \n",
    "        storage=\"sqlite:///lgbm_study_v1.db\", \n",
    "        load_if_exists=True,\n",
    "        sampler=TPESampler(seed=666)\n",
    "    )\n",
    "    study.optimize(objective, n_trials=40, timeout=3600*3)\n",
    "    \n",
    "    # Best parameters and result\n",
    "    print(\"Best Trial: \", study.best_trial.params)\n",
    "    print(\"Best RMSE: \", study.best_value)\n",
    "\n",
    "    lgbm_best_params = {**fixed_params, **study.best_trial.params}\n",
    "\n",
    "    lgbm_best_params[\"n_estimators\"] = study.best_trial.user_attrs.get(\"best_iteration\", None)\n",
    "\n",
    "    with open(\"lgbm_best_params.json\", \"w\") as f:\n",
    "        json.dump(lgbm_best_params, f, indent=4)\n",
    "   \n",
    "    plot_optimization_history(study)\n",
    "    plt.show()\n",
    "    \n",
    "    plot_param_importances(study)\n",
    "    plt.show()\n",
    "    \n",
    "    plot_slice(study)\n",
    "    plt.show()\n",
    "\n",
    "else:\n",
    "    lgbm_best_params = {\n",
    "        'n_estimators': 1179,\n",
    "        'objective': 'regression',\n",
    "        'device': 'gpu',\n",
    "        'verbose': -1,\n",
    "        'learning_rate': 0.0060716555029467975,\n",
    "        'max_depth': 10,\n",
    "        'num_leaves': 103,\n",
    "        'min_child_samples': 16,\n",
    "        'min_child_weight': 0.0012165489316105147,\n",
    "        'feature_fraction': 0.9266241230252082,\n",
    "        'bagging_fraction': 0.9038497361834028,\n",
    "        'bagging_freq': 2,\n",
    "        'lambda_l1': 0.07784436949246655,\n",
    "        'lambda_l2': 8.807120942617468\n",
    "    }"
   ]
  },
  {
   "cell_type": "code",
   "execution_count": null,
   "id": "743d5c4c",
   "metadata": {
    "execution": {
     "iopub.execute_input": "2024-12-09T18:16:55.241304Z",
     "iopub.status.busy": "2024-12-09T18:16:55.240196Z",
     "iopub.status.idle": "2024-12-09T18:16:55.246167Z",
     "shell.execute_reply": "2024-12-09T18:16:55.245357Z"
    },
    "papermill": {
     "duration": 0.035916,
     "end_time": "2024-12-09T18:16:55.247704",
     "exception": false,
     "start_time": "2024-12-09T18:16:55.211788",
     "status": "completed"
    },
    "tags": []
   },
   "outputs": [],
   "source": [
    "lgbm_best_params"
   ]
  },
  {
   "cell_type": "code",
   "execution_count": null,
   "id": "b1e870ef",
   "metadata": {
    "execution": {
     "iopub.execute_input": "2024-12-09T18:16:55.304289Z",
     "iopub.status.busy": "2024-12-09T18:16:55.303586Z",
     "iopub.status.idle": "2024-12-09T18:16:55.307059Z",
     "shell.execute_reply": "2024-12-09T18:16:55.306445Z"
    },
    "papermill": {
     "duration": 0.033579,
     "end_time": "2024-12-09T18:16:55.308644",
     "exception": false,
     "start_time": "2024-12-09T18:16:55.275065",
     "status": "completed"
    },
    "tags": []
   },
   "outputs": [],
   "source": [
    "lgbm_best_params[\"n_estimators\"] = 10000"
   ]
  },
  {
   "cell_type": "markdown",
   "id": "912bf058",
   "metadata": {
    "papermill": {
     "duration": 0.032715,
     "end_time": "2024-12-09T18:16:55.371337",
     "exception": false,
     "start_time": "2024-12-09T18:16:55.338622",
     "status": "completed"
    },
    "tags": []
   },
   "source": [
    "# Model Training"
   ]
  },
  {
   "cell_type": "code",
   "execution_count": null,
   "id": "d9ed4579",
   "metadata": {
    "execution": {
     "iopub.execute_input": "2024-12-09T18:16:55.437662Z",
     "iopub.status.busy": "2024-12-09T18:16:55.437325Z",
     "iopub.status.idle": "2024-12-09T18:27:05.981939Z",
     "shell.execute_reply": "2024-12-09T18:27:05.980966Z"
    },
    "papermill": {
     "duration": 610.608804,
     "end_time": "2024-12-09T18:27:06.012560",
     "exception": false,
     "start_time": "2024-12-09T18:16:55.403756",
     "status": "completed"
    },
    "tags": []
   },
   "outputs": [],
   "source": [
    "# Initialize a CatBoost Regressor\n",
    "model = LGBMRegressorWrapper(**lgbm_best_params)\n",
    "\n",
    "# Use the train_model function to train and evaluate the model\n",
    "results = train_model_cv(\n",
    "    model=model,\n",
    "    X_train=X_train,\n",
    "    y_train=y_train,\n",
    "    X_test=X_test,\n",
    "    X_orig=X_orig,\n",
    "    early_stopping_rounds=100,\n",
    "    cv_splits=7\n",
    ")"
   ]
  },
  {
   "cell_type": "code",
   "execution_count": null,
   "id": "76c5d6d4",
   "metadata": {
    "execution": {
     "iopub.execute_input": "2024-12-09T18:27:06.069815Z",
     "iopub.status.busy": "2024-12-09T18:27:06.069512Z",
     "iopub.status.idle": "2024-12-09T18:27:06.074853Z",
     "shell.execute_reply": "2024-12-09T18:27:06.074183Z"
    },
    "papermill": {
     "duration": 0.035663,
     "end_time": "2024-12-09T18:27:06.076253",
     "exception": false,
     "start_time": "2024-12-09T18:27:06.040590",
     "status": "completed"
    },
    "tags": []
   },
   "outputs": [],
   "source": [
    "mean_score = np.mean(results[\"cv_scores\"])\n",
    "std_score = np.std(results[\"cv_scores\"])\n",
    "\n",
    "# Prepare the data\n",
    "data = {\n",
    "    \"mean_score\": mean_score,\n",
    "    \"std_score\": std_score\n",
    "}\n",
    "\n",
    "# Save to a JSON file\n",
    "with open(\"score.json\", \"w\") as json_file:\n",
    "    json.dump(data, json_file, indent=4)  # Use `indent` for readability"
   ]
  },
  {
   "cell_type": "code",
   "execution_count": null,
   "id": "bba76357",
   "metadata": {
    "execution": {
     "iopub.execute_input": "2024-12-09T18:27:06.134109Z",
     "iopub.status.busy": "2024-12-09T18:27:06.133614Z",
     "iopub.status.idle": "2024-12-09T18:27:09.560189Z",
     "shell.execute_reply": "2024-12-09T18:27:09.559255Z"
    },
    "papermill": {
     "duration": 3.457335,
     "end_time": "2024-12-09T18:27:09.561802",
     "exception": false,
     "start_time": "2024-12-09T18:27:06.104467",
     "status": "completed"
    },
    "tags": []
   },
   "outputs": [],
   "source": [
    "import joblib\n",
    "\n",
    "# Save OOF predictions as a CSV file\n",
    "oof_preds_df = pd.DataFrame({\"oof_preds\": results[\"oof_preds\"]})\n",
    "oof_preds_df.to_csv(\"oof_preds\", index=False)\n",
    "print(\"OOF predictions saved to oof_preds.csv.\")\n",
    "\n",
    "test_preds_df = pd.DataFrame({\"test_preds\": results[\"test_preds\"]})\n",
    "test_preds_df.to_csv(\"test_preds\", index=False)\n",
    "print(\"Test predictions saved to test_preds.csv.\")\n",
    "\n",
    "joblib.dump(results[\"models\"], \"xgboost_models.pkl\")"
   ]
  },
  {
   "cell_type": "markdown",
   "id": "607e1999",
   "metadata": {
    "papermill": {
     "duration": 0.030518,
     "end_time": "2024-12-09T18:27:09.621403",
     "exception": false,
     "start_time": "2024-12-09T18:27:09.590885",
     "status": "completed"
    },
    "tags": []
   },
   "source": [
    "# Submission"
   ]
  },
  {
   "cell_type": "code",
   "execution_count": null,
   "id": "221fab64",
   "metadata": {
    "execution": {
     "iopub.execute_input": "2024-12-09T18:27:09.684611Z",
     "iopub.status.busy": "2024-12-09T18:27:09.683845Z",
     "iopub.status.idle": "2024-12-09T18:27:11.039199Z",
     "shell.execute_reply": "2024-12-09T18:27:11.038523Z"
    },
    "papermill": {
     "duration": 1.388863,
     "end_time": "2024-12-09T18:27:11.041168",
     "exception": false,
     "start_time": "2024-12-09T18:27:09.652305",
     "status": "completed"
    },
    "tags": []
   },
   "outputs": [],
   "source": [
    "y_pred = np.expm1(results['test_preds'])\n",
    "\n",
    "submission = pd.DataFrame({\n",
    "    'id': X_test.index,  \n",
    "    'Premium Amount': y_pred\n",
    "})\n",
    "\n",
    "submission.to_csv('submission.csv', index=False)"
   ]
  },
  {
   "cell_type": "code",
   "execution_count": null,
   "id": "1dacbf49",
   "metadata": {},
   "outputs": [],
   "source": [
    "import os\n",
    "\n",
    "# Define your message and file paths\n",
    "COMP_NAME = \"playground-series-s4e12\"\n",
    "FILE_PATH = \"submission.csv\"\n",
    "\n",
    "SUBMIT_MESSAGE = f\"Clean XGB: Mean score: {mean_score:.4f} +/- {std_score:.4f}\"\n",
    "\n",
    "# Submit to Kaggle\n",
    "\n",
    "if SUBMIT_TO_KAGGLE: \n",
    "    os.system(f'kaggle competitions submit -c {COMP_NAME} -f {FILE_PATH} -m \"{SUBMIT_MESSAGE}\"')"
   ]
  },
  {
   "cell_type": "code",
   "execution_count": null,
   "id": "9fdb004a",
   "metadata": {
    "papermill": {
     "duration": 0.028392,
     "end_time": "2024-12-09T18:27:11.099295",
     "exception": false,
     "start_time": "2024-12-09T18:27:11.070903",
     "status": "completed"
    },
    "tags": []
   },
   "outputs": [],
   "source": [
    "# import os\n",
    "# from IPython.display import display, Javascript\n",
    "\n",
    "# # Define your message and file paths\n",
    "# COMP_NAME = \"playground-series-s4e12\"\n",
    "# FILE_PATH = \"submission.csv\"\n",
    "\n",
    "# SUBMIT_MESSAGE = f\"Clean XGB: Mean score: {mean_score:.4f} +/- {std_score:.4f}\"\n",
    "\n",
    "# # Submit to Kaggle\n",
    "# if SUBMIT_TO_KAGGLE: \n",
    "#     os.system(f'kaggle competitions submit -c {COMP_NAME} -f {FILE_PATH} -m \"{SUBMIT_MESSAGE}\"')\n",
    "\n",
    "# # Git commit and push\n",
    "# GIT_COMMIT_MESSAGE = f\"Submission: {SUBMIT_MESSAGE}\"\n",
    "\n",
    "# # save notebook\n",
    "# # display(Javascript('IPython.notebook.save_checkpoint()'))\n",
    "\n",
    "# # Commands for Git\n",
    "# os.system(\"git add .\")  # Stage all changes (adjust if you only want specific files)\n",
    "# os.system(f'git commit -m \"{GIT_COMMIT_MESSAGE}\"')  # Commit changes with a message\n",
    "# os.system(\"git push origin main\")  # Push to the main branch (change branch if needed)"
   ]
  },
  {
   "cell_type": "code",
   "execution_count": null,
   "id": "a2683386",
   "metadata": {},
   "outputs": [],
   "source": []
  }
 ],
 "metadata": {
  "kaggle": {
   "accelerator": "gpu",
   "dataSources": [
    {
     "databundleVersionId": 10305135,
     "sourceId": 84896,
     "sourceType": "competition"
    },
    {
     "datasetId": 5547076,
     "sourceId": 9178166,
     "sourceType": "datasetVersion"
    },
    {
     "sourceId": 211948002,
     "sourceType": "kernelVersion"
    }
   ],
   "dockerImageVersionId": 30805,
   "isGpuEnabled": true,
   "isInternetEnabled": true,
   "language": "python",
   "sourceType": "notebook"
  },
  "kernelspec": {
   "display_name": "kaggle_env",
   "language": "python",
   "name": "python3"
  },
  "language_info": {
   "codemirror_mode": {
    "name": "ipython",
    "version": 3
   },
   "file_extension": ".py",
   "mimetype": "text/x-python",
   "name": "python",
   "nbconvert_exporter": "python",
   "pygments_lexer": "ipython3",
   "version": "3.10.16"
  },
  "papermill": {
   "default_parameters": {},
   "duration": 18880.993655,
   "end_time": "2024-12-09T18:27:12.649632",
   "environment_variables": {},
   "exception": null,
   "input_path": "__notebook__.ipynb",
   "output_path": "__notebook__.ipynb",
   "parameters": {},
   "start_time": "2024-12-09T13:12:31.655977",
   "version": "2.6.0"
  }
 },
 "nbformat": 4,
 "nbformat_minor": 5
}
