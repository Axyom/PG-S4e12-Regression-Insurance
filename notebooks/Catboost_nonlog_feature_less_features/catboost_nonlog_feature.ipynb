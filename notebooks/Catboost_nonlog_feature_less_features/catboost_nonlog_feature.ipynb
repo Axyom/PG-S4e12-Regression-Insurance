{
 "cells": [
  {
   "cell_type": "code",
   "execution_count": 1,
   "id": "615cf318",
   "metadata": {
    "_cell_guid": "b1076dfc-b9ad-4769-8c92-a6c4dae69d19",
    "_uuid": "8f2839f25d086af736a60e9eeb907d3b93b6e0e5",
    "execution": {
     "iopub.execute_input": "2024-12-09T13:12:34.047888Z",
     "iopub.status.busy": "2024-12-09T13:12:34.047597Z",
     "iopub.status.idle": "2024-12-09T13:12:34.716436Z",
     "shell.execute_reply": "2024-12-09T13:12:34.715768Z"
    },
    "papermill": {
     "duration": 0.676501,
     "end_time": "2024-12-09T13:12:34.718408",
     "exception": false,
     "start_time": "2024-12-09T13:12:34.041907",
     "status": "completed"
    },
    "tags": []
   },
   "outputs": [],
   "source": [
    "import numpy as np\n",
    "import os\n",
    "import pandas as pd\n",
    "import sys"
   ]
  },
  {
   "cell_type": "markdown",
   "id": "f1522c74",
   "metadata": {
    "papermill": {
     "duration": 0.004851,
     "end_time": "2024-12-09T13:12:34.727632",
     "exception": false,
     "start_time": "2024-12-09T13:12:34.722781",
     "status": "completed"
    },
    "tags": []
   },
   "source": [
    "# Config"
   ]
  },
  {
   "cell_type": "code",
   "execution_count": 2,
   "id": "25bf2667",
   "metadata": {
    "execution": {
     "iopub.execute_input": "2024-12-09T13:12:34.736529Z",
     "iopub.status.busy": "2024-12-09T13:12:34.736123Z",
     "iopub.status.idle": "2024-12-09T13:12:34.740000Z",
     "shell.execute_reply": "2024-12-09T13:12:34.739354Z"
    },
    "papermill": {
     "duration": 0.01006,
     "end_time": "2024-12-09T13:12:34.741432",
     "exception": false,
     "start_time": "2024-12-09T13:12:34.731372",
     "status": "completed"
    },
    "tags": []
   },
   "outputs": [],
   "source": [
    "HYPER_OPT = True \n",
    "HYPER_OPT_TIME = 8*60*60\n",
    "USE_ORIGINAL_DATA = False \n",
    "SUBMIT_TO_KAGGLE = False\n",
    "COMPUTE_NONLOG = False\n",
    "USE_NONLOG = False"
   ]
  },
  {
   "cell_type": "code",
   "execution_count": 3,
   "id": "636ad8af",
   "metadata": {},
   "outputs": [],
   "source": [
    "# Define the base directory (where the notebook is running)\n",
    "base_dir = os.path.abspath(os.path.join(os.getcwd(), \"..\", \"..\"))\n",
    "\n",
    "# Define the data directory\n",
    "data_dir = os.path.join(base_dir, \"data\")\n",
    "\n",
    "model_dir = os.path.join(base_dir, \"models\")\n",
    "\n",
    "notebooks_dir = os.path.join(base_dir, \"notebooks\")\n",
    "\n",
    "sys.path.append(base_dir)"
   ]
  },
  {
   "cell_type": "markdown",
   "id": "7d1038ad",
   "metadata": {
    "papermill": {
     "duration": 0.0037,
     "end_time": "2024-12-09T13:12:34.787072",
     "exception": false,
     "start_time": "2024-12-09T13:12:34.783372",
     "status": "completed"
    },
    "tags": []
   },
   "source": [
    "# Data Extraction"
   ]
  },
  {
   "cell_type": "code",
   "execution_count": 4,
   "id": "0d745aba",
   "metadata": {},
   "outputs": [],
   "source": [
    "from axyom_utilities.data_extraction import extract_data\n",
    "from axyom_utilities.training import train_model_cv\n",
    "from axyom_utilities.wrappers import CatBoostRegressorWrapper\n",
    "from axyom_utilities.preprocessing import * \n",
    "from toolz import pipe\n",
    "import joblib\n",
    "\n",
    "def get_oof(X_train, y_train, X_test):\n",
    "    \n",
    "    #X_train, y_train, X_test, X_orig, y_orig = extract_data(data_dir, USE_ORIGINAL_DATA, log_transform=False) # IMPORTANT: no log transform\n",
    "\n",
    "    preprocessor = lambda df: pipe(df,\\\n",
    "        preprocess_dates,\n",
    "        all_to_string    \n",
    "    )\n",
    "\n",
    "    X_train = preprocessor(X_train)\n",
    "    X_test = preprocessor(X_test)\n",
    "    \n",
    "    params = {\n",
    "        \"iterations\":500,\n",
    "        \"learning_rate\":0.1,\n",
    "        \"depth\":6,\n",
    "        \"eval_metric\":\"RMSE\",\n",
    "        \"random_seed\":42,\n",
    "        \"verbose\":200,\n",
    "        \"task_type\":'GPU',\n",
    "        \"l2_leaf_reg\" :0.7,\n",
    "    }\n",
    "    \n",
    "    results = train_model_cv(\n",
    "        model=CatBoostRegressorWrapper(**params),\n",
    "        X_train=X_train,\n",
    "        y_train=y_train,\n",
    "        X_test=X_test,\n",
    "        early_stopping_rounds=100,\n",
    "        cv_splits=5\n",
    "    )\n",
    "    \n",
    "    oof, test = results[\"oof_preds\"], results['test_preds']\n",
    "    \n",
    "    joblib.dump((oof, test), \"nonlog_feature/nonlog.pkl\")\n",
    "    \n",
    "    return oof, test\n",
    "\n",
    "\n",
    "\n",
    "# oof_log = pd.read_csv(os.path.join(notebooks_dir, \"Catboost_nonlog\\\\oof_preds_log.csv\"))\n",
    "# oof_nonlog = pd.read_csv(os.path.join(notebooks_dir, \"Catboost_nonlog\\\\oof_preds_nonlog.csv\"))\n",
    "\n",
    "# test_log = pd.read_csv(os.path.join(notebooks_dir, \"Catboost_nonlog\\\\test_preds_log.csv\"))\n",
    "# test_nonlog = pd.read_csv(os.path.join(notebooks_dir, \"Catboost_nonlog\\\\test_preds_nonlog.csv\"))\n",
    "\n",
    "# X_train[\"oof_nonlog\"] = oof_nonlog + np.random.normal(0, 0.01, oof_log.shape) # noise\n",
    "# X_test[\"oof_nonlog\"] = test_nonlog + np.random.normal(0, 0.01, oof_log.shape)\n",
    "\n",
    "# X_test[\"oof_log\"] = test_log\n",
    "# X_train[\"oof_log\"] = oof_log"
   ]
  },
  {
   "cell_type": "code",
   "execution_count": 5,
   "id": "ccf639fb",
   "metadata": {},
   "outputs": [],
   "source": [
    "X_train, y_train, X_test, X_orig, y_orig = extract_data(data_dir, USE_ORIGINAL_DATA, log_transform=True)\n",
    "y_train_nonlog = np.expm1(y_train)\n",
    "\n",
    "if USE_NONLOG:\n",
    "    if COMPUTE_NONLOG:\n",
    "        nonlog_oof_preds, nonlog_test_preds = get_oof(X_train, y_train_nonlog, X_test)\n",
    "    else:\n",
    "        nonlog_oof_preds, nonlog_test_preds = joblib.load('nonlog_feature/cat_non_loged.pkl')\n",
    "    \n",
    "    X_train[\"nonlog\"] = nonlog_oof_preds\n",
    "    X_test[\"nonlog\"] = nonlog_test_preds"
   ]
  },
  {
   "cell_type": "markdown",
   "id": "300f27ae",
   "metadata": {
    "papermill": {
     "duration": 0.003676,
     "end_time": "2024-12-09T13:12:43.939293",
     "exception": false,
     "start_time": "2024-12-09T13:12:43.935617",
     "status": "completed"
    },
    "tags": []
   },
   "source": [
    "# Data Cleaning"
   ]
  },
  {
   "cell_type": "code",
   "execution_count": 6,
   "id": "9d42d2df",
   "metadata": {
    "execution": {
     "iopub.execute_input": "2024-12-09T13:12:43.995169Z",
     "iopub.status.busy": "2024-12-09T13:12:43.994928Z",
     "iopub.status.idle": "2024-12-09T13:12:50.925060Z",
     "shell.execute_reply": "2024-12-09T13:12:50.924366Z"
    },
    "papermill": {
     "duration": 6.936729,
     "end_time": "2024-12-09T13:12:50.926967",
     "exception": false,
     "start_time": "2024-12-09T13:12:43.990238",
     "status": "completed"
    },
    "tags": []
   },
   "outputs": [
    {
     "data": {
      "text/plain": [
       "(          Age  Gender Annual Income Marital Status  Number of Dependents  \\\n",
       " id                                                                         \n",
       " 0        19.0  Female       10049.0        Married                   1.0   \n",
       " 1        39.0  Female       31678.0       Divorced                   3.0   \n",
       " 2        23.0    Male       25602.0       Divorced                   3.0   \n",
       " 3        21.0    Male      141855.0        Married                   2.0   \n",
       " 4        21.0    Male       39651.0         Single                   1.0   \n",
       " ...       ...     ...           ...            ...                   ...   \n",
       " 1199995  36.0  Female       27316.0        Married                   0.0   \n",
       " 1199996  54.0    Male       35786.0       Divorced                   NaN   \n",
       " 1199997  19.0    Male       51884.0       Divorced                   0.0   \n",
       " 1199998  55.0    Male          None         Single                   1.0   \n",
       " 1199999  21.0  Female          None       Divorced                   0.0   \n",
       " \n",
       "         Education Level     Occupation        Health Score  Location  \\\n",
       " id                                                                     \n",
       " 0            Bachelor's  Self-Employed   22.59876067181393     Urban   \n",
       " 1              Master's        Unknown  15.569730989408043     Rural   \n",
       " 2           High School  Self-Employed   47.17754928786464  Suburban   \n",
       " 3            Bachelor's        Unknown  10.938144158664583     Rural   \n",
       " 4            Bachelor's  Self-Employed  20.376093627736925     Rural   \n",
       " ...                 ...            ...                 ...       ...   \n",
       " 1199995        Master's     Unemployed  13.772906781943464     Urban   \n",
       " 1199996        Master's  Self-Employed  11.483482248867409     Rural   \n",
       " 1199997        Master's        Unknown  14.724468506098551  Suburban   \n",
       " 1199998             PhD        Unknown  18.547381083230007  Suburban   \n",
       " 1199999             PhD        Unknown  10.125322976855044     Rural   \n",
       " \n",
       "            Policy Type  ... Occupation_freq  Health Score_freq Location_freq  \\\n",
       " id                      ...                                                    \n",
       " 0              Premium  ...        470636.0               16.0      663201.0   \n",
       " 1        Comprehensive  ...        597200.0               10.0      668067.0   \n",
       " 2              Premium  ...        470636.0                1.0      668732.0   \n",
       " 3                Basic  ...        597200.0               82.0      668067.0   \n",
       " 4              Premium  ...        470636.0                6.0      668067.0   \n",
       " ...                ...  ...             ...                ...           ...   \n",
       " 1199995        Premium  ...        460840.0                9.0      663201.0   \n",
       " 1199996  Comprehensive  ...        470636.0                1.0      668067.0   \n",
       " 1199997          Basic  ...        597200.0               11.0      668732.0   \n",
       " 1199998        Premium  ...        597200.0               79.0      668732.0   \n",
       " 1199999        Premium  ...        597200.0               13.0      668067.0   \n",
       " \n",
       "          Policy Type_freq Previous Claims_freq Credit Score_freq  \\\n",
       " id                                                                 \n",
       " 0                669475.0             279761.0            3195.0   \n",
       " 1                665822.0             501692.0            5394.0   \n",
       " 2                669475.0             501692.0          229333.0   \n",
       " 3                664703.0             501692.0            1650.0   \n",
       " 4                669475.0             508239.0            3585.0   \n",
       " ...                   ...                  ...               ...   \n",
       " 1199995          669475.0             606831.0            3195.0   \n",
       " 1199996          665822.0             606831.0            2498.0   \n",
       " 1199997          664703.0             508239.0          229333.0   \n",
       " 1199998          669475.0             501692.0            2692.0   \n",
       " 1199999          669475.0             508239.0            2346.0   \n",
       " \n",
       "         Customer Feedback_freq Smoking Status_freq  Exercise Frequency_freq  \\\n",
       " id                                                                            \n",
       " 0                     625952.0            996268.0                 510693.0   \n",
       " 1                     629122.0           1003732.0                 498230.0   \n",
       " 2                     614826.0           1003732.0                 510693.0   \n",
       " 3                     625952.0           1003732.0                 491143.0   \n",
       " 4                     625952.0           1003732.0                 510693.0   \n",
       " ...                        ...                 ...                      ...   \n",
       " 1199995               625952.0            996268.0                 491143.0   \n",
       " 1199996               625952.0            996268.0                 510693.0   \n",
       " 1199997               614826.0            996268.0                 498230.0   \n",
       " 1199998               625952.0            996268.0                 491143.0   \n",
       " 1199999               614826.0           1003732.0                 498230.0   \n",
       " \n",
       "          Property Type_freq  \n",
       " id                           \n",
       " 0                  667500.0  \n",
       " 1                  667500.0  \n",
       " 2                  667500.0  \n",
       " 3                  666022.0  \n",
       " 4                  667500.0  \n",
       " ...                     ...  \n",
       " 1199995            666022.0  \n",
       " 1199996            666022.0  \n",
       " 1199997            666478.0  \n",
       " 1199998            666022.0  \n",
       " 1199999            667500.0  \n",
       " \n",
       " [1200000 rows x 49 columns],\n",
       "           Age  Gender Annual Income Marital Status  Number of Dependents  \\\n",
       " id                                                                         \n",
       " 1200000  28.0  Female        2310.0        Unknown                   4.0   \n",
       " 1200001  31.0  Female      126031.0        Married                   2.0   \n",
       " 1200002  47.0  Female       17092.0       Divorced                   0.0   \n",
       " 1200003  28.0  Female       30424.0       Divorced                   3.0   \n",
       " 1200004  24.0    Male       10863.0       Divorced                   2.0   \n",
       " ...       ...     ...           ...            ...                   ...   \n",
       " 1999995  50.0  Female       38782.0        Married                   1.0   \n",
       " 1999996   NaN  Female       73462.0         Single                   0.0   \n",
       " 1999997  26.0  Female       35178.0         Single                   0.0   \n",
       " 1999998  34.0  Female       45661.0         Single                   3.0   \n",
       " 1999999  25.0    Male       24843.0       Divorced                   3.0   \n",
       " \n",
       "         Education Level     Occupation        Health Score  Location  \\\n",
       " id                                                                     \n",
       " 1200000      Bachelor's  Self-Employed   7.657980871690055     Rural   \n",
       " 1200001        Master's  Self-Employed  13.381379129898113  Suburban   \n",
       " 1200002             PhD     Unemployed   24.35452677104481     Urban   \n",
       " 1200003             PhD  Self-Employed   5.136225172573498  Suburban   \n",
       " 1200004     High School     Unemployed  11.844155273016064  Suburban   \n",
       " ...                 ...            ...                 ...       ...   \n",
       " 1999995      Bachelor's        Unknown  14.498638891780988     Rural   \n",
       " 1999996        Master's        Unknown   8.145748082881397     Rural   \n",
       " 1999997        Master's       Employed   6.636583411807606     Urban   \n",
       " 1999998        Master's        Unknown   15.93724779522776     Urban   \n",
       " 1999999     High School        Unknown   24.89393922190822  Suburban   \n",
       " \n",
       "            Policy Type  ... Occupation_freq  Health Score_freq Location_freq  \\\n",
       " id                      ...                                                    \n",
       " 1200000          Basic  ...        470636.0                1.0      668067.0   \n",
       " 1200001        Premium  ...        470636.0                1.0      668732.0   \n",
       " 1200002  Comprehensive  ...        460840.0                1.0      663201.0   \n",
       " 1200003  Comprehensive  ...        470636.0                1.0      668732.0   \n",
       " 1200004        Premium  ...        460840.0               51.0      668732.0   \n",
       " ...                ...  ...             ...                ...           ...   \n",
       " 1999995        Premium  ...        597200.0                1.0      668067.0   \n",
       " 1999996          Basic  ...        597200.0                1.0      668067.0   \n",
       " 1999997  Comprehensive  ...        471324.0                1.0      663201.0   \n",
       " 1999998        Premium  ...        597200.0                1.0      663201.0   \n",
       " 1999999  Comprehensive  ...        597200.0                6.0      668732.0   \n",
       " \n",
       "          Policy Type_freq Previous Claims_freq Credit Score_freq  \\\n",
       " id                                                                 \n",
       " 1200000          664703.0             606831.0          229333.0   \n",
       " 1200001          669475.0             606831.0            3195.0   \n",
       " 1200002          665822.0             606831.0            3288.0   \n",
       " 1200003          665822.0             501692.0            1379.0   \n",
       " 1200004          669475.0             606831.0            2423.0   \n",
       " ...                   ...                  ...               ...   \n",
       " 1999995          669475.0             606831.0            2217.0   \n",
       " 1999996          664703.0             279761.0          229333.0   \n",
       " 1999997          665822.0             606831.0          229333.0   \n",
       " 1999998          669475.0             279761.0            4833.0   \n",
       " 1999999          665822.0             606831.0          229333.0   \n",
       " \n",
       "         Customer Feedback_freq Smoking Status_freq  Exercise Frequency_freq  \\\n",
       " id                                                                            \n",
       " 1200000               625952.0           1003732.0                 510693.0   \n",
       " 1200001               614826.0           1003732.0                 499934.0   \n",
       " 1200002               629122.0           1003732.0                 498230.0   \n",
       " 1200003               625952.0           1003732.0                 491143.0   \n",
       " 1200004               629122.0            996268.0                 510693.0   \n",
       " ...                        ...                 ...                      ...   \n",
       " 1999995               629122.0           1003732.0                 491143.0   \n",
       " 1999996               614826.0            996268.0                 491143.0   \n",
       " 1999997               625952.0            996268.0                 498230.0   \n",
       " 1999998               629122.0            996268.0                 510693.0   \n",
       " 1999999               614826.0            996268.0                 499934.0   \n",
       " \n",
       "          Property Type_freq  \n",
       " id                           \n",
       " 1200000            667500.0  \n",
       " 1200001            666022.0  \n",
       " 1200002            666478.0  \n",
       " 1200003            667500.0  \n",
       " 1200004            667500.0  \n",
       " ...                     ...  \n",
       " 1999995            666478.0  \n",
       " 1999996            666022.0  \n",
       " 1999997            666022.0  \n",
       " 1999998            666478.0  \n",
       " 1999999            667500.0  \n",
       " \n",
       " [800000 rows x 49 columns])"
      ]
     },
     "execution_count": 6,
     "metadata": {},
     "output_type": "execute_result"
    }
   ],
   "source": [
    "from axyom_utilities.preprocessing import freq_encode, preprocess_dates, clean_categorical, frequency_encode\n",
    "from toolz import pipe\n",
    "\n",
    "def feature_engineering(df):\n",
    "    \n",
    "    # df = freq_encode(df)\n",
    "    \n",
    "    df['MissingHealth'] = df['Health Score'].isna().astype(int)\n",
    "    df['Claims v Duration'] = df['Previous Claims'] / df['Insurance Duration']\n",
    "    df['Health vs Claims'] = df['Health Score'] / df['Previous Claims']\n",
    "    \n",
    "    def duplicate_int(col, df):\n",
    "        df[col + ' Integer'] = df[col].apply(lambda x: int(x) if pd.notna(x) else x)\n",
    "        df[col] = df[col].fillna('None').astype('string')\n",
    "        \n",
    "        return df\n",
    "    \n",
    "    df = duplicate_int('Health Score', df)\n",
    "    df = duplicate_int('Credit Score', df)\n",
    "    df = duplicate_int('Previous Claims', df)\n",
    "    df = duplicate_int('Annual Income', df)\n",
    "    \n",
    "    df['MissingValuesCount'] = df.isna().sum(axis=1)\n",
    "    \n",
    "    # df = freq_encode(df, 'Customer Feedback')\n",
    "    # df = freq_encode(df, 'Marital Status')\n",
    "    \n",
    "    return df\n",
    "\n",
    "preprocessor = lambda df: pipe(df,\\\n",
    "    preprocess_dates,\n",
    "    clean_categorical,\n",
    "    feature_engineering,  \n",
    ")\n",
    "\n",
    "X_train = preprocessor(X_train)\n",
    "X_test = preprocessor(X_test)\n",
    "if USE_ORIGINAL_DATA:\n",
    "    X_orig = preprocessor(X_orig)\n",
    "    \n",
    "frequency_encode(X_train, X_test, drop_org=False) # data leaking but acceptable in this context\n"
   ]
  },
  {
   "cell_type": "code",
   "execution_count": 7,
   "id": "2f7c627e",
   "metadata": {},
   "outputs": [],
   "source": [
    "# features_ranked = [\n",
    "#     \"Annual Income Integer\",\n",
    "#     \"Credit Score Integer\",\n",
    "#     \"Health Score\",\n",
    "#     \"Credit Score\",\n",
    "#     \"Health Score Integer\",\n",
    "#     \"Health Score_freq\",\n",
    "#     \"Annual Income_freq\",\n",
    "#     \"Annual Income\",\n",
    "#     \"DaysSinceStart\",\n",
    "#     \"Previous Claims\",\n",
    "#     \"Customer Feedback\",\n",
    "#     \"Credit Score_freq\",\n",
    "#     \"Age\",\n",
    "#     \"Vehicle Age\",\n",
    "#     \"Marital Status\",\n",
    "#     \"Week\",\n",
    "#     \"Number of Dependents\",\n",
    "#     \"Insurance Duration\",\n",
    "#     \"Exercise Frequency\",\n",
    "#     \"Day\",\n",
    "#     \"Occupation\",\n",
    "#     \"Property Type\",\n",
    "#     \"Health vs Claims\",\n",
    "#     \"Education Level\",\n",
    "#     \"DayCos\",\n",
    "#     \"Location\",\n",
    "#     \"MissingHealth\",\n",
    "#     \"Claims v Duration\",\n",
    "#     \"Previous Claims_freq\",\n",
    "#     \"Policy Type\",\n",
    "#     \"DaySin\",\n",
    "#     \"Customer Feedback_freq\",\n",
    "#     \"WeekdaySin\",\n",
    "#     \"Previous Claims Integer\",\n",
    "#     \"Occupation_freq\",\n",
    "#     \"Weekday\",\n",
    "#     \"Month\",\n",
    "#     \"WeekdayCos\",\n",
    "#     \"Exercise Frequency_freq\",\n",
    "#     \"Education Level_freq\",\n",
    "#     \"Marital Status_freq\",\n",
    "#     \"Policy Type_freq\",\n",
    "#     \"Location_freq\",\n",
    "#     \"MissingValuesCount\",\n",
    "#     \"Property Type_freq\",\n",
    "#     \"Gender\",\n",
    "#     \"Smoking Status_freq\",\n",
    "#     \"Smoking Status\",\n",
    "#     \"Gender_freq\"\n",
    "# ]\n",
    "\n",
    "# N = len(features_ranked) - 20\n",
    "\n",
    "# columns = features_ranked[:N]\n",
    "\n",
    "# X_train = X_train[columns]\n",
    "\n",
    "# X_test = X_test[columns]"
   ]
  },
  {
   "cell_type": "markdown",
   "id": "2bfe1a39",
   "metadata": {
    "papermill": {
     "duration": 0.003711,
     "end_time": "2024-12-09T13:12:52.399442",
     "exception": false,
     "start_time": "2024-12-09T13:12:52.395731",
     "status": "completed"
    },
    "tags": []
   },
   "source": [
    "# HyperOpt"
   ]
  },
  {
   "cell_type": "code",
   "execution_count": 8,
   "id": "3a251a32",
   "metadata": {},
   "outputs": [
    {
     "name": "stderr",
     "output_type": "stream",
     "text": [
      "[I 2024-12-23 02:37:34,922] A new study created in RDB with name: Catboost Reduced Features V2\n"
     ]
    },
    {
     "name": "stdout",
     "output_type": "stream",
     "text": [
      "Training fold 1...\n",
      "Fold 1 RMSE: 1.0347\n",
      "Training fold 2...\n",
      "Fold 2 RMSE: 1.0340\n",
      "Training fold 3...\n",
      "Fold 3 RMSE: 1.0329\n",
      "Training fold 4...\n",
      "Fold 4 RMSE: 1.0351\n",
      "Training fold 5...\n"
     ]
    },
    {
     "name": "stderr",
     "output_type": "stream",
     "text": [
      "[I 2024-12-23 02:47:50,367] Trial 0 finished with value: 1.0341163522240842 and parameters: {'learning_rate': 0.05433350003437882, 'depth': 14, 'l2_leaf_reg': 2.4130797751196207, 'bagging_temperature': 2.9114322289922994, 'border_count': 245, 'random_strength': 0.001124120293579448, 'min_data_in_leaf': 42}. Best is trial 0 with value: 1.0341163522240842.\n"
     ]
    },
    {
     "name": "stdout",
     "output_type": "stream",
     "text": [
      "Fold 5 RMSE: 1.0339\n",
      "Mean CV RMSE: 1.0341 ± 0.0007\n",
      "Training fold 1...\n",
      "Fold 1 RMSE: 1.0373\n",
      "Training fold 2...\n",
      "Fold 2 RMSE: 1.0363\n",
      "Training fold 3...\n",
      "Fold 3 RMSE: 1.0354\n",
      "Training fold 4...\n",
      "Fold 4 RMSE: 1.0377\n",
      "Training fold 5...\n"
     ]
    },
    {
     "name": "stderr",
     "output_type": "stream",
     "text": [
      "[I 2024-12-23 03:51:48,947] Trial 1 finished with value: 1.0365494694824255 and parameters: {'learning_rate': 0.0013210376916733295, 'depth': 5, 'l2_leaf_reg': 0.347001641179058, 'bagging_temperature': 0.8009901573379099, 'border_count': 198, 'random_strength': 0.005909735070200815, 'min_data_in_leaf': 71}. Best is trial 0 with value: 1.0341163522240842.\n"
     ]
    },
    {
     "name": "stdout",
     "output_type": "stream",
     "text": [
      "Fold 5 RMSE: 1.0361\n",
      "Mean CV RMSE: 1.0365 ± 0.0008\n",
      "Training fold 1...\n",
      "Fold 1 RMSE: 1.0321\n",
      "Training fold 2...\n",
      "Fold 2 RMSE: 1.0314\n",
      "Training fold 3...\n",
      "Fold 3 RMSE: 1.0305\n",
      "Training fold 4...\n",
      "Fold 4 RMSE: 1.0324\n",
      "Training fold 5...\n"
     ]
    },
    {
     "name": "stderr",
     "output_type": "stream",
     "text": [
      "[I 2024-12-23 05:17:01,577] Trial 2 finished with value: 1.0316101988998994 and parameters: {'learning_rate': 0.005325514524961518, 'depth': 14, 'l2_leaf_reg': 0.0010605818577217204, 'bagging_temperature': 0.45143061452683186, 'border_count': 56, 'random_strength': 0.00978752568525981, 'min_data_in_leaf': 3}. Best is trial 2 with value: 1.0316101988998994.\n"
     ]
    },
    {
     "name": "stdout",
     "output_type": "stream",
     "text": [
      "Fold 5 RMSE: 1.0316\n",
      "Mean CV RMSE: 1.0316 ± 0.0007\n",
      "Training fold 1...\n",
      "Fold 1 RMSE: 1.0354\n",
      "Training fold 2...\n",
      "Fold 2 RMSE: 1.0350\n",
      "Training fold 3...\n",
      "Fold 3 RMSE: 1.0339\n",
      "Training fold 4...\n",
      "Fold 4 RMSE: 1.0362\n",
      "Training fold 5...\n"
     ]
    },
    {
     "name": "stderr",
     "output_type": "stream",
     "text": [
      "[I 2024-12-23 05:30:52,384] Trial 3 finished with value: 1.0351332400796207 and parameters: {'learning_rate': 0.0633377585550492, 'depth': 8, 'l2_leaf_reg': 0.009716632605151102, 'bagging_temperature': 3.6367183713583504, 'border_count': 251, 'random_strength': 0.13527270558543472, 'min_data_in_leaf': 26}. Best is trial 2 with value: 1.0316101988998994.\n"
     ]
    },
    {
     "name": "stdout",
     "output_type": "stream",
     "text": [
      "Fold 5 RMSE: 1.0351\n",
      "Mean CV RMSE: 1.0351 ± 0.0007\n",
      "Training fold 1...\n",
      "Fold 1 RMSE: 1.0330\n",
      "Training fold 2...\n",
      "Fold 2 RMSE: 1.0324\n",
      "Training fold 3...\n",
      "Fold 3 RMSE: 1.0312\n",
      "Training fold 4...\n",
      "Fold 4 RMSE: 1.0336\n",
      "Training fold 5...\n"
     ]
    },
    {
     "name": "stderr",
     "output_type": "stream",
     "text": [
      "[I 2024-12-23 06:06:27,687] Trial 4 finished with value: 1.0324993268133027 and parameters: {'learning_rate': 0.027936670586075445, 'depth': 8, 'l2_leaf_reg': 27.82893387677385, 'bagging_temperature': 2.5056181070257, 'border_count': 215, 'random_strength': 0.15466130896990424, 'min_data_in_leaf': 42}. Best is trial 2 with value: 1.0316101988998994.\n"
     ]
    },
    {
     "name": "stdout",
     "output_type": "stream",
     "text": [
      "Fold 5 RMSE: 1.0324\n",
      "Mean CV RMSE: 1.0325 ± 0.0008\n",
      "Training fold 1...\n",
      "Fold 1 RMSE: 1.0349\n",
      "Training fold 2...\n",
      "Fold 2 RMSE: 1.0340\n",
      "Training fold 3...\n",
      "Fold 3 RMSE: 1.0335\n",
      "Training fold 4...\n",
      "Fold 4 RMSE: 1.0356\n",
      "Training fold 5...\n"
     ]
    },
    {
     "name": "stderr",
     "output_type": "stream",
     "text": [
      "[I 2024-12-23 06:20:15,278] Trial 5 finished with value: 1.0344999419378702 and parameters: {'learning_rate': 0.06928161326365447, 'depth': 8, 'l2_leaf_reg': 0.002375924958606164, 'bagging_temperature': 3.1007719138086536, 'border_count': 81, 'random_strength': 0.00207667486958039, 'min_data_in_leaf': 49}. Best is trial 2 with value: 1.0316101988998994.\n"
     ]
    },
    {
     "name": "stdout",
     "output_type": "stream",
     "text": [
      "Fold 5 RMSE: 1.0344\n",
      "Mean CV RMSE: 1.0345 ± 0.0007\n",
      "Training fold 1...\n",
      "Fold 1 RMSE: 1.0318\n",
      "Training fold 2...\n",
      "Fold 2 RMSE: 1.0311\n",
      "Training fold 3...\n",
      "Fold 3 RMSE: 1.0298\n",
      "Training fold 4...\n",
      "Fold 4 RMSE: 1.0320\n",
      "Training fold 5...\n",
      "Fold 5 RMSE: 1.0314\n",
      "Mean CV RMSE: 1.0312 ± 0.0008\n"
     ]
    },
    {
     "name": "stderr",
     "output_type": "stream",
     "text": [
      "[I 2024-12-23 10:40:32,962] Trial 6 finished with value: 1.031200281883863 and parameters: {'learning_rate': 0.0024025303850357584, 'depth': 14, 'l2_leaf_reg': 0.009054048982222585, 'bagging_temperature': 1.0816358150014032, 'border_count': 157, 'random_strength': 4.069317345142579, 'min_data_in_leaf': 86}. Best is trial 6 with value: 1.031200281883863.\n",
      "c:\\Users\\Axyom\\Kaggle\\PG S4e12 - Regression Insurance\\axyom_utilities\\hyperparameter_tuning.py:59: ExperimentalWarning: plot_optimization_history is experimental (supported from v2.2.0). The interface can change in the future.\n",
      "  plot_optimization_history(self.study)\n"
     ]
    },
    {
     "name": "stdout",
     "output_type": "stream",
     "text": [
      "Best Trial:  {'learning_rate': 0.0024025303850357584, 'depth': 14, 'l2_leaf_reg': 0.009054048982222585, 'bagging_temperature': 1.0816358150014032, 'border_count': 157, 'random_strength': 4.069317345142579, 'min_data_in_leaf': 86}\n",
      "Best Score:  1.031200281883863\n"
     ]
    },
    {
     "data": {
      "image/png": "[encoded data removed]",
      "text/plain": [
       "<Figure size 640x480 with 1 Axes>"
      ]
     },
     "metadata": {},
     "output_type": "display_data"
    },
    {
     "name": "stderr",
     "output_type": "stream",
     "text": [
      "c:\\Users\\Axyom\\Kaggle\\PG S4e12 - Regression Insurance\\axyom_utilities\\hyperparameter_tuning.py:62: ExperimentalWarning: plot_param_importances is experimental (supported from v2.2.0). The interface can change in the future.\n",
      "  plot_param_importances(self.study)\n"
     ]
    },
    {
     "data": {
      "image/png": "[encoded data removed]",
      "text/plain": [
       "<Figure size 640x480 with 1 Axes>"
      ]
     },
     "metadata": {},
     "output_type": "display_data"
    },
    {
     "name": "stderr",
     "output_type": "stream",
     "text": [
      "c:\\Users\\Axyom\\Kaggle\\PG S4e12 - Regression Insurance\\axyom_utilities\\hyperparameter_tuning.py:65: ExperimentalWarning: plot_slice is experimental (supported from v2.2.0). The interface can change in the future.\n",
      "  plot_slice(self.study)\n"
     ]
    },
    {
     "data": {
      "image/png": "[encoded data removed]",
      "text/plain": [
       "<Figure size 2240x480 with 8 Axes>"
      ]
     },
     "metadata": {},
     "output_type": "display_data"
    }
   ],
   "source": [
    "from axyom_utilities.hyperparameter_tuning import CatBoostTuner\n",
    "\n",
    "if HYPER_OPT:\n",
    "    catboost_tuner = CatBoostTuner(X_train, y_train, HYPER_OPT_TIME, study_name=None)\n",
    "    best_params = catboost_tuner.tune()\n",
    "    catboost_tuner.plot()\n",
    "else:\n",
    "    best_params = {\n",
    "        \"iterations\": 5883,\n",
    "        \"task_type\": \"GPU\",\n",
    "        \"verbose\": False,\n",
    "        \"learning_rate\": 0.00521765446243734,\n",
    "        \"depth\": 11,\n",
    "        \"l2_leaf_reg\": 0.020973837119135495,\n",
    "        \"bagging_temperature\": 0.12952601761069596,\n",
    "        \"border_count\": 136,\n",
    "        \"random_strength\": 6.979958130250014,\n",
    "        \"min_data_in_leaf\": 1\n",
    "    }"
   ]
  },
  {
   "cell_type": "code",
   "execution_count": 9,
   "id": "743d5c4c",
   "metadata": {
    "execution": {
     "iopub.execute_input": "2024-12-09T18:16:55.241304Z",
     "iopub.status.busy": "2024-12-09T18:16:55.240196Z",
     "iopub.status.idle": "2024-12-09T18:16:55.246167Z",
     "shell.execute_reply": "2024-12-09T18:16:55.245357Z"
    },
    "papermill": {
     "duration": 0.035916,
     "end_time": "2024-12-09T18:16:55.247704",
     "exception": false,
     "start_time": "2024-12-09T18:16:55.211788",
     "status": "completed"
    },
    "tags": []
   },
   "outputs": [
    {
     "data": {
      "text/plain": [
       "{'iterations': 7315,\n",
       " 'task_type': 'GPU',\n",
       " 'verbose': False,\n",
       " 'learning_rate': 0.0024025303850357584,\n",
       " 'depth': 14,\n",
       " 'l2_leaf_reg': 0.009054048982222585,\n",
       " 'bagging_temperature': 1.0816358150014032,\n",
       " 'border_count': 157,\n",
       " 'random_strength': 4.069317345142579,\n",
       " 'min_data_in_leaf': 86}"
      ]
     },
     "execution_count": 9,
     "metadata": {},
     "output_type": "execute_result"
    }
   ],
   "source": [
    "best_params"
   ]
  },
  {
   "cell_type": "code",
   "execution_count": 10,
   "id": "b1e870ef",
   "metadata": {
    "execution": {
     "iopub.execute_input": "2024-12-09T18:16:55.304289Z",
     "iopub.status.busy": "2024-12-09T18:16:55.303586Z",
     "iopub.status.idle": "2024-12-09T18:16:55.307059Z",
     "shell.execute_reply": "2024-12-09T18:16:55.306445Z"
    },
    "papermill": {
     "duration": 0.033579,
     "end_time": "2024-12-09T18:16:55.308644",
     "exception": false,
     "start_time": "2024-12-09T18:16:55.275065",
     "status": "completed"
    },
    "tags": []
   },
   "outputs": [],
   "source": [
    "best_params[\"iterations\"] = 10000"
   ]
  },
  {
   "cell_type": "markdown",
   "id": "912bf058",
   "metadata": {
    "papermill": {
     "duration": 0.032715,
     "end_time": "2024-12-09T18:16:55.371337",
     "exception": false,
     "start_time": "2024-12-09T18:16:55.338622",
     "status": "completed"
    },
    "tags": []
   },
   "source": [
    "# Model Training"
   ]
  },
  {
   "cell_type": "code",
   "execution_count": 11,
   "id": "d9ed4579",
   "metadata": {
    "execution": {
     "iopub.execute_input": "2024-12-09T18:16:55.437662Z",
     "iopub.status.busy": "2024-12-09T18:16:55.437325Z",
     "iopub.status.idle": "2024-12-09T18:27:05.981939Z",
     "shell.execute_reply": "2024-12-09T18:27:05.980966Z"
    },
    "papermill": {
     "duration": 610.608804,
     "end_time": "2024-12-09T18:27:06.012560",
     "exception": false,
     "start_time": "2024-12-09T18:16:55.403756",
     "status": "completed"
    },
    "tags": []
   },
   "outputs": [
    {
     "name": "stdout",
     "output_type": "stream",
     "text": [
      "Training fold 1...\n"
     ]
    },
    {
     "ename": "KeyboardInterrupt",
     "evalue": "",
     "output_type": "error",
     "traceback": [
      "\u001b[1;31m---------------------------------------------------------------------------\u001b[0m",
      "\u001b[1;31mKeyboardInterrupt\u001b[0m                         Traceback (most recent call last)",
      "Cell \u001b[1;32mIn[11], line 6\u001b[0m\n\u001b[0;32m      3\u001b[0m model \u001b[38;5;241m=\u001b[39m CatBoostRegressorWrapper(\u001b[38;5;241m*\u001b[39m\u001b[38;5;241m*\u001b[39mbest_params)\n\u001b[0;32m      5\u001b[0m \u001b[38;5;66;03m# Use the train_model function to train and evaluate the model\u001b[39;00m\n\u001b[1;32m----> 6\u001b[0m results \u001b[38;5;241m=\u001b[39m \u001b[43mtrain_model_cv\u001b[49m\u001b[43m(\u001b[49m\n\u001b[0;32m      7\u001b[0m \u001b[43m    \u001b[49m\u001b[43mmodel\u001b[49m\u001b[38;5;241;43m=\u001b[39;49m\u001b[43mmodel\u001b[49m\u001b[43m,\u001b[49m\n\u001b[0;32m      8\u001b[0m \u001b[43m    \u001b[49m\u001b[43mX_train\u001b[49m\u001b[38;5;241;43m=\u001b[39;49m\u001b[43mX_train\u001b[49m\u001b[43m,\u001b[49m\n\u001b[0;32m      9\u001b[0m \u001b[43m    \u001b[49m\u001b[43my_train\u001b[49m\u001b[38;5;241;43m=\u001b[39;49m\u001b[43my_train\u001b[49m\u001b[43m,\u001b[49m\n\u001b[0;32m     10\u001b[0m \u001b[43m    \u001b[49m\u001b[43mX_test\u001b[49m\u001b[38;5;241;43m=\u001b[39;49m\u001b[43mX_test\u001b[49m\u001b[43m,\u001b[49m\n\u001b[0;32m     11\u001b[0m \u001b[43m    \u001b[49m\u001b[43mX_orig\u001b[49m\u001b[38;5;241;43m=\u001b[39;49m\u001b[43mX_orig\u001b[49m\u001b[43m,\u001b[49m\n\u001b[0;32m     12\u001b[0m \u001b[43m    \u001b[49m\u001b[43mearly_stopping_rounds\u001b[49m\u001b[38;5;241;43m=\u001b[39;49m\u001b[38;5;241;43m100\u001b[39;49m\u001b[43m,\u001b[49m\n\u001b[0;32m     13\u001b[0m \u001b[43m    \u001b[49m\u001b[43mcv_splits\u001b[49m\u001b[38;5;241;43m=\u001b[39;49m\u001b[38;5;241;43m5\u001b[39;49m\n\u001b[0;32m     14\u001b[0m \u001b[43m)\u001b[49m\n",
      "File \u001b[1;32mc:\\Users\\Axyom\\Kaggle\\PG S4e12 - Regression Insurance\\axyom_utilities\\training.py:34\u001b[0m, in \u001b[0;36mtrain_model_cv\u001b[1;34m(model, X_train, y_train, X_test, X_orig, y_orig, cv_splits, early_stopping_rounds, trial)\u001b[0m\n\u001b[0;32m     32\u001b[0m \u001b[38;5;66;03m# Fit the model on training data\u001b[39;00m\n\u001b[0;32m     33\u001b[0m \u001b[38;5;28;01mif\u001b[39;00m early_stopping_rounds:\n\u001b[1;32m---> 34\u001b[0m     \u001b[43mmodel\u001b[49m\u001b[38;5;241;43m.\u001b[39;49m\u001b[43mfit\u001b[49m\u001b[43m(\u001b[49m\n\u001b[0;32m     35\u001b[0m \u001b[43m        \u001b[49m\u001b[43mX_train_fold\u001b[49m\u001b[43m,\u001b[49m\u001b[43m \u001b[49m\u001b[43my_train_fold\u001b[49m\u001b[43m,\u001b[49m\u001b[43m \u001b[49m\n\u001b[0;32m     36\u001b[0m \u001b[43m        \u001b[49m\u001b[43meval_set\u001b[49m\u001b[38;5;241;43m=\u001b[39;49m\u001b[43m(\u001b[49m\u001b[43mX_val_fold\u001b[49m\u001b[43m,\u001b[49m\u001b[43m \u001b[49m\u001b[43my_val_fold\u001b[49m\u001b[43m)\u001b[49m\u001b[43m,\u001b[49m\n\u001b[0;32m     37\u001b[0m \u001b[43m        \u001b[49m\u001b[43mearly_stopping_rounds\u001b[49m\u001b[38;5;241;43m=\u001b[39;49m\u001b[43mearly_stopping_rounds\u001b[49m\u001b[43m,\u001b[49m\n\u001b[0;32m     38\u001b[0m \u001b[43m        \u001b[49m\u001b[43mverbose\u001b[49m\u001b[38;5;241;43m=\u001b[39;49m\u001b[38;5;28;43;01mFalse\u001b[39;49;00m\n\u001b[0;32m     39\u001b[0m \u001b[43m    \u001b[49m\u001b[43m)\u001b[49m\n\u001b[0;32m     40\u001b[0m     best_iterations[fold]\u001b[38;5;241m=\u001b[39mmodel\u001b[38;5;241m.\u001b[39mget_best_iteration()\n\u001b[0;32m     41\u001b[0m \u001b[38;5;28;01melse\u001b[39;00m:\n",
      "File \u001b[1;32mc:\\Users\\Axyom\\Kaggle\\PG S4e12 - Regression Insurance\\axyom_utilities\\wrappers.py:109\u001b[0m, in \u001b[0;36mCatBoostRegressorWrapper.fit\u001b[1;34m(self, X, y, eval_set, early_stopping_rounds, verbose)\u001b[0m\n\u001b[0;32m    107\u001b[0m \u001b[38;5;66;03m# Initialize and train the CatBoost Regressor\u001b[39;00m\n\u001b[0;32m    108\u001b[0m \u001b[38;5;28mself\u001b[39m\u001b[38;5;241m.\u001b[39mcatboost_model_ \u001b[38;5;241m=\u001b[39m CatBoostRegressor(\u001b[38;5;241m*\u001b[39m\u001b[38;5;241m*\u001b[39m\u001b[38;5;28mself\u001b[39m\u001b[38;5;241m.\u001b[39mparams)\n\u001b[1;32m--> 109\u001b[0m \u001b[38;5;28;43mself\u001b[39;49m\u001b[38;5;241;43m.\u001b[39;49m\u001b[43mcatboost_model_\u001b[49m\u001b[38;5;241;43m.\u001b[39;49m\u001b[43mfit\u001b[49m\u001b[43m(\u001b[49m\n\u001b[0;32m    110\u001b[0m \u001b[43m    \u001b[49m\u001b[43mtraining_pool\u001b[49m\u001b[43m,\u001b[49m\n\u001b[0;32m    111\u001b[0m \u001b[43m    \u001b[49m\u001b[43meval_set\u001b[49m\u001b[38;5;241;43m=\u001b[39;49m\u001b[43meval_pool\u001b[49m\u001b[43m,\u001b[49m\n\u001b[0;32m    112\u001b[0m \u001b[43m    \u001b[49m\u001b[43mearly_stopping_rounds\u001b[49m\u001b[38;5;241;43m=\u001b[39;49m\u001b[43mearly_stopping_rounds\u001b[49m\n\u001b[0;32m    113\u001b[0m \u001b[43m\u001b[49m\u001b[43m)\u001b[49m\n\u001b[0;32m    115\u001b[0m \u001b[38;5;28;01mreturn\u001b[39;00m \u001b[38;5;28mself\u001b[39m\n",
      "File \u001b[1;32mc:\\Users\\Axyom\\anaconda3\\envs\\kaggle_env\\lib\\site-packages\\catboost\\core.py:5873\u001b[0m, in \u001b[0;36mCatBoostRegressor.fit\u001b[1;34m(self, X, y, cat_features, text_features, embedding_features, graph, sample_weight, baseline, use_best_model, eval_set, verbose, logging_level, plot, plot_file, column_description, verbose_eval, metric_period, silent, early_stopping_rounds, save_snapshot, snapshot_file, snapshot_interval, init_model, callbacks, log_cout, log_cerr)\u001b[0m\n\u001b[0;32m   5871\u001b[0m \u001b[38;5;28;01mif\u001b[39;00m \u001b[38;5;124m'\u001b[39m\u001b[38;5;124mloss_function\u001b[39m\u001b[38;5;124m'\u001b[39m \u001b[38;5;129;01min\u001b[39;00m params:\n\u001b[0;32m   5872\u001b[0m     CatBoostRegressor\u001b[38;5;241m.\u001b[39m_check_is_compatible_loss(params[\u001b[38;5;124m'\u001b[39m\u001b[38;5;124mloss_function\u001b[39m\u001b[38;5;124m'\u001b[39m])\n\u001b[1;32m-> 5873\u001b[0m \u001b[38;5;28;01mreturn\u001b[39;00m \u001b[38;5;28;43mself\u001b[39;49m\u001b[38;5;241;43m.\u001b[39;49m\u001b[43m_fit\u001b[49m\u001b[43m(\u001b[49m\u001b[43mX\u001b[49m\u001b[43m,\u001b[49m\u001b[43m \u001b[49m\u001b[43my\u001b[49m\u001b[43m,\u001b[49m\u001b[43m \u001b[49m\u001b[43mcat_features\u001b[49m\u001b[43m,\u001b[49m\u001b[43m \u001b[49m\u001b[43mtext_features\u001b[49m\u001b[43m,\u001b[49m\u001b[43m \u001b[49m\u001b[43membedding_features\u001b[49m\u001b[43m,\u001b[49m\u001b[43m \u001b[49m\u001b[38;5;28;43;01mNone\u001b[39;49;00m\u001b[43m,\u001b[49m\u001b[43m \u001b[49m\u001b[43mgraph\u001b[49m\u001b[43m,\u001b[49m\u001b[43m \u001b[49m\u001b[43msample_weight\u001b[49m\u001b[43m,\u001b[49m\u001b[43m \u001b[49m\u001b[38;5;28;43;01mNone\u001b[39;49;00m\u001b[43m,\u001b[49m\u001b[43m \u001b[49m\u001b[38;5;28;43;01mNone\u001b[39;49;00m\u001b[43m,\u001b[49m\u001b[43m \u001b[49m\u001b[38;5;28;43;01mNone\u001b[39;49;00m\u001b[43m,\u001b[49m\u001b[43m \u001b[49m\u001b[38;5;28;43;01mNone\u001b[39;49;00m\u001b[43m,\u001b[49m\u001b[43m \u001b[49m\u001b[43mbaseline\u001b[49m\u001b[43m,\u001b[49m\n\u001b[0;32m   5874\u001b[0m \u001b[43m                 \u001b[49m\u001b[43muse_best_model\u001b[49m\u001b[43m,\u001b[49m\u001b[43m \u001b[49m\u001b[43meval_set\u001b[49m\u001b[43m,\u001b[49m\u001b[43m \u001b[49m\u001b[43mverbose\u001b[49m\u001b[43m,\u001b[49m\u001b[43m \u001b[49m\u001b[43mlogging_level\u001b[49m\u001b[43m,\u001b[49m\u001b[43m \u001b[49m\u001b[43mplot\u001b[49m\u001b[43m,\u001b[49m\u001b[43m \u001b[49m\u001b[43mplot_file\u001b[49m\u001b[43m,\u001b[49m\u001b[43m \u001b[49m\u001b[43mcolumn_description\u001b[49m\u001b[43m,\u001b[49m\n\u001b[0;32m   5875\u001b[0m \u001b[43m                 \u001b[49m\u001b[43mverbose_eval\u001b[49m\u001b[43m,\u001b[49m\u001b[43m \u001b[49m\u001b[43mmetric_period\u001b[49m\u001b[43m,\u001b[49m\u001b[43m \u001b[49m\u001b[43msilent\u001b[49m\u001b[43m,\u001b[49m\u001b[43m \u001b[49m\u001b[43mearly_stopping_rounds\u001b[49m\u001b[43m,\u001b[49m\n\u001b[0;32m   5876\u001b[0m \u001b[43m                 \u001b[49m\u001b[43msave_snapshot\u001b[49m\u001b[43m,\u001b[49m\u001b[43m \u001b[49m\u001b[43msnapshot_file\u001b[49m\u001b[43m,\u001b[49m\u001b[43m \u001b[49m\u001b[43msnapshot_interval\u001b[49m\u001b[43m,\u001b[49m\u001b[43m \u001b[49m\u001b[43minit_model\u001b[49m\u001b[43m,\u001b[49m\u001b[43m \u001b[49m\u001b[43mcallbacks\u001b[49m\u001b[43m,\u001b[49m\u001b[43m \u001b[49m\u001b[43mlog_cout\u001b[49m\u001b[43m,\u001b[49m\u001b[43m \u001b[49m\u001b[43mlog_cerr\u001b[49m\u001b[43m)\u001b[49m\n",
      "File \u001b[1;32mc:\\Users\\Axyom\\anaconda3\\envs\\kaggle_env\\lib\\site-packages\\catboost\\core.py:2410\u001b[0m, in \u001b[0;36mCatBoost._fit\u001b[1;34m(self, X, y, cat_features, text_features, embedding_features, pairs, graph, sample_weight, group_id, group_weight, subgroup_id, pairs_weight, baseline, use_best_model, eval_set, verbose, logging_level, plot, plot_file, column_description, verbose_eval, metric_period, silent, early_stopping_rounds, save_snapshot, snapshot_file, snapshot_interval, init_model, callbacks, log_cout, log_cerr)\u001b[0m\n\u001b[0;32m   2407\u001b[0m allow_clear_pool \u001b[38;5;241m=\u001b[39m train_params[\u001b[38;5;124m\"\u001b[39m\u001b[38;5;124mallow_clear_pool\u001b[39m\u001b[38;5;124m\"\u001b[39m]\n\u001b[0;32m   2409\u001b[0m \u001b[38;5;28;01mwith\u001b[39;00m plot_wrapper(plot, plot_file, \u001b[38;5;124m'\u001b[39m\u001b[38;5;124mTraining plots\u001b[39m\u001b[38;5;124m'\u001b[39m, [_get_train_dir(\u001b[38;5;28mself\u001b[39m\u001b[38;5;241m.\u001b[39mget_params())]):\n\u001b[1;32m-> 2410\u001b[0m     \u001b[38;5;28;43mself\u001b[39;49m\u001b[38;5;241;43m.\u001b[39;49m\u001b[43m_train\u001b[49m\u001b[43m(\u001b[49m\n\u001b[0;32m   2411\u001b[0m \u001b[43m        \u001b[49m\u001b[43mtrain_pool\u001b[49m\u001b[43m,\u001b[49m\n\u001b[0;32m   2412\u001b[0m \u001b[43m        \u001b[49m\u001b[43mtrain_params\u001b[49m\u001b[43m[\u001b[49m\u001b[38;5;124;43m\"\u001b[39;49m\u001b[38;5;124;43meval_sets\u001b[39;49m\u001b[38;5;124;43m\"\u001b[39;49m\u001b[43m]\u001b[49m\u001b[43m,\u001b[49m\n\u001b[0;32m   2413\u001b[0m \u001b[43m        \u001b[49m\u001b[43mparams\u001b[49m\u001b[43m,\u001b[49m\n\u001b[0;32m   2414\u001b[0m \u001b[43m        \u001b[49m\u001b[43mallow_clear_pool\u001b[49m\u001b[43m,\u001b[49m\n\u001b[0;32m   2415\u001b[0m \u001b[43m        \u001b[49m\u001b[43mtrain_params\u001b[49m\u001b[43m[\u001b[49m\u001b[38;5;124;43m\"\u001b[39;49m\u001b[38;5;124;43minit_model\u001b[39;49m\u001b[38;5;124;43m\"\u001b[39;49m\u001b[43m]\u001b[49m\n\u001b[0;32m   2416\u001b[0m \u001b[43m    \u001b[49m\u001b[43m)\u001b[49m\n\u001b[0;32m   2418\u001b[0m \u001b[38;5;66;03m# Have property feature_importance possibly set\u001b[39;00m\n\u001b[0;32m   2419\u001b[0m loss \u001b[38;5;241m=\u001b[39m \u001b[38;5;28mself\u001b[39m\u001b[38;5;241m.\u001b[39m_object\u001b[38;5;241m.\u001b[39m_get_loss_function_name()\n",
      "File \u001b[1;32mc:\\Users\\Axyom\\anaconda3\\envs\\kaggle_env\\lib\\site-packages\\catboost\\core.py:1790\u001b[0m, in \u001b[0;36m_CatBoostBase._train\u001b[1;34m(self, train_pool, test_pool, params, allow_clear_pool, init_model)\u001b[0m\n\u001b[0;32m   1789\u001b[0m \u001b[38;5;28;01mdef\u001b[39;00m \u001b[38;5;21m_train\u001b[39m(\u001b[38;5;28mself\u001b[39m, train_pool, test_pool, params, allow_clear_pool, init_model):\n\u001b[1;32m-> 1790\u001b[0m     \u001b[38;5;28;43mself\u001b[39;49m\u001b[38;5;241;43m.\u001b[39;49m\u001b[43m_object\u001b[49m\u001b[38;5;241;43m.\u001b[39;49m\u001b[43m_train\u001b[49m\u001b[43m(\u001b[49m\u001b[43mtrain_pool\u001b[49m\u001b[43m,\u001b[49m\u001b[43m \u001b[49m\u001b[43mtest_pool\u001b[49m\u001b[43m,\u001b[49m\u001b[43m \u001b[49m\u001b[43mparams\u001b[49m\u001b[43m,\u001b[49m\u001b[43m \u001b[49m\u001b[43mallow_clear_pool\u001b[49m\u001b[43m,\u001b[49m\u001b[43m \u001b[49m\u001b[43minit_model\u001b[49m\u001b[38;5;241;43m.\u001b[39;49m\u001b[43m_object\u001b[49m\u001b[43m \u001b[49m\u001b[38;5;28;43;01mif\u001b[39;49;00m\u001b[43m \u001b[49m\u001b[43minit_model\u001b[49m\u001b[43m \u001b[49m\u001b[38;5;28;43;01melse\u001b[39;49;00m\u001b[43m \u001b[49m\u001b[38;5;28;43;01mNone\u001b[39;49;00m\u001b[43m)\u001b[49m\n\u001b[0;32m   1791\u001b[0m     \u001b[38;5;28mself\u001b[39m\u001b[38;5;241m.\u001b[39m_set_trained_model_attributes()\n",
      "File \u001b[1;32m_catboost.pyx:5017\u001b[0m, in \u001b[0;36m_catboost._CatBoost._train\u001b[1;34m()\u001b[0m\n",
      "File \u001b[1;32m_catboost.pyx:5066\u001b[0m, in \u001b[0;36m_catboost._CatBoost._train\u001b[1;34m()\u001b[0m\n",
      "\u001b[1;31mKeyboardInterrupt\u001b[0m: "
     ]
    }
   ],
   "source": [
    "import json\n",
    "\n",
    "model = CatBoostRegressorWrapper(**best_params)\n",
    "\n",
    "# Use the train_model function to train and evaluate the model\n",
    "results = train_model_cv(\n",
    "    model=model,\n",
    "    X_train=X_train,\n",
    "    y_train=y_train,\n",
    "    X_test=X_test,\n",
    "    X_orig=X_orig,\n",
    "    early_stopping_rounds=100,\n",
    "    cv_splits=5\n",
    ")"
   ]
  },
  {
   "cell_type": "code",
   "execution_count": 12,
   "id": "5803178b",
   "metadata": {},
   "outputs": [],
   "source": [
    "# from sklearn import mean_squared_log_error\n",
    "\n",
    "# def rmsle(y_true, y_pred):\n",
    "#     return np.sqrt(mean_squared_log_error(y_true, y_pred))\n",
    "\n",
    "# rmsle_score = rmsle(y_train, results[\"oof_preds\"])\n",
    "\n",
    "# print(f\"RMSLE score = {rmsle_score}\")"
   ]
  },
  {
   "cell_type": "code",
   "execution_count": null,
   "id": "40b2d112",
   "metadata": {},
   "outputs": [
    {
     "name": "stdout",
     "output_type": "stream",
     "text": [
      "                    Feature  Importance\n",
      "33    Annual Income Integer   15.035999\n",
      "31     Credit Score Integer    8.780135\n",
      "7              Health Score    8.296790\n",
      "12             Credit Score    5.498149\n",
      "30     Health Score Integer    5.378875\n",
      "40        Health Score_freq    4.669488\n",
      "36       Annual Income_freq    4.274421\n",
      "2             Annual Income    4.095164\n",
      "26           DaysSinceStart    4.084965\n",
      "10          Previous Claims    4.024697\n",
      "14        Customer Feedback    2.578604\n",
      "44        Credit Score_freq    2.277013\n",
      "0                       Age    1.986682\n",
      "11              Vehicle Age    1.607041\n",
      "3            Marital Status    1.405289\n",
      "20                     Week    1.322552\n",
      "4      Number of Dependents    1.321311\n",
      "13       Insurance Duration    1.302202\n",
      "16       Exercise Frequency    1.251517\n",
      "19                      Day    1.192000\n",
      "6                Occupation    1.171781\n",
      "17            Property Type    1.128039\n",
      "29         Health vs Claims    1.109188\n",
      "5           Education Level    1.092786\n",
      "23                   DayCos    1.087058\n",
      "8                  Location    1.022166\n",
      "27            MissingHealth    1.009398\n",
      "28        Claims v Duration    1.002798\n",
      "43     Previous Claims_freq    0.840696\n",
      "9               Policy Type    0.836967\n",
      "22                   DaySin    0.795273\n",
      "45   Customer Feedback_freq    0.694966\n",
      "24               WeekdaySin    0.633292\n",
      "32  Previous Claims Integer    0.630969\n",
      "39          Occupation_freq    0.626416\n",
      "21                  Weekday    0.609921\n",
      "18                    Month    0.596646\n",
      "25               WeekdayCos    0.562019\n",
      "47  Exercise Frequency_freq    0.526194\n",
      "38     Education Level_freq    0.489989\n",
      "37      Marital Status_freq    0.464756\n",
      "42         Policy Type_freq    0.397514\n",
      "41            Location_freq    0.393935\n",
      "34       MissingValuesCount    0.375978\n",
      "48       Property Type_freq    0.342812\n",
      "1                    Gender    0.329328\n",
      "46      Smoking Status_freq    0.298609\n",
      "15           Smoking Status    0.283851\n",
      "35              Gender_freq    0.263759\n"
     ]
    }
   ],
   "source": [
    "models = results['models']\n",
    "\n",
    "# Get feature importance\n",
    "feature_importances = models[3].catboost_model_.get_feature_importance(type='PredictionValuesChange')\n",
    "\n",
    "# Map to feature names\n",
    "feature_importance_df = pd.DataFrame({\n",
    "    'Feature': X_train.columns,\n",
    "    'Importance': feature_importances\n",
    "}).sort_values(by='Importance', ascending=False)\n",
    "\n",
    "print(feature_importance_df)"
   ]
  },
  {
   "cell_type": "code",
   "execution_count": 14,
   "id": "76c5d6d4",
   "metadata": {
    "execution": {
     "iopub.execute_input": "2024-12-09T18:27:06.069815Z",
     "iopub.status.busy": "2024-12-09T18:27:06.069512Z",
     "iopub.status.idle": "2024-12-09T18:27:06.074853Z",
     "shell.execute_reply": "2024-12-09T18:27:06.074183Z"
    },
    "papermill": {
     "duration": 0.035663,
     "end_time": "2024-12-09T18:27:06.076253",
     "exception": false,
     "start_time": "2024-12-09T18:27:06.040590",
     "status": "completed"
    },
    "tags": []
   },
   "outputs": [],
   "source": [
    "mean_score = np.mean(results[\"cv_scores\"])\n",
    "std_score = np.std(results[\"cv_scores\"])"
   ]
  },
  {
   "cell_type": "markdown",
   "id": "2d6f1ec1",
   "metadata": {},
   "source": [
    "# Saving"
   ]
  },
  {
   "cell_type": "code",
   "execution_count": 15,
   "id": "bba76357",
   "metadata": {
    "execution": {
     "iopub.execute_input": "2024-12-09T18:27:06.134109Z",
     "iopub.status.busy": "2024-12-09T18:27:06.133614Z",
     "iopub.status.idle": "2024-12-09T18:27:09.560189Z",
     "shell.execute_reply": "2024-12-09T18:27:09.559255Z"
    },
    "papermill": {
     "duration": 3.457335,
     "end_time": "2024-12-09T18:27:09.561802",
     "exception": false,
     "start_time": "2024-12-09T18:27:06.104467",
     "status": "completed"
    },
    "tags": []
   },
   "outputs": [],
   "source": [
    "import joblib\n",
    "import json\n",
    "from pathlib import Path\n",
    "\n",
    "results_dir = Path(f\"{mean_score:.4f}+-{std_score:.4f}\")\n",
    "os.makedirs(results_dir, exist_ok=True)\n",
    "\n",
    "# Save OOF predictions as a CSV file\n",
    "oof_preds_df = pd.DataFrame({\"oof_preds\": results[\"oof_preds\"]})\n",
    "oof_preds_df.to_csv(results_dir/\"oof_preds.csv\", index=False)\n",
    "\n",
    "test_preds_df = pd.DataFrame({\"test_preds\": results[\"test_preds\"]})\n",
    "test_preds_df.to_csv(results_dir/\"test_preds.csv\", index=False)\n",
    "\n",
    "with open(results_dir/\"best_params\", \"w\") as f:\n",
    "    json.dump(best_params, f, indent=4)\n",
    "\n",
    "#joblib.dump(results[\"models\"], \"models.pkl\")"
   ]
  },
  {
   "cell_type": "markdown",
   "id": "607e1999",
   "metadata": {
    "papermill": {
     "duration": 0.030518,
     "end_time": "2024-12-09T18:27:09.621403",
     "exception": false,
     "start_time": "2024-12-09T18:27:09.590885",
     "status": "completed"
    },
    "tags": []
   },
   "source": [
    "# Submission"
   ]
  },
  {
   "cell_type": "code",
   "execution_count": 16,
   "id": "221fab64",
   "metadata": {
    "execution": {
     "iopub.execute_input": "2024-12-09T18:27:09.684611Z",
     "iopub.status.busy": "2024-12-09T18:27:09.683845Z",
     "iopub.status.idle": "2024-12-09T18:27:11.039199Z",
     "shell.execute_reply": "2024-12-09T18:27:11.038523Z"
    },
    "papermill": {
     "duration": 1.388863,
     "end_time": "2024-12-09T18:27:11.041168",
     "exception": false,
     "start_time": "2024-12-09T18:27:09.652305",
     "status": "completed"
    },
    "tags": []
   },
   "outputs": [],
   "source": [
    "y_pred = np.expm1(results['test_preds'])\n",
    "\n",
    "submission = pd.DataFrame({\n",
    "    'id': X_test.index,  \n",
    "    'Premium Amount': y_pred\n",
    "})\n",
    "\n",
    "FILE_PATH = os.path.join(results_dir, f\"Catboost_{mean_score:.4f}+-{std_score:.4f}.csv\")\n",
    "\n",
    "submission.to_csv(FILE_PATH, index=False)"
   ]
  },
  {
   "cell_type": "code",
   "execution_count": 17,
   "id": "1dacbf49",
   "metadata": {},
   "outputs": [],
   "source": [
    "if False: \n",
    "    # Define your message and file paths\n",
    "    COMP_NAME = \"playground-series-s4e12\"\n",
    "\n",
    "    SUBMIT_MESSAGE = \"Catboost_{mean_score:.4f}+-{std_score:.4f}\"\n",
    "\n",
    "    # Submit to Kaggle\n",
    "    os.system(f'kaggle competitions submit -c {COMP_NAME} -f {FILE_PATH} -m \"{SUBMIT_MESSAGE}\"')"
   ]
  },
  {
   "cell_type": "code",
   "execution_count": null,
   "id": "8e1e0fc5",
   "metadata": {},
   "outputs": [],
   "source": []
  }
 ],
 "metadata": {
  "kaggle": {
   "accelerator": "gpu",
   "dataSources": [
    {
     "databundleVersionId": 10305135,
     "sourceId": 84896,
     "sourceType": "competition"
    },
    {
     "datasetId": 5547076,
     "sourceId": 9178166,
     "sourceType": "datasetVersion"
    },
    {
     "sourceId": 211948002,
     "sourceType": "kernelVersion"
    }
   ],
   "dockerImageVersionId": 30805,
   "isGpuEnabled": true,
   "isInternetEnabled": true,
   "language": "python",
   "sourceType": "notebook"
  },
  "kernelspec": {
   "display_name": "kaggle_env",
   "language": "python",
   "name": "python3"
  },
  "language_info": {
   "codemirror_mode": {
    "name": "ipython",
    "version": 3
   },
   "file_extension": ".py",
   "mimetype": "text/x-python",
   "name": "python",
   "nbconvert_exporter": "python",
   "pygments_lexer": "ipython3",
   "version": "3.10.16"
  },
  "papermill": {
   "default_parameters": {},
   "duration": 18880.993655,
   "end_time": "2024-12-09T18:27:12.649632",
   "environment_variables": {},
   "exception": null,
   "input_path": "__notebook__.ipynb",
   "output_path": "__notebook__.ipynb",
   "parameters": {},
   "start_time": "2024-12-09T13:12:31.655977",
   "version": "2.6.0"
  }
 },
 "nbformat": 4,
 "nbformat_minor": 5
}
