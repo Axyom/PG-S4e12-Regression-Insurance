{
 "cells": [
  {
   "cell_type": "code",
   "execution_count": 1,
   "id": "615cf318",
   "metadata": {
    "_cell_guid": "b1076dfc-b9ad-4769-8c92-a6c4dae69d19",
    "_uuid": "8f2839f25d086af736a60e9eeb907d3b93b6e0e5",
    "execution": {
     "iopub.execute_input": "2024-12-09T13:12:34.047888Z",
     "iopub.status.busy": "2024-12-09T13:12:34.047597Z",
     "iopub.status.idle": "2024-12-09T13:12:34.716436Z",
     "shell.execute_reply": "2024-12-09T13:12:34.715768Z"
    },
    "papermill": {
     "duration": 0.676501,
     "end_time": "2024-12-09T13:12:34.718408",
     "exception": false,
     "start_time": "2024-12-09T13:12:34.041907",
     "status": "completed"
    },
    "tags": []
   },
   "outputs": [],
   "source": [
    "import numpy as np\n",
    "import os\n",
    "import pandas as pd\n",
    "import sys"
   ]
  },
  {
   "cell_type": "markdown",
   "id": "f1522c74",
   "metadata": {
    "papermill": {
     "duration": 0.004851,
     "end_time": "2024-12-09T13:12:34.727632",
     "exception": false,
     "start_time": "2024-12-09T13:12:34.722781",
     "status": "completed"
    },
    "tags": []
   },
   "source": [
    "# Config"
   ]
  },
  {
   "cell_type": "code",
   "execution_count": 2,
   "id": "25bf2667",
   "metadata": {
    "execution": {
     "iopub.execute_input": "2024-12-09T13:12:34.736529Z",
     "iopub.status.busy": "2024-12-09T13:12:34.736123Z",
     "iopub.status.idle": "2024-12-09T13:12:34.740000Z",
     "shell.execute_reply": "2024-12-09T13:12:34.739354Z"
    },
    "papermill": {
     "duration": 0.01006,
     "end_time": "2024-12-09T13:12:34.741432",
     "exception": false,
     "start_time": "2024-12-09T13:12:34.731372",
     "status": "completed"
    },
    "tags": []
   },
   "outputs": [],
   "source": [
    "HYPER_OPT = False \n",
    "HYPER_OPT_TIME = 3*60*60\n",
    "USE_ORIGINAL_DATA = False \n",
    "SUBMIT_TO_KAGGLE = False"
   ]
  },
  {
   "cell_type": "code",
   "execution_count": 3,
   "id": "636ad8af",
   "metadata": {},
   "outputs": [],
   "source": [
    "# Define the base directory (where the notebook is running)\n",
    "base_dir = os.path.abspath(os.path.join(os.getcwd(), \"..\", \"..\"))\n",
    "\n",
    "# Define the data directory\n",
    "data_dir = os.path.join(base_dir, \"data\")\n",
    "\n",
    "model_dir = os.path.join(base_dir, \"models\")\n",
    "\n",
    "sys.path.append(base_dir)"
   ]
  },
  {
   "cell_type": "markdown",
   "id": "7d1038ad",
   "metadata": {
    "papermill": {
     "duration": 0.0037,
     "end_time": "2024-12-09T13:12:34.787072",
     "exception": false,
     "start_time": "2024-12-09T13:12:34.783372",
     "status": "completed"
    },
    "tags": []
   },
   "source": [
    "# Data Extraction"
   ]
  },
  {
   "cell_type": "code",
   "execution_count": 4,
   "id": "0d745aba",
   "metadata": {},
   "outputs": [],
   "source": [
    "from axyom_utilities.data_extraction import extract_data\n",
    "\n",
    "X_train, y_train, X_test, X_orig, y_orig = extract_data(data_dir, USE_ORIGINAL_DATA, log_transform=False)"
   ]
  },
  {
   "cell_type": "markdown",
   "id": "300f27ae",
   "metadata": {
    "papermill": {
     "duration": 0.003676,
     "end_time": "2024-12-09T13:12:43.939293",
     "exception": false,
     "start_time": "2024-12-09T13:12:43.935617",
     "status": "completed"
    },
    "tags": []
   },
   "source": [
    "# Data Cleaning"
   ]
  },
  {
   "cell_type": "code",
   "execution_count": 5,
   "id": "9d42d2df",
   "metadata": {
    "execution": {
     "iopub.execute_input": "2024-12-09T13:12:43.995169Z",
     "iopub.status.busy": "2024-12-09T13:12:43.994928Z",
     "iopub.status.idle": "2024-12-09T13:12:50.925060Z",
     "shell.execute_reply": "2024-12-09T13:12:50.924366Z"
    },
    "papermill": {
     "duration": 6.936729,
     "end_time": "2024-12-09T13:12:50.926967",
     "exception": false,
     "start_time": "2024-12-09T13:12:43.990238",
     "status": "completed"
    },
    "tags": []
   },
   "outputs": [],
   "source": [
    "from axyom_utilities.preprocessing import * \n",
    "from toolz import pipe\n",
    "\n",
    "preprocessor = lambda df: pipe(df,\\\n",
    "    preprocess_dates,\n",
    "    all_to_string    \n",
    ")\n",
    "\n",
    "X_train = preprocessor(X_train)\n",
    "X_test = preprocessor(X_test)\n",
    "if USE_ORIGINAL_DATA:\n",
    "    X_orig = preprocessor(X_orig)"
   ]
  },
  {
   "cell_type": "markdown",
   "id": "2bfe1a39",
   "metadata": {
    "papermill": {
     "duration": 0.003711,
     "end_time": "2024-12-09T13:12:52.399442",
     "exception": false,
     "start_time": "2024-12-09T13:12:52.395731",
     "status": "completed"
    },
    "tags": []
   },
   "source": [
    "# HyperOpt"
   ]
  },
  {
   "cell_type": "code",
   "execution_count": 6,
   "id": "3a251a32",
   "metadata": {},
   "outputs": [],
   "source": [
    "from axyom_utilities.hyperparameter_tuning import CatBoostTuner\n",
    "\n",
    "if HYPER_OPT:\n",
    "    #tune_lgbm(X_train, y_train, HYPER_OPT_TIME)\n",
    "    catboost_tuner = CatBoostTuner(X_train, y_train, HYPER_OPT_TIME)\n",
    "    best_params = catboost_tuner.tune()\n",
    "else:\n",
    "    best_params = {\n",
    "        \"iterations\":1000,\n",
    "        \"learning_rate\":0.1,\n",
    "        \"depth\":6,\n",
    "        \"eval_metric\":\"RMSE\",\n",
    "        \"random_seed\":42,\n",
    "        \"verbose\":200,\n",
    "        \"task_type\":'GPU',\n",
    "        \"l2_leaf_reg\" :0.7,\n",
    "    }"
   ]
  },
  {
   "cell_type": "code",
   "execution_count": 7,
   "id": "743d5c4c",
   "metadata": {
    "execution": {
     "iopub.execute_input": "2024-12-09T18:16:55.241304Z",
     "iopub.status.busy": "2024-12-09T18:16:55.240196Z",
     "iopub.status.idle": "2024-12-09T18:16:55.246167Z",
     "shell.execute_reply": "2024-12-09T18:16:55.245357Z"
    },
    "papermill": {
     "duration": 0.035916,
     "end_time": "2024-12-09T18:16:55.247704",
     "exception": false,
     "start_time": "2024-12-09T18:16:55.211788",
     "status": "completed"
    },
    "tags": []
   },
   "outputs": [
    {
     "data": {
      "text/plain": [
       "{'iterations': 1000,\n",
       " 'learning_rate': 0.1,\n",
       " 'depth': 6,\n",
       " 'eval_metric': 'RMSE',\n",
       " 'random_seed': 42,\n",
       " 'verbose': 200,\n",
       " 'task_type': 'GPU',\n",
       " 'l2_leaf_reg': 0.7}"
      ]
     },
     "execution_count": 7,
     "metadata": {},
     "output_type": "execute_result"
    }
   ],
   "source": [
    "best_params"
   ]
  },
  {
   "cell_type": "code",
   "execution_count": 8,
   "id": "b1e870ef",
   "metadata": {
    "execution": {
     "iopub.execute_input": "2024-12-09T18:16:55.304289Z",
     "iopub.status.busy": "2024-12-09T18:16:55.303586Z",
     "iopub.status.idle": "2024-12-09T18:16:55.307059Z",
     "shell.execute_reply": "2024-12-09T18:16:55.306445Z"
    },
    "papermill": {
     "duration": 0.033579,
     "end_time": "2024-12-09T18:16:55.308644",
     "exception": false,
     "start_time": "2024-12-09T18:16:55.275065",
     "status": "completed"
    },
    "tags": []
   },
   "outputs": [],
   "source": [
    "best_params[\"iterations\"] = 10000"
   ]
  },
  {
   "cell_type": "markdown",
   "id": "912bf058",
   "metadata": {
    "papermill": {
     "duration": 0.032715,
     "end_time": "2024-12-09T18:16:55.371337",
     "exception": false,
     "start_time": "2024-12-09T18:16:55.338622",
     "status": "completed"
    },
    "tags": []
   },
   "source": [
    "# Model Training"
   ]
  },
  {
   "cell_type": "code",
   "execution_count": 9,
   "id": "d9ed4579",
   "metadata": {
    "execution": {
     "iopub.execute_input": "2024-12-09T18:16:55.437662Z",
     "iopub.status.busy": "2024-12-09T18:16:55.437325Z",
     "iopub.status.idle": "2024-12-09T18:27:05.981939Z",
     "shell.execute_reply": "2024-12-09T18:27:05.980966Z"
    },
    "papermill": {
     "duration": 610.608804,
     "end_time": "2024-12-09T18:27:06.012560",
     "exception": false,
     "start_time": "2024-12-09T18:16:55.403756",
     "status": "completed"
    },
    "tags": []
   },
   "outputs": [
    {
     "name": "stdout",
     "output_type": "stream",
     "text": [
      "Training fold 1...\n",
      "0:\tlearn: 863.2677193\ttest: 860.9104663\tbest: 860.9104663 (0)\ttotal: 411ms\tremaining: 1h 8m 26s\n",
      "200:\tlearn: 844.8718757\ttest: 838.9274270\tbest: 838.9273049 (199)\ttotal: 26.7s\tremaining: 21m 42s\n",
      "400:\tlearn: 843.5997939\ttest: 838.4290682\tbest: 838.4290682 (400)\ttotal: 54.5s\tremaining: 21m 43s\n",
      "600:\tlearn: 842.4894869\ttest: 838.1354494\tbest: 838.1354494 (600)\ttotal: 1m 22s\tremaining: 21m 28s\n",
      "800:\tlearn: 841.5527084\ttest: 838.0537504\tbest: 838.0537504 (800)\ttotal: 1m 50s\tremaining: 21m 9s\n",
      "1000:\tlearn: 840.6650320\ttest: 837.9982753\tbest: 837.9974199 (993)\ttotal: 2m 19s\tremaining: 20m 50s\n",
      "1200:\tlearn: 839.8060881\ttest: 837.9463404\tbest: 837.9445888 (1187)\ttotal: 2m 47s\tremaining: 20m 29s\n",
      "bestTest = 837.9161963\n",
      "bestIteration = 1276\n",
      "Shrink model to first 1277 iterations.\n",
      "Fold 1 RMSE: 837.9160\n",
      "Training fold 2...\n",
      "0:\tlearn: 862.4022758\ttest: 863.8295536\tbest: 863.8295536 (0)\ttotal: 419ms\tremaining: 1h 9m 45s\n",
      "200:\tlearn: 843.8669190\ttest: 841.7237323\tbest: 841.7237323 (200)\ttotal: 26.3s\tremaining: 21m 21s\n",
      "400:\tlearn: 842.5639499\ttest: 841.1707904\tbest: 841.1707904 (400)\ttotal: 53.9s\tremaining: 21m 30s\n",
      "600:\tlearn: 841.5190430\ttest: 840.9447386\tbest: 840.9446980 (593)\ttotal: 1m 21s\tremaining: 21m 18s\n",
      "800:\tlearn: 840.5777721\ttest: 840.8448830\tbest: 840.8448830 (800)\ttotal: 1m 50s\tremaining: 21m 4s\n",
      "1000:\tlearn: 839.6857723\ttest: 840.7595093\tbest: 840.7595093 (1000)\ttotal: 2m 18s\tremaining: 20m 44s\n",
      "1200:\tlearn: 838.8100778\ttest: 840.7313743\tbest: 840.7257309 (1177)\ttotal: 2m 47s\tremaining: 20m 23s\n",
      "bestTest = 840.6938189\n",
      "bestIteration = 1256\n",
      "Shrink model to first 1257 iterations.\n",
      "Fold 2 RMSE: 840.6938\n",
      "Training fold 3...\n",
      "0:\tlearn: 862.8398730\ttest: 862.1981013\tbest: 862.1981013 (0)\ttotal: 389ms\tremaining: 1h 4m 48s\n",
      "200:\tlearn: 844.2341135\ttest: 840.3929087\tbest: 840.3929087 (200)\ttotal: 26.4s\tremaining: 21m 29s\n",
      "400:\tlearn: 842.9500148\ttest: 839.8628256\tbest: 839.8598181 (392)\ttotal: 54.1s\tremaining: 21m 35s\n",
      "600:\tlearn: 841.9321829\ttest: 839.6239819\tbest: 839.6238193 (599)\ttotal: 1m 22s\tremaining: 21m 32s\n",
      "800:\tlearn: 841.0466521\ttest: 839.5426717\tbest: 839.5361259 (772)\ttotal: 1m 51s\tremaining: 21m 16s\n",
      "1000:\tlearn: 840.1006264\ttest: 839.4574095\tbest: 839.4533841 (911)\ttotal: 2m 19s\tremaining: 20m 54s\n",
      "1200:\tlearn: 839.1963648\ttest: 839.3712440\tbest: 839.3692514 (1178)\ttotal: 2m 48s\tremaining: 20m 32s\n",
      "bestTest = 839.3653882\n",
      "bestIteration = 1246\n",
      "Shrink model to first 1247 iterations.\n",
      "Fold 3 RMSE: 839.3656\n",
      "Training fold 4...\n",
      "0:\tlearn: 862.5359645\ttest: 863.5556783\tbest: 863.5556783 (0)\ttotal: 383ms\tremaining: 1h 3m 46s\n",
      "200:\tlearn: 843.8135251\ttest: 841.3792157\tbest: 841.3792157 (200)\ttotal: 26.5s\tremaining: 21m 29s\n",
      "400:\tlearn: 842.6208258\ttest: 840.9879650\tbest: 840.9861386 (396)\ttotal: 54.7s\tremaining: 21m 50s\n",
      "600:\tlearn: 841.5836551\ttest: 840.7489537\tbest: 840.7489537 (600)\ttotal: 1m 22s\tremaining: 21m 37s\n",
      "800:\tlearn: 840.6922354\ttest: 840.6562211\tbest: 840.6557745 (799)\ttotal: 1m 51s\tremaining: 21m 18s\n",
      "1000:\tlearn: 839.7668248\ttest: 840.6220325\tbest: 840.6185405 (987)\ttotal: 2m 19s\tremaining: 20m 57s\n",
      "1200:\tlearn: 838.8670455\ttest: 840.5734677\tbest: 840.5693664 (1193)\ttotal: 2m 48s\tremaining: 20m 35s\n",
      "bestTest = 840.5693664\n",
      "bestIteration = 1193\n",
      "Shrink model to first 1194 iterations.\n",
      "Fold 4 RMSE: 840.5693\n",
      "Training fold 5...\n",
      "0:\tlearn: 863.0497490\ttest: 861.5809691\tbest: 861.5809691 (0)\ttotal: 272ms\tremaining: 45m 17s\n",
      "200:\tlearn: 844.4892762\ttest: 840.1577096\tbest: 840.1577096 (200)\ttotal: 26.5s\tremaining: 21m 29s\n",
      "400:\tlearn: 843.1971461\ttest: 839.7198771\tbest: 839.7173162 (389)\ttotal: 54.4s\tremaining: 21m 42s\n",
      "600:\tlearn: 842.1884077\ttest: 839.5121377\tbest: 839.5121377 (600)\ttotal: 1m 22s\tremaining: 21m 31s\n",
      "800:\tlearn: 841.2645618\ttest: 839.4345576\tbest: 839.4345576 (800)\ttotal: 1m 50s\tremaining: 21m 12s\n",
      "1000:\tlearn: 840.3458742\ttest: 839.3430218\tbest: 839.3428185 (998)\ttotal: 2m 19s\tremaining: 20m 55s\n",
      "bestTest = 839.3227695\n",
      "bestIteration = 1036\n",
      "Shrink model to first 1037 iterations.\n",
      "Fold 5 RMSE: 839.3228\n",
      "Mean CV RMSE: 839.5735 ± 1.0100\n"
     ]
    }
   ],
   "source": [
    "from axyom_utilities.training import train_model_cv\n",
    "from axyom_utilities.wrappers import CatBoostRegressorWrapper\n",
    "import json\n",
    "\n",
    "model = CatBoostRegressorWrapper(**best_params)\n",
    "\n",
    "# Use the train_model function to train and evaluate the model\n",
    "results = train_model_cv(\n",
    "    model=model,\n",
    "    X_train=X_train,\n",
    "    y_train=y_train,\n",
    "    X_test=X_test,\n",
    "    X_orig=X_orig,\n",
    "    early_stopping_rounds=100,\n",
    "    cv_splits=5\n",
    ")"
   ]
  },
  {
   "cell_type": "code",
   "execution_count": 14,
   "id": "beff9b13",
   "metadata": {},
   "outputs": [],
   "source": [
    "results[\"oof_preds\"] = np.maximum(0, results[\"oof_preds\"])"
   ]
  },
  {
   "cell_type": "code",
   "execution_count": 15,
   "id": "5803178b",
   "metadata": {},
   "outputs": [
    {
     "name": "stdout",
     "output_type": "stream",
     "text": [
      "RMSLE score = 1.1419423458662257\n"
     ]
    }
   ],
   "source": [
    "from sklearn.metrics import mean_squared_log_error\n",
    "\n",
    "def rmsle(y_true, y_pred):\n",
    "    return np.sqrt(mean_squared_log_error(y_true, y_pred))\n",
    "\n",
    "rmsle_score = rmsle(y_train, results[\"oof_preds\"])\n",
    "\n",
    "print(f\"RMSLE score = {rmsle_score}\")"
   ]
  },
  {
   "cell_type": "code",
   "execution_count": 16,
   "id": "76c5d6d4",
   "metadata": {
    "execution": {
     "iopub.execute_input": "2024-12-09T18:27:06.069815Z",
     "iopub.status.busy": "2024-12-09T18:27:06.069512Z",
     "iopub.status.idle": "2024-12-09T18:27:06.074853Z",
     "shell.execute_reply": "2024-12-09T18:27:06.074183Z"
    },
    "papermill": {
     "duration": 0.035663,
     "end_time": "2024-12-09T18:27:06.076253",
     "exception": false,
     "start_time": "2024-12-09T18:27:06.040590",
     "status": "completed"
    },
    "tags": []
   },
   "outputs": [],
   "source": [
    "# mean_score = np.mean(results[\"cv_scores\"])\n",
    "# std_score = np.std(results[\"cv_scores\"])\n",
    "\n",
    "# # Prepare the data\n",
    "# data = {\n",
    "#     \"mean_score\": mean_score,\n",
    "#     \"std_score\": std_score\n",
    "# }\n",
    "\n",
    "# # Save to a JSON file\n",
    "# with open(\"score.json\", \"w\") as json_file:\n",
    "#     json.dump(data, json_file, indent=4)  # Use `indent` for readability"
   ]
  },
  {
   "cell_type": "code",
   "execution_count": null,
   "id": "bba76357",
   "metadata": {
    "execution": {
     "iopub.execute_input": "2024-12-09T18:27:06.134109Z",
     "iopub.status.busy": "2024-12-09T18:27:06.133614Z",
     "iopub.status.idle": "2024-12-09T18:27:09.560189Z",
     "shell.execute_reply": "2024-12-09T18:27:09.559255Z"
    },
    "papermill": {
     "duration": 3.457335,
     "end_time": "2024-12-09T18:27:09.561802",
     "exception": false,
     "start_time": "2024-12-09T18:27:06.104467",
     "status": "completed"
    },
    "tags": []
   },
   "outputs": [
    {
     "data": {
      "text/plain": [
       "['models.pkl']"
      ]
     },
     "execution_count": 17,
     "metadata": {},
     "output_type": "execute_result"
    }
   ],
   "source": [
    "import joblib\n",
    "\n",
    "# Save OOF predictions as a CSV file\n",
    "oof_preds_df = pd.DataFrame({\"oof_preds_nonlog\": results[\"oof_preds\"]})\n",
    "oof_preds_df.to_csv(\"oof_preds_nonlog.csv\", index=False)\n",
    "\n",
    "test_preds_df = pd.DataFrame({\"test_preds_nonlog\": results[\"test_preds\"]})\n",
    "test_preds_df.to_csv(\"test_preds_nonlog.csv\", index=False)\n",
    "\n",
    "#joblib.dump(results[\"models\"], \"models.pkl\")"
   ]
  },
  {
   "cell_type": "markdown",
   "id": "607e1999",
   "metadata": {
    "papermill": {
     "duration": 0.030518,
     "end_time": "2024-12-09T18:27:09.621403",
     "exception": false,
     "start_time": "2024-12-09T18:27:09.590885",
     "status": "completed"
    },
    "tags": []
   },
   "source": [
    "# Submission"
   ]
  },
  {
   "cell_type": "code",
   "execution_count": 12,
   "id": "221fab64",
   "metadata": {
    "execution": {
     "iopub.execute_input": "2024-12-09T18:27:09.684611Z",
     "iopub.status.busy": "2024-12-09T18:27:09.683845Z",
     "iopub.status.idle": "2024-12-09T18:27:11.039199Z",
     "shell.execute_reply": "2024-12-09T18:27:11.038523Z"
    },
    "papermill": {
     "duration": 1.388863,
     "end_time": "2024-12-09T18:27:11.041168",
     "exception": false,
     "start_time": "2024-12-09T18:27:09.652305",
     "status": "completed"
    },
    "tags": []
   },
   "outputs": [],
   "source": [
    "# y_pred = np.expm1(results['test_preds'])\n",
    "\n",
    "# submission = pd.DataFrame({\n",
    "#     'id': X_test.index,  \n",
    "#     'Premium Amount': y_pred\n",
    "# })\n",
    "\n",
    "# FILE_PATH = f\"nonlog_preds_RMSE_{rmsle_score:.4f}.csv\"\n",
    "\n",
    "# submission.to_csv(FILE_PATH, index=False)"
   ]
  },
  {
   "cell_type": "code",
   "execution_count": 13,
   "id": "1dacbf49",
   "metadata": {},
   "outputs": [],
   "source": [
    "if False: \n",
    "    # Define your message and file paths\n",
    "    COMP_NAME = \"playground-series-s4e12\"\n",
    "\n",
    "    SUBMIT_MESSAGE = f\"Clean LGBM: Mean score: {mean_score:.4f} +/- {std_score:.4f}\"\n",
    "\n",
    "    # Submit to Kaggle\n",
    "    os.system(f'kaggle competitions submit -c {COMP_NAME} -f {FILE_PATH} -m \"{SUBMIT_MESSAGE}\"')"
   ]
  }
 ],
 "metadata": {
  "kaggle": {
   "accelerator": "gpu",
   "dataSources": [
    {
     "databundleVersionId": 10305135,
     "sourceId": 84896,
     "sourceType": "competition"
    },
    {
     "datasetId": 5547076,
     "sourceId": 9178166,
     "sourceType": "datasetVersion"
    },
    {
     "sourceId": 211948002,
     "sourceType": "kernelVersion"
    }
   ],
   "dockerImageVersionId": 30805,
   "isGpuEnabled": true,
   "isInternetEnabled": true,
   "language": "python",
   "sourceType": "notebook"
  },
  "kernelspec": {
   "display_name": "kaggle_env",
   "language": "python",
   "name": "python3"
  },
  "language_info": {
   "codemirror_mode": {
    "name": "ipython",
    "version": 3
   },
   "file_extension": ".py",
   "mimetype": "text/x-python",
   "name": "python",
   "nbconvert_exporter": "python",
   "pygments_lexer": "ipython3",
   "version": "3.10.16"
  },
  "papermill": {
   "default_parameters": {},
   "duration": 18880.993655,
   "end_time": "2024-12-09T18:27:12.649632",
   "environment_variables": {},
   "exception": null,
   "input_path": "__notebook__.ipynb",
   "output_path": "__notebook__.ipynb",
   "parameters": {},
   "start_time": "2024-12-09T13:12:31.655977",
   "version": "2.6.0"
  }
 },
 "nbformat": 4,
 "nbformat_minor": 5
}
